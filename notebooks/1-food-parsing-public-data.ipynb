{
 "cells": [
  {
   "cell_type": "code",
   "execution_count": 1,
   "metadata": {},
   "outputs": [],
   "source": [
    "import pandas as pd\n",
    "import numpy as np\n",
    "from scipy import stats\n",
    "import seaborn as sns\n",
    "import os\n",
    "import matplotlib.pyplot as plt\n",
    "import pickle\n",
    "from tqdm import tqdm \n",
    "from datetime import date \n",
    "from datetime import datetime"
   ]
  },
  {
   "cell_type": "code",
   "execution_count": 2,
   "metadata": {},
   "outputs": [],
   "source": [
    "# from google.colab import drive\n",
    "# drive.mount('/content/drive')\n",
    "file_dir = '../'\n",
    "\n",
    "data_dir = file_dir + 'test_data/'\n",
    "result_dir = data_dir + 'results/'"
   ]
  },
  {
   "cell_type": "code",
   "execution_count": 3,
   "metadata": {
    "scrolled": true
   },
   "outputs": [
    {
     "name": "stderr",
     "output_type": "stream",
     "text": [
      "[nltk_data] Downloading package words to /Users/joey-hou/nltk_data...\n",
      "[nltk_data]   Package words is already up-to-date!\n",
      "[nltk_data] Downloading package stopwords to /Users/joey-\n",
      "[nltk_data]     hou/nltk_data...\n",
      "[nltk_data]   Package stopwords is already up-to-date!\n",
      "[nltk_data] Downloading package wordnet to /Users/joey-\n",
      "[nltk_data]     hou/nltk_data...\n",
      "[nltk_data]   Package wordnet is already up-to-date!\n",
      "[nltk_data] Downloading package punkt to /Users/joey-hou/nltk_data...\n",
      "[nltk_data]   Package punkt is already up-to-date!\n"
     ]
    }
   ],
   "source": [
    "# !pip install pyspellchecker\n",
    "\n",
    "%load_ext autoreload\n",
    "%autoreload 2\n",
    "\n",
    "# %run '/content/drive/My Drive/Colab Data/public_app_analysis/utils/publicAnalysisHelper.py'\n",
    "%run ../references/food_modelling_utils.py\n",
    "%run ../foodparser/foodparser.py"
   ]
  },
  {
   "cell_type": "code",
   "execution_count": 4,
   "metadata": {},
   "outputs": [],
   "source": [
    "# !pip install indexer"
   ]
  },
  {
   "cell_type": "code",
   "execution_count": 5,
   "metadata": {},
   "outputs": [
    {
     "data": {
      "text/plain": [
       "'../test_data/'"
      ]
     },
     "execution_count": 5,
     "metadata": {},
     "output_type": "execute_result"
    }
   ],
   "source": [
    "data_dir"
   ]
  },
  {
   "cell_type": "markdown",
   "metadata": {},
   "source": [
    "# Loading food parser"
   ]
  },
  {
   "cell_type": "code",
   "execution_count": 6,
   "metadata": {},
   "outputs": [],
   "source": [
    "fp = FoodParser()\n",
    "# len(fp.all_gram_set)"
   ]
  },
  {
   "cell_type": "code",
   "execution_count": 7,
   "metadata": {},
   "outputs": [],
   "source": [
    "# combined_df = pd.read_csv(data_dir + 'food_annotations/combined_df.csv')\n",
    "# combined_df.head()"
   ]
  },
  {
   "cell_type": "code",
   "execution_count": 8,
   "metadata": {},
   "outputs": [],
   "source": [
    "# food_type_dict = {}\n",
    "# weird_keys = []\n",
    "# for sett in fp.all_gram_set:\n",
    "#     for key in sett:\n",
    "#         if key not in combined_df.gram_key.values:\n",
    "#             continue\n",
    "#         if combined_df.query('gram_key == \"' + key + '\"').shape[0] == 1:\n",
    "#             food_type_dict[key] = combined_df.query('gram_key == \"' + key + '\"').food_type.values[0]\n",
    "#         else:\n",
    "#             weird_keys.append(key)"
   ]
  },
  {
   "cell_type": "code",
   "execution_count": 9,
   "metadata": {},
   "outputs": [],
   "source": [
    "# pd.DataFrame(weird_keys).to_csv('weird_keys.csv', index = False)"
   ]
  },
  {
   "cell_type": "code",
   "execution_count": 10,
   "metadata": {},
   "outputs": [],
   "source": [
    "# 'yoghurt' in fp.all_gram_set[0]"
   ]
  },
  {
   "cell_type": "markdown",
   "metadata": {},
   "source": [
    "- **After manual annotations**"
   ]
  },
  {
   "cell_type": "code",
   "execution_count": 11,
   "metadata": {},
   "outputs": [],
   "source": [
    "# weird_csv = pd.read_csv(data_dir + 'food_annotations/weird_keys.csv')\n",
    "# weird_csv.head()"
   ]
  },
  {
   "cell_type": "code",
   "execution_count": 12,
   "metadata": {},
   "outputs": [],
   "source": [
    "# weird_csv.index = weird_csv.key\n",
    "# weird_key_food_type_mask = dict(weird_csv.food_type)"
   ]
  },
  {
   "cell_type": "code",
   "execution_count": 13,
   "metadata": {},
   "outputs": [],
   "source": [
    "# combined_df.food_type = combined_df.apply(lambda s: s.food_type if s.gram_key not in weird_key_food_type_mask.keys() else \\\n",
    "#                                          weird_key_food_type_mask[s.gram_key], axis = 1)"
   ]
  },
  {
   "cell_type": "code",
   "execution_count": 14,
   "metadata": {},
   "outputs": [],
   "source": [
    "# combined_df = combined_df.drop_duplicates()\n",
    "# combined_df.index = combined_df.gram_key\n",
    "# food_type_dict = dict(combined_df.food_type)"
   ]
  },
  {
   "cell_type": "code",
   "execution_count": 15,
   "metadata": {},
   "outputs": [],
   "source": [
    "# pickle.dump(food_type_dict, open(data_dir + 'food_annotations/final_database/food_type_dict.pickle', 'wb'))"
   ]
  },
  {
   "cell_type": "code",
   "execution_count": 16,
   "metadata": {},
   "outputs": [],
   "source": [
    "# combined_df.food_type.unique()"
   ]
  },
  {
   "cell_type": "code",
   "execution_count": 17,
   "metadata": {},
   "outputs": [],
   "source": [
    "# combined_df.food_type = combined_df.food_type.apply(lambda x: x.strip())\n",
    "# combined_df.shape"
   ]
  },
  {
   "cell_type": "code",
   "execution_count": 18,
   "metadata": {},
   "outputs": [],
   "source": [
    "# combined_df.to_csv(data_dir + 'food_annotations/final_database/combined_df.csv', index = False)"
   ]
  },
  {
   "cell_type": "markdown",
   "metadata": {},
   "source": [
    "# Parse Public Food Data\n",
    "## Load in raw data"
   ]
  },
  {
   "cell_type": "markdown",
   "metadata": {},
   "source": [
    "### Option 1: public baseline data"
   ]
  },
  {
   "cell_type": "code",
   "execution_count": 14,
   "metadata": {},
   "outputs": [
    {
     "data": {
      "text/html": [
       "<div>\n",
       "<style scoped>\n",
       "    .dataframe tbody tr th:only-of-type {\n",
       "        vertical-align: middle;\n",
       "    }\n",
       "\n",
       "    .dataframe tbody tr th {\n",
       "        vertical-align: top;\n",
       "    }\n",
       "\n",
       "    .dataframe thead th {\n",
       "        text-align: right;\n",
       "    }\n",
       "</style>\n",
       "<table border=\"1\" class=\"dataframe\">\n",
       "  <thead>\n",
       "    <tr style=\"text-align: right;\">\n",
       "      <th></th>\n",
       "      <th>ID</th>\n",
       "      <th>unique_code</th>\n",
       "      <th>research_info_id</th>\n",
       "      <th>desc_text</th>\n",
       "      <th>food_type</th>\n",
       "      <th>original_logtime</th>\n",
       "      <th>original_logtime_notz</th>\n",
       "      <th>day</th>\n",
       "      <th>local_time</th>\n",
       "      <th>time</th>\n",
       "      <th>week_from_start</th>\n",
       "      <th>year</th>\n",
       "    </tr>\n",
       "  </thead>\n",
       "  <tbody>\n",
       "    <tr>\n",
       "      <th>0</th>\n",
       "      <td>282</td>\n",
       "      <td>alqt15090005</td>\n",
       "      <td>150</td>\n",
       "      <td>Water</td>\n",
       "      <td>w</td>\n",
       "      <td>09-09-2015 8:20PM JST</td>\n",
       "      <td>2015-09-09 20:20:00</td>\n",
       "      <td>2015-09-09</td>\n",
       "      <td>20.333333</td>\n",
       "      <td>20:20:00</td>\n",
       "      <td>1</td>\n",
       "      <td>2015</td>\n",
       "    </tr>\n",
       "    <tr>\n",
       "      <th>1</th>\n",
       "      <td>283</td>\n",
       "      <td>alqt15090005</td>\n",
       "      <td>150</td>\n",
       "      <td>Soup</td>\n",
       "      <td>f</td>\n",
       "      <td>09-09-2015 10:38PM JST</td>\n",
       "      <td>2015-09-09 22:38:00</td>\n",
       "      <td>2015-09-09</td>\n",
       "      <td>22.633333</td>\n",
       "      <td>22:38:00</td>\n",
       "      <td>1</td>\n",
       "      <td>2015</td>\n",
       "    </tr>\n",
       "  </tbody>\n",
       "</table>\n",
       "</div>"
      ],
      "text/plain": [
       "    ID   unique_code  research_info_id desc_text food_type  \\\n",
       "0  282  alqt15090005               150     Water         w   \n",
       "1  283  alqt15090005               150      Soup         f   \n",
       "\n",
       "         original_logtime original_logtime_notz         day  local_time  \\\n",
       "0   09-09-2015 8:20PM JST   2015-09-09 20:20:00  2015-09-09   20.333333   \n",
       "1  09-09-2015 10:38PM JST   2015-09-09 22:38:00  2015-09-09   22.633333   \n",
       "\n",
       "       time  week_from_start  year  \n",
       "0  20:20:00                1  2015  \n",
       "1  22:38:00                1  2015  "
      ]
     },
     "execution_count": 14,
     "metadata": {},
     "output_type": "execute_result"
    }
   ],
   "source": [
    "public_all_pickle_file = open(data_dir + 'raw/public_0924_basline_usable_expanded.pickle', 'rb')\n",
    "public_all = pickle.load(public_all_pickle_file).reset_index(drop = True)\n",
    "public_all.head(2)"
   ]
  },
  {
   "cell_type": "code",
   "execution_count": 15,
   "metadata": {},
   "outputs": [],
   "source": [
    "# public_all[['desc_text', 'food_type']].iloc[:10000].to_csv('~/Desktop/sample_data.csv', index = False)"
   ]
  },
  {
   "cell_type": "code",
   "execution_count": 16,
   "metadata": {},
   "outputs": [],
   "source": [
    "# pickle.load(open(data_dir + 'public_app_analysis/data/public_0924_basline_usable_expanded.pickle', 'rb')).shape"
   ]
  },
  {
   "cell_type": "code",
   "execution_count": 17,
   "metadata": {},
   "outputs": [
    {
     "data": {
      "text/plain": [
       "(1653926, 12)"
      ]
     },
     "execution_count": 17,
     "metadata": {},
     "output_type": "execute_result"
    }
   ],
   "source": [
    "public_all.shape # In baseline, there are 1,648,792 records"
   ]
  },
  {
   "cell_type": "code",
   "execution_count": 122,
   "metadata": {},
   "outputs": [
    {
     "data": {
      "text/plain": [
       "(1153330, 12)"
      ]
     },
     "execution_count": 122,
     "metadata": {},
     "output_type": "execute_result"
    }
   ],
   "source": [
    "# sample_df = public_all.query('food_type in [\"f\", \"b\"]').sample(5000).reset_index(drop = True)\n",
    "# public_all.query('food_type in [\"f\", \"b\"]').shape"
   ]
  },
  {
   "cell_type": "code",
   "execution_count": 30,
   "metadata": {},
   "outputs": [],
   "source": [
    "# fp = FoodParser()\n",
    "# parsed = [fp.parse_food(i) for i in tqdm(public_all.desc_text.values)]"
   ]
  },
  {
   "cell_type": "markdown",
   "metadata": {},
   "source": [
    "### Option 2: firefighter all period data"
   ]
  },
  {
   "cell_type": "code",
   "execution_count": 33,
   "metadata": {},
   "outputs": [
    {
     "data": {
      "text/html": [
       "<div>\n",
       "<style scoped>\n",
       "    .dataframe tbody tr th:only-of-type {\n",
       "        vertical-align: middle;\n",
       "    }\n",
       "\n",
       "    .dataframe tbody tr th {\n",
       "        vertical-align: top;\n",
       "    }\n",
       "\n",
       "    .dataframe thead th {\n",
       "        text-align: right;\n",
       "    }\n",
       "</style>\n",
       "<table border=\"1\" class=\"dataframe\">\n",
       "  <thead>\n",
       "    <tr style=\"text-align: right;\">\n",
       "      <th></th>\n",
       "      <th>unique_code</th>\n",
       "      <th>caloric</th>\n",
       "      <th>day</th>\n",
       "      <th>desc_text</th>\n",
       "      <th>food_type</th>\n",
       "      <th>local_time</th>\n",
       "      <th>original_logtime</th>\n",
       "      <th>original_logtime_notz</th>\n",
       "      <th>participant</th>\n",
       "      <th>study</th>\n",
       "      <th>time</th>\n",
       "      <th>tz</th>\n",
       "    </tr>\n",
       "  </thead>\n",
       "  <tbody>\n",
       "    <tr>\n",
       "      <th>0</th>\n",
       "      <td>9bbi18050004</td>\n",
       "      <td>1</td>\n",
       "      <td>2018-07-18</td>\n",
       "      <td>kind bar &amp;&amp; coffee</td>\n",
       "      <td>f</td>\n",
       "      <td>9.583333</td>\n",
       "      <td>07-18-2018 09:35AM PDT</td>\n",
       "      <td>2018-07-18 09:35:00</td>\n",
       "      <td>Hero-001</td>\n",
       "      <td>TRE</td>\n",
       "      <td>09:35:00</td>\n",
       "      <td>PDT</td>\n",
       "    </tr>\n",
       "    <tr>\n",
       "      <th>1</th>\n",
       "      <td>9bbi18050004</td>\n",
       "      <td>1</td>\n",
       "      <td>2018-06-24</td>\n",
       "      <td>potatoe</td>\n",
       "      <td>f</td>\n",
       "      <td>19.116667</td>\n",
       "      <td>06-24-2018 07:07PM PDT</td>\n",
       "      <td>2018-06-24 19:07:00</td>\n",
       "      <td>Hero-001</td>\n",
       "      <td>TRE</td>\n",
       "      <td>19:07:00</td>\n",
       "      <td>PDT</td>\n",
       "    </tr>\n",
       "  </tbody>\n",
       "</table>\n",
       "</div>"
      ],
      "text/plain": [
       "    unique_code  caloric        day           desc_text food_type  local_time  \\\n",
       "0  9bbi18050004        1 2018-07-18  kind bar && coffee         f    9.583333   \n",
       "1  9bbi18050004        1 2018-06-24             potatoe         f   19.116667   \n",
       "\n",
       "         original_logtime original_logtime_notz participant study      time  \\\n",
       "0  07-18-2018 09:35AM PDT   2018-07-18 09:35:00    Hero-001   TRE  09:35:00   \n",
       "1  06-24-2018 07:07PM PDT   2018-06-24 19:07:00    Hero-001   TRE  19:07:00   \n",
       "\n",
       "    tz  \n",
       "0  PDT  \n",
       "1  PDT  "
      ]
     },
     "execution_count": 33,
     "metadata": {},
     "output_type": "execute_result"
    }
   ],
   "source": [
    "firefighter_data_pickle_file = open(data_dir + 'raw/FFFoodData_Unique_Time_All_Aug2020.pickle', 'rb')\n",
    "firefighter_data = pickle.load(firefighter_data_pickle_file).reset_index(drop = True)\n",
    "firefighter_data = firefighter_data.rename(columns = {'PID': 'unique_code'})\n",
    "firefighter_data.head(2)"
   ]
  },
  {
   "cell_type": "code",
   "execution_count": 34,
   "metadata": {},
   "outputs": [
    {
     "data": {
      "text/plain": [
       "(109712, 12)"
      ]
     },
     "execution_count": 34,
     "metadata": {},
     "output_type": "execute_result"
    }
   ],
   "source": [
    "firefighter_data.shape\n",
    "# if 'ID' not in firefighter_data:\n",
    "#     firefighter_data['ID'] = range(firefighter_data.shape[0])\n",
    "# firefighter_data"
   ]
  },
  {
   "cell_type": "code",
   "execution_count": 54,
   "metadata": {},
   "outputs": [],
   "source": [
    "public_all = firefighter_data"
   ]
  },
  {
   "cell_type": "markdown",
   "metadata": {},
   "source": [
    "## Pre-processing / expansion"
   ]
  },
  {
   "cell_type": "code",
   "execution_count": 18,
   "metadata": {},
   "outputs": [
    {
     "name": "stderr",
     "output_type": "stream",
     "text": [
      "100%|██████████| 1653926/1653926 [00:32<00:00, 51076.73it/s]\n"
     ]
    }
   ],
   "source": [
    "all_entries = []\n",
    "for idx in tqdm(range(public_all.shape[0])):\n",
    "    logging = public_all.desc_text.values[idx]\n",
    "    if ',' in logging:\n",
    "        for entry in logging.split(','):\n",
    "            all_entries.append({\n",
    "                'food_type': public_all.food_type.values[idx],\n",
    "                'desc_text': entry,\n",
    "                'unique_code': public_all.unique_code.values[idx]\n",
    "            })\n",
    "    else:\n",
    "        all_entries.append({\n",
    "            'food_type': public_all.food_type.values[idx],\n",
    "            'desc_text': logging,\n",
    "            'unique_code': public_all.unique_code.values[idx]\n",
    "        })"
   ]
  },
  {
   "cell_type": "code",
   "execution_count": 88,
   "metadata": {},
   "outputs": [
    {
     "data": {
      "text/plain": [
       "(1793963, 3)"
      ]
     },
     "execution_count": 88,
     "metadata": {},
     "output_type": "execute_result"
    }
   ],
   "source": [
    "public_all_expanded = pd.DataFrame(all_entries)\n",
    "public_all_expanded = public_all_expanded.query('food_type in [\"f\", \"b\"]')\n",
    "public_all_expanded.shape"
   ]
  },
  {
   "cell_type": "code",
   "execution_count": 90,
   "metadata": {},
   "outputs": [
    {
     "data": {
      "text/html": [
       "<div>\n",
       "<style scoped>\n",
       "    .dataframe tbody tr th:only-of-type {\n",
       "        vertical-align: middle;\n",
       "    }\n",
       "\n",
       "    .dataframe tbody tr th {\n",
       "        vertical-align: top;\n",
       "    }\n",
       "\n",
       "    .dataframe thead th {\n",
       "        text-align: right;\n",
       "    }\n",
       "</style>\n",
       "<table border=\"1\" class=\"dataframe\">\n",
       "  <thead>\n",
       "    <tr style=\"text-align: right;\">\n",
       "      <th></th>\n",
       "      <th>food_type</th>\n",
       "      <th>desc_text</th>\n",
       "      <th>unique_code</th>\n",
       "    </tr>\n",
       "  </thead>\n",
       "  <tbody>\n",
       "    <tr>\n",
       "      <th>1</th>\n",
       "      <td>f</td>\n",
       "      <td>Soup</td>\n",
       "      <td>alqt15090005</td>\n",
       "    </tr>\n",
       "    <tr>\n",
       "      <th>2</th>\n",
       "      <td>b</td>\n",
       "      <td>Yogurt</td>\n",
       "      <td>alqt15090005</td>\n",
       "    </tr>\n",
       "    <tr>\n",
       "      <th>3</th>\n",
       "      <td>f</td>\n",
       "      <td>Spagetti</td>\n",
       "      <td>alqt15090005</td>\n",
       "    </tr>\n",
       "    <tr>\n",
       "      <th>4</th>\n",
       "      <td>f</td>\n",
       "      <td>Spaghetti</td>\n",
       "      <td>alqt15090005</td>\n",
       "    </tr>\n",
       "    <tr>\n",
       "      <th>5</th>\n",
       "      <td>f</td>\n",
       "      <td>Yogurt</td>\n",
       "      <td>alqt15090005</td>\n",
       "    </tr>\n",
       "  </tbody>\n",
       "</table>\n",
       "</div>"
      ],
      "text/plain": [
       "  food_type  desc_text   unique_code\n",
       "1         f       Soup  alqt15090005\n",
       "2         b     Yogurt  alqt15090005\n",
       "3         f   Spagetti  alqt15090005\n",
       "4         f  Spaghetti  alqt15090005\n",
       "5         f     Yogurt  alqt15090005"
      ]
     },
     "execution_count": 90,
     "metadata": {},
     "output_type": "execute_result"
    }
   ],
   "source": [
    "public_all_expanded.head()"
   ]
  },
  {
   "cell_type": "markdown",
   "metadata": {},
   "source": [
    "## **Initialized foodparser**"
   ]
  },
  {
   "cell_type": "code",
   "execution_count": 91,
   "metadata": {},
   "outputs": [],
   "source": [
    "fp = FoodParser()\n",
    "fp.initialization()\n",
    "# fp.all_gram_set[0].add('yoghurt')"
   ]
  },
  {
   "cell_type": "code",
   "execution_count": 92,
   "metadata": {},
   "outputs": [
    {
     "data": {
      "text/plain": [
       "True"
      ]
     },
     "execution_count": 92,
     "metadata": {},
     "output_type": "execute_result"
    }
   ],
   "source": [
    "'yoghurt' in fp.all_gram_set[0]"
   ]
  },
  {
   "cell_type": "code",
   "execution_count": 93,
   "metadata": {},
   "outputs": [
    {
     "data": {
      "text/plain": [
       "True"
      ]
     },
     "execution_count": 93,
     "metadata": {},
     "output_type": "execute_result"
    }
   ],
   "source": [
    "'latte' in fp.all_gram_set[0]"
   ]
  },
  {
   "cell_type": "code",
   "execution_count": 94,
   "metadata": {},
   "outputs": [
    {
     "data": {
      "text/plain": [
       "True"
      ]
     },
     "execution_count": 94,
     "metadata": {},
     "output_type": "execute_result"
    }
   ],
   "source": [
    "'red pepper' in fp.food_type_dict.keys()"
   ]
  },
  {
   "cell_type": "code",
   "execution_count": 95,
   "metadata": {},
   "outputs": [
    {
     "data": {
      "text/plain": [
       "True"
      ]
     },
     "execution_count": 95,
     "metadata": {},
     "output_type": "execute_result"
    }
   ],
   "source": [
    "'curcumin' in fp.food_type_dict.keys()"
   ]
  },
  {
   "cell_type": "markdown",
   "metadata": {},
   "source": [
    "## **Parsing**"
   ]
  },
  {
   "cell_type": "code",
   "execution_count": 96,
   "metadata": {},
   "outputs": [
    {
     "data": {
      "text/plain": [
       "(1793963, 3)"
      ]
     },
     "execution_count": 96,
     "metadata": {},
     "output_type": "execute_result"
    }
   ],
   "source": [
    "sample_df = public_all_expanded\n",
    "# sample_df = public_all_expanded.query('food_type in [\"f\", \"b\"]').reset_index(drop = True)\n",
    "sample_df.shape"
   ]
  },
  {
   "cell_type": "code",
   "execution_count": 97,
   "metadata": {},
   "outputs": [
    {
     "name": "stderr",
     "output_type": "stream",
     "text": [
      "100%|██████████| 1793963/1793963 [11:26<00:00, 2614.23it/s]\n"
     ]
    }
   ],
   "source": [
    "total_unknown = 0\n",
    "total_token = 0\n",
    "parsed = []\n",
    "total_unknown_tokens = []\n",
    "counter = 0\n",
    "for i in tqdm(range(sample_df.shape[0])):\n",
    "    entry = sample_df.iloc[i].desc_text\n",
    "    result, num_token, num_unknown, unknown_tokens = fp.parse_food(entry, return_sentence_tag = True)\n",
    "    result = [(f, fp.find_food_type(f)) for f in result]\n",
    "    parsed.append(result)\n",
    "    total_token += num_token\n",
    "    total_unknown += num_unknown\n",
    "    total_unknown_tokens += unknown_tokens\n",
    "    \n",
    "#     counter += 1\n",
    "#     if counter == 50:\n",
    "#         break"
   ]
  },
  {
   "cell_type": "code",
   "execution_count": 98,
   "metadata": {},
   "outputs": [],
   "source": [
    "# total_unknown_tokens"
   ]
  },
  {
   "cell_type": "markdown",
   "metadata": {},
   "source": [
    "## Parsing results"
   ]
  },
  {
   "cell_type": "code",
   "execution_count": 110,
   "metadata": {},
   "outputs": [
    {
     "data": {
      "text/html": [
       "<div>\n",
       "<style scoped>\n",
       "    .dataframe tbody tr th:only-of-type {\n",
       "        vertical-align: middle;\n",
       "    }\n",
       "\n",
       "    .dataframe tbody tr th {\n",
       "        vertical-align: top;\n",
       "    }\n",
       "\n",
       "    .dataframe thead th {\n",
       "        text-align: right;\n",
       "    }\n",
       "</style>\n",
       "<table border=\"1\" class=\"dataframe\">\n",
       "  <thead>\n",
       "    <tr style=\"text-align: right;\">\n",
       "      <th></th>\n",
       "      <th>food_type</th>\n",
       "      <th>desc_text</th>\n",
       "      <th>cleaned</th>\n",
       "    </tr>\n",
       "  </thead>\n",
       "  <tbody>\n",
       "    <tr>\n",
       "      <th>0</th>\n",
       "      <td>f</td>\n",
       "      <td>Soup</td>\n",
       "      <td>[(soup, f)]</td>\n",
       "    </tr>\n",
       "    <tr>\n",
       "      <th>1</th>\n",
       "      <td>b</td>\n",
       "      <td>Yogurt</td>\n",
       "      <td>[(yogurt, b)]</td>\n",
       "    </tr>\n",
       "  </tbody>\n",
       "</table>\n",
       "</div>"
      ],
      "text/plain": [
       "  food_type desc_text        cleaned\n",
       "0         f      Soup    [(soup, f)]\n",
       "1         b    Yogurt  [(yogurt, b)]"
      ]
     },
     "execution_count": 110,
     "metadata": {},
     "output_type": "execute_result"
    }
   ],
   "source": [
    "public_all_parsed = pd.DataFrame({\n",
    "    'food_type': sample_df.food_type.values,\n",
    "    'desc_text': sample_df.desc_text.values,\n",
    "    'cleaned': parsed\n",
    "})\n",
    "public_all_parsed.head(2)"
   ]
  },
  {
   "cell_type": "code",
   "execution_count": null,
   "metadata": {},
   "outputs": [],
   "source": []
  },
  {
   "cell_type": "code",
   "execution_count": 111,
   "metadata": {},
   "outputs": [],
   "source": [
    "# public_all_parsed.to_csv(result_dir + 'public_baseline_all_parsed.csv', index = False)\n",
    "# public_all_parsed.to_csv(result_dir + 'firefighter_all_parsed.csv', index = False)"
   ]
  },
  {
   "cell_type": "code",
   "execution_count": 112,
   "metadata": {},
   "outputs": [],
   "source": [
    "# public_all_parsed = pd.read_csv(result_dir + 'public_baseline_all_parsed.csv')\n",
    "# public_all_parsed.shape"
   ]
  },
  {
   "cell_type": "code",
   "execution_count": 113,
   "metadata": {},
   "outputs": [
    {
     "data": {
      "text/html": [
       "<div>\n",
       "<style scoped>\n",
       "    .dataframe tbody tr th:only-of-type {\n",
       "        vertical-align: middle;\n",
       "    }\n",
       "\n",
       "    .dataframe tbody tr th {\n",
       "        vertical-align: top;\n",
       "    }\n",
       "\n",
       "    .dataframe thead th {\n",
       "        text-align: right;\n",
       "    }\n",
       "</style>\n",
       "<table border=\"1\" class=\"dataframe\">\n",
       "  <thead>\n",
       "    <tr style=\"text-align: right;\">\n",
       "      <th></th>\n",
       "      <th>food_type</th>\n",
       "      <th>desc_text</th>\n",
       "      <th>cleaned</th>\n",
       "    </tr>\n",
       "  </thead>\n",
       "  <tbody>\n",
       "    <tr>\n",
       "      <th>0</th>\n",
       "      <td>f</td>\n",
       "      <td>Soup</td>\n",
       "      <td>[(soup, f)]</td>\n",
       "    </tr>\n",
       "    <tr>\n",
       "      <th>1</th>\n",
       "      <td>b</td>\n",
       "      <td>Yogurt</td>\n",
       "      <td>[(yogurt, b)]</td>\n",
       "    </tr>\n",
       "  </tbody>\n",
       "</table>\n",
       "</div>"
      ],
      "text/plain": [
       "  food_type desc_text        cleaned\n",
       "0         f      Soup    [(soup, f)]\n",
       "1         b    Yogurt  [(yogurt, b)]"
      ]
     },
     "execution_count": 113,
     "metadata": {},
     "output_type": "execute_result"
    }
   ],
   "source": [
    "public_all_parsed.head(2)"
   ]
  },
  {
   "cell_type": "code",
   "execution_count": 114,
   "metadata": {},
   "outputs": [],
   "source": [
    "# public_all_parsed.loc[public_all_parsed.cleaned.apply(lambda x: len(x) > 1)]"
   ]
  },
  {
   "cell_type": "code",
   "execution_count": 115,
   "metadata": {},
   "outputs": [],
   "source": [
    "all_unknown_phrases_df = pd.DataFrame([ph.strip() for ph in total_unknown_tokens], columns = ['unknown_phrases'])\n",
    "# all_unknown_phrases_df.to_csv(result_dir + 'all_unknown_phrases.csv', index = False)"
   ]
  },
  {
   "cell_type": "code",
   "execution_count": 116,
   "metadata": {},
   "outputs": [
    {
     "data": {
      "text/html": [
       "<div>\n",
       "<style scoped>\n",
       "    .dataframe tbody tr th:only-of-type {\n",
       "        vertical-align: middle;\n",
       "    }\n",
       "\n",
       "    .dataframe tbody tr th {\n",
       "        vertical-align: top;\n",
       "    }\n",
       "\n",
       "    .dataframe thead th {\n",
       "        text-align: right;\n",
       "    }\n",
       "</style>\n",
       "<table border=\"1\" class=\"dataframe\">\n",
       "  <thead>\n",
       "    <tr style=\"text-align: right;\">\n",
       "      <th></th>\n",
       "      <th>unknown_phrases</th>\n",
       "    </tr>\n",
       "  </thead>\n",
       "  <tbody>\n",
       "    <tr>\n",
       "      <th>0</th>\n",
       "      <td>isotonic drink</td>\n",
       "    </tr>\n",
       "    <tr>\n",
       "      <th>1</th>\n",
       "      <td>sashimi</td>\n",
       "    </tr>\n",
       "  </tbody>\n",
       "</table>\n",
       "</div>"
      ],
      "text/plain": [
       "  unknown_phrases\n",
       "0  isotonic drink\n",
       "1         sashimi"
      ]
     },
     "execution_count": 116,
     "metadata": {},
     "output_type": "execute_result"
    }
   ],
   "source": [
    "all_unknown_phrases_df.head(2)"
   ]
  },
  {
   "cell_type": "markdown",
   "metadata": {},
   "source": [
    "## Parsing Analysis\n",
    "### Entry-level"
   ]
  },
  {
   "cell_type": "code",
   "execution_count": 117,
   "metadata": {},
   "outputs": [
    {
     "name": "stdout",
     "output_type": "stream",
     "text": [
      "Number of un-catched entries: 174314 , out of total entries of 1793963\n",
      "Proportion of un-catched entries: 0.0971669984275038\n"
     ]
    }
   ],
   "source": [
    "parsed = public_all_parsed.cleaned.values\n",
    "print('Number of un-catched entries:', len([lst for lst in parsed if len(lst) == 0])\\\n",
    "          , ', out of total entries of', len(parsed))\n",
    "print('Proportion of un-catched entries:', len([lst for lst in parsed if len(lst) == 0]) / len(parsed))"
   ]
  },
  {
   "cell_type": "code",
   "execution_count": 118,
   "metadata": {},
   "outputs": [],
   "source": [
    "unmatched_count = len(total_unknown_tokens)\n",
    "totally_unmatched = len([(lst) for lst in public_all_parsed.cleaned.values if len(lst) == 0])\n",
    "partially_unmatched = unmatched_count - totally_unmatched\n",
    "totally_matched = public_all_parsed.shape[0] - unmatched_count"
   ]
  },
  {
   "cell_type": "code",
   "execution_count": 119,
   "metadata": {},
   "outputs": [
    {
     "name": "stdout",
     "output_type": "stream",
     "text": [
      "Totally unmatched entries count: 174314\n",
      "Partially unmatched entries count: 427637\n",
      "Totally matched entries count: 1192012\n"
     ]
    }
   ],
   "source": [
    "# Totally un-matched\n",
    "print('Totally unmatched entries count:', totally_unmatched)\n",
    "\n",
    "# Partially un-matched\n",
    "print('Partially unmatched entries count:', partially_unmatched)\n",
    "\n",
    "# Totally matched\n",
    "print('Totally matched entries count:', totally_matched)"
   ]
  },
  {
   "cell_type": "code",
   "execution_count": 120,
   "metadata": {},
   "outputs": [
    {
     "data": {
      "image/png": "[encoded data removed]",
      "text/plain": [
       "<Figure size 432x288 with 1 Axes>"
      ]
     },
     "metadata": {},
     "output_type": "display_data"
    }
   ],
   "source": [
    "# pie chart of workers\n",
    "labels = ['Totally unmatched', 'Partially unmatched', 'Totally matched']\n",
    "sizes = [totally_unmatched, partially_unmatched, totally_matched]\n",
    "\n",
    "# print(sizes) # adds up to 1433, which is the total number of participants\n",
    "fig1, ax1 = plt.subplots()\n",
    "ax1.pie(sizes, labels=labels, autopct='%1.1f%%', shadow=True)\n",
    "ax1.axis('equal')\n",
    "plt.show()"
   ]
  },
  {
   "cell_type": "code",
   "execution_count": null,
   "metadata": {},
   "outputs": [],
   "source": []
  },
  {
   "cell_type": "markdown",
   "metadata": {},
   "source": [
    "### **Token level**"
   ]
  },
  {
   "cell_type": "code",
   "execution_count": 121,
   "metadata": {},
   "outputs": [
    {
     "data": {
      "text/plain": [
       "0.22997745327932068"
      ]
     },
     "execution_count": 121,
     "metadata": {},
     "output_type": "execute_result"
    }
   ],
   "source": [
    "total_unknown / total_token"
   ]
  },
  {
   "cell_type": "code",
   "execution_count": 104,
   "metadata": {},
   "outputs": [
    {
     "data": {
      "text/plain": [
       "4079124"
      ]
     },
     "execution_count": 104,
     "metadata": {},
     "output_type": "execute_result"
    }
   ],
   "source": [
    "total_token"
   ]
  },
  {
   "cell_type": "code",
   "execution_count": 105,
   "metadata": {},
   "outputs": [],
   "source": [
    "total_unknown_tokens = [s.strip() for s in total_unknown_tokens]"
   ]
  },
  {
   "cell_type": "code",
   "execution_count": 106,
   "metadata": {},
   "outputs": [
    {
     "data": {
      "text/plain": [
       "['isotonic drink',\n",
       " 'sashimi',\n",
       " 'abalone',\n",
       " 'oolong',\n",
       " 'sake ml',\n",
       " 'pike conger deep fly',\n",
       " 'yakuzen',\n",
       " 'asparagas',\n",
       " 'iced',\n",
       " 'energy bar',\n",
       " 'drink',\n",
       " 'cold',\n",
       " 'ball',\n",
       " 'natto',\n",
       " 'plant chopped',\n",
       " 'snack',\n",
       " 'miso',\n",
       " 'french fried',\n",
       " 'ceaser',\n",
       " 'margerita']"
      ]
     },
     "execution_count": 106,
     "metadata": {},
     "output_type": "execute_result"
    }
   ],
   "source": [
    "total_unknown_tokens[:20]"
   ]
  },
  {
   "cell_type": "code",
   "execution_count": 116,
   "metadata": {},
   "outputs": [
    {
     "data": {
      "text/plain": [
       "True"
      ]
     },
     "execution_count": 116,
     "metadata": {},
     "output_type": "execute_result"
    }
   ],
   "source": [
    "'veg' in total_unknown_tokens"
   ]
  },
  {
   "cell_type": "code",
   "execution_count": 122,
   "metadata": {},
   "outputs": [
    {
     "name": "stderr",
     "output_type": "stream",
     "text": [
      "100%|██████████| 2399626/2399626 [00:55<00:00, 42955.38it/s]\n"
     ]
    }
   ],
   "source": [
    "tmp_negative_samples = ['snacks', 'dinner', 'ml', 'lunch', 'breakfast', 'veg', 'drink', 'glass water', 'bulletproof coffee']\n",
    "tmp_negative_samples = set(tmp_negative_samples)\n",
    "\n",
    "unparsed = public_all_parsed.desc_text.values\n",
    "\n",
    "neg_entry = 0\n",
    "for u in tqdm(unparsed):\n",
    "    cleaned = fp.handle_all_cleaning(u)\n",
    "    if cleaned in tmp_negative_samples:\n",
    "        neg_entry += 1"
   ]
  },
  {
   "cell_type": "code",
   "execution_count": 123,
   "metadata": {},
   "outputs": [
    {
     "data": {
      "text/plain": [
       "22197"
      ]
     },
     "execution_count": 123,
     "metadata": {},
     "output_type": "execute_result"
    }
   ],
   "source": [
    "neg_entry"
   ]
  },
  {
   "cell_type": "code",
   "execution_count": null,
   "metadata": {},
   "outputs": [],
   "source": []
  },
  {
   "cell_type": "code",
   "execution_count": null,
   "metadata": {},
   "outputs": [],
   "source": []
  },
  {
   "cell_type": "code",
   "execution_count": 107,
   "metadata": {},
   "outputs": [
    {
     "data": {
      "text/plain": [
       "865624"
      ]
     },
     "execution_count": 107,
     "metadata": {},
     "output_type": "execute_result"
    }
   ],
   "source": [
    "len(total_unknown_tokens)"
   ]
  },
  {
   "cell_type": "code",
   "execution_count": 108,
   "metadata": {},
   "outputs": [
    {
     "data": {
      "text/plain": [
       "420484"
      ]
     },
     "execution_count": 108,
     "metadata": {},
     "output_type": "execute_result"
    }
   ],
   "source": [
    "pd.Series(total_unknown_tokens).value_counts().head(500).sum()"
   ]
  },
  {
   "cell_type": "code",
   "execution_count": 109,
   "metadata": {},
   "outputs": [
    {
     "name": "stderr",
     "output_type": "stream",
     "text": [
      "/Users/joey-hou/anaconda3/lib/python3.8/site-packages/seaborn/distributions.py:2551: FutureWarning: `distplot` is a deprecated function and will be removed in a future version. Please adapt your code to use either `displot` (a figure-level function with similar flexibility) or `histplot` (an axes-level function for histograms).\n",
      "  warnings.warn(msg, FutureWarning)\n"
     ]
    },
    {
     "data": {
      "text/plain": [
       "<matplotlib.axes._subplots.AxesSubplot at 0x7fc8e469cdf0>"
      ]
     },
     "execution_count": 109,
     "metadata": {},
     "output_type": "execute_result"
    },
    {
     "data": {
      "image/png": "[encoded data removed]",
      "text/plain": [
       "<Figure size 432x288 with 1 Axes>"
      ]
     },
     "metadata": {
      "needs_background": "light"
     },
     "output_type": "display_data"
    }
   ],
   "source": [
    "sns.distplot(pd.Series(total_unknown_tokens).value_counts())"
   ]
  },
  {
   "cell_type": "code",
   "execution_count": 110,
   "metadata": {},
   "outputs": [
    {
     "data": {
      "text/html": [
       "<div>\n",
       "<style scoped>\n",
       "    .dataframe tbody tr th:only-of-type {\n",
       "        vertical-align: middle;\n",
       "    }\n",
       "\n",
       "    .dataframe tbody tr th {\n",
       "        vertical-align: top;\n",
       "    }\n",
       "\n",
       "    .dataframe thead th {\n",
       "        text-align: right;\n",
       "    }\n",
       "</style>\n",
       "<table border=\"1\" class=\"dataframe\">\n",
       "  <thead>\n",
       "    <tr style=\"text-align: right;\">\n",
       "      <th></th>\n",
       "      <th>counts</th>\n",
       "    </tr>\n",
       "  </thead>\n",
       "  <tbody>\n",
       "    <tr>\n",
       "      <th>ml</th>\n",
       "      <td>10365</td>\n",
       "    </tr>\n",
       "    <tr>\n",
       "      <th>herbal</th>\n",
       "      <td>7482</td>\n",
       "    </tr>\n",
       "    <tr>\n",
       "      <th>breakfast</th>\n",
       "      <td>5925</td>\n",
       "    </tr>\n",
       "    <tr>\n",
       "      <th>white</th>\n",
       "      <td>5684</td>\n",
       "    </tr>\n",
       "    <tr>\n",
       "      <th>dinner</th>\n",
       "      <td>5460</td>\n",
       "    </tr>\n",
       "    <tr>\n",
       "      <th>sauce</th>\n",
       "      <td>5338</td>\n",
       "    </tr>\n",
       "    <tr>\n",
       "      <th>lunch</th>\n",
       "      <td>5085</td>\n",
       "    </tr>\n",
       "    <tr>\n",
       "      <th>red</th>\n",
       "      <td>4653</td>\n",
       "    </tr>\n",
       "    <tr>\n",
       "      <th>c</th>\n",
       "      <td>4531</td>\n",
       "    </tr>\n",
       "    <tr>\n",
       "      <th>g</th>\n",
       "      <td>4384</td>\n",
       "    </tr>\n",
       "    <tr>\n",
       "      <th>snack</th>\n",
       "      <td>4275</td>\n",
       "    </tr>\n",
       "    <tr>\n",
       "      <th>vegan</th>\n",
       "      <td>4167</td>\n",
       "    </tr>\n",
       "    <tr>\n",
       "      <th>soy</th>\n",
       "      <td>4023</td>\n",
       "    </tr>\n",
       "    <tr>\n",
       "      <th>hot</th>\n",
       "      <td>3888</td>\n",
       "    </tr>\n",
       "    <tr>\n",
       "      <th>no</th>\n",
       "      <td>3765</td>\n",
       "    </tr>\n",
       "    <tr>\n",
       "      <th>b</th>\n",
       "      <td>3620</td>\n",
       "    </tr>\n",
       "    <tr>\n",
       "      <th>bar</th>\n",
       "      <td>3594</td>\n",
       "    </tr>\n",
       "    <tr>\n",
       "      <th>whole</th>\n",
       "      <td>3219</td>\n",
       "    </tr>\n",
       "    <tr>\n",
       "      <th>veg</th>\n",
       "      <td>3198</td>\n",
       "    </tr>\n",
       "    <tr>\n",
       "      <th>stevia</th>\n",
       "      <td>3178</td>\n",
       "    </tr>\n",
       "  </tbody>\n",
       "</table>\n",
       "</div>"
      ],
      "text/plain": [
       "           counts\n",
       "ml          10365\n",
       "herbal       7482\n",
       "breakfast    5925\n",
       "white        5684\n",
       "dinner       5460\n",
       "sauce        5338\n",
       "lunch        5085\n",
       "red          4653\n",
       "c            4531\n",
       "g            4384\n",
       "snack        4275\n",
       "vegan        4167\n",
       "soy          4023\n",
       "hot          3888\n",
       "no           3765\n",
       "b            3620\n",
       "bar          3594\n",
       "whole        3219\n",
       "veg          3198\n",
       "stevia       3178"
      ]
     },
     "execution_count": 110,
     "metadata": {},
     "output_type": "execute_result"
    }
   ],
   "source": [
    "uncatched_tokens = pd.DataFrame(pd.Series(total_unknown_tokens).value_counts(), columns = ['counts'])\\\n",
    "    .query('counts >= 50')\n",
    "uncatched_tokens.head(20)"
   ]
  },
  {
   "cell_type": "code",
   "execution_count": 111,
   "metadata": {},
   "outputs": [
    {
     "name": "stderr",
     "output_type": "stream",
     "text": [
      "100%|██████████| 865624/865624 [00:01<00:00, 734867.53it/s]\n"
     ]
    }
   ],
   "source": [
    "unigram = []\n",
    "bigram = []\n",
    "for phrase in tqdm(total_unknown_tokens):\n",
    "    if len(phrase) == 1:\n",
    "        unigram.append(phrase)\n",
    "    else:\n",
    "        for bi in nltk.bigrams(phrase.split()):\n",
    "            bigram.append(bi)"
   ]
  },
  {
   "cell_type": "code",
   "execution_count": 52,
   "metadata": {},
   "outputs": [
    {
     "data": {
      "text/plain": [
       "'uttar vermicelli'"
      ]
     },
     "execution_count": 52,
     "metadata": {},
     "output_type": "execute_result"
    }
   ],
   "source": [
    "total_unknown_tokens[2]"
   ]
  },
  {
   "cell_type": "code",
   "execution_count": 53,
   "metadata": {},
   "outputs": [
    {
     "data": {
      "text/plain": [
       "[('uttar', 'vermicelli')]"
      ]
     },
     "execution_count": 53,
     "metadata": {},
     "output_type": "execute_result"
    }
   ],
   "source": [
    "list(nltk.bigrams(total_unknown_tokens[2].split()))"
   ]
  },
  {
   "cell_type": "code",
   "execution_count": 56,
   "metadata": {},
   "outputs": [
    {
     "data": {
      "text/plain": [
       "[('uttar', 'vermicelli'), ('fermented', 'soya'), ('daim', 'bar')]"
      ]
     },
     "execution_count": 56,
     "metadata": {},
     "output_type": "execute_result"
    }
   ],
   "source": [
    "bigram[:3]"
   ]
  },
  {
   "cell_type": "code",
   "execution_count": 57,
   "metadata": {},
   "outputs": [],
   "source": [
    "cfreq_2gram = nltk.ConditionalFreqDist(bigram)"
   ]
  },
  {
   "cell_type": "code",
   "execution_count": null,
   "metadata": {},
   "outputs": [],
   "source": []
  },
  {
   "cell_type": "code",
   "execution_count": null,
   "metadata": {},
   "outputs": [],
   "source": [
    "# dict(cfreq_2gram)"
   ]
  },
  {
   "cell_type": "code",
   "execution_count": null,
   "metadata": {},
   "outputs": [],
   "source": []
  },
  {
   "cell_type": "code",
   "execution_count": 27,
   "metadata": {},
   "outputs": [],
   "source": [
    "uncatched_tokens.to_csv(result_dir + 'uncatched_tokens.csv')"
   ]
  },
  {
   "cell_type": "code",
   "execution_count": null,
   "metadata": {},
   "outputs": [],
   "source": []
  },
  {
   "cell_type": "code",
   "execution_count": null,
   "metadata": {},
   "outputs": [],
   "source": []
  },
  {
   "cell_type": "code",
   "execution_count": null,
   "metadata": {},
   "outputs": [],
   "source": []
  },
  {
   "cell_type": "code",
   "execution_count": null,
   "metadata": {},
   "outputs": [],
   "source": []
  },
  {
   "cell_type": "markdown",
   "metadata": {},
   "source": [
    "# Analysis on parsing result and the uncatched tokens"
   ]
  },
  {
   "cell_type": "code",
   "execution_count": 201,
   "metadata": {},
   "outputs": [
    {
     "data": {
      "text/plain": [
       "(100000, 4)"
      ]
     },
     "execution_count": 201,
     "metadata": {},
     "output_type": "execute_result"
    }
   ],
   "source": [
    "public_all_parsed.shape"
   ]
  },
  {
   "cell_type": "code",
   "execution_count": 204,
   "metadata": {},
   "outputs": [
    {
     "name": "stderr",
     "output_type": "stream",
     "text": [
      "100%|██████████| 100000/100000 [00:00<00:00, 150478.24it/s]\n"
     ]
    }
   ],
   "source": [
    "f_count, f_lst = 0, []\n",
    "b_count, b_lst = 0, []\n",
    "o_count, o_lst = 0, []\n",
    "for i in tqdm(range(public_all_parsed.shape[0])):\n",
    "    food_lst = public_all_parsed.cleaned.values[i]\n",
    "    for f in food_lst:\n",
    "        if f[1] == 'f':\n",
    "            f_count += 1\n",
    "            f_lst.append(f[0])\n",
    "        elif f[1] == 'b':\n",
    "            b_count += 1\n",
    "            b_lst.append(f[0])\n",
    "        else:\n",
    "            o_count += 1\n",
    "            o_lst.append(f[0])"
   ]
  },
  {
   "cell_type": "code",
   "execution_count": 205,
   "metadata": {},
   "outputs": [
    {
     "data": {
      "text/plain": [
       "(126936, 43748, 7096)"
      ]
     },
     "execution_count": 205,
     "metadata": {},
     "output_type": "execute_result"
    }
   ],
   "source": [
    "f_count, b_count, o_count"
   ]
  },
  {
   "cell_type": "code",
   "execution_count": 208,
   "metadata": {},
   "outputs": [
    {
     "data": {
      "text/plain": [
       "(egg                     3900\n",
       " cheese                  3518\n",
       " chicken                 3096\n",
       " banana                  2814\n",
       " rice                    2514\n",
       "                         ... \n",
       " vegan oatmeal cookie       1\n",
       " turkey sandwich chip       1\n",
       " greek chicken salad        1\n",
       " baked veggie               1\n",
       " naan                       1\n",
       " Length: 579, dtype: int64,\n",
       " coffee                          9377\n",
       " tea                             4715\n",
       " salad                           3574\n",
       " milk                            3443\n",
       " black coffee                    1648\n",
       "                                 ... \n",
       " strawberry banana smoothie         1\n",
       " cold brew coffee almond milk       1\n",
       " irish tea                          1\n",
       " kombucha chia seed                 1\n",
       " sugar syrup                        1\n",
       " Length: 110, dtype: int64,\n",
       " chocolate            1927\n",
       " almond               1442\n",
       " water                1365\n",
       " orange                832\n",
       " yoghurt               671\n",
       " turmeric              302\n",
       " vitamin               275\n",
       " rose                   72\n",
       " fish oil               66\n",
       " multivitamin           50\n",
       " magnesium              46\n",
       " glucosamine            19\n",
       " calcium                10\n",
       " red rice                8\n",
       " omega fish oil          3\n",
       " lisinopril              3\n",
       " black seed oil          2\n",
       " calcium magnesium       2\n",
       " daily vitamin           1\n",
       " dtype: int64)"
      ]
     },
     "execution_count": 208,
     "metadata": {},
     "output_type": "execute_result"
    }
   ],
   "source": [
    "pd.Series(f_lst).value_counts(), pd.Series(b_lst).value_counts(), pd.Series(o_lst).value_counts()"
   ]
  },
  {
   "cell_type": "code",
   "execution_count": null,
   "metadata": {},
   "outputs": [],
   "source": []
  },
  {
   "cell_type": "markdown",
   "metadata": {},
   "source": [
    "# Parse Firefighters Data"
   ]
  },
  {
   "cell_type": "code",
   "execution_count": 10,
   "metadata": {},
   "outputs": [
    {
     "data": {
      "text/html": [
       "<div>\n",
       "<style scoped>\n",
       "    .dataframe tbody tr th:only-of-type {\n",
       "        vertical-align: middle;\n",
       "    }\n",
       "\n",
       "    .dataframe tbody tr th {\n",
       "        vertical-align: top;\n",
       "    }\n",
       "\n",
       "    .dataframe thead th {\n",
       "        text-align: right;\n",
       "    }\n",
       "</style>\n",
       "<table border=\"1\" class=\"dataframe\">\n",
       "  <thead>\n",
       "    <tr style=\"text-align: right;\">\n",
       "      <th></th>\n",
       "      <th>PID</th>\n",
       "      <th>caloric</th>\n",
       "      <th>day</th>\n",
       "      <th>desc_text</th>\n",
       "      <th>food_type</th>\n",
       "      <th>local_time</th>\n",
       "      <th>original_logtime</th>\n",
       "      <th>original_logtime_notz</th>\n",
       "      <th>participant</th>\n",
       "      <th>study</th>\n",
       "      <th>time</th>\n",
       "      <th>tz</th>\n",
       "    </tr>\n",
       "  </thead>\n",
       "  <tbody>\n",
       "    <tr>\n",
       "      <th>1</th>\n",
       "      <td>9bbi18050004</td>\n",
       "      <td>1</td>\n",
       "      <td>2018-07-18</td>\n",
       "      <td>kind bar &amp;&amp; coffee</td>\n",
       "      <td>f</td>\n",
       "      <td>9.583333</td>\n",
       "      <td>07-18-2018 09:35AM PDT</td>\n",
       "      <td>2018-07-18 09:35:00</td>\n",
       "      <td>Hero-001</td>\n",
       "      <td>TRE</td>\n",
       "      <td>09:35:00</td>\n",
       "      <td>PDT</td>\n",
       "    </tr>\n",
       "    <tr>\n",
       "      <th>2</th>\n",
       "      <td>9bbi18050004</td>\n",
       "      <td>1</td>\n",
       "      <td>2018-06-24</td>\n",
       "      <td>potatoe</td>\n",
       "      <td>f</td>\n",
       "      <td>19.116667</td>\n",
       "      <td>06-24-2018 07:07PM PDT</td>\n",
       "      <td>2018-06-24 19:07:00</td>\n",
       "      <td>Hero-001</td>\n",
       "      <td>TRE</td>\n",
       "      <td>19:07:00</td>\n",
       "      <td>PDT</td>\n",
       "    </tr>\n",
       "  </tbody>\n",
       "</table>\n",
       "</div>"
      ],
      "text/plain": [
       "            PID  caloric        day           desc_text food_type  local_time  \\\n",
       "1  9bbi18050004        1 2018-07-18  kind bar && coffee         f    9.583333   \n",
       "2  9bbi18050004        1 2018-06-24             potatoe         f   19.116667   \n",
       "\n",
       "         original_logtime original_logtime_notz participant study      time  \\\n",
       "1  07-18-2018 09:35AM PDT   2018-07-18 09:35:00    Hero-001   TRE  09:35:00   \n",
       "2  06-24-2018 07:07PM PDT   2018-06-24 19:07:00    Hero-001   TRE  19:07:00   \n",
       "\n",
       "    tz  \n",
       "1  PDT  \n",
       "2  PDT  "
      ]
     },
     "execution_count": 10,
     "metadata": {},
     "output_type": "execute_result"
    }
   ],
   "source": [
    "firefighter_data_pickle_file = open(data_dir + 'fire_fighter/FFFoodData_Unique_Time_All_Aug2020.pickle', 'rb')\n",
    "firefighter_data = pickle.load(firefighter_data_pickle_file)\n",
    "firefighter_data.head(2)"
   ]
  },
  {
   "cell_type": "code",
   "execution_count": 30,
   "metadata": {},
   "outputs": [
    {
     "data": {
      "text/plain": [
       "(1704, 13)"
      ]
     },
     "execution_count": 30,
     "metadata": {},
     "output_type": "execute_result"
    }
   ],
   "source": [
    "firefighter_data.query('food_type == \"m\"').shape"
   ]
  },
  {
   "cell_type": "code",
   "execution_count": null,
   "metadata": {},
   "outputs": [],
   "source": []
  },
  {
   "cell_type": "code",
   "execution_count": null,
   "metadata": {},
   "outputs": [],
   "source": []
  },
  {
   "cell_type": "code",
   "execution_count": null,
   "metadata": {},
   "outputs": [],
   "source": []
  },
  {
   "cell_type": "code",
   "execution_count": 11,
   "metadata": {},
   "outputs": [
    {
     "data": {
      "text/plain": [
       "(109712, 12)"
      ]
     },
     "execution_count": 11,
     "metadata": {},
     "output_type": "execute_result"
    }
   ],
   "source": [
    "firefighter_data.shape"
   ]
  },
  {
   "cell_type": "code",
   "execution_count": 13,
   "metadata": {},
   "outputs": [
    {
     "data": {
      "text/plain": [
       "True"
      ]
     },
     "execution_count": 13,
     "metadata": {},
     "output_type": "execute_result"
    }
   ],
   "source": [
    "fp = FoodParser()\n",
    "\n",
    "# fp.all_gram_set[0].add('yoghurt')\n",
    "\n",
    "'yoghurt' in fp.all_gram_set[0]"
   ]
  },
  {
   "cell_type": "code",
   "execution_count": 18,
   "metadata": {},
   "outputs": [],
   "source": []
  },
  {
   "cell_type": "code",
   "execution_count": 14,
   "metadata": {},
   "outputs": [
    {
     "name": "stderr",
     "output_type": "stream",
     "text": [
      "100%|██████████| 109712/109712 [11:04<00:00, 165.08it/s]\n"
     ]
    }
   ],
   "source": [
    "sample_df = firefighter_data\n",
    "if 'ID' not in sample_df:\n",
    "    sample_df['ID'] = range(sample_df.shape[0])\n",
    "\n",
    "total_unknown = 0\n",
    "total_token = 0\n",
    "parsed = []\n",
    "total_unknown_tokens = []\n",
    "for i in tqdm(range(sample_df.shape[0])):\n",
    "    entry = sample_df.iloc[i].desc_text\n",
    "    result, num_token, num_unknown, unknown_tokens = fp.parse_food(entry, return_sentence_tag = True)\n",
    "    result = [(f, fp.find_food_type(f)) for f in result]\n",
    "    parsed.append(result)\n",
    "    total_token += num_token\n",
    "    total_unknown += num_unknown\n",
    "    total_unknown_tokens += unknown_tokens"
   ]
  },
  {
   "cell_type": "code",
   "execution_count": 15,
   "metadata": {},
   "outputs": [
    {
     "data": {
      "text/plain": [
       "0.1891221362609441"
      ]
     },
     "execution_count": 15,
     "metadata": {},
     "output_type": "execute_result"
    }
   ],
   "source": [
    "total_unknown / total_token"
   ]
  },
  {
   "cell_type": "code",
   "execution_count": 19,
   "metadata": {},
   "outputs": [
    {
     "data": {
      "text/html": [
       "<div>\n",
       "<style scoped>\n",
       "    .dataframe tbody tr th:only-of-type {\n",
       "        vertical-align: middle;\n",
       "    }\n",
       "\n",
       "    .dataframe tbody tr th {\n",
       "        vertical-align: top;\n",
       "    }\n",
       "\n",
       "    .dataframe thead th {\n",
       "        text-align: right;\n",
       "    }\n",
       "</style>\n",
       "<table border=\"1\" class=\"dataframe\">\n",
       "  <thead>\n",
       "    <tr style=\"text-align: right;\">\n",
       "      <th></th>\n",
       "      <th>ID</th>\n",
       "      <th>food_type</th>\n",
       "      <th>desc_text</th>\n",
       "      <th>cleaned</th>\n",
       "    </tr>\n",
       "  </thead>\n",
       "  <tbody>\n",
       "    <tr>\n",
       "      <th>1</th>\n",
       "      <td>0</td>\n",
       "      <td>f</td>\n",
       "      <td>kind bar &amp;&amp; coffee</td>\n",
       "      <td>[(kind bar, f), (coffee, b)]</td>\n",
       "    </tr>\n",
       "    <tr>\n",
       "      <th>2</th>\n",
       "      <td>1</td>\n",
       "      <td>f</td>\n",
       "      <td>potatoe</td>\n",
       "      <td>[(potato, f)]</td>\n",
       "    </tr>\n",
       "  </tbody>\n",
       "</table>\n",
       "</div>"
      ],
      "text/plain": [
       "   ID food_type           desc_text                       cleaned\n",
       "1   0         f  kind bar && coffee  [(kind bar, f), (coffee, b)]\n",
       "2   1         f             potatoe                 [(potato, f)]"
      ]
     },
     "execution_count": 19,
     "metadata": {},
     "output_type": "execute_result"
    }
   ],
   "source": [
    "ff_all_parsed = pd.DataFrame({\n",
    "    'ID': sample_df.ID,\n",
    "    'food_type': sample_df.food_type.values,\n",
    "    'desc_text': sample_df.desc_text.values,\n",
    "    'cleaned': parsed\n",
    "})\n",
    "ff_all_parsed.head(2)"
   ]
  },
  {
   "cell_type": "code",
   "execution_count": 20,
   "metadata": {},
   "outputs": [
    {
     "data": {
      "text/html": [
       "<div>\n",
       "<style scoped>\n",
       "    .dataframe tbody tr th:only-of-type {\n",
       "        vertical-align: middle;\n",
       "    }\n",
       "\n",
       "    .dataframe tbody tr th {\n",
       "        vertical-align: top;\n",
       "    }\n",
       "\n",
       "    .dataframe thead th {\n",
       "        text-align: right;\n",
       "    }\n",
       "</style>\n",
       "<table border=\"1\" class=\"dataframe\">\n",
       "  <thead>\n",
       "    <tr style=\"text-align: right;\">\n",
       "      <th></th>\n",
       "      <th>counts</th>\n",
       "    </tr>\n",
       "  </thead>\n",
       "  <tbody>\n",
       "    <tr>\n",
       "      <th>reggie</th>\n",
       "      <td>1615</td>\n",
       "    </tr>\n",
       "    <tr>\n",
       "      <th>bar</th>\n",
       "      <td>1333</td>\n",
       "    </tr>\n",
       "    <tr>\n",
       "      <th>grandma</th>\n",
       "      <td>1157</td>\n",
       "    </tr>\n",
       "    <tr>\n",
       "      <th>quinta</th>\n",
       "      <td>929</td>\n",
       "    </tr>\n",
       "    <tr>\n",
       "      <th>sauce</th>\n",
       "      <td>814</td>\n",
       "    </tr>\n",
       "    <tr>\n",
       "      <th>...</th>\n",
       "      <td>...</td>\n",
       "    </tr>\n",
       "    <tr>\n",
       "      <th>fillet</th>\n",
       "      <td>50</td>\n",
       "    </tr>\n",
       "    <tr>\n",
       "      <th>pop</th>\n",
       "      <td>50</td>\n",
       "    </tr>\n",
       "    <tr>\n",
       "      <th>chopped</th>\n",
       "      <td>50</td>\n",
       "    </tr>\n",
       "    <tr>\n",
       "      <th>levothyroxine</th>\n",
       "      <td>50</td>\n",
       "    </tr>\n",
       "    <tr>\n",
       "      <th>dog</th>\n",
       "      <td>50</td>\n",
       "    </tr>\n",
       "  </tbody>\n",
       "</table>\n",
       "<p>252 rows × 1 columns</p>\n",
       "</div>"
      ],
      "text/plain": [
       "               counts\n",
       "reggie           1615\n",
       "bar              1333\n",
       "grandma          1157\n",
       "quinta            929\n",
       "sauce             814\n",
       "...               ...\n",
       "fillet             50\n",
       "pop                50\n",
       "chopped            50\n",
       "levothyroxine      50\n",
       "dog                50\n",
       "\n",
       "[252 rows x 1 columns]"
      ]
     },
     "execution_count": 20,
     "metadata": {},
     "output_type": "execute_result"
    }
   ],
   "source": [
    "uncatched_tokens = pd.DataFrame(pd.Series(total_unknown_tokens).value_counts(), columns = ['counts']).query('counts >= 50')\n",
    "uncatched_tokens"
   ]
  },
  {
   "cell_type": "code",
   "execution_count": 21,
   "metadata": {},
   "outputs": [
    {
     "name": "stderr",
     "output_type": "stream",
     "text": [
      "100%|██████████| 109712/109712 [00:00<00:00, 171793.79it/s]\n"
     ]
    }
   ],
   "source": [
    "f_count, f_lst = 0, []\n",
    "b_count, b_lst = 0, []\n",
    "o_count, o_lst = 0, []\n",
    "for i in tqdm(range(ff_all_parsed.shape[0])):\n",
    "    food_lst = ff_all_parsed.cleaned.values[i]\n",
    "    for f in food_lst:\n",
    "        if f[1] == 'f':\n",
    "            f_count += 1\n",
    "            f_lst.append(f[0])\n",
    "        elif f[1] == 'b':\n",
    "            b_count += 1\n",
    "            b_lst.append(f[0])\n",
    "        else:\n",
    "            o_count += 1\n",
    "            o_lst.append(f[0])"
   ]
  },
  {
   "cell_type": "code",
   "execution_count": 22,
   "metadata": {},
   "outputs": [
    {
     "data": {
      "text/plain": [
       "(151181, 39300, 3224)"
      ]
     },
     "execution_count": 22,
     "metadata": {},
     "output_type": "execute_result"
    }
   ],
   "source": [
    "f_count, b_count, o_count"
   ]
  },
  {
   "cell_type": "code",
   "execution_count": 24,
   "metadata": {},
   "outputs": [
    {
     "data": {
      "text/plain": [
       "egg                    6470\n",
       "chicken                5236\n",
       "avocado                3211\n",
       "rice                   3159\n",
       "banana                 3045\n",
       "                       ... \n",
       "veggie pizza              1\n",
       "veggie egg scramble       1\n",
       "macadamia nut             1\n",
       "machaca                   1\n",
       "carne asada               1\n",
       "Length: 649, dtype: int64"
      ]
     },
     "execution_count": 24,
     "metadata": {},
     "output_type": "execute_result"
    }
   ],
   "source": [
    "pd.Series(f_lst).value_counts()"
   ]
  },
  {
   "cell_type": "code",
   "execution_count": 27,
   "metadata": {},
   "outputs": [
    {
     "data": {
      "text/plain": [
       "coffee                                 7047\n",
       "salad                                  5119\n",
       "beer                                   2721\n",
       "black coffee                           2130\n",
       "smoothie                               1522\n",
       "                                       ... \n",
       "mocha coffee                              3\n",
       "iced coffee cream                         2\n",
       "coffee soy creamer                        1\n",
       "brew coffee                               1\n",
       "coconut water thorne protein powder       1\n",
       "Length: 130, dtype: int64"
      ]
     },
     "execution_count": 27,
     "metadata": {},
     "output_type": "execute_result"
    }
   ],
   "source": [
    "pd.Series(b_lst).value_counts()"
   ]
  },
  {
   "cell_type": "code",
   "execution_count": 26,
   "metadata": {},
   "outputs": [
    {
     "data": {
      "text/plain": [
       "water                    1089\n",
       "vitamin                   538\n",
       "fish oil                  184\n",
       "lisinopril                167\n",
       "glucosamine               138\n",
       "multivitamin              132\n",
       "gabapentin                131\n",
       "turmeric                  119\n",
       "red rice yeast pill       115\n",
       "atarax                    112\n",
       "calcium                    86\n",
       "multi vit sport            74\n",
       "prebiotic                  74\n",
       "daily vitamin              67\n",
       "calcium magnesium          55\n",
       "black seed oil             50\n",
       "adderall xr milligram      29\n",
       "omega fish oil             24\n",
       "magnesium                  12\n",
       "red rice yeast             12\n",
       "yoghurt                     9\n",
       "red rice                    7\n",
       "dtype: int64"
      ]
     },
     "execution_count": 26,
     "metadata": {},
     "output_type": "execute_result"
    }
   ],
   "source": [
    "pd.Series(o_lst).value_counts()"
   ]
  },
  {
   "cell_type": "code",
   "execution_count": null,
   "metadata": {},
   "outputs": [],
   "source": []
  },
  {
   "cell_type": "markdown",
   "metadata": {},
   "source": [
    "# Perplexity experiment"
   ]
  },
  {
   "cell_type": "code",
   "execution_count": 28,
   "metadata": {},
   "outputs": [
    {
     "data": {
      "text/html": [
       "<div>\n",
       "<style scoped>\n",
       "    .dataframe tbody tr th:only-of-type {\n",
       "        vertical-align: middle;\n",
       "    }\n",
       "\n",
       "    .dataframe tbody tr th {\n",
       "        vertical-align: top;\n",
       "    }\n",
       "\n",
       "    .dataframe thead th {\n",
       "        text-align: right;\n",
       "    }\n",
       "</style>\n",
       "<table border=\"1\" class=\"dataframe\">\n",
       "  <thead>\n",
       "    <tr style=\"text-align: right;\">\n",
       "      <th></th>\n",
       "      <th>ID</th>\n",
       "      <th>unique_code</th>\n",
       "      <th>research_info_id</th>\n",
       "      <th>desc_text</th>\n",
       "      <th>food_type</th>\n",
       "      <th>original_logtime</th>\n",
       "      <th>original_logtime_notz</th>\n",
       "      <th>day</th>\n",
       "      <th>local_time</th>\n",
       "      <th>time</th>\n",
       "      <th>week_from_start</th>\n",
       "      <th>year</th>\n",
       "    </tr>\n",
       "  </thead>\n",
       "  <tbody>\n",
       "    <tr>\n",
       "      <th>0</th>\n",
       "      <td>4854966</td>\n",
       "      <td>alqt181274638</td>\n",
       "      <td>150</td>\n",
       "      <td>Butter</td>\n",
       "      <td>b</td>\n",
       "      <td>01-01-2019 12:12PM PST</td>\n",
       "      <td>2019-01-01 12:12:00</td>\n",
       "      <td>2019-01-01</td>\n",
       "      <td>12.200000</td>\n",
       "      <td>12:12:00</td>\n",
       "      <td>2</td>\n",
       "      <td>2019</td>\n",
       "    </tr>\n",
       "    <tr>\n",
       "      <th>1</th>\n",
       "      <td>1007045</td>\n",
       "      <td>alqt170410520</td>\n",
       "      <td>150</td>\n",
       "      <td>Eggs</td>\n",
       "      <td>f</td>\n",
       "      <td>03-20-2018 07:19AM GMT+2</td>\n",
       "      <td>2018-03-20 07:19:00</td>\n",
       "      <td>2018-03-20</td>\n",
       "      <td>7.316667</td>\n",
       "      <td>07:19:00</td>\n",
       "      <td>51</td>\n",
       "      <td>2018</td>\n",
       "    </tr>\n",
       "  </tbody>\n",
       "</table>\n",
       "</div>"
      ],
      "text/plain": [
       "        ID    unique_code  research_info_id desc_text food_type  \\\n",
       "0  4854966  alqt181274638               150    Butter         b   \n",
       "1  1007045  alqt170410520               150      Eggs         f   \n",
       "\n",
       "           original_logtime original_logtime_notz         day  local_time  \\\n",
       "0    01-01-2019 12:12PM PST   2019-01-01 12:12:00  2019-01-01   12.200000   \n",
       "1  03-20-2018 07:19AM GMT+2   2018-03-20 07:19:00  2018-03-20    7.316667   \n",
       "\n",
       "       time  week_from_start  year  \n",
       "0  12:12:00                2  2019  \n",
       "1  07:19:00               51  2018  "
      ]
     },
     "execution_count": 28,
     "metadata": {},
     "output_type": "execute_result"
    }
   ],
   "source": [
    "sample_df.head(2)"
   ]
  },
  {
   "cell_type": "code",
   "execution_count": 26,
   "metadata": {},
   "outputs": [
    {
     "data": {
      "text/plain": [
       "{'acai',\n",
       " 'ale',\n",
       " 'alfredo',\n",
       " 'almond',\n",
       " 'americano',\n",
       " 'apple',\n",
       " 'artichoke',\n",
       " 'arugala',\n",
       " 'arugula',\n",
       " 'asparagus',\n",
       " 'atarax',\n",
       " 'avocado',\n",
       " 'bacon',\n",
       " 'bagel',\n",
       " 'bai',\n",
       " 'balsamic',\n",
       " 'banana',\n",
       " 'bang',\n",
       " 'barley',\n",
       " 'basil',\n",
       " 'bbq',\n",
       " 'bean',\n",
       " 'beef',\n",
       " 'beer',\n",
       " 'beet',\n",
       " 'berry',\n",
       " 'biscuit',\n",
       " 'bison',\n",
       " 'blackberry',\n",
       " 'blueberry',\n",
       " 'bran',\n",
       " 'bratwurst',\n",
       " 'bread',\n",
       " 'brisket',\n",
       " 'broccoli',\n",
       " 'brownie',\n",
       " 'brussel',\n",
       " 'brussels',\n",
       " 'bun',\n",
       " 'burger',\n",
       " 'burrito',\n",
       " 'butter',\n",
       " 'butterfat',\n",
       " 'cabbage',\n",
       " 'caffeine',\n",
       " 'cake',\n",
       " 'calamari',\n",
       " 'calcium',\n",
       " 'candy',\n",
       " 'cantaloupe',\n",
       " 'cappuccino',\n",
       " 'caprese',\n",
       " 'caramel',\n",
       " 'carb',\n",
       " 'carnitas',\n",
       " 'carrot',\n",
       " 'cashew',\n",
       " 'cassava',\n",
       " 'casserole',\n",
       " 'cauliflower',\n",
       " 'celery',\n",
       " 'cereal',\n",
       " 'ceviche',\n",
       " 'chai',\n",
       " 'chard',\n",
       " 'cheddar',\n",
       " 'cheerio',\n",
       " 'cheese',\n",
       " 'cheeseburger',\n",
       " 'cheesecake',\n",
       " 'cheetos',\n",
       " 'cherry',\n",
       " 'chia',\n",
       " 'chicken',\n",
       " 'chile',\n",
       " 'chili',\n",
       " 'chilli',\n",
       " 'chip',\n",
       " 'chipotle',\n",
       " 'chocolate',\n",
       " 'chorizo',\n",
       " 'chowder',\n",
       " 'cilantro',\n",
       " 'cinnamon',\n",
       " 'clam',\n",
       " 'claritin',\n",
       " 'clementine',\n",
       " 'coca',\n",
       " 'cocoa',\n",
       " 'coconut',\n",
       " 'cod',\n",
       " 'coffee',\n",
       " 'coke',\n",
       " 'cola',\n",
       " 'coleslaw',\n",
       " 'collagen',\n",
       " 'cookie',\n",
       " 'cooky',\n",
       " 'coors',\n",
       " 'corn',\n",
       " 'cornbread',\n",
       " 'couscous',\n",
       " 'crab',\n",
       " 'cracker',\n",
       " 'cranberry',\n",
       " 'cream',\n",
       " 'creamer',\n",
       " 'croissant',\n",
       " 'cucumber',\n",
       " 'cupcake',\n",
       " 'curry',\n",
       " 'date',\n",
       " 'donut',\n",
       " 'doritos',\n",
       " 'doughnut',\n",
       " 'dressing',\n",
       " 'drumstick',\n",
       " 'duck',\n",
       " 'dumpling',\n",
       " 'edamame',\n",
       " 'egg',\n",
       " 'eggplant',\n",
       " 'elk',\n",
       " 'enchilada',\n",
       " 'espresso',\n",
       " 'fajita',\n",
       " 'fajitas',\n",
       " 'feta',\n",
       " 'fettuccine',\n",
       " 'fig',\n",
       " 'fish',\n",
       " 'flonase',\n",
       " 'flour',\n",
       " 'frittata',\n",
       " 'fruit',\n",
       " 'fry',\n",
       " 'gabapentin',\n",
       " 'garbanzo',\n",
       " 'garlic',\n",
       " 'gatorade',\n",
       " 'gelato',\n",
       " 'gin',\n",
       " 'ginger',\n",
       " 'glucosamine',\n",
       " 'goat',\n",
       " 'granola',\n",
       " 'grape',\n",
       " 'grapefruit',\n",
       " 'gravy',\n",
       " 'green',\n",
       " 'guacamole',\n",
       " 'gum',\n",
       " 'gyro',\n",
       " 'halibut',\n",
       " 'ham',\n",
       " 'hamburger',\n",
       " 'hazelnut',\n",
       " 'honey',\n",
       " 'hotdog',\n",
       " 'hummus',\n",
       " 'ice',\n",
       " 'icecream',\n",
       " 'ipa',\n",
       " 'jalapeno',\n",
       " 'jam',\n",
       " 'jello',\n",
       " 'jelly',\n",
       " 'jerky',\n",
       " 'juice',\n",
       " 'kale',\n",
       " 'ketchup',\n",
       " 'kombucha',\n",
       " 'lamb',\n",
       " 'larabar',\n",
       " 'lasagna',\n",
       " 'latte',\n",
       " 'lemon',\n",
       " 'lemonade',\n",
       " 'lentil',\n",
       " 'lettuce',\n",
       " 'lexapro',\n",
       " 'lime',\n",
       " 'lisinopril',\n",
       " 'lobster',\n",
       " 'macadamia',\n",
       " 'macaroni',\n",
       " 'macchiato',\n",
       " 'machaca',\n",
       " 'magnesium',\n",
       " 'mahi',\n",
       " 'mandarin',\n",
       " 'mango',\n",
       " 'maple',\n",
       " 'margarita',\n",
       " 'marinara',\n",
       " 'masala',\n",
       " 'mayo',\n",
       " 'mayonnaise',\n",
       " 'meal',\n",
       " 'meat',\n",
       " 'meatball',\n",
       " 'meatloaf',\n",
       " 'melon',\n",
       " 'milk',\n",
       " 'mint',\n",
       " 'mocha',\n",
       " 'monster',\n",
       " 'mozzarella',\n",
       " 'muesli',\n",
       " 'muffin',\n",
       " 'multivitamin',\n",
       " 'mushroom',\n",
       " 'mustard',\n",
       " 'naan',\n",
       " 'nacho',\n",
       " 'nectarine',\n",
       " 'noodle',\n",
       " 'nut',\n",
       " 'oat',\n",
       " 'oatmeal',\n",
       " 'oil',\n",
       " 'oj',\n",
       " 'olive',\n",
       " 'omelet',\n",
       " 'omelette',\n",
       " 'onion',\n",
       " 'orange',\n",
       " 'oyster',\n",
       " 'pancake',\n",
       " 'panini',\n",
       " 'parmesan',\n",
       " 'pasta',\n",
       " 'pastrami',\n",
       " 'pea',\n",
       " 'peach',\n",
       " 'peanut',\n",
       " 'pear',\n",
       " 'pecan',\n",
       " 'pepcid',\n",
       " 'pepper',\n",
       " 'pepperoni',\n",
       " 'pepsi',\n",
       " 'pesto',\n",
       " 'pho',\n",
       " 'pickle',\n",
       " 'pie',\n",
       " 'pineapple',\n",
       " 'pinto',\n",
       " 'pistachio',\n",
       " 'pita',\n",
       " 'pizza',\n",
       " 'plantain',\n",
       " 'plum',\n",
       " 'poke',\n",
       " 'popcorn',\n",
       " 'pork',\n",
       " 'porridge',\n",
       " 'potato',\n",
       " 'potatoe',\n",
       " 'prebiotic',\n",
       " 'pretzel',\n",
       " 'preworkout',\n",
       " 'probiotic',\n",
       " 'protein',\n",
       " 'pudding',\n",
       " 'pumpkin',\n",
       " 'quark',\n",
       " 'quesadilla',\n",
       " 'quiche',\n",
       " 'quinoa',\n",
       " 'raisin',\n",
       " 'ramen',\n",
       " 'ranch',\n",
       " 'raspberry',\n",
       " 'ravioli',\n",
       " 'rib',\n",
       " 'rice',\n",
       " 'roll',\n",
       " 'rotisserie',\n",
       " 'rum',\n",
       " 'rye',\n",
       " 'salad',\n",
       " 'salami',\n",
       " 'salmon',\n",
       " 'salsa',\n",
       " 'salt',\n",
       " 'sandwich',\n",
       " 'sauerkraut',\n",
       " 'sausage',\n",
       " 'seafood',\n",
       " 'seaweed',\n",
       " 'seed',\n",
       " 'seltzer',\n",
       " 'sesame',\n",
       " 'shake',\n",
       " 'shrimp',\n",
       " 'slider',\n",
       " 'smoothie',\n",
       " 'soda',\n",
       " 'soup',\n",
       " 'sourdough',\n",
       " 'spaghetti',\n",
       " 'spinach',\n",
       " 'splenda',\n",
       " 'spread',\n",
       " 'sprout',\n",
       " 'squash',\n",
       " 'starbuck',\n",
       " 'steak',\n",
       " 'stew',\n",
       " 'strawberry',\n",
       " 'stuffing',\n",
       " 'subway',\n",
       " 'sugar',\n",
       " 'sunflower',\n",
       " 'supplement',\n",
       " 'sushi',\n",
       " 'syrup',\n",
       " 'taco',\n",
       " 'tamale',\n",
       " 'tangerine',\n",
       " 'tea',\n",
       " 'tequila',\n",
       " 'teriyaki',\n",
       " 'toast',\n",
       " 'tofu',\n",
       " 'tomato',\n",
       " 'tonic',\n",
       " 'tortellini',\n",
       " 'tortilla',\n",
       " 'tot',\n",
       " 'trout',\n",
       " 'tuna',\n",
       " 'turkey',\n",
       " 'turmeric',\n",
       " 'vanilla',\n",
       " 'vegetable',\n",
       " 'veggie',\n",
       " 'vinaigrette',\n",
       " 'vinegar',\n",
       " 'vitamin',\n",
       " 'vodka',\n",
       " 'waffle',\n",
       " 'walnut',\n",
       " 'water',\n",
       " 'watermelon',\n",
       " 'wheat',\n",
       " 'whiskey',\n",
       " 'wholemeal',\n",
       " 'wine',\n",
       " 'wing',\n",
       " 'wrap',\n",
       " 'yam',\n",
       " 'yoghurt',\n",
       " 'yogurt',\n",
       " 'yolk',\n",
       " 'zucchini'}"
      ]
     },
     "execution_count": 26,
     "metadata": {},
     "output_type": "execute_result"
    }
   ],
   "source": [
    "fp.all_gram_set[0]"
   ]
  },
  {
   "cell_type": "code",
   "execution_count": 29,
   "metadata": {},
   "outputs": [
    {
     "name": "stderr",
     "output_type": "stream",
     "text": [
      "100%|██████████| 500000/500000 [00:00<00:00, 784928.37it/s]\n"
     ]
    }
   ],
   "source": [
    "raw_corpus = sample_df.desc_text.values\n",
    "expaneded_corpus = []\n",
    "for txt in tqdm(raw_corpus):\n",
    "    unpacked = txt.split(',')\n",
    "    if len(unpacked) > 1:\n",
    "        expaneded_corpus += unpacked\n",
    "    else:\n",
    "        expaneded_corpus.append(txt)"
   ]
  },
  {
   "cell_type": "code",
   "execution_count": 30,
   "metadata": {},
   "outputs": [
    {
     "data": {
      "text/plain": [
       "['Butter', 'Eggs', 'Italian Sausage']"
      ]
     },
     "execution_count": 30,
     "metadata": {},
     "output_type": "execute_result"
    }
   ],
   "source": [
    "expaneded_corpus[:3]"
   ]
  },
  {
   "cell_type": "code",
   "execution_count": null,
   "metadata": {},
   "outputs": [],
   "source": [
    "all_multiword_text = [txt for txt in  and len(txt.split()) > 2]\n"
   ]
  },
  {
   "cell_type": "code",
   "execution_count": null,
   "metadata": {},
   "outputs": [],
   "source": [
    "def clean_transcript(transcript):\n",
    "    transcript = transcript.lower()\n",
    "    transcript = re.sub(r'[^a-zA-Z0-9\\s]', ' ', transcript)\n",
    "    transcript = re.sub(r'\\b\\d+?\\b', '', transcript)\n",
    "    transcript = re.sub(r'\\s+', ' ', transcript)\n",
    "    return ' '.join(transcript.split())\n",
    "\n",
    "corpus = ' '.join(train_df.abstract.values)\n",
    "s = clean_transcript(corpus)\n",
    "words = [token for token in tqdm(s.split()) \\\n",
    "         if token != \"\" and token not in string.punctuation and token not in stop_words]\n",
    "\n",
    "word2freq = pd.Series(words).value_counts()\n",
    "\n",
    "unknown_words = set(list(word2freq.loc[word2freq.apply(lambda s: s < 50)].index))\n",
    "\n",
    "cfreq_2gram = nltk.ConditionalFreqDist(nltk.bigrams([w for w in words if w not in unknown_words]))\n",
    "vocab_size = len(set(words) - unknown_words)"
   ]
  },
  {
   "cell_type": "code",
   "execution_count": null,
   "metadata": {},
   "outputs": [],
   "source": [
    "def sentence_perplexity(sentence, model, vocab_size, word2freq):\n",
    "    '''\n",
    "    Perplexity score of a sentence:\n",
    "        ps = ((1/p1) * (1/p2) * ... * (1/pn-1)) ^ (1/(N - 1))\n",
    "        - pi: probability of i-th bigram\n",
    "        - N: number of tokens in the sentence\n",
    "    '''\n",
    "    # sentence = clean_transcript(sentence)\n",
    "    sentence = sentence.split()\n",
    "    perplexity = 1\n",
    "    \n",
    "    # Check len(sentence)\n",
    "    if len(sentence) == 1:\n",
    "        return perplexity\n",
    "    for i in range(len(sentence) - 1):\n",
    "        try:\n",
    "            numerator = model[sentence[i]][sentence[i + 1]] + 1\n",
    "        except:\n",
    "            numerator = 1\n",
    "        try:\n",
    "            denominator = word2freq[sentence[i]] + vocab_size\n",
    "        except:\n",
    "            denominator = vocab_size\n",
    "        prob = numerator / denominator\n",
    "        perplexity = perplexity * (1 / prob)\n",
    "    perplexity = pow(perplexity, 1 / float(len(sentence) - 1)) \n",
    "    return perplexity"
   ]
  },
  {
   "cell_type": "code",
   "execution_count": null,
   "metadata": {},
   "outputs": [],
   "source": []
  }
 ],
 "metadata": {
  "kernelspec": {
   "display_name": "Python 3",
   "language": "python",
   "name": "python3"
  },
  "language_info": {
   "codemirror_mode": {
    "name": "ipython",
    "version": 3
   },
   "file_extension": ".py",
   "mimetype": "text/x-python",
   "name": "python",
   "nbconvert_exporter": "python",
   "pygments_lexer": "ipython3",
   "version": "3.8.3"
  },
  "toc": {
   "base_numbering": 1,
   "nav_menu": {},
   "number_sections": true,
   "sideBar": true,
   "skip_h1_title": false,
   "title_cell": "Table of Contents",
   "title_sidebar": "Contents",
   "toc_cell": false,
   "toc_position": {
    "height": "calc(100% - 180px)",
    "left": "10px",
    "top": "150px",
    "width": "239px"
   },
   "toc_section_display": true,
   "toc_window_display": true
  }
 },
 "nbformat": 4,
 "nbformat_minor": 4
}
