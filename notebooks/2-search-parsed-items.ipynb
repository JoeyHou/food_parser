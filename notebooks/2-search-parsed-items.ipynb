{
 "cells": [
  {
   "cell_type": "code",
   "execution_count": 1,
   "metadata": {},
   "outputs": [],
   "source": [
    "import pandas as pd\n",
    "import numpy as np\n",
    "from scipy import stats\n",
    "import seaborn as sns\n",
    "import os\n",
    "import matplotlib.pyplot as plt\n",
    "import pickle\n",
    "from tqdm import tqdm \n",
    "from datetime import date \n",
    "from datetime import datetime\n",
    "from collections import defaultdict "
   ]
  },
  {
   "cell_type": "code",
   "execution_count": 2,
   "metadata": {},
   "outputs": [],
   "source": [
    "# from foodparser import foodparser"
   ]
  },
  {
   "cell_type": "code",
   "execution_count": 3,
   "metadata": {},
   "outputs": [],
   "source": [
    "# fp = foodparser.FoodParser()"
   ]
  },
  {
   "cell_type": "code",
   "execution_count": 4,
   "metadata": {},
   "outputs": [],
   "source": [
    "# !pip install pyspellchecker\n",
    "\n",
    "%load_ext autoreload\n",
    "%autoreload 2\n",
    "\n",
    "# %run '/content/drive/My Drive/Colab Data/public_app_analysis/utils/publicAnalysisHelper.py'\n",
    "# %run ../utils/publicAnalysisHelper.py\n",
    "# %run ../food_parser/food_parser.py"
   ]
  },
  {
   "cell_type": "code",
   "execution_count": 5,
   "metadata": {},
   "outputs": [],
   "source": [
    "# from google.colab import drive\n",
    "# drive.mount('/content/drive')\n",
    "file_dir = '../'\n",
    "\n",
    "data_dir = file_dir + 'test_data/'\n",
    "result_dir = data_dir + 'results/'"
   ]
  },
  {
   "cell_type": "code",
   "execution_count": 6,
   "metadata": {},
   "outputs": [
    {
     "name": "stderr",
     "output_type": "stream",
     "text": [
      "[nltk_data] Downloading package words to /Users/joey-hou/nltk_data...\n",
      "[nltk_data]   Package words is already up-to-date!\n",
      "[nltk_data] Downloading package stopwords to /Users/joey-\n",
      "[nltk_data]     hou/nltk_data...\n",
      "[nltk_data]   Package stopwords is already up-to-date!\n",
      "[nltk_data] Downloading package wordnet to /Users/joey-\n",
      "[nltk_data]     hou/nltk_data...\n",
      "[nltk_data]   Package wordnet is already up-to-date!\n",
      "[nltk_data] Downloading package punkt to /Users/joey-hou/nltk_data...\n",
      "[nltk_data]   Package punkt is already up-to-date!\n"
     ]
    }
   ],
   "source": [
    "import sys\n",
    "sys.path.insert(1, '../foodparser/')\n",
    "\n",
    "from foodparser import *"
   ]
  },
  {
   "cell_type": "code",
   "execution_count": 7,
   "metadata": {},
   "outputs": [
    {
     "data": {
      "text/plain": [
       "(['espresso'], 1, 0, [])"
      ]
     },
     "execution_count": 7,
     "metadata": {},
     "output_type": "execute_result"
    }
   ],
   "source": [
    "fp = FoodParser()\n",
    "fp.initialization()\n",
    "\n",
    "fp.parse_food('Espresso', return_sentence_tag = True)"
   ]
  },
  {
   "cell_type": "code",
   "execution_count": 18,
   "metadata": {},
   "outputs": [
    {
     "data": {
      "text/plain": [
       "True"
      ]
     },
     "execution_count": 18,
     "metadata": {},
     "output_type": "execute_result"
    }
   ],
   "source": [
    "# fp = FoodParser()\n",
    "\n",
    "# fp.all_gram_set[0].add('yoghurt')\n",
    "\n",
    "'yoghurt' in fp.all_gram_set[0]"
   ]
  },
  {
   "cell_type": "markdown",
   "metadata": {},
   "source": [
    "# Merge combine_df files"
   ]
  },
  {
   "cell_type": "code",
   "execution_count": 8,
   "metadata": {},
   "outputs": [],
   "source": [
    "# gram_set = pd.read_csv('../food_parser/final_database/gram_set.csv')\n",
    "# gram_tag = pd.read_csv('../food_parser/final_database/gram_tag.csv')\n",
    "# gram_set.shape, gram_tag.shape"
   ]
  },
  {
   "cell_type": "code",
   "execution_count": 9,
   "metadata": {},
   "outputs": [],
   "source": [
    "# gram_set.drop(columns = ['gram_type']).merge(gram_tag, on = 'gram_key', how = 'outer')\\\n",
    "#     .to_csv('../food_parser/final_database/combined_gram_set.csv', index = False)"
   ]
  },
  {
   "cell_type": "code",
   "execution_count": 10,
   "metadata": {},
   "outputs": [],
   "source": [
    "# gram_tag.drop(columns = ['gram_type']).merge(gram_set, on = 'gram_key')"
   ]
  },
  {
   "cell_type": "code",
   "execution_count": null,
   "metadata": {},
   "outputs": [],
   "source": []
  },
  {
   "cell_type": "markdown",
   "metadata": {},
   "source": [
    "# Load a sample of data"
   ]
  },
  {
   "cell_type": "code",
   "execution_count": 11,
   "metadata": {},
   "outputs": [
    {
     "data": {
      "text/html": [
       "<div>\n",
       "<style scoped>\n",
       "    .dataframe tbody tr th:only-of-type {\n",
       "        vertical-align: middle;\n",
       "    }\n",
       "\n",
       "    .dataframe tbody tr th {\n",
       "        vertical-align: top;\n",
       "    }\n",
       "\n",
       "    .dataframe thead th {\n",
       "        text-align: right;\n",
       "    }\n",
       "</style>\n",
       "<table border=\"1\" class=\"dataframe\">\n",
       "  <thead>\n",
       "    <tr style=\"text-align: right;\">\n",
       "      <th></th>\n",
       "      <th>unique_code</th>\n",
       "      <th>caloric</th>\n",
       "      <th>day</th>\n",
       "      <th>desc_text</th>\n",
       "      <th>food_type</th>\n",
       "      <th>local_time</th>\n",
       "      <th>original_logtime</th>\n",
       "      <th>original_logtime_notz</th>\n",
       "      <th>participant</th>\n",
       "      <th>study</th>\n",
       "      <th>time</th>\n",
       "      <th>tz</th>\n",
       "    </tr>\n",
       "  </thead>\n",
       "  <tbody>\n",
       "    <tr>\n",
       "      <th>0</th>\n",
       "      <td>9bbi18050004</td>\n",
       "      <td>1</td>\n",
       "      <td>2018-07-18</td>\n",
       "      <td>kind bar &amp;&amp; coffee</td>\n",
       "      <td>f</td>\n",
       "      <td>9.583333</td>\n",
       "      <td>07-18-2018 09:35AM PDT</td>\n",
       "      <td>2018-07-18 09:35:00</td>\n",
       "      <td>Hero-001</td>\n",
       "      <td>TRE</td>\n",
       "      <td>09:35:00</td>\n",
       "      <td>PDT</td>\n",
       "    </tr>\n",
       "    <tr>\n",
       "      <th>1</th>\n",
       "      <td>9bbi18050004</td>\n",
       "      <td>1</td>\n",
       "      <td>2018-06-24</td>\n",
       "      <td>potatoe</td>\n",
       "      <td>f</td>\n",
       "      <td>19.116667</td>\n",
       "      <td>06-24-2018 07:07PM PDT</td>\n",
       "      <td>2018-06-24 19:07:00</td>\n",
       "      <td>Hero-001</td>\n",
       "      <td>TRE</td>\n",
       "      <td>19:07:00</td>\n",
       "      <td>PDT</td>\n",
       "    </tr>\n",
       "  </tbody>\n",
       "</table>\n",
       "</div>"
      ],
      "text/plain": [
       "    unique_code  caloric        day           desc_text food_type  local_time  \\\n",
       "0  9bbi18050004        1 2018-07-18  kind bar && coffee         f    9.583333   \n",
       "1  9bbi18050004        1 2018-06-24             potatoe         f   19.116667   \n",
       "\n",
       "         original_logtime original_logtime_notz participant study      time  \\\n",
       "0  07-18-2018 09:35AM PDT   2018-07-18 09:35:00    Hero-001   TRE  09:35:00   \n",
       "1  06-24-2018 07:07PM PDT   2018-06-24 19:07:00    Hero-001   TRE  19:07:00   \n",
       "\n",
       "    tz  \n",
       "0  PDT  \n",
       "1  PDT  "
      ]
     },
     "execution_count": 11,
     "metadata": {},
     "output_type": "execute_result"
    }
   ],
   "source": [
    "firefighter_data_pickle_file = open(data_dir + 'raw/FFFoodData_Unique_Time_All_Aug2020.pickle', 'rb')\n",
    "firefighter_data = pickle.load(firefighter_data_pickle_file).reset_index(drop = True)\n",
    "firefighter_data = firefighter_data.rename(columns = {'PID': 'unique_code'})\n",
    "firefighter_data.head(2)"
   ]
  },
  {
   "cell_type": "code",
   "execution_count": 16,
   "metadata": {},
   "outputs": [
    {
     "data": {
      "text/html": [
       "<div>\n",
       "<style scoped>\n",
       "    .dataframe tbody tr th:only-of-type {\n",
       "        vertical-align: middle;\n",
       "    }\n",
       "\n",
       "    .dataframe tbody tr th {\n",
       "        vertical-align: top;\n",
       "    }\n",
       "\n",
       "    .dataframe thead th {\n",
       "        text-align: right;\n",
       "    }\n",
       "</style>\n",
       "<table border=\"1\" class=\"dataframe\">\n",
       "  <thead>\n",
       "    <tr style=\"text-align: right;\">\n",
       "      <th></th>\n",
       "      <th>unique_code</th>\n",
       "      <th>caloric</th>\n",
       "      <th>day</th>\n",
       "      <th>desc_text</th>\n",
       "      <th>food_type</th>\n",
       "      <th>local_time</th>\n",
       "      <th>original_logtime</th>\n",
       "      <th>original_logtime_notz</th>\n",
       "      <th>participant</th>\n",
       "      <th>study</th>\n",
       "      <th>time</th>\n",
       "      <th>tz</th>\n",
       "    </tr>\n",
       "  </thead>\n",
       "  <tbody>\n",
       "    <tr>\n",
       "      <th>16</th>\n",
       "      <td>9bbi18050004</td>\n",
       "      <td>1</td>\n",
       "      <td>2018-10-15</td>\n",
       "      <td>yogurt, kind bar</td>\n",
       "      <td>f</td>\n",
       "      <td>12.650000</td>\n",
       "      <td>10-15-2018 12:39PM PDT</td>\n",
       "      <td>2018-10-15 12:39:00</td>\n",
       "      <td>Hero-001</td>\n",
       "      <td>TRE</td>\n",
       "      <td>12:39:00</td>\n",
       "      <td>PDT</td>\n",
       "    </tr>\n",
       "    <tr>\n",
       "      <th>24</th>\n",
       "      <td>9bbi18050004</td>\n",
       "      <td>1</td>\n",
       "      <td>2018-08-28</td>\n",
       "      <td>yogurt, banana, kind bar</td>\n",
       "      <td>f</td>\n",
       "      <td>9.250000</td>\n",
       "      <td>08-28-2018 09:15AM PDT</td>\n",
       "      <td>2018-08-28 09:15:00</td>\n",
       "      <td>Hero-001</td>\n",
       "      <td>TRE</td>\n",
       "      <td>09:15:00</td>\n",
       "      <td>PDT</td>\n",
       "    </tr>\n",
       "    <tr>\n",
       "      <th>30</th>\n",
       "      <td>9bbi18050004</td>\n",
       "      <td>1</td>\n",
       "      <td>2019-02-02</td>\n",
       "      <td>yogurt, yogurt berries</td>\n",
       "      <td>f</td>\n",
       "      <td>10.200000</td>\n",
       "      <td>02-02-2019 10:12AM PST</td>\n",
       "      <td>2019-02-02 10:12:00</td>\n",
       "      <td>Hero-001</td>\n",
       "      <td>TRE</td>\n",
       "      <td>10:12:00</td>\n",
       "      <td>PST</td>\n",
       "    </tr>\n",
       "    <tr>\n",
       "      <th>46</th>\n",
       "      <td>9bbi18050004</td>\n",
       "      <td>1</td>\n",
       "      <td>2018-09-19</td>\n",
       "      <td>2 cookies, eggs sausage toast &amp;&amp; coffee</td>\n",
       "      <td>f</td>\n",
       "      <td>9.316667</td>\n",
       "      <td>09-19-2018 09:19AM PDT</td>\n",
       "      <td>2018-09-19 09:19:00</td>\n",
       "      <td>Hero-001</td>\n",
       "      <td>TRE</td>\n",
       "      <td>09:19:00</td>\n",
       "      <td>PDT</td>\n",
       "    </tr>\n",
       "    <tr>\n",
       "      <th>64</th>\n",
       "      <td>9bbi18050004</td>\n",
       "      <td>1</td>\n",
       "      <td>2018-09-05</td>\n",
       "      <td>donut and coffee, eggcheese avo burrito, kind bar</td>\n",
       "      <td>f</td>\n",
       "      <td>14.000000</td>\n",
       "      <td>09-05-2018 02:00PM PDT</td>\n",
       "      <td>2018-09-05 14:00:00</td>\n",
       "      <td>Hero-001</td>\n",
       "      <td>TRE</td>\n",
       "      <td>14:00:00</td>\n",
       "      <td>PDT</td>\n",
       "    </tr>\n",
       "    <tr>\n",
       "      <th>...</th>\n",
       "      <td>...</td>\n",
       "      <td>...</td>\n",
       "      <td>...</td>\n",
       "      <td>...</td>\n",
       "      <td>...</td>\n",
       "      <td>...</td>\n",
       "      <td>...</td>\n",
       "      <td>...</td>\n",
       "      <td>...</td>\n",
       "      <td>...</td>\n",
       "      <td>...</td>\n",
       "      <td>...</td>\n",
       "    </tr>\n",
       "    <tr>\n",
       "      <th>109607</th>\n",
       "      <td>9bbi19120173</td>\n",
       "      <td>1</td>\n",
       "      <td>2020-05-01</td>\n",
       "      <td>pre work out 3 scoops, protein shake with mix ...</td>\n",
       "      <td>b</td>\n",
       "      <td>13.033333</td>\n",
       "      <td>05-01-2020 01:02PM PDT</td>\n",
       "      <td>2020-05-01 13:02:00</td>\n",
       "      <td>Hero-153</td>\n",
       "      <td>TRE</td>\n",
       "      <td>13:02:00</td>\n",
       "      <td>PDT</td>\n",
       "    </tr>\n",
       "    <tr>\n",
       "      <th>109632</th>\n",
       "      <td>9bbi19120173</td>\n",
       "      <td>0</td>\n",
       "      <td>2020-01-12</td>\n",
       "      <td>sparking water, spark</td>\n",
       "      <td>b</td>\n",
       "      <td>18.100000</td>\n",
       "      <td>01-12-2020 06:06PM PST</td>\n",
       "      <td>2020-01-12 18:06:00</td>\n",
       "      <td>Hero-153</td>\n",
       "      <td>TRE</td>\n",
       "      <td>18:06:00</td>\n",
       "      <td>PST</td>\n",
       "    </tr>\n",
       "    <tr>\n",
       "      <th>109679</th>\n",
       "      <td>9bbi18100060</td>\n",
       "      <td>1</td>\n",
       "      <td>2018-11-29</td>\n",
       "      <td>tomato soup, turkey grilled cheese</td>\n",
       "      <td>f</td>\n",
       "      <td>12.116667</td>\n",
       "      <td>11-29-2018 12:07:00 PDT</td>\n",
       "      <td>2018-11-29 12:07:00</td>\n",
       "      <td>Hero-048</td>\n",
       "      <td>SOC</td>\n",
       "      <td>12:07:00</td>\n",
       "      <td>PDT</td>\n",
       "    </tr>\n",
       "    <tr>\n",
       "      <th>109681</th>\n",
       "      <td>9bbi18100060</td>\n",
       "      <td>1</td>\n",
       "      <td>2018-12-02</td>\n",
       "      <td>pb bagel, mixed nuts</td>\n",
       "      <td>f</td>\n",
       "      <td>20.750000</td>\n",
       "      <td>12-02-2018 20:45:00 PDT</td>\n",
       "      <td>2018-12-02 20:45:00</td>\n",
       "      <td>Hero-048</td>\n",
       "      <td>SOC</td>\n",
       "      <td>20:45:00</td>\n",
       "      <td>PDT</td>\n",
       "    </tr>\n",
       "    <tr>\n",
       "      <th>109682</th>\n",
       "      <td>9bbi18100060</td>\n",
       "      <td>1</td>\n",
       "      <td>2018-12-03</td>\n",
       "      <td>3 eggs, pancakes</td>\n",
       "      <td>f</td>\n",
       "      <td>10.166667</td>\n",
       "      <td>12-03-2018 10:10:00 PDT</td>\n",
       "      <td>2018-12-03 10:10:00</td>\n",
       "      <td>Hero-048</td>\n",
       "      <td>SOC</td>\n",
       "      <td>10:10:00</td>\n",
       "      <td>PDT</td>\n",
       "    </tr>\n",
       "  </tbody>\n",
       "</table>\n",
       "<p>25914 rows × 12 columns</p>\n",
       "</div>"
      ],
      "text/plain": [
       "         unique_code  caloric        day  \\\n",
       "16      9bbi18050004        1 2018-10-15   \n",
       "24      9bbi18050004        1 2018-08-28   \n",
       "30      9bbi18050004        1 2019-02-02   \n",
       "46      9bbi18050004        1 2018-09-19   \n",
       "64      9bbi18050004        1 2018-09-05   \n",
       "...              ...      ...        ...   \n",
       "109607  9bbi19120173        1 2020-05-01   \n",
       "109632  9bbi19120173        0 2020-01-12   \n",
       "109679  9bbi18100060        1 2018-11-29   \n",
       "109681  9bbi18100060        1 2018-12-02   \n",
       "109682  9bbi18100060        1 2018-12-03   \n",
       "\n",
       "                                                desc_text food_type  \\\n",
       "16                                       yogurt, kind bar         f   \n",
       "24                               yogurt, banana, kind bar         f   \n",
       "30                                 yogurt, yogurt berries         f   \n",
       "46                2 cookies, eggs sausage toast && coffee         f   \n",
       "64      donut and coffee, eggcheese avo burrito, kind bar         f   \n",
       "...                                                   ...       ...   \n",
       "109607  pre work out 3 scoops, protein shake with mix ...         b   \n",
       "109632                              sparking water, spark         b   \n",
       "109679                 tomato soup, turkey grilled cheese         f   \n",
       "109681                               pb bagel, mixed nuts         f   \n",
       "109682                                   3 eggs, pancakes         f   \n",
       "\n",
       "        local_time         original_logtime original_logtime_notz participant  \\\n",
       "16       12.650000   10-15-2018 12:39PM PDT   2018-10-15 12:39:00    Hero-001   \n",
       "24        9.250000   08-28-2018 09:15AM PDT   2018-08-28 09:15:00    Hero-001   \n",
       "30       10.200000   02-02-2019 10:12AM PST   2019-02-02 10:12:00    Hero-001   \n",
       "46        9.316667   09-19-2018 09:19AM PDT   2018-09-19 09:19:00    Hero-001   \n",
       "64       14.000000   09-05-2018 02:00PM PDT   2018-09-05 14:00:00    Hero-001   \n",
       "...            ...                      ...                   ...         ...   \n",
       "109607   13.033333   05-01-2020 01:02PM PDT   2020-05-01 13:02:00    Hero-153   \n",
       "109632   18.100000   01-12-2020 06:06PM PST   2020-01-12 18:06:00    Hero-153   \n",
       "109679   12.116667  11-29-2018 12:07:00 PDT   2018-11-29 12:07:00    Hero-048   \n",
       "109681   20.750000  12-02-2018 20:45:00 PDT   2018-12-02 20:45:00    Hero-048   \n",
       "109682   10.166667  12-03-2018 10:10:00 PDT   2018-12-03 10:10:00    Hero-048   \n",
       "\n",
       "       study      time   tz  \n",
       "16       TRE  12:39:00  PDT  \n",
       "24       TRE  09:15:00  PDT  \n",
       "30       TRE  10:12:00  PST  \n",
       "46       TRE  09:19:00  PDT  \n",
       "64       TRE  14:00:00  PDT  \n",
       "...      ...       ...  ...  \n",
       "109607   TRE  13:02:00  PDT  \n",
       "109632   TRE  18:06:00  PST  \n",
       "109679   SOC  12:07:00  PDT  \n",
       "109681   SOC  20:45:00  PDT  \n",
       "109682   SOC  10:10:00  PDT  \n",
       "\n",
       "[25914 rows x 12 columns]"
      ]
     },
     "execution_count": 16,
     "metadata": {},
     "output_type": "execute_result"
    }
   ],
   "source": [
    "firefighter_data.loc[firefighter_data.desc_text.str.contains(',')]"
   ]
  },
  {
   "cell_type": "code",
   "execution_count": 12,
   "metadata": {},
   "outputs": [
    {
     "data": {
      "text/plain": [
       "(109708, 12)"
      ]
     },
     "execution_count": 12,
     "metadata": {},
     "output_type": "execute_result"
    }
   ],
   "source": [
    "firefighter_data.shape"
   ]
  },
  {
   "cell_type": "code",
   "execution_count": 17,
   "metadata": {},
   "outputs": [
    {
     "name": "stderr",
     "output_type": "stream",
     "text": [
      "100%|██████████| 109708/109708 [00:31<00:00, 3512.49it/s]\n"
     ]
    }
   ],
   "source": [
    "firefighter_data_expanded = fp.expand_entries(firefighter_data)"
   ]
  },
  {
   "cell_type": "code",
   "execution_count": 19,
   "metadata": {},
   "outputs": [
    {
     "name": "stderr",
     "output_type": "stream",
     "text": [
      "100%|██████████| 162568/162568 [01:19<00:00, 2038.31it/s]\n"
     ]
    }
   ],
   "source": [
    "sample_df = firefighter_data_expanded\n",
    "if 'ID' not in sample_df:\n",
    "    sample_df['ID'] = range(sample_df.shape[0])\n",
    "\n",
    "total_unknown = 0\n",
    "total_token = 0\n",
    "parsed = []\n",
    "total_unknown_tokens = []\n",
    "for i in tqdm(range(sample_df.shape[0])):\n",
    "    entry = sample_df.iloc[i].desc_text\n",
    "    result, num_token, num_unknown, unknown_tokens = fp.parse_food(entry, return_sentence_tag = True)\n",
    "    result = [(f, fp.find_food_type(f)) for f in result]\n",
    "    parsed.append(result)\n",
    "    total_token += num_token\n",
    "    total_unknown += num_unknown\n",
    "    total_unknown_tokens += unknown_tokens"
   ]
  },
  {
   "cell_type": "markdown",
   "metadata": {
    "scrolled": true
   },
   "source": [
    "- parsed"
   ]
  },
  {
   "cell_type": "code",
   "execution_count": 20,
   "metadata": {},
   "outputs": [],
   "source": [
    "sample_df['parsed'] = parsed"
   ]
  },
  {
   "cell_type": "markdown",
   "metadata": {},
   "source": [
    "# Build search functions"
   ]
  },
  {
   "cell_type": "markdown",
   "metadata": {},
   "source": [
    "## Look-up-dict"
   ]
  },
  {
   "cell_type": "code",
   "execution_count": 97,
   "metadata": {},
   "outputs": [
    {
     "data": {
      "text/html": [
       "<div>\n",
       "<style scoped>\n",
       "    .dataframe tbody tr th:only-of-type {\n",
       "        vertical-align: middle;\n",
       "    }\n",
       "\n",
       "    .dataframe tbody tr th {\n",
       "        vertical-align: top;\n",
       "    }\n",
       "\n",
       "    .dataframe thead th {\n",
       "        text-align: right;\n",
       "    }\n",
       "</style>\n",
       "<table border=\"1\" class=\"dataframe\">\n",
       "  <thead>\n",
       "    <tr style=\"text-align: right;\">\n",
       "      <th></th>\n",
       "      <th>gram_key</th>\n",
       "      <th>food_type</th>\n",
       "      <th>gram_type</th>\n",
       "      <th>tag1</th>\n",
       "      <th>tag2</th>\n",
       "      <th>tag3</th>\n",
       "    </tr>\n",
       "  </thead>\n",
       "  <tbody>\n",
       "    <tr>\n",
       "      <th>0</th>\n",
       "      <td>vodka</td>\n",
       "      <td>b</td>\n",
       "      <td>1</td>\n",
       "      <td>empty</td>\n",
       "      <td>Alcohol</td>\n",
       "      <td>empty</td>\n",
       "    </tr>\n",
       "    <tr>\n",
       "      <th>1</th>\n",
       "      <td>monster</td>\n",
       "      <td>b</td>\n",
       "      <td>1</td>\n",
       "      <td>empty</td>\n",
       "      <td>Caffeine</td>\n",
       "      <td>empty</td>\n",
       "    </tr>\n",
       "    <tr>\n",
       "      <th>2</th>\n",
       "      <td>coke</td>\n",
       "      <td>b</td>\n",
       "      <td>1</td>\n",
       "      <td>empty</td>\n",
       "      <td>Caffeine</td>\n",
       "      <td>empty</td>\n",
       "    </tr>\n",
       "    <tr>\n",
       "      <th>3</th>\n",
       "      <td>mocha</td>\n",
       "      <td>b</td>\n",
       "      <td>1</td>\n",
       "      <td>coffee</td>\n",
       "      <td>Caffeine</td>\n",
       "      <td>High-sugar</td>\n",
       "    </tr>\n",
       "    <tr>\n",
       "      <th>4</th>\n",
       "      <td>milk</td>\n",
       "      <td>b</td>\n",
       "      <td>1</td>\n",
       "      <td>empty</td>\n",
       "      <td>Dairy</td>\n",
       "      <td>protein</td>\n",
       "    </tr>\n",
       "  </tbody>\n",
       "</table>\n",
       "</div>"
      ],
      "text/plain": [
       "  gram_key food_type gram_type    tag1      tag2        tag3\n",
       "0    vodka         b         1   empty   Alcohol       empty\n",
       "1  monster         b         1   empty  Caffeine       empty\n",
       "2     coke         b         1   empty  Caffeine       empty\n",
       "3    mocha         b         1  coffee  Caffeine  High-sugar\n",
       "4     milk         b         1   empty     Dairy    protein "
      ]
     },
     "execution_count": 97,
     "metadata": {},
     "output_type": "execute_result"
    }
   ],
   "source": [
    "required_columns = ['gram_key', 'food_type', 'gram_type']\n",
    "tag_lst = ['tag1', 'tag2', 'tag3']\n",
    "gram_tag_df = fp.read_gram_set().fillna('empty')[required_columns + tag_lst]\n",
    "gram_tag_df.head()"
   ]
  },
  {
   "cell_type": "code",
   "execution_count": null,
   "metadata": {},
   "outputs": [],
   "source": []
  },
  {
   "cell_type": "code",
   "execution_count": 98,
   "metadata": {},
   "outputs": [],
   "source": [
    "def basic_clean(s):\n",
    "    tmp_s = s.lower().replace('?', '')\n",
    "    if len(tmp_s) == 0:\n",
    "        return 'empty'\n",
    "    else:\n",
    "        return tmp_s\n",
    "gram_tag_df.tag1 = gram_tag_df.tag1.apply(basic_clean)\n",
    "gram_tag_df.tag2 = gram_tag_df.tag2.apply(basic_clean)\n",
    "gram_tag_df.tag3 = gram_tag_df.tag3.apply(basic_clean)"
   ]
  },
  {
   "cell_type": "code",
   "execution_count": 99,
   "metadata": {},
   "outputs": [
    {
     "data": {
      "text/html": [
       "<div>\n",
       "<style scoped>\n",
       "    .dataframe tbody tr th:only-of-type {\n",
       "        vertical-align: middle;\n",
       "    }\n",
       "\n",
       "    .dataframe tbody tr th {\n",
       "        vertical-align: top;\n",
       "    }\n",
       "\n",
       "    .dataframe thead th {\n",
       "        text-align: right;\n",
       "    }\n",
       "</style>\n",
       "<table border=\"1\" class=\"dataframe\">\n",
       "  <thead>\n",
       "    <tr style=\"text-align: right;\">\n",
       "      <th></th>\n",
       "      <th>gram_key</th>\n",
       "      <th>food_type</th>\n",
       "      <th>gram_type</th>\n",
       "      <th>tag1</th>\n",
       "      <th>tag2</th>\n",
       "      <th>tag3</th>\n",
       "    </tr>\n",
       "  </thead>\n",
       "  <tbody>\n",
       "    <tr>\n",
       "      <th>0</th>\n",
       "      <td>vodka</td>\n",
       "      <td>b</td>\n",
       "      <td>1</td>\n",
       "      <td>empty</td>\n",
       "      <td>alcohol</td>\n",
       "      <td>empty</td>\n",
       "    </tr>\n",
       "    <tr>\n",
       "      <th>1</th>\n",
       "      <td>monster</td>\n",
       "      <td>b</td>\n",
       "      <td>1</td>\n",
       "      <td>empty</td>\n",
       "      <td>caffeine</td>\n",
       "      <td>empty</td>\n",
       "    </tr>\n",
       "    <tr>\n",
       "      <th>2</th>\n",
       "      <td>coke</td>\n",
       "      <td>b</td>\n",
       "      <td>1</td>\n",
       "      <td>empty</td>\n",
       "      <td>caffeine</td>\n",
       "      <td>empty</td>\n",
       "    </tr>\n",
       "    <tr>\n",
       "      <th>3</th>\n",
       "      <td>mocha</td>\n",
       "      <td>b</td>\n",
       "      <td>1</td>\n",
       "      <td>coffee</td>\n",
       "      <td>caffeine</td>\n",
       "      <td>high-sugar</td>\n",
       "    </tr>\n",
       "    <tr>\n",
       "      <th>4</th>\n",
       "      <td>milk</td>\n",
       "      <td>b</td>\n",
       "      <td>1</td>\n",
       "      <td>empty</td>\n",
       "      <td>dairy</td>\n",
       "      <td>protein</td>\n",
       "    </tr>\n",
       "  </tbody>\n",
       "</table>\n",
       "</div>"
      ],
      "text/plain": [
       "  gram_key food_type gram_type    tag1      tag2        tag3\n",
       "0    vodka         b         1   empty   alcohol       empty\n",
       "1  monster         b         1   empty  caffeine       empty\n",
       "2     coke         b         1   empty  caffeine       empty\n",
       "3    mocha         b         1  coffee  caffeine  high-sugar\n",
       "4     milk         b         1   empty     dairy    protein "
      ]
     },
     "execution_count": 99,
     "metadata": {},
     "output_type": "execute_result"
    }
   ],
   "source": [
    "gram_tag_df.head()"
   ]
  },
  {
   "cell_type": "code",
   "execution_count": 100,
   "metadata": {},
   "outputs": [
    {
     "name": "stdout",
     "output_type": "stream",
     "text": [
      "decaf coffee milk\n"
     ]
    }
   ],
   "source": [
    "for row_idx in range(gram_tag_df.shape[0]):\n",
    "    curr_row = gram_tag_df.iloc[row_idx]\n",
    "    if 'coffee' in curr_row.gram_key:\n",
    "        if 'coffee' not in [curr_row['tag'+str(i)] for i in [1,2,3]] and \\\n",
    "           'caffeine' not in [curr_row['tag'+str(i)] for i in [1,2,3]]:\n",
    "            print(curr_row.gram_key)"
   ]
  },
  {
   "cell_type": "code",
   "execution_count": 101,
   "metadata": {},
   "outputs": [],
   "source": [
    "look_up_dict = {}\n",
    "for row_i in range(gram_tag_df.shape[0]):\n",
    "    curr_row = gram_tag_df.iloc[row_i]\n",
    "    tmp_lst = [curr_row['gram_key']]\n",
    "    for tag in tag_lst:\n",
    "        item = curr_row[tag]\n",
    "        if item == 'empty':\n",
    "            continue\n",
    "        tmp_lst.append(item)\n",
    "    look_up_dict[tmp_lst[0]] = tmp_lst"
   ]
  },
  {
   "cell_type": "code",
   "execution_count": 102,
   "metadata": {},
   "outputs": [
    {
     "data": {
      "text/plain": [
       "array(['vodka', 'b', 1.0, 'empty', 'alcohol', 'empty'], dtype=object)"
      ]
     },
     "execution_count": 102,
     "metadata": {},
     "output_type": "execute_result"
    }
   ],
   "source": [
    "gram_tag_df.iloc[0].values"
   ]
  },
  {
   "cell_type": "code",
   "execution_count": 103,
   "metadata": {},
   "outputs": [
    {
     "data": {
      "text/plain": [
       "[('vodka', ['vodka', 'alcohol']),\n",
       " ('monster', ['monster', 'caffeine']),\n",
       " ('coke', ['coke', 'caffeine'])]"
      ]
     },
     "execution_count": 103,
     "metadata": {},
     "output_type": "execute_result"
    }
   ],
   "source": [
    "[i for i in list(look_up_dict.items())[:3]]"
   ]
  },
  {
   "cell_type": "markdown",
   "metadata": {},
   "source": [
    "## One-hot-dict"
   ]
  },
  {
   "cell_type": "code",
   "execution_count": 104,
   "metadata": {},
   "outputs": [],
   "source": [
    "counter = 0\n",
    "idx_to_tag = {}\n",
    "tag_to_idx = {}\n",
    "for key in look_up_dict.keys():\n",
    "    for tag in look_up_dict[key]:\n",
    "        if tag not in tag_to_idx.keys():\n",
    "            idx_to_tag[counter] = tag\n",
    "            tag_to_idx[tag] = counter\n",
    "            counter += 1"
   ]
  },
  {
   "cell_type": "code",
   "execution_count": 105,
   "metadata": {},
   "outputs": [],
   "source": [
    "all_tag_arr = np.array(list(tag_to_idx.keys()))"
   ]
  },
  {
   "cell_type": "code",
   "execution_count": 106,
   "metadata": {},
   "outputs": [
    {
     "data": {
      "text/plain": [
       "[[('kind bar', 'f'), ('coffee', 'b')],\n",
       " [('potatoe', 'f')],\n",
       " [('egg', 'f'), ('sausage', 'f')]]"
      ]
     },
     "execution_count": 106,
     "metadata": {},
     "output_type": "execute_result"
    }
   ],
   "source": [
    "parsed[:3] # This is the array we need to analysis"
   ]
  },
  {
   "cell_type": "code",
   "execution_count": 107,
   "metadata": {},
   "outputs": [],
   "source": [
    "vec_size = counter\n",
    "def encode_single_item(item):\n",
    "    tags = look_up_dict[item]\n",
    "    return [tag_to_idx[t] for t in tags]\n",
    "\n",
    "def encode_single_parsed_entry(result_lst):\n",
    "    encoded_arr = np.array([0] * vec_size)\n",
    "    for pair in result_lst:\n",
    "        item = pair[0]\n",
    "        encoded_arr[encode_single_item(item)] = 1\n",
    "    return encoded_arr\n",
    "\n",
    "def decode_item_arr(arr):\n",
    "    return all_tag_arr[arr == 1]\n",
    "\n",
    "def find_str_contain(df, s):\n",
    "    return df.loc[df.desc_text.apply(lambda x: s in x)].reset_index(drop = True)"
   ]
  },
  {
   "cell_type": "code",
   "execution_count": 108,
   "metadata": {},
   "outputs": [
    {
     "data": {
      "text/plain": [
       "2015"
      ]
     },
     "execution_count": 108,
     "metadata": {},
     "output_type": "execute_result"
    }
   ],
   "source": [
    "vec_size"
   ]
  },
  {
   "cell_type": "code",
   "execution_count": 109,
   "metadata": {},
   "outputs": [],
   "source": [
    "parsed_encoded_arrays = []\n",
    "parsed_tagged_text = []\n",
    "for p in parsed:\n",
    "    encoded_arr = encode_single_parsed_entry(p)\n",
    "    parsed_encoded_arrays.append(encoded_arr)\n",
    "    parsed_tagged_text.append(decode_item_arr(encoded_arr))\n",
    "\n",
    "parsed_encoded_arrays = np.array(parsed_encoded_arrays)"
   ]
  },
  {
   "cell_type": "code",
   "execution_count": 110,
   "metadata": {},
   "outputs": [
    {
     "data": {
      "text/plain": [
       "[array(['meat', 'beef', 'dressing', 'steak', 'fat free'], dtype='<U47'),\n",
       " array(['meat', 'beef', 'dressing', 'steak', 'fat free'], dtype='<U47'),\n",
       " array(['coffee', 'dairy', 'latte', 'vanilla', 'iced'], dtype='<U47'),\n",
       " array(['wheat', 'individual', 'pancake'], dtype='<U47'),\n",
       " array(['wheat', 'individual', 'pancake'], dtype='<U47')]"
      ]
     },
     "execution_count": 110,
     "metadata": {},
     "output_type": "execute_result"
    }
   ],
   "source": [
    "parsed_tagged_text[1630:1635]"
   ]
  },
  {
   "cell_type": "code",
   "execution_count": 111,
   "metadata": {
    "scrolled": true
   },
   "outputs": [],
   "source": [
    "# encode_single_item('fish taco')"
   ]
  },
  {
   "cell_type": "code",
   "execution_count": 112,
   "metadata": {},
   "outputs": [
    {
     "data": {
      "text/plain": [
       "array([[0, 0, 0, ..., 0, 0, 0],\n",
       "       [0, 0, 0, ..., 0, 0, 0]])"
      ]
     },
     "execution_count": 112,
     "metadata": {},
     "output_type": "execute_result"
    }
   ],
   "source": [
    "parsed_encoded_arrays[:2]"
   ]
  },
  {
   "cell_type": "code",
   "execution_count": 113,
   "metadata": {},
   "outputs": [
    {
     "data": {
      "text/plain": [
       "(162568, 2015)"
      ]
     },
     "execution_count": 113,
     "metadata": {},
     "output_type": "execute_result"
    }
   ],
   "source": [
    "parsed_encoded_arrays.shape"
   ]
  },
  {
   "cell_type": "code",
   "execution_count": 114,
   "metadata": {},
   "outputs": [],
   "source": [
    "# parsed_encoded_arrays[:, 1].shape"
   ]
  },
  {
   "cell_type": "code",
   "execution_count": 74,
   "metadata": {},
   "outputs": [],
   "source": [
    "# sample_df.shape"
   ]
  },
  {
   "cell_type": "code",
   "execution_count": 75,
   "metadata": {},
   "outputs": [],
   "source": [
    "# len(parsed)"
   ]
  },
  {
   "cell_type": "code",
   "execution_count": 115,
   "metadata": {},
   "outputs": [],
   "source": [
    "def search(encoded_arr, tag, id_lst):\n",
    "    idx = tag_to_idx[tag]\n",
    "    selected_entry_spots = id_lst[encoded_arr[:, idx] != 0]\n",
    "    return selected_entry_spots\n",
    "\n",
    "def backward_search(tag):    \n",
    "    return [k for k in look_up_dict.keys() if tag in look_up_dict[k]]"
   ]
  },
  {
   "cell_type": "code",
   "execution_count": 116,
   "metadata": {},
   "outputs": [],
   "source": [
    "# backward_search('caffeine')"
   ]
  },
  {
   "cell_type": "markdown",
   "metadata": {},
   "source": [
    "## Deploy on Coffee example"
   ]
  },
  {
   "cell_type": "code",
   "execution_count": 117,
   "metadata": {},
   "outputs": [],
   "source": [
    "coffee_found = \\\n",
    "    list(search(parsed_encoded_arrays, 'coffee', np.array(range(162568)))) + \\\n",
    "    list(search(parsed_encoded_arrays, 'caffeine', np.array(range(162568))))\n",
    "coffee_found = list(set(coffee_found))\n",
    "coffee_spot = sample_df.reset_index(drop = True).loc[list(coffee_found)].reset_index(drop = True)"
   ]
  },
  {
   "cell_type": "code",
   "execution_count": 118,
   "metadata": {},
   "outputs": [
    {
     "data": {
      "text/html": [
       "<div>\n",
       "<style scoped>\n",
       "    .dataframe tbody tr th:only-of-type {\n",
       "        vertical-align: middle;\n",
       "    }\n",
       "\n",
       "    .dataframe tbody tr th {\n",
       "        vertical-align: top;\n",
       "    }\n",
       "\n",
       "    .dataframe thead th {\n",
       "        text-align: right;\n",
       "    }\n",
       "</style>\n",
       "<table border=\"1\" class=\"dataframe\">\n",
       "  <thead>\n",
       "    <tr style=\"text-align: right;\">\n",
       "      <th></th>\n",
       "      <th>unique_code</th>\n",
       "      <th>caloric</th>\n",
       "      <th>day</th>\n",
       "      <th>desc_text</th>\n",
       "      <th>food_type</th>\n",
       "      <th>local_time</th>\n",
       "      <th>original_logtime</th>\n",
       "      <th>original_logtime_notz</th>\n",
       "      <th>participant</th>\n",
       "      <th>study</th>\n",
       "      <th>time</th>\n",
       "      <th>tz</th>\n",
       "      <th>ID</th>\n",
       "      <th>parsed</th>\n",
       "    </tr>\n",
       "  </thead>\n",
       "  <tbody>\n",
       "    <tr>\n",
       "      <th>0</th>\n",
       "      <td>9bbi18050004</td>\n",
       "      <td>1</td>\n",
       "      <td>2018-07-18</td>\n",
       "      <td>kind bar &amp;&amp; coffee</td>\n",
       "      <td>f</td>\n",
       "      <td>9.583333</td>\n",
       "      <td>07-18-2018 09:35AM PDT</td>\n",
       "      <td>2018-07-18 09:35:00</td>\n",
       "      <td>Hero-001</td>\n",
       "      <td>TRE</td>\n",
       "      <td>09:35:00</td>\n",
       "      <td>PDT</td>\n",
       "      <td>0</td>\n",
       "      <td>[(kind bar, f), (coffee, b)]</td>\n",
       "    </tr>\n",
       "    <tr>\n",
       "      <th>1</th>\n",
       "      <td>9bbi18050004</td>\n",
       "      <td>1</td>\n",
       "      <td>2018-06-07</td>\n",
       "      <td>banana &amp;&amp; coffee</td>\n",
       "      <td>f</td>\n",
       "      <td>9.050000</td>\n",
       "      <td>06-07-2018 09:03AM PDT</td>\n",
       "      <td>2018-06-07 09:03:00</td>\n",
       "      <td>Hero-001</td>\n",
       "      <td>TRE</td>\n",
       "      <td>09:03:00</td>\n",
       "      <td>PDT</td>\n",
       "      <td>10</td>\n",
       "      <td>[(banana, f), (coffee, b)]</td>\n",
       "    </tr>\n",
       "  </tbody>\n",
       "</table>\n",
       "</div>"
      ],
      "text/plain": [
       "    unique_code  caloric        day           desc_text food_type  local_time  \\\n",
       "0  9bbi18050004        1 2018-07-18  kind bar && coffee         f    9.583333   \n",
       "1  9bbi18050004        1 2018-06-07    banana && coffee         f    9.050000   \n",
       "\n",
       "         original_logtime original_logtime_notz participant study      time  \\\n",
       "0  07-18-2018 09:35AM PDT   2018-07-18 09:35:00    Hero-001   TRE  09:35:00   \n",
       "1  06-07-2018 09:03AM PDT   2018-06-07 09:03:00    Hero-001   TRE  09:03:00   \n",
       "\n",
       "    tz  ID                        parsed  \n",
       "0  PDT   0  [(kind bar, f), (coffee, b)]  \n",
       "1  PDT  10    [(banana, f), (coffee, b)]  "
      ]
     },
     "execution_count": 118,
     "metadata": {},
     "output_type": "execute_result"
    }
   ],
   "source": [
    "coffee_spot.head(2)"
   ]
  },
  {
   "cell_type": "code",
   "execution_count": 119,
   "metadata": {},
   "outputs": [
    {
     "data": {
      "text/plain": [
       "14547"
      ]
     },
     "execution_count": 119,
     "metadata": {},
     "output_type": "execute_result"
    }
   ],
   "source": [
    "len(coffee_found)"
   ]
  },
  {
   "cell_type": "code",
   "execution_count": 120,
   "metadata": {},
   "outputs": [
    {
     "data": {
      "text/plain": [
       "(14547, 14)"
      ]
     },
     "execution_count": 120,
     "metadata": {},
     "output_type": "execute_result"
    }
   ],
   "source": [
    "coffee_spot.shape"
   ]
  },
  {
   "cell_type": "code",
   "execution_count": 121,
   "metadata": {},
   "outputs": [
    {
     "data": {
      "text/plain": [
       "(10725, 14)"
      ]
     },
     "execution_count": 121,
     "metadata": {},
     "output_type": "execute_result"
    }
   ],
   "source": [
    "find_str_contain(coffee_spot, 'coffee').shape"
   ]
  },
  {
   "cell_type": "code",
   "execution_count": 122,
   "metadata": {},
   "outputs": [],
   "source": [
    "# for k in list(look_up_dict.keys()):\n",
    "#     if 'coffee' in look_up_dict[k]:\n",
    "#         print(look_up_dict[k])"
   ]
  },
  {
   "cell_type": "code",
   "execution_count": 124,
   "metadata": {},
   "outputs": [],
   "source": [
    "# find_str_contain(sample_df, 'latte')"
   ]
  },
  {
   "cell_type": "code",
   "execution_count": 72,
   "metadata": {},
   "outputs": [
    {
     "data": {
      "text/plain": [
       "['cappuccino', 'coffee', 'coffee']"
      ]
     },
     "execution_count": 72,
     "metadata": {},
     "output_type": "execute_result"
    }
   ],
   "source": [
    "look_up_dict['cappuccino']"
   ]
  },
  {
   "cell_type": "code",
   "execution_count": 40,
   "metadata": {},
   "outputs": [
    {
     "data": {
      "text/html": [
       "<div>\n",
       "<style scoped>\n",
       "    .dataframe tbody tr th:only-of-type {\n",
       "        vertical-align: middle;\n",
       "    }\n",
       "\n",
       "    .dataframe tbody tr th {\n",
       "        vertical-align: top;\n",
       "    }\n",
       "\n",
       "    .dataframe thead th {\n",
       "        text-align: right;\n",
       "    }\n",
       "</style>\n",
       "<table border=\"1\" class=\"dataframe\">\n",
       "  <thead>\n",
       "    <tr style=\"text-align: right;\">\n",
       "      <th></th>\n",
       "      <th>PID</th>\n",
       "      <th>caloric</th>\n",
       "      <th>day</th>\n",
       "      <th>desc_text</th>\n",
       "      <th>food_type</th>\n",
       "      <th>local_time</th>\n",
       "      <th>original_logtime</th>\n",
       "      <th>original_logtime_notz</th>\n",
       "      <th>participant</th>\n",
       "      <th>study</th>\n",
       "      <th>time</th>\n",
       "      <th>tz</th>\n",
       "      <th>ID</th>\n",
       "      <th>parsed</th>\n",
       "    </tr>\n",
       "  </thead>\n",
       "  <tbody>\n",
       "    <tr>\n",
       "      <th>0</th>\n",
       "      <td>9bbi18050004</td>\n",
       "      <td>1</td>\n",
       "      <td>2018-07-18</td>\n",
       "      <td>kind bar &amp;&amp; coffee</td>\n",
       "      <td>f</td>\n",
       "      <td>9.583333</td>\n",
       "      <td>07-18-2018 09:35AM PDT</td>\n",
       "      <td>2018-07-18 09:35:00</td>\n",
       "      <td>Hero-001</td>\n",
       "      <td>TRE</td>\n",
       "      <td>09:35:00</td>\n",
       "      <td>PDT</td>\n",
       "      <td>0</td>\n",
       "      <td>[(kind bar, f), (coffee, b)]</td>\n",
       "    </tr>\n",
       "    <tr>\n",
       "      <th>1</th>\n",
       "      <td>9bbi18050004</td>\n",
       "      <td>1</td>\n",
       "      <td>2018-06-07</td>\n",
       "      <td>banana &amp;&amp; coffee</td>\n",
       "      <td>f</td>\n",
       "      <td>9.050000</td>\n",
       "      <td>06-07-2018 09:03AM PDT</td>\n",
       "      <td>2018-06-07 09:03:00</td>\n",
       "      <td>Hero-001</td>\n",
       "      <td>TRE</td>\n",
       "      <td>09:03:00</td>\n",
       "      <td>PDT</td>\n",
       "      <td>10</td>\n",
       "      <td>[(banana, f), (coffee, b)]</td>\n",
       "    </tr>\n",
       "  </tbody>\n",
       "</table>\n",
       "</div>"
      ],
      "text/plain": [
       "            PID  caloric        day           desc_text food_type  local_time  \\\n",
       "0  9bbi18050004        1 2018-07-18  kind bar && coffee         f    9.583333   \n",
       "1  9bbi18050004        1 2018-06-07    banana && coffee         f    9.050000   \n",
       "\n",
       "         original_logtime original_logtime_notz participant study      time  \\\n",
       "0  07-18-2018 09:35AM PDT   2018-07-18 09:35:00    Hero-001   TRE  09:35:00   \n",
       "1  06-07-2018 09:03AM PDT   2018-06-07 09:03:00    Hero-001   TRE  09:03:00   \n",
       "\n",
       "    tz  ID                        parsed  \n",
       "0  PDT   0  [(kind bar, f), (coffee, b)]  \n",
       "1  PDT  10    [(banana, f), (coffee, b)]  "
      ]
     },
     "execution_count": 40,
     "metadata": {},
     "output_type": "execute_result"
    }
   ],
   "source": [
    "coffee_spot.head(2)"
   ]
  },
  {
   "cell_type": "code",
   "execution_count": 125,
   "metadata": {},
   "outputs": [],
   "source": [
    "coffee_spot.to_csv(result_dir + 'coffee_events.csv', index = False)"
   ]
  },
  {
   "cell_type": "code",
   "execution_count": null,
   "metadata": {},
   "outputs": [],
   "source": []
  },
  {
   "cell_type": "code",
   "execution_count": null,
   "metadata": {},
   "outputs": [],
   "source": [
    "food_dict = defaultdict(lambda : 0)\n",
    "food_type_dict = defaultdict(lambda : 0)\n",
    "\n",
    "coffee_backsearch_result = backward_search('coffee')\n",
    "\n",
    "\n",
    "for i in range(coffee_spot.shape[0]):\n",
    "    food_lst = coffee_spot.parsed.values[i]\n",
    "    for pair in food_lst:\n",
    "        if pair[0] not in coffee_backsearch_result:\n",
    "            food_dict[pair[0]] += 1\n",
    "            food_type_dict[pair[1]] += 1"
   ]
  },
  {
   "cell_type": "code",
   "execution_count": null,
   "metadata": {},
   "outputs": [],
   "source": [
    "food_count_lst = []\n",
    "for pair in dict(food_dict).items():\n",
    "    food_count_lst.append({\n",
    "        'food': pair[0],\n",
    "        'count': pair[1]\n",
    "    })\n",
    "food_count_df = pd.DataFrame(food_count_lst).sort_values(by = 'count', ascending = False).reset_index(drop = True)\n",
    "food_count_df"
   ]
  },
  {
   "cell_type": "markdown",
   "metadata": {},
   "source": [
    "## Deploy on alcohol example"
   ]
  },
  {
   "cell_type": "code",
   "execution_count": 127,
   "metadata": {},
   "outputs": [],
   "source": [
    "alcohol_found = list(search(parsed_encoded_arrays, 'alcohol', np.array(range(len(parsed_encoded_arrays)))))\n",
    "alcohol_found = list(set(alcohol_found))\n",
    "alcohol_spot = sample_df.reset_index(drop = True).loc[list(alcohol_found)].reset_index(drop = True)"
   ]
  },
  {
   "cell_type": "code",
   "execution_count": 128,
   "metadata": {},
   "outputs": [
    {
     "data": {
      "text/plain": [
       "(6636, 14)"
      ]
     },
     "execution_count": 128,
     "metadata": {},
     "output_type": "execute_result"
    }
   ],
   "source": [
    "alcohol_spot.shape"
   ]
  },
  {
   "cell_type": "code",
   "execution_count": 130,
   "metadata": {},
   "outputs": [],
   "source": [
    "# alcohol_spot"
   ]
  },
  {
   "cell_type": "code",
   "execution_count": 131,
   "metadata": {},
   "outputs": [],
   "source": [
    "alcohol_spot.to_csv(result_dir + 'alcohol_events.csv', index = False)"
   ]
  },
  {
   "cell_type": "code",
   "execution_count": 44,
   "metadata": {},
   "outputs": [],
   "source": [
    "# food_count_df.to_csv('food_count_df.csv', index = False)"
   ]
  },
  {
   "cell_type": "code",
   "execution_count": 45,
   "metadata": {},
   "outputs": [],
   "source": [
    "# sample_df.to_csv('sample_df.csv', index = False)"
   ]
  },
  {
   "cell_type": "code",
   "execution_count": 46,
   "metadata": {},
   "outputs": [],
   "source": []
  },
  {
   "cell_type": "code",
   "execution_count": null,
   "metadata": {},
   "outputs": [],
   "source": []
  },
  {
   "cell_type": "code",
   "execution_count": null,
   "metadata": {},
   "outputs": [],
   "source": []
  },
  {
   "cell_type": "code",
   "execution_count": null,
   "metadata": {},
   "outputs": [],
   "source": []
  },
  {
   "cell_type": "code",
   "execution_count": null,
   "metadata": {},
   "outputs": [],
   "source": []
  },
  {
   "cell_type": "code",
   "execution_count": null,
   "metadata": {},
   "outputs": [],
   "source": []
  }
 ],
 "metadata": {
  "kernelspec": {
   "display_name": "Python 3",
   "language": "python",
   "name": "python3"
  },
  "language_info": {
   "codemirror_mode": {
    "name": "ipython",
    "version": 3
   },
   "file_extension": ".py",
   "mimetype": "text/x-python",
   "name": "python",
   "nbconvert_exporter": "python",
   "pygments_lexer": "ipython3",
   "version": "3.8.3"
  },
  "toc": {
   "base_numbering": 1,
   "nav_menu": {},
   "number_sections": true,
   "sideBar": true,
   "skip_h1_title": false,
   "title_cell": "Table of Contents",
   "title_sidebar": "Contents",
   "toc_cell": false,
   "toc_position": {
    "height": "calc(100% - 180px)",
    "left": "10px",
    "top": "150px",
    "width": "165px"
   },
   "toc_section_display": true,
   "toc_window_display": true
  }
 },
 "nbformat": 4,
 "nbformat_minor": 4
}
