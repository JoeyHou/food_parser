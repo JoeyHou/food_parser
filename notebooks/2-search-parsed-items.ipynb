{
 "cells": [
  {
   "cell_type": "code",
   "execution_count": 47,
   "metadata": {},
   "outputs": [],
   "source": [
    "import pandas as pd\n",
    "import numpy as np\n",
    "from scipy import stats\n",
    "import seaborn as sns\n",
    "import os\n",
    "import matplotlib.pyplot as plt\n",
    "import pickle\n",
    "from tqdm import tqdm \n",
    "from datetime import date \n",
    "from datetime import datetime\n",
    "from collections import defaultdict "
   ]
  },
  {
   "cell_type": "code",
   "execution_count": 48,
   "metadata": {},
   "outputs": [],
   "source": [
    "# from foodparser import foodparser"
   ]
  },
  {
   "cell_type": "code",
   "execution_count": 49,
   "metadata": {},
   "outputs": [],
   "source": [
    "# fp = foodparser.FoodParser()"
   ]
  },
  {
   "cell_type": "code",
   "execution_count": 3,
   "metadata": {},
   "outputs": [
    {
     "name": "stdout",
     "output_type": "stream",
     "text": [
      "The autoreload extension is already loaded. To reload it, use:\n",
      "  %reload_ext autoreload\n"
     ]
    }
   ],
   "source": [
    "# !pip install pyspellchecker\n",
    "\n",
    "%load_ext autoreload\n",
    "%autoreload 2\n",
    "\n",
    "# %run '/content/drive/My Drive/Colab Data/public_app_analysis/utils/publicAnalysisHelper.py'\n",
    "# %run ../utils/publicAnalysisHelper.py\n",
    "# %run ../food_parser/food_parser.py"
   ]
  },
  {
   "cell_type": "code",
   "execution_count": 51,
   "metadata": {},
   "outputs": [],
   "source": [
    "# from google.colab import drive\n",
    "# drive.mount('/content/drive')\n",
    "file_dir = '../'\n",
    "\n",
    "data_dir = file_dir + 'data/'\n",
    "result_dir = file_dir + 'results/'"
   ]
  },
  {
   "cell_type": "code",
   "execution_count": null,
   "metadata": {},
   "outputs": [],
   "source": []
  },
  {
   "cell_type": "code",
   "execution_count": 52,
   "metadata": {},
   "outputs": [
    {
     "data": {
      "text/plain": [
       "(['espresso'], 1, 0, [])"
      ]
     },
     "execution_count": 52,
     "metadata": {},
     "output_type": "execute_result"
    }
   ],
   "source": [
    "fp = FoodParser()\n",
    "\n",
    "fp.parse_food('Espresso', return_sentence_tag = True)"
   ]
  },
  {
   "cell_type": "code",
   "execution_count": null,
   "metadata": {},
   "outputs": [],
   "source": []
  },
  {
   "cell_type": "markdown",
   "metadata": {},
   "source": [
    "# Merge combine_df files"
   ]
  },
  {
   "cell_type": "code",
   "execution_count": 6,
   "metadata": {},
   "outputs": [],
   "source": [
    "# gram_set = pd.read_csv('../food_parser/final_database/gram_set.csv')\n",
    "# gram_tag = pd.read_csv('../food_parser/final_database/gram_tag.csv')\n",
    "# gram_set.shape, gram_tag.shape"
   ]
  },
  {
   "cell_type": "code",
   "execution_count": 7,
   "metadata": {},
   "outputs": [],
   "source": [
    "# gram_set.drop(columns = ['gram_type']).merge(gram_tag, on = 'gram_key', how = 'outer')\\\n",
    "#     .to_csv('../food_parser/final_database/combined_gram_set.csv', index = False)"
   ]
  },
  {
   "cell_type": "code",
   "execution_count": 8,
   "metadata": {},
   "outputs": [],
   "source": [
    "# gram_tag.drop(columns = ['gram_type']).merge(gram_set, on = 'gram_key')"
   ]
  },
  {
   "cell_type": "code",
   "execution_count": null,
   "metadata": {},
   "outputs": [],
   "source": []
  },
  {
   "cell_type": "markdown",
   "metadata": {},
   "source": [
    "# Load a sample of data"
   ]
  },
  {
   "cell_type": "code",
   "execution_count": 9,
   "metadata": {},
   "outputs": [
    {
     "data": {
      "text/html": [
       "<div>\n",
       "<style scoped>\n",
       "    .dataframe tbody tr th:only-of-type {\n",
       "        vertical-align: middle;\n",
       "    }\n",
       "\n",
       "    .dataframe tbody tr th {\n",
       "        vertical-align: top;\n",
       "    }\n",
       "\n",
       "    .dataframe thead th {\n",
       "        text-align: right;\n",
       "    }\n",
       "</style>\n",
       "<table border=\"1\" class=\"dataframe\">\n",
       "  <thead>\n",
       "    <tr style=\"text-align: right;\">\n",
       "      <th></th>\n",
       "      <th>PID</th>\n",
       "      <th>caloric</th>\n",
       "      <th>day</th>\n",
       "      <th>desc_text</th>\n",
       "      <th>food_type</th>\n",
       "      <th>local_time</th>\n",
       "      <th>original_logtime</th>\n",
       "      <th>original_logtime_notz</th>\n",
       "      <th>participant</th>\n",
       "      <th>study</th>\n",
       "      <th>time</th>\n",
       "      <th>tz</th>\n",
       "    </tr>\n",
       "  </thead>\n",
       "  <tbody>\n",
       "    <tr>\n",
       "      <th>1</th>\n",
       "      <td>9bbi18050004</td>\n",
       "      <td>1</td>\n",
       "      <td>2018-07-18</td>\n",
       "      <td>kind bar &amp;&amp; coffee</td>\n",
       "      <td>f</td>\n",
       "      <td>9.583333</td>\n",
       "      <td>07-18-2018 09:35AM PDT</td>\n",
       "      <td>2018-07-18 09:35:00</td>\n",
       "      <td>Hero-001</td>\n",
       "      <td>TRE</td>\n",
       "      <td>09:35:00</td>\n",
       "      <td>PDT</td>\n",
       "    </tr>\n",
       "    <tr>\n",
       "      <th>2</th>\n",
       "      <td>9bbi18050004</td>\n",
       "      <td>1</td>\n",
       "      <td>2018-06-24</td>\n",
       "      <td>potatoe</td>\n",
       "      <td>f</td>\n",
       "      <td>19.116667</td>\n",
       "      <td>06-24-2018 07:07PM PDT</td>\n",
       "      <td>2018-06-24 19:07:00</td>\n",
       "      <td>Hero-001</td>\n",
       "      <td>TRE</td>\n",
       "      <td>19:07:00</td>\n",
       "      <td>PDT</td>\n",
       "    </tr>\n",
       "  </tbody>\n",
       "</table>\n",
       "</div>"
      ],
      "text/plain": [
       "            PID  caloric        day           desc_text food_type  local_time  \\\n",
       "1  9bbi18050004        1 2018-07-18  kind bar && coffee         f    9.583333   \n",
       "2  9bbi18050004        1 2018-06-24             potatoe         f   19.116667   \n",
       "\n",
       "         original_logtime original_logtime_notz participant study      time  \\\n",
       "1  07-18-2018 09:35AM PDT   2018-07-18 09:35:00    Hero-001   TRE  09:35:00   \n",
       "2  06-24-2018 07:07PM PDT   2018-06-24 19:07:00    Hero-001   TRE  19:07:00   \n",
       "\n",
       "    tz  \n",
       "1  PDT  \n",
       "2  PDT  "
      ]
     },
     "execution_count": 9,
     "metadata": {},
     "output_type": "execute_result"
    }
   ],
   "source": [
    "ff_sample_pickle_file = open(data_dir + 'fire_fighter/FFFoodData_Unique_Time_All_Aug2020.pickle', 'rb')\n",
    "ff_sample = pickle.load(ff_sample_pickle_file).head(100000)\n",
    "ff_sample.head(2)"
   ]
  },
  {
   "cell_type": "code",
   "execution_count": null,
   "metadata": {},
   "outputs": [],
   "source": []
  },
  {
   "cell_type": "code",
   "execution_count": 10,
   "metadata": {},
   "outputs": [
    {
     "data": {
      "text/plain": [
       "True"
      ]
     },
     "execution_count": 10,
     "metadata": {},
     "output_type": "execute_result"
    }
   ],
   "source": [
    "fp = FoodParser()\n",
    "\n",
    "# fp.all_gram_set[0].add('yoghurt')\n",
    "\n",
    "'yoghurt' in fp.all_gram_set[0]"
   ]
  },
  {
   "cell_type": "code",
   "execution_count": 11,
   "metadata": {},
   "outputs": [
    {
     "name": "stderr",
     "output_type": "stream",
     "text": [
      "100%|██████████| 100000/100000 [08:01<00:00, 207.88it/s]\n"
     ]
    }
   ],
   "source": [
    "sample_df = ff_sample\n",
    "if 'ID' not in sample_df:\n",
    "    sample_df['ID'] = range(sample_df.shape[0])\n",
    "\n",
    "total_unknown = 0\n",
    "total_token = 0\n",
    "parsed = []\n",
    "total_unknown_tokens = []\n",
    "for i in tqdm(range(sample_df.shape[0])):\n",
    "    entry = sample_df.iloc[i].desc_text\n",
    "    result, num_token, num_unknown, unknown_tokens = fp.parse_food(entry, return_sentence_tag = True)\n",
    "    result = [(f, fp.find_food_type(f)) for f in result]\n",
    "    parsed.append(result)\n",
    "    total_token += num_token\n",
    "    total_unknown += num_unknown\n",
    "    total_unknown_tokens += unknown_tokens"
   ]
  },
  {
   "cell_type": "markdown",
   "metadata": {
    "scrolled": true
   },
   "source": [
    "- parsed"
   ]
  },
  {
   "cell_type": "code",
   "execution_count": 12,
   "metadata": {},
   "outputs": [],
   "source": [
    "sample_df['parsed'] = parsed"
   ]
  },
  {
   "cell_type": "markdown",
   "metadata": {},
   "source": [
    "# Build search functions"
   ]
  },
  {
   "cell_type": "markdown",
   "metadata": {},
   "source": [
    "## Look-up-dict"
   ]
  },
  {
   "cell_type": "code",
   "execution_count": 14,
   "metadata": {},
   "outputs": [
    {
     "data": {
      "text/html": [
       "<div>\n",
       "<style scoped>\n",
       "    .dataframe tbody tr th:only-of-type {\n",
       "        vertical-align: middle;\n",
       "    }\n",
       "\n",
       "    .dataframe tbody tr th {\n",
       "        vertical-align: top;\n",
       "    }\n",
       "\n",
       "    .dataframe thead th {\n",
       "        text-align: right;\n",
       "    }\n",
       "</style>\n",
       "<table border=\"1\" class=\"dataframe\">\n",
       "  <thead>\n",
       "    <tr style=\"text-align: right;\">\n",
       "      <th></th>\n",
       "      <th>gram_type</th>\n",
       "      <th>food_type</th>\n",
       "      <th>gram_key</th>\n",
       "      <th>tag1</th>\n",
       "      <th>tag2</th>\n",
       "      <th>tag3</th>\n",
       "      <th>tag4</th>\n",
       "    </tr>\n",
       "  </thead>\n",
       "  <tbody>\n",
       "    <tr>\n",
       "      <th>0</th>\n",
       "      <td>1</td>\n",
       "      <td>f</td>\n",
       "      <td>chilli</td>\n",
       "      <td>empty</td>\n",
       "      <td>empty</td>\n",
       "      <td>empty</td>\n",
       "      <td>empty</td>\n",
       "    </tr>\n",
       "    <tr>\n",
       "      <th>1</th>\n",
       "      <td>1</td>\n",
       "      <td>f</td>\n",
       "      <td>chile</td>\n",
       "      <td>empty</td>\n",
       "      <td>empty</td>\n",
       "      <td>empty</td>\n",
       "      <td>empty</td>\n",
       "    </tr>\n",
       "    <tr>\n",
       "      <th>2</th>\n",
       "      <td>1</td>\n",
       "      <td>f</td>\n",
       "      <td>quinoa</td>\n",
       "      <td>empty</td>\n",
       "      <td>empty</td>\n",
       "      <td>empty</td>\n",
       "      <td>empty</td>\n",
       "    </tr>\n",
       "    <tr>\n",
       "      <th>3</th>\n",
       "      <td>1</td>\n",
       "      <td>m</td>\n",
       "      <td>magnesium</td>\n",
       "      <td>??</td>\n",
       "      <td>empty</td>\n",
       "      <td>empty</td>\n",
       "      <td>empty</td>\n",
       "    </tr>\n",
       "    <tr>\n",
       "      <th>4</th>\n",
       "      <td>1</td>\n",
       "      <td>m</td>\n",
       "      <td>multivitamin</td>\n",
       "      <td>empty</td>\n",
       "      <td>empty</td>\n",
       "      <td>empty</td>\n",
       "      <td>empty</td>\n",
       "    </tr>\n",
       "  </tbody>\n",
       "</table>\n",
       "</div>"
      ],
      "text/plain": [
       "   gram_type food_type      gram_key   tag1   tag2   tag3   tag4\n",
       "0          1         f        chilli  empty  empty  empty  empty\n",
       "1          1         f         chile  empty  empty  empty  empty\n",
       "2          1         f        quinoa  empty  empty  empty  empty\n",
       "3          1         m     magnesium     ??  empty  empty  empty\n",
       "4          1         m  multivitamin  empty  empty  empty  empty"
      ]
     },
     "execution_count": 14,
     "metadata": {},
     "output_type": "execute_result"
    }
   ],
   "source": [
    "gram_tag_df = pd.read_csv('../food_parser/final_database/combined_gram_set.csv').fillna('empty')\\\n",
    "    [['gram_type', 'food_type', 'gram_key', 'tag1', 'tag2', 'tag3', 'tag4']]\n",
    "gram_tag_df.head()"
   ]
  },
  {
   "cell_type": "code",
   "execution_count": null,
   "metadata": {},
   "outputs": [],
   "source": []
  },
  {
   "cell_type": "code",
   "execution_count": 15,
   "metadata": {},
   "outputs": [],
   "source": [
    "def basic_clean(s):\n",
    "    tmp_s = s.lower().replace('?', '')\n",
    "    if len(tmp_s) == 0:\n",
    "        return 'empty'\n",
    "    else:\n",
    "        return tmp_s\n",
    "gram_tag_df.tag1 = gram_tag_df.tag1.apply(basic_clean)\n",
    "gram_tag_df.tag2 = gram_tag_df.tag2.apply(basic_clean)\n",
    "gram_tag_df.tag3 = gram_tag_df.tag3.apply(basic_clean)"
   ]
  },
  {
   "cell_type": "code",
   "execution_count": 16,
   "metadata": {},
   "outputs": [
    {
     "data": {
      "text/html": [
       "<div>\n",
       "<style scoped>\n",
       "    .dataframe tbody tr th:only-of-type {\n",
       "        vertical-align: middle;\n",
       "    }\n",
       "\n",
       "    .dataframe tbody tr th {\n",
       "        vertical-align: top;\n",
       "    }\n",
       "\n",
       "    .dataframe thead th {\n",
       "        text-align: right;\n",
       "    }\n",
       "</style>\n",
       "<table border=\"1\" class=\"dataframe\">\n",
       "  <thead>\n",
       "    <tr style=\"text-align: right;\">\n",
       "      <th></th>\n",
       "      <th>gram_type</th>\n",
       "      <th>food_type</th>\n",
       "      <th>gram_key</th>\n",
       "      <th>tag1</th>\n",
       "      <th>tag2</th>\n",
       "      <th>tag3</th>\n",
       "      <th>tag4</th>\n",
       "    </tr>\n",
       "  </thead>\n",
       "  <tbody>\n",
       "    <tr>\n",
       "      <th>0</th>\n",
       "      <td>1</td>\n",
       "      <td>f</td>\n",
       "      <td>chilli</td>\n",
       "      <td>empty</td>\n",
       "      <td>empty</td>\n",
       "      <td>empty</td>\n",
       "      <td>empty</td>\n",
       "    </tr>\n",
       "    <tr>\n",
       "      <th>1</th>\n",
       "      <td>1</td>\n",
       "      <td>f</td>\n",
       "      <td>chile</td>\n",
       "      <td>empty</td>\n",
       "      <td>empty</td>\n",
       "      <td>empty</td>\n",
       "      <td>empty</td>\n",
       "    </tr>\n",
       "    <tr>\n",
       "      <th>2</th>\n",
       "      <td>1</td>\n",
       "      <td>f</td>\n",
       "      <td>quinoa</td>\n",
       "      <td>empty</td>\n",
       "      <td>empty</td>\n",
       "      <td>empty</td>\n",
       "      <td>empty</td>\n",
       "    </tr>\n",
       "    <tr>\n",
       "      <th>3</th>\n",
       "      <td>1</td>\n",
       "      <td>m</td>\n",
       "      <td>magnesium</td>\n",
       "      <td>empty</td>\n",
       "      <td>empty</td>\n",
       "      <td>empty</td>\n",
       "      <td>empty</td>\n",
       "    </tr>\n",
       "    <tr>\n",
       "      <th>4</th>\n",
       "      <td>1</td>\n",
       "      <td>m</td>\n",
       "      <td>multivitamin</td>\n",
       "      <td>empty</td>\n",
       "      <td>empty</td>\n",
       "      <td>empty</td>\n",
       "      <td>empty</td>\n",
       "    </tr>\n",
       "  </tbody>\n",
       "</table>\n",
       "</div>"
      ],
      "text/plain": [
       "   gram_type food_type      gram_key   tag1   tag2   tag3   tag4\n",
       "0          1         f        chilli  empty  empty  empty  empty\n",
       "1          1         f         chile  empty  empty  empty  empty\n",
       "2          1         f        quinoa  empty  empty  empty  empty\n",
       "3          1         m     magnesium  empty  empty  empty  empty\n",
       "4          1         m  multivitamin  empty  empty  empty  empty"
      ]
     },
     "execution_count": 16,
     "metadata": {},
     "output_type": "execute_result"
    }
   ],
   "source": [
    "gram_tag_df.head()"
   ]
  },
  {
   "cell_type": "code",
   "execution_count": null,
   "metadata": {},
   "outputs": [],
   "source": []
  },
  {
   "cell_type": "code",
   "execution_count": 17,
   "metadata": {},
   "outputs": [],
   "source": [
    "look_up_dict = {}\n",
    "for row_i in range(gram_tag_df.shape[0]):\n",
    "    tmp_lst = []\n",
    "    for item in gram_tag_df.iloc[row_i].values[2:]:\n",
    "        if item == 'empty':\n",
    "            break\n",
    "        tmp_lst.append(item)\n",
    "    look_up_dict[tmp_lst[0]] = tmp_lst"
   ]
  },
  {
   "cell_type": "code",
   "execution_count": 18,
   "metadata": {},
   "outputs": [
    {
     "data": {
      "text/plain": [
       "array([1, 'f', 'chilli', 'empty', 'empty', 'empty', 'empty'], dtype=object)"
      ]
     },
     "execution_count": 18,
     "metadata": {},
     "output_type": "execute_result"
    }
   ],
   "source": [
    "gram_tag_df.iloc[0].values"
   ]
  },
  {
   "cell_type": "code",
   "execution_count": 19,
   "metadata": {},
   "outputs": [
    {
     "data": {
      "text/plain": [
       "[('chilli', ['chilli']), ('chile', ['chile']), ('quinoa', ['quinoa'])]"
      ]
     },
     "execution_count": 19,
     "metadata": {},
     "output_type": "execute_result"
    }
   ],
   "source": [
    "[i for i in list(look_up_dict.items())[:3]]"
   ]
  },
  {
   "cell_type": "markdown",
   "metadata": {},
   "source": [
    "## One-hot-dict"
   ]
  },
  {
   "cell_type": "code",
   "execution_count": 20,
   "metadata": {},
   "outputs": [],
   "source": [
    "counter = 0\n",
    "idx_to_tag = {}\n",
    "tag_to_idx = {}\n",
    "for key in look_up_dict.keys():\n",
    "    for tag in look_up_dict[key]:\n",
    "        if tag not in tag_to_idx.keys():\n",
    "            idx_to_tag[counter] = tag\n",
    "            tag_to_idx[tag] = counter\n",
    "            counter += 1"
   ]
  },
  {
   "cell_type": "code",
   "execution_count": 21,
   "metadata": {},
   "outputs": [],
   "source": [
    "all_tag_arr = np.array(list(tag_to_idx.keys()))"
   ]
  },
  {
   "cell_type": "code",
   "execution_count": 22,
   "metadata": {},
   "outputs": [
    {
     "data": {
      "text/plain": [
       "[[('kind bar', 'f'), ('coffee', 'b')],\n",
       " [('potato', 'f')],\n",
       " [('egg', 'f'), ('sausage', 'f')]]"
      ]
     },
     "execution_count": 22,
     "metadata": {},
     "output_type": "execute_result"
    }
   ],
   "source": [
    "parsed[:3] # This is the array we need to analysis"
   ]
  },
  {
   "cell_type": "code",
   "execution_count": 23,
   "metadata": {},
   "outputs": [],
   "source": [
    "vec_size = counter\n",
    "def encode_single_item(item):\n",
    "    tags = look_up_dict[item]\n",
    "    return [tag_to_idx[t] for t in tags]\n",
    "\n",
    "def encode_single_parsed_entry(result_lst):\n",
    "    encoded_arr = np.array([0] * vec_size)\n",
    "    for pair in result_lst:\n",
    "        item = pair[0]\n",
    "        encoded_arr[encode_single_item(item)] = 1\n",
    "    return encoded_arr\n",
    "\n",
    "def decode_item_arr(arr):\n",
    "    return all_tag_arr[arr == 1]\n",
    "\n",
    "def find_str_contain(df, s):\n",
    "    return df.loc[df.desc_text.apply(lambda x: s in x)].reset_index(drop = True)"
   ]
  },
  {
   "cell_type": "code",
   "execution_count": 24,
   "metadata": {},
   "outputs": [
    {
     "data": {
      "text/plain": [
       "981"
      ]
     },
     "execution_count": 24,
     "metadata": {},
     "output_type": "execute_result"
    }
   ],
   "source": [
    "vec_size"
   ]
  },
  {
   "cell_type": "code",
   "execution_count": 25,
   "metadata": {},
   "outputs": [],
   "source": [
    "parsed_encoded_arrays = []\n",
    "parsed_tagged_text = []\n",
    "for p in parsed:\n",
    "    encoded_arr = encode_single_parsed_entry(p)\n",
    "    parsed_encoded_arrays.append(encoded_arr)\n",
    "    parsed_tagged_text.append(decode_item_arr(encoded_arr))\n",
    "\n",
    "parsed_encoded_arrays = np.array(parsed_encoded_arrays)"
   ]
  },
  {
   "cell_type": "code",
   "execution_count": 26,
   "metadata": {},
   "outputs": [
    {
     "data": {
      "text/plain": [
       "[array(['coffee', 'kind bar'], dtype='<U39'),\n",
       " array(['potato'], dtype='<U39'),\n",
       " array(['sausage', 'egg'], dtype='<U39'),\n",
       " array(['kind bar'], dtype='<U39'),\n",
       " array(['salad', 'chicken pot pie'], dtype='<U39'),\n",
       " array(['potato', 'steak'], dtype='<U39'),\n",
       " array(['sausage'], dtype='<U39'),\n",
       " array(['avocado', 'salad'], dtype='<U39'),\n",
       " array(['cake', 'yogurt', 'pancake', 'blueberry'], dtype='<U39'),\n",
       " array(['fruit', 'yogurt', 'apple'], dtype='<U39'),\n",
       " array(['coffee', 'banana'], dtype='<U39'),\n",
       " array(['elk', 'baked bean'], dtype='<U39'),\n",
       " array(['kind bar'], dtype='<U39'),\n",
       " array(['avocado', 'burrito'], dtype='<U39'),\n",
       " array(['pizza'], dtype='<U39')]"
      ]
     },
     "execution_count": 26,
     "metadata": {},
     "output_type": "execute_result"
    }
   ],
   "source": [
    "parsed_tagged_text[:15]"
   ]
  },
  {
   "cell_type": "code",
   "execution_count": 27,
   "metadata": {
    "scrolled": true
   },
   "outputs": [],
   "source": [
    "# encode_single_item('fish taco')"
   ]
  },
  {
   "cell_type": "code",
   "execution_count": 28,
   "metadata": {},
   "outputs": [
    {
     "data": {
      "text/plain": [
       "(100000, 981)"
      ]
     },
     "execution_count": 28,
     "metadata": {},
     "output_type": "execute_result"
    }
   ],
   "source": [
    "parsed_encoded_arrays.shape"
   ]
  },
  {
   "cell_type": "code",
   "execution_count": 29,
   "metadata": {},
   "outputs": [
    {
     "data": {
      "text/plain": [
       "(100000,)"
      ]
     },
     "execution_count": 29,
     "metadata": {},
     "output_type": "execute_result"
    }
   ],
   "source": [
    "parsed_encoded_arrays[:, 1].shape"
   ]
  },
  {
   "cell_type": "code",
   "execution_count": 30,
   "metadata": {},
   "outputs": [
    {
     "data": {
      "text/plain": [
       "(100000, 14)"
      ]
     },
     "execution_count": 30,
     "metadata": {},
     "output_type": "execute_result"
    }
   ],
   "source": [
    "sample_df.shape"
   ]
  },
  {
   "cell_type": "code",
   "execution_count": 31,
   "metadata": {},
   "outputs": [
    {
     "data": {
      "text/plain": [
       "100000"
      ]
     },
     "execution_count": 31,
     "metadata": {},
     "output_type": "execute_result"
    }
   ],
   "source": [
    "len(parsed)"
   ]
  },
  {
   "cell_type": "code",
   "execution_count": 32,
   "metadata": {},
   "outputs": [],
   "source": [
    "def search(encoded_arr, tag, id_lst):\n",
    "    idx = tag_to_idx[tag]\n",
    "    selected_entry_spots = id_lst[encoded_arr[:, idx] != 0]\n",
    "    return selected_entry_spots\n",
    "\n",
    "def backward_search(tag):    \n",
    "    return [k for k in look_up_dict.keys() if tag in look_up_dict[k]]"
   ]
  },
  {
   "cell_type": "code",
   "execution_count": 33,
   "metadata": {},
   "outputs": [
    {
     "data": {
      "text/plain": [
       "['mocha', 'latte', 'cappuccino']"
      ]
     },
     "execution_count": 33,
     "metadata": {},
     "output_type": "execute_result"
    }
   ],
   "source": [
    "backward_search('coffee')[:3]"
   ]
  },
  {
   "cell_type": "markdown",
   "metadata": {},
   "source": [
    "## Deploy on Coffee example"
   ]
  },
  {
   "cell_type": "code",
   "execution_count": 34,
   "metadata": {},
   "outputs": [],
   "source": [
    "coffee_found = search(parsed_encoded_arrays, 'coffee', np.array(range(100000)))\n",
    "coffee_spot = sample_df.reset_index(drop = True).loc[list(coffee_found)].reset_index(drop = True)"
   ]
  },
  {
   "cell_type": "code",
   "execution_count": 35,
   "metadata": {},
   "outputs": [
    {
     "data": {
      "text/plain": [
       "(8833, 14)"
      ]
     },
     "execution_count": 35,
     "metadata": {},
     "output_type": "execute_result"
    }
   ],
   "source": [
    "coffee_spot.shape"
   ]
  },
  {
   "cell_type": "code",
   "execution_count": 36,
   "metadata": {},
   "outputs": [
    {
     "data": {
      "text/html": [
       "<div>\n",
       "<style scoped>\n",
       "    .dataframe tbody tr th:only-of-type {\n",
       "        vertical-align: middle;\n",
       "    }\n",
       "\n",
       "    .dataframe tbody tr th {\n",
       "        vertical-align: top;\n",
       "    }\n",
       "\n",
       "    .dataframe thead th {\n",
       "        text-align: right;\n",
       "    }\n",
       "</style>\n",
       "<table border=\"1\" class=\"dataframe\">\n",
       "  <thead>\n",
       "    <tr style=\"text-align: right;\">\n",
       "      <th></th>\n",
       "      <th>PID</th>\n",
       "      <th>caloric</th>\n",
       "      <th>day</th>\n",
       "      <th>desc_text</th>\n",
       "      <th>food_type</th>\n",
       "      <th>local_time</th>\n",
       "      <th>original_logtime</th>\n",
       "      <th>original_logtime_notz</th>\n",
       "      <th>participant</th>\n",
       "      <th>study</th>\n",
       "      <th>time</th>\n",
       "      <th>tz</th>\n",
       "      <th>ID</th>\n",
       "      <th>parsed</th>\n",
       "    </tr>\n",
       "  </thead>\n",
       "  <tbody>\n",
       "    <tr>\n",
       "      <th>0</th>\n",
       "      <td>9bbi18060029</td>\n",
       "      <td>1</td>\n",
       "      <td>2018-07-17</td>\n",
       "      <td>espresso</td>\n",
       "      <td>b</td>\n",
       "      <td>14.750000</td>\n",
       "      <td>07-17-2018 02:45PM GMT-07:00</td>\n",
       "      <td>2018-07-17 14:45:00</td>\n",
       "      <td>Hero-016</td>\n",
       "      <td>TRE</td>\n",
       "      <td>14:45:00</td>\n",
       "      <td>GMT-07:00</td>\n",
       "      <td>12326</td>\n",
       "      <td>[(espresso, b)]</td>\n",
       "    </tr>\n",
       "    <tr>\n",
       "      <th>1</th>\n",
       "      <td>9bbi18070041</td>\n",
       "      <td>1</td>\n",
       "      <td>2019-03-22</td>\n",
       "      <td>coconut pb perfect bar &amp;&amp; triple espresso, alm...</td>\n",
       "      <td>f</td>\n",
       "      <td>8.050000</td>\n",
       "      <td>03-22-2019 08:03AM EDT</td>\n",
       "      <td>2019-03-22 08:03:00</td>\n",
       "      <td>Hero-028</td>\n",
       "      <td>TRE</td>\n",
       "      <td>08:03:00</td>\n",
       "      <td>EDT</td>\n",
       "      <td>20579</td>\n",
       "      <td>[(coconut peanut butter bar, f), (espresso, b)...</td>\n",
       "    </tr>\n",
       "    <tr>\n",
       "      <th>2</th>\n",
       "      <td>9bbi18070041</td>\n",
       "      <td>1</td>\n",
       "      <td>2019-01-29</td>\n",
       "      <td>breakfast burrito &amp;&amp; whip cream, triple espresso</td>\n",
       "      <td>f</td>\n",
       "      <td>9.250000</td>\n",
       "      <td>01-29-2019 09:15AM PST</td>\n",
       "      <td>2019-01-29 09:15:00</td>\n",
       "      <td>Hero-028</td>\n",
       "      <td>TRE</td>\n",
       "      <td>09:15:00</td>\n",
       "      <td>PST</td>\n",
       "      <td>21315</td>\n",
       "      <td>[(breakfast burrito, f), (cream, b), (espresso...</td>\n",
       "    </tr>\n",
       "    <tr>\n",
       "      <th>3</th>\n",
       "      <td>9bbi18070041</td>\n",
       "      <td>1</td>\n",
       "      <td>2019-03-22</td>\n",
       "      <td>triple espresso, almond milk 2 oz</td>\n",
       "      <td>b</td>\n",
       "      <td>11.566667</td>\n",
       "      <td>03-22-2019 11:34AM EDT</td>\n",
       "      <td>2019-03-22 11:34:00</td>\n",
       "      <td>Hero-028</td>\n",
       "      <td>TRE</td>\n",
       "      <td>11:34:00</td>\n",
       "      <td>EDT</td>\n",
       "      <td>21788</td>\n",
       "      <td>[(espresso, b), (almond milk, b)]</td>\n",
       "    </tr>\n",
       "    <tr>\n",
       "      <th>4</th>\n",
       "      <td>9bbi18070041</td>\n",
       "      <td>1</td>\n",
       "      <td>2019-05-22</td>\n",
       "      <td>double espresso, almond milk 2 oz</td>\n",
       "      <td>b</td>\n",
       "      <td>14.000000</td>\n",
       "      <td>05-22-2019 02:00PM PDT</td>\n",
       "      <td>2019-05-22 14:00:00</td>\n",
       "      <td>Hero-028</td>\n",
       "      <td>TRE</td>\n",
       "      <td>14:00:00</td>\n",
       "      <td>PDT</td>\n",
       "      <td>21793</td>\n",
       "      <td>[(espresso, b), (almond milk, b)]</td>\n",
       "    </tr>\n",
       "  </tbody>\n",
       "</table>\n",
       "</div>"
      ],
      "text/plain": [
       "            PID  caloric        day  \\\n",
       "0  9bbi18060029        1 2018-07-17   \n",
       "1  9bbi18070041        1 2019-03-22   \n",
       "2  9bbi18070041        1 2019-01-29   \n",
       "3  9bbi18070041        1 2019-03-22   \n",
       "4  9bbi18070041        1 2019-05-22   \n",
       "\n",
       "                                           desc_text food_type  local_time  \\\n",
       "0                                           espresso         b   14.750000   \n",
       "1  coconut pb perfect bar && triple espresso, alm...         f    8.050000   \n",
       "2   breakfast burrito && whip cream, triple espresso         f    9.250000   \n",
       "3                  triple espresso, almond milk 2 oz         b   11.566667   \n",
       "4                  double espresso, almond milk 2 oz         b   14.000000   \n",
       "\n",
       "               original_logtime original_logtime_notz participant study  \\\n",
       "0  07-17-2018 02:45PM GMT-07:00   2018-07-17 14:45:00    Hero-016   TRE   \n",
       "1        03-22-2019 08:03AM EDT   2019-03-22 08:03:00    Hero-028   TRE   \n",
       "2        01-29-2019 09:15AM PST   2019-01-29 09:15:00    Hero-028   TRE   \n",
       "3        03-22-2019 11:34AM EDT   2019-03-22 11:34:00    Hero-028   TRE   \n",
       "4        05-22-2019 02:00PM PDT   2019-05-22 14:00:00    Hero-028   TRE   \n",
       "\n",
       "       time         tz     ID  \\\n",
       "0  14:45:00  GMT-07:00  12326   \n",
       "1  08:03:00        EDT  20579   \n",
       "2  09:15:00        PST  21315   \n",
       "3  11:34:00        EDT  21788   \n",
       "4  14:00:00        PDT  21793   \n",
       "\n",
       "                                              parsed  \n",
       "0                                    [(espresso, b)]  \n",
       "1  [(coconut peanut butter bar, f), (espresso, b)...  \n",
       "2  [(breakfast burrito, f), (cream, b), (espresso...  \n",
       "3                  [(espresso, b), (almond milk, b)]  \n",
       "4                  [(espresso, b), (almond milk, b)]  "
      ]
     },
     "execution_count": 36,
     "metadata": {},
     "output_type": "execute_result"
    }
   ],
   "source": [
    "find_str_contain(coffee_spot, 'espresso').head()"
   ]
  },
  {
   "cell_type": "code",
   "execution_count": 37,
   "metadata": {},
   "outputs": [],
   "source": [
    "# for k in list(look_up_dict.keys()):\n",
    "#     if 'coffee' in look_up_dict[k]:\n",
    "#         print(look_up_dict[k])"
   ]
  },
  {
   "cell_type": "code",
   "execution_count": 38,
   "metadata": {},
   "outputs": [
    {
     "data": {
      "text/html": [
       "<div>\n",
       "<style scoped>\n",
       "    .dataframe tbody tr th:only-of-type {\n",
       "        vertical-align: middle;\n",
       "    }\n",
       "\n",
       "    .dataframe tbody tr th {\n",
       "        vertical-align: top;\n",
       "    }\n",
       "\n",
       "    .dataframe thead th {\n",
       "        text-align: right;\n",
       "    }\n",
       "</style>\n",
       "<table border=\"1\" class=\"dataframe\">\n",
       "  <thead>\n",
       "    <tr style=\"text-align: right;\">\n",
       "      <th></th>\n",
       "      <th>PID</th>\n",
       "      <th>caloric</th>\n",
       "      <th>day</th>\n",
       "      <th>desc_text</th>\n",
       "      <th>food_type</th>\n",
       "      <th>local_time</th>\n",
       "      <th>original_logtime</th>\n",
       "      <th>original_logtime_notz</th>\n",
       "      <th>participant</th>\n",
       "      <th>study</th>\n",
       "      <th>time</th>\n",
       "      <th>tz</th>\n",
       "      <th>ID</th>\n",
       "      <th>parsed</th>\n",
       "    </tr>\n",
       "  </thead>\n",
       "  <tbody>\n",
       "    <tr>\n",
       "      <th>0</th>\n",
       "      <td>9bbi18050005</td>\n",
       "      <td>1</td>\n",
       "      <td>2018-06-05</td>\n",
       "      <td>iced vanilla latte</td>\n",
       "      <td>f</td>\n",
       "      <td>15.550000</td>\n",
       "      <td>06-05-2018 03:33PM PDT</td>\n",
       "      <td>2018-06-05 15:33:00</td>\n",
       "      <td>Hero-002</td>\n",
       "      <td>TRE</td>\n",
       "      <td>15:33:00</td>\n",
       "      <td>PDT</td>\n",
       "      <td>1379</td>\n",
       "      <td>[(vanilla, f)]</td>\n",
       "    </tr>\n",
       "    <tr>\n",
       "      <th>1</th>\n",
       "      <td>9bbi18060014</td>\n",
       "      <td>1</td>\n",
       "      <td>2018-06-30</td>\n",
       "      <td>cereal witb berries milk &amp;&amp; latte with 1 sugar...</td>\n",
       "      <td>f</td>\n",
       "      <td>8.483333</td>\n",
       "      <td>06-30-2018 08:29AM GMT-07:00</td>\n",
       "      <td>2018-06-30 08:29:00</td>\n",
       "      <td>Hero-007</td>\n",
       "      <td>SOC</td>\n",
       "      <td>08:29:00</td>\n",
       "      <td>GMT-07:00</td>\n",
       "      <td>4078</td>\n",
       "      <td>[(sugar syrup, b), (cereal, f), (berry, f), (m...</td>\n",
       "    </tr>\n",
       "    <tr>\n",
       "      <th>2</th>\n",
       "      <td>9bbi18060014</td>\n",
       "      <td>1</td>\n",
       "      <td>2018-07-20</td>\n",
       "      <td>cereal with berries and yogurt &amp;&amp; latte with 1...</td>\n",
       "      <td>f</td>\n",
       "      <td>8.166667</td>\n",
       "      <td>07-20-2018 08:10AM GMT-07:00</td>\n",
       "      <td>2018-07-20 08:10:00</td>\n",
       "      <td>Hero-007</td>\n",
       "      <td>SOC</td>\n",
       "      <td>08:10:00</td>\n",
       "      <td>GMT-07:00</td>\n",
       "      <td>4083</td>\n",
       "      <td>[(sugar syrup, b), (cereal, f), (berry, f), (y...</td>\n",
       "    </tr>\n",
       "    <tr>\n",
       "      <th>3</th>\n",
       "      <td>9bbi18060014</td>\n",
       "      <td>1</td>\n",
       "      <td>2018-07-08</td>\n",
       "      <td>cereal with berries and yogurt &amp;&amp; latte with 1...</td>\n",
       "      <td>f</td>\n",
       "      <td>7.350000</td>\n",
       "      <td>07-08-2018 07:21AM GMT-07:00</td>\n",
       "      <td>2018-07-08 07:21:00</td>\n",
       "      <td>Hero-007</td>\n",
       "      <td>SOC</td>\n",
       "      <td>07:21:00</td>\n",
       "      <td>GMT-07:00</td>\n",
       "      <td>4090</td>\n",
       "      <td>[(sugar syrup, b), (cereal, f), (berry, f), (y...</td>\n",
       "    </tr>\n",
       "    <tr>\n",
       "      <th>4</th>\n",
       "      <td>9bbi18060014</td>\n",
       "      <td>1</td>\n",
       "      <td>2018-08-04</td>\n",
       "      <td>cereal with berries and yogurt &amp;&amp; latte with 1...</td>\n",
       "      <td>f</td>\n",
       "      <td>7.200000</td>\n",
       "      <td>08-04-2018 07:12AM GMT-07:00</td>\n",
       "      <td>2018-08-04 07:12:00</td>\n",
       "      <td>Hero-007</td>\n",
       "      <td>SOC</td>\n",
       "      <td>07:12:00</td>\n",
       "      <td>GMT-07:00</td>\n",
       "      <td>4106</td>\n",
       "      <td>[(sugar syrup, b), (cereal, f), (berry, f), (y...</td>\n",
       "    </tr>\n",
       "    <tr>\n",
       "      <th>...</th>\n",
       "      <td>...</td>\n",
       "      <td>...</td>\n",
       "      <td>...</td>\n",
       "      <td>...</td>\n",
       "      <td>...</td>\n",
       "      <td>...</td>\n",
       "      <td>...</td>\n",
       "      <td>...</td>\n",
       "      <td>...</td>\n",
       "      <td>...</td>\n",
       "      <td>...</td>\n",
       "      <td>...</td>\n",
       "      <td>...</td>\n",
       "      <td>...</td>\n",
       "    </tr>\n",
       "    <tr>\n",
       "      <th>387</th>\n",
       "      <td>9bbi19080141</td>\n",
       "      <td>1</td>\n",
       "      <td>2020-01-30</td>\n",
       "      <td>ned vanilla oat milk latte</td>\n",
       "      <td>b</td>\n",
       "      <td>12.366667</td>\n",
       "      <td>01-30-2020 12:22PM PST</td>\n",
       "      <td>2020-01-30 12:22:00</td>\n",
       "      <td>Hero-122</td>\n",
       "      <td>TRE</td>\n",
       "      <td>12:22:00</td>\n",
       "      <td>PST</td>\n",
       "      <td>96040</td>\n",
       "      <td>[(vanilla, f), (oat, f), (milk, b)]</td>\n",
       "    </tr>\n",
       "    <tr>\n",
       "      <th>388</th>\n",
       "      <td>9bbi19080141</td>\n",
       "      <td>1</td>\n",
       "      <td>2020-02-05</td>\n",
       "      <td>oat milk latte</td>\n",
       "      <td>b</td>\n",
       "      <td>9.916667</td>\n",
       "      <td>02-05-2020 09:55AM PST</td>\n",
       "      <td>2020-02-05 09:55:00</td>\n",
       "      <td>Hero-122</td>\n",
       "      <td>TRE</td>\n",
       "      <td>09:55:00</td>\n",
       "      <td>PST</td>\n",
       "      <td>96174</td>\n",
       "      <td>[(oat, f), (milk, b)]</td>\n",
       "    </tr>\n",
       "    <tr>\n",
       "      <th>389</th>\n",
       "      <td>9bbi19080141</td>\n",
       "      <td>1</td>\n",
       "      <td>2019-10-30</td>\n",
       "      <td>almond milk latte</td>\n",
       "      <td>b</td>\n",
       "      <td>17.733333</td>\n",
       "      <td>10-30-2019 05:44PM PDT</td>\n",
       "      <td>2019-10-30 17:44:00</td>\n",
       "      <td>Hero-122</td>\n",
       "      <td>TRE</td>\n",
       "      <td>17:44:00</td>\n",
       "      <td>PDT</td>\n",
       "      <td>96191</td>\n",
       "      <td>[(almond milk, b)]</td>\n",
       "    </tr>\n",
       "    <tr>\n",
       "      <th>390</th>\n",
       "      <td>9bbi19080141</td>\n",
       "      <td>1</td>\n",
       "      <td>2020-02-06</td>\n",
       "      <td>small cinnamon oat milk latte</td>\n",
       "      <td>b</td>\n",
       "      <td>12.716667</td>\n",
       "      <td>02-06-2020 12:43PM PST</td>\n",
       "      <td>2020-02-06 12:43:00</td>\n",
       "      <td>Hero-122</td>\n",
       "      <td>TRE</td>\n",
       "      <td>12:43:00</td>\n",
       "      <td>PST</td>\n",
       "      <td>96211</td>\n",
       "      <td>[(cinnamon, f), (oat, f), (milk, b)]</td>\n",
       "    </tr>\n",
       "    <tr>\n",
       "      <th>391</th>\n",
       "      <td>9bbi19080141</td>\n",
       "      <td>1</td>\n",
       "      <td>2020-01-28</td>\n",
       "      <td>oat milk latte</td>\n",
       "      <td>b</td>\n",
       "      <td>9.833333</td>\n",
       "      <td>01-28-2020 09:50AM PST</td>\n",
       "      <td>2020-01-28 09:50:00</td>\n",
       "      <td>Hero-122</td>\n",
       "      <td>TRE</td>\n",
       "      <td>09:50:00</td>\n",
       "      <td>PST</td>\n",
       "      <td>96277</td>\n",
       "      <td>[(oat, f), (milk, b)]</td>\n",
       "    </tr>\n",
       "  </tbody>\n",
       "</table>\n",
       "<p>392 rows × 14 columns</p>\n",
       "</div>"
      ],
      "text/plain": [
       "              PID  caloric        day  \\\n",
       "0    9bbi18050005        1 2018-06-05   \n",
       "1    9bbi18060014        1 2018-06-30   \n",
       "2    9bbi18060014        1 2018-07-20   \n",
       "3    9bbi18060014        1 2018-07-08   \n",
       "4    9bbi18060014        1 2018-08-04   \n",
       "..            ...      ...        ...   \n",
       "387  9bbi19080141        1 2020-01-30   \n",
       "388  9bbi19080141        1 2020-02-05   \n",
       "389  9bbi19080141        1 2019-10-30   \n",
       "390  9bbi19080141        1 2020-02-06   \n",
       "391  9bbi19080141        1 2020-01-28   \n",
       "\n",
       "                                             desc_text food_type  local_time  \\\n",
       "0                                   iced vanilla latte         f   15.550000   \n",
       "1    cereal witb berries milk && latte with 1 sugar...         f    8.483333   \n",
       "2    cereal with berries and yogurt && latte with 1...         f    8.166667   \n",
       "3    cereal with berries and yogurt && latte with 1...         f    7.350000   \n",
       "4    cereal with berries and yogurt && latte with 1...         f    7.200000   \n",
       "..                                                 ...       ...         ...   \n",
       "387                         ned vanilla oat milk latte         b   12.366667   \n",
       "388                                     oat milk latte         b    9.916667   \n",
       "389                                  almond milk latte         b   17.733333   \n",
       "390                      small cinnamon oat milk latte         b   12.716667   \n",
       "391                                     oat milk latte         b    9.833333   \n",
       "\n",
       "                 original_logtime original_logtime_notz participant study  \\\n",
       "0          06-05-2018 03:33PM PDT   2018-06-05 15:33:00    Hero-002   TRE   \n",
       "1    06-30-2018 08:29AM GMT-07:00   2018-06-30 08:29:00    Hero-007   SOC   \n",
       "2    07-20-2018 08:10AM GMT-07:00   2018-07-20 08:10:00    Hero-007   SOC   \n",
       "3    07-08-2018 07:21AM GMT-07:00   2018-07-08 07:21:00    Hero-007   SOC   \n",
       "4    08-04-2018 07:12AM GMT-07:00   2018-08-04 07:12:00    Hero-007   SOC   \n",
       "..                            ...                   ...         ...   ...   \n",
       "387        01-30-2020 12:22PM PST   2020-01-30 12:22:00    Hero-122   TRE   \n",
       "388        02-05-2020 09:55AM PST   2020-02-05 09:55:00    Hero-122   TRE   \n",
       "389        10-30-2019 05:44PM PDT   2019-10-30 17:44:00    Hero-122   TRE   \n",
       "390        02-06-2020 12:43PM PST   2020-02-06 12:43:00    Hero-122   TRE   \n",
       "391        01-28-2020 09:50AM PST   2020-01-28 09:50:00    Hero-122   TRE   \n",
       "\n",
       "         time         tz     ID  \\\n",
       "0    15:33:00        PDT   1379   \n",
       "1    08:29:00  GMT-07:00   4078   \n",
       "2    08:10:00  GMT-07:00   4083   \n",
       "3    07:21:00  GMT-07:00   4090   \n",
       "4    07:12:00  GMT-07:00   4106   \n",
       "..        ...        ...    ...   \n",
       "387  12:22:00        PST  96040   \n",
       "388  09:55:00        PST  96174   \n",
       "389  17:44:00        PDT  96191   \n",
       "390  12:43:00        PST  96211   \n",
       "391  09:50:00        PST  96277   \n",
       "\n",
       "                                                parsed  \n",
       "0                                       [(vanilla, f)]  \n",
       "1    [(sugar syrup, b), (cereal, f), (berry, f), (m...  \n",
       "2    [(sugar syrup, b), (cereal, f), (berry, f), (y...  \n",
       "3    [(sugar syrup, b), (cereal, f), (berry, f), (y...  \n",
       "4    [(sugar syrup, b), (cereal, f), (berry, f), (y...  \n",
       "..                                                 ...  \n",
       "387                [(vanilla, f), (oat, f), (milk, b)]  \n",
       "388                              [(oat, f), (milk, b)]  \n",
       "389                                 [(almond milk, b)]  \n",
       "390               [(cinnamon, f), (oat, f), (milk, b)]  \n",
       "391                              [(oat, f), (milk, b)]  \n",
       "\n",
       "[392 rows x 14 columns]"
      ]
     },
     "execution_count": 38,
     "metadata": {},
     "output_type": "execute_result"
    }
   ],
   "source": [
    "find_str_contain(sample_df, 'latte')"
   ]
  },
  {
   "cell_type": "code",
   "execution_count": 39,
   "metadata": {},
   "outputs": [
    {
     "data": {
      "text/plain": [
       "['coffee']"
      ]
     },
     "execution_count": 39,
     "metadata": {},
     "output_type": "execute_result"
    }
   ],
   "source": [
    "look_up_dict['coffee']"
   ]
  },
  {
   "cell_type": "code",
   "execution_count": 40,
   "metadata": {},
   "outputs": [
    {
     "data": {
      "text/html": [
       "<div>\n",
       "<style scoped>\n",
       "    .dataframe tbody tr th:only-of-type {\n",
       "        vertical-align: middle;\n",
       "    }\n",
       "\n",
       "    .dataframe tbody tr th {\n",
       "        vertical-align: top;\n",
       "    }\n",
       "\n",
       "    .dataframe thead th {\n",
       "        text-align: right;\n",
       "    }\n",
       "</style>\n",
       "<table border=\"1\" class=\"dataframe\">\n",
       "  <thead>\n",
       "    <tr style=\"text-align: right;\">\n",
       "      <th></th>\n",
       "      <th>PID</th>\n",
       "      <th>caloric</th>\n",
       "      <th>day</th>\n",
       "      <th>desc_text</th>\n",
       "      <th>food_type</th>\n",
       "      <th>local_time</th>\n",
       "      <th>original_logtime</th>\n",
       "      <th>original_logtime_notz</th>\n",
       "      <th>participant</th>\n",
       "      <th>study</th>\n",
       "      <th>time</th>\n",
       "      <th>tz</th>\n",
       "      <th>ID</th>\n",
       "      <th>parsed</th>\n",
       "    </tr>\n",
       "  </thead>\n",
       "  <tbody>\n",
       "    <tr>\n",
       "      <th>0</th>\n",
       "      <td>9bbi18050004</td>\n",
       "      <td>1</td>\n",
       "      <td>2018-07-18</td>\n",
       "      <td>kind bar &amp;&amp; coffee</td>\n",
       "      <td>f</td>\n",
       "      <td>9.583333</td>\n",
       "      <td>07-18-2018 09:35AM PDT</td>\n",
       "      <td>2018-07-18 09:35:00</td>\n",
       "      <td>Hero-001</td>\n",
       "      <td>TRE</td>\n",
       "      <td>09:35:00</td>\n",
       "      <td>PDT</td>\n",
       "      <td>0</td>\n",
       "      <td>[(kind bar, f), (coffee, b)]</td>\n",
       "    </tr>\n",
       "    <tr>\n",
       "      <th>1</th>\n",
       "      <td>9bbi18050004</td>\n",
       "      <td>1</td>\n",
       "      <td>2018-06-07</td>\n",
       "      <td>banana &amp;&amp; coffee</td>\n",
       "      <td>f</td>\n",
       "      <td>9.050000</td>\n",
       "      <td>06-07-2018 09:03AM PDT</td>\n",
       "      <td>2018-06-07 09:03:00</td>\n",
       "      <td>Hero-001</td>\n",
       "      <td>TRE</td>\n",
       "      <td>09:03:00</td>\n",
       "      <td>PDT</td>\n",
       "      <td>10</td>\n",
       "      <td>[(banana, f), (coffee, b)]</td>\n",
       "    </tr>\n",
       "  </tbody>\n",
       "</table>\n",
       "</div>"
      ],
      "text/plain": [
       "            PID  caloric        day           desc_text food_type  local_time  \\\n",
       "0  9bbi18050004        1 2018-07-18  kind bar && coffee         f    9.583333   \n",
       "1  9bbi18050004        1 2018-06-07    banana && coffee         f    9.050000   \n",
       "\n",
       "         original_logtime original_logtime_notz participant study      time  \\\n",
       "0  07-18-2018 09:35AM PDT   2018-07-18 09:35:00    Hero-001   TRE  09:35:00   \n",
       "1  06-07-2018 09:03AM PDT   2018-06-07 09:03:00    Hero-001   TRE  09:03:00   \n",
       "\n",
       "    tz  ID                        parsed  \n",
       "0  PDT   0  [(kind bar, f), (coffee, b)]  \n",
       "1  PDT  10    [(banana, f), (coffee, b)]  "
      ]
     },
     "execution_count": 40,
     "metadata": {},
     "output_type": "execute_result"
    }
   ],
   "source": [
    "coffee_spot.head(2)"
   ]
  },
  {
   "cell_type": "code",
   "execution_count": 41,
   "metadata": {},
   "outputs": [],
   "source": [
    "food_dict = defaultdict(lambda : 0)\n",
    "food_type_dict = defaultdict(lambda : 0)\n",
    "\n",
    "coffee_backsearch_result = backward_search('coffee')\n",
    "\n",
    "\n",
    "for i in range(coffee_spot.shape[0]):\n",
    "    food_lst = coffee_spot.parsed.values[i]\n",
    "    for pair in food_lst:\n",
    "        if pair[0] not in coffee_backsearch_result:\n",
    "            food_dict[pair[0]] += 1\n",
    "            food_type_dict[pair[1]] += 1"
   ]
  },
  {
   "cell_type": "code",
   "execution_count": 42,
   "metadata": {},
   "outputs": [
    {
     "data": {
      "text/html": [
       "<div>\n",
       "<style scoped>\n",
       "    .dataframe tbody tr th:only-of-type {\n",
       "        vertical-align: middle;\n",
       "    }\n",
       "\n",
       "    .dataframe tbody tr th {\n",
       "        vertical-align: top;\n",
       "    }\n",
       "\n",
       "    .dataframe thead th {\n",
       "        text-align: right;\n",
       "    }\n",
       "</style>\n",
       "<table border=\"1\" class=\"dataframe\">\n",
       "  <thead>\n",
       "    <tr style=\"text-align: right;\">\n",
       "      <th></th>\n",
       "      <th>food</th>\n",
       "      <th>count</th>\n",
       "    </tr>\n",
       "  </thead>\n",
       "  <tbody>\n",
       "    <tr>\n",
       "      <th>0</th>\n",
       "      <td>almond milk</td>\n",
       "      <td>457</td>\n",
       "    </tr>\n",
       "    <tr>\n",
       "      <th>1</th>\n",
       "      <td>creamer</td>\n",
       "      <td>360</td>\n",
       "    </tr>\n",
       "    <tr>\n",
       "      <th>2</th>\n",
       "      <td>egg</td>\n",
       "      <td>290</td>\n",
       "    </tr>\n",
       "    <tr>\n",
       "      <th>3</th>\n",
       "      <td>honey</td>\n",
       "      <td>147</td>\n",
       "    </tr>\n",
       "    <tr>\n",
       "      <th>4</th>\n",
       "      <td>almond</td>\n",
       "      <td>143</td>\n",
       "    </tr>\n",
       "    <tr>\n",
       "      <th>...</th>\n",
       "      <td>...</td>\n",
       "      <td>...</td>\n",
       "    </tr>\n",
       "    <tr>\n",
       "      <th>350</th>\n",
       "      <td>sour cream</td>\n",
       "      <td>1</td>\n",
       "    </tr>\n",
       "    <tr>\n",
       "      <th>351</th>\n",
       "      <td>kirkland chocolate bar</td>\n",
       "      <td>1</td>\n",
       "    </tr>\n",
       "    <tr>\n",
       "      <th>352</th>\n",
       "      <td>baked veggie</td>\n",
       "      <td>1</td>\n",
       "    </tr>\n",
       "    <tr>\n",
       "      <th>353</th>\n",
       "      <td>bagel cream cheese</td>\n",
       "      <td>1</td>\n",
       "    </tr>\n",
       "    <tr>\n",
       "      <th>354</th>\n",
       "      <td>egg cheese burrito</td>\n",
       "      <td>1</td>\n",
       "    </tr>\n",
       "  </tbody>\n",
       "</table>\n",
       "<p>355 rows × 2 columns</p>\n",
       "</div>"
      ],
      "text/plain": [
       "                       food  count\n",
       "0               almond milk    457\n",
       "1                   creamer    360\n",
       "2                       egg    290\n",
       "3                     honey    147\n",
       "4                    almond    143\n",
       "..                      ...    ...\n",
       "350              sour cream      1\n",
       "351  kirkland chocolate bar      1\n",
       "352            baked veggie      1\n",
       "353      bagel cream cheese      1\n",
       "354      egg cheese burrito      1\n",
       "\n",
       "[355 rows x 2 columns]"
      ]
     },
     "execution_count": 42,
     "metadata": {},
     "output_type": "execute_result"
    }
   ],
   "source": [
    "food_count_lst = []\n",
    "for pair in dict(food_dict).items():\n",
    "    food_count_lst.append({\n",
    "        'food': pair[0],\n",
    "        'count': pair[1]\n",
    "    })\n",
    "food_count_df = pd.DataFrame(food_count_lst).sort_values(by = 'count', ascending = False).reset_index(drop = True)\n",
    "food_count_df"
   ]
  },
  {
   "cell_type": "code",
   "execution_count": 43,
   "metadata": {},
   "outputs": [
    {
     "data": {
      "text/plain": [
       "{'f': 3041, 'b': 2053, 'm': 51, 'w': 15}"
      ]
     },
     "execution_count": 43,
     "metadata": {},
     "output_type": "execute_result"
    }
   ],
   "source": [
    "dict(food_type_dict)"
   ]
  },
  {
   "cell_type": "code",
   "execution_count": 44,
   "metadata": {},
   "outputs": [],
   "source": [
    "food_count_df.to_csv('food_count_df.csv', index = False)"
   ]
  },
  {
   "cell_type": "code",
   "execution_count": 45,
   "metadata": {},
   "outputs": [],
   "source": [
    "sample_df.to_csv('sample_df.csv', index = False)"
   ]
  },
  {
   "cell_type": "code",
   "execution_count": 46,
   "metadata": {},
   "outputs": [],
   "source": [
    "coffee_spot.to_csv('coffee_spot.csv', index = False)"
   ]
  },
  {
   "cell_type": "code",
   "execution_count": null,
   "metadata": {},
   "outputs": [],
   "source": []
  },
  {
   "cell_type": "code",
   "execution_count": null,
   "metadata": {},
   "outputs": [],
   "source": []
  },
  {
   "cell_type": "code",
   "execution_count": null,
   "metadata": {},
   "outputs": [],
   "source": []
  },
  {
   "cell_type": "code",
   "execution_count": null,
   "metadata": {},
   "outputs": [],
   "source": []
  },
  {
   "cell_type": "code",
   "execution_count": null,
   "metadata": {},
   "outputs": [],
   "source": []
  }
 ],
 "metadata": {
  "kernelspec": {
   "display_name": "Python 3",
   "language": "python",
   "name": "python3"
  },
  "language_info": {
   "codemirror_mode": {
    "name": "ipython",
    "version": 3
   },
   "file_extension": ".py",
   "mimetype": "text/x-python",
   "name": "python",
   "nbconvert_exporter": "python",
   "pygments_lexer": "ipython3",
   "version": "3.8.3"
  },
  "toc": {
   "base_numbering": 1,
   "nav_menu": {},
   "number_sections": true,
   "sideBar": true,
   "skip_h1_title": false,
   "title_cell": "Table of Contents",
   "title_sidebar": "Contents",
   "toc_cell": false,
   "toc_position": {
    "height": "calc(100% - 180px)",
    "left": "10px",
    "top": "150px",
    "width": "165px"
   },
   "toc_section_display": true,
   "toc_window_display": true
  }
 },
 "nbformat": 4,
 "nbformat_minor": 4
}
