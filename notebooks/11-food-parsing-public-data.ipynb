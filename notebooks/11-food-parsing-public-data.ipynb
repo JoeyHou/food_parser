{
 "cells": [
  {
   "cell_type": "code",
   "execution_count": 1,
   "metadata": {},
   "outputs": [],
   "source": [
    "import pandas as pd\n",
    "import numpy as np\n",
    "from scipy import stats\n",
    "import seaborn as sns\n",
    "import os\n",
    "import matplotlib.pyplot as plt\n",
    "import pickle\n",
    "from tqdm import tqdm \n",
    "from datetime import date \n",
    "from datetime import datetime"
   ]
  },
  {
   "cell_type": "code",
   "execution_count": 2,
   "metadata": {},
   "outputs": [],
   "source": [
    "# from google.colab import drive\n",
    "# drive.mount('/content/drive')\n",
    "file_dir = '../'\n",
    "\n",
    "data_dir = file_dir + 'test_data/'\n",
    "result_dir = data_dir + 'results/'"
   ]
  },
  {
   "cell_type": "code",
   "execution_count": 3,
   "metadata": {
    "scrolled": true
   },
   "outputs": [
    {
     "name": "stderr",
     "output_type": "stream",
     "text": [
      "[nltk_data] Downloading package words to /Users/joey-hou/nltk_data...\n",
      "[nltk_data]   Package words is already up-to-date!\n",
      "[nltk_data] Downloading package stopwords to /Users/joey-\n",
      "[nltk_data]     hou/nltk_data...\n",
      "[nltk_data]   Package stopwords is already up-to-date!\n",
      "[nltk_data] Downloading package wordnet to /Users/joey-\n",
      "[nltk_data]     hou/nltk_data...\n",
      "[nltk_data]   Package wordnet is already up-to-date!\n",
      "[nltk_data] Downloading package punkt to /Users/joey-hou/nltk_data...\n",
      "[nltk_data]   Package punkt is already up-to-date!\n"
     ]
    }
   ],
   "source": [
    "# !pip install pyspellchecker\n",
    "\n",
    "%load_ext autoreload\n",
    "%autoreload 2\n",
    "\n",
    "# %run '/content/drive/My Drive/Colab Data/public_app_analysis/utils/publicAnalysisHelper.py'\n",
    "%run ../references/food_modelling_utils.py\n",
    "%run ../foodparser/foodparser.py"
   ]
  },
  {
   "cell_type": "code",
   "execution_count": 4,
   "metadata": {},
   "outputs": [],
   "source": [
    "# !pip install indexer"
   ]
  },
  {
   "cell_type": "code",
   "execution_count": 6,
   "metadata": {},
   "outputs": [
    {
     "data": {
      "text/plain": [
       "'../test_data/'"
      ]
     },
     "execution_count": 6,
     "metadata": {},
     "output_type": "execute_result"
    }
   ],
   "source": [
    "data_dir"
   ]
  },
  {
   "cell_type": "markdown",
   "metadata": {},
   "source": [
    "# Loading food parser"
   ]
  },
  {
   "cell_type": "code",
   "execution_count": 7,
   "metadata": {},
   "outputs": [],
   "source": [
    "fp = FoodParser()\n",
    "# len(fp.all_gram_set)"
   ]
  },
  {
   "cell_type": "code",
   "execution_count": 8,
   "metadata": {},
   "outputs": [],
   "source": [
    "# combined_df = pd.read_csv(data_dir + 'food_annotations/combined_df.csv')\n",
    "# combined_df.head()"
   ]
  },
  {
   "cell_type": "code",
   "execution_count": 9,
   "metadata": {},
   "outputs": [],
   "source": [
    "# food_type_dict = {}\n",
    "# weird_keys = []\n",
    "# for sett in fp.all_gram_set:\n",
    "#     for key in sett:\n",
    "#         if key not in combined_df.gram_key.values:\n",
    "#             continue\n",
    "#         if combined_df.query('gram_key == \"' + key + '\"').shape[0] == 1:\n",
    "#             food_type_dict[key] = combined_df.query('gram_key == \"' + key + '\"').food_type.values[0]\n",
    "#         else:\n",
    "#             weird_keys.append(key)"
   ]
  },
  {
   "cell_type": "code",
   "execution_count": 10,
   "metadata": {},
   "outputs": [],
   "source": [
    "# pd.DataFrame(weird_keys).to_csv('weird_keys.csv', index = False)"
   ]
  },
  {
   "cell_type": "code",
   "execution_count": 11,
   "metadata": {},
   "outputs": [],
   "source": [
    "# 'yoghurt' in fp.all_gram_set[0]"
   ]
  },
  {
   "cell_type": "markdown",
   "metadata": {},
   "source": [
    "- **After manual annotations**"
   ]
  },
  {
   "cell_type": "code",
   "execution_count": 12,
   "metadata": {},
   "outputs": [],
   "source": [
    "# weird_csv = pd.read_csv(data_dir + 'food_annotations/weird_keys.csv')\n",
    "# weird_csv.head()"
   ]
  },
  {
   "cell_type": "code",
   "execution_count": 13,
   "metadata": {},
   "outputs": [],
   "source": [
    "# weird_csv.index = weird_csv.key\n",
    "# weird_key_food_type_mask = dict(weird_csv.food_type)"
   ]
  },
  {
   "cell_type": "code",
   "execution_count": 14,
   "metadata": {},
   "outputs": [],
   "source": [
    "# combined_df.food_type = combined_df.apply(lambda s: s.food_type if s.gram_key not in weird_key_food_type_mask.keys() else \\\n",
    "#                                          weird_key_food_type_mask[s.gram_key], axis = 1)"
   ]
  },
  {
   "cell_type": "code",
   "execution_count": 15,
   "metadata": {},
   "outputs": [],
   "source": [
    "# combined_df = combined_df.drop_duplicates()\n",
    "# combined_df.index = combined_df.gram_key\n",
    "# food_type_dict = dict(combined_df.food_type)"
   ]
  },
  {
   "cell_type": "code",
   "execution_count": 16,
   "metadata": {},
   "outputs": [],
   "source": [
    "# pickle.dump(food_type_dict, open(data_dir + 'food_annotations/final_database/food_type_dict.pickle', 'wb'))"
   ]
  },
  {
   "cell_type": "code",
   "execution_count": 17,
   "metadata": {},
   "outputs": [],
   "source": [
    "# combined_df.food_type.unique()"
   ]
  },
  {
   "cell_type": "code",
   "execution_count": 18,
   "metadata": {},
   "outputs": [],
   "source": [
    "# combined_df.food_type = combined_df.food_type.apply(lambda x: x.strip())\n",
    "# combined_df.shape"
   ]
  },
  {
   "cell_type": "code",
   "execution_count": 19,
   "metadata": {},
   "outputs": [],
   "source": [
    "# combined_df.to_csv(data_dir + 'food_annotations/final_database/combined_df.csv', index = False)"
   ]
  },
  {
   "cell_type": "markdown",
   "metadata": {},
   "source": [
    "# Parse Public Food Data\n",
    "## Load in raw data"
   ]
  },
  {
   "cell_type": "code",
   "execution_count": 20,
   "metadata": {},
   "outputs": [
    {
     "data": {
      "text/html": [
       "<div>\n",
       "<style scoped>\n",
       "    .dataframe tbody tr th:only-of-type {\n",
       "        vertical-align: middle;\n",
       "    }\n",
       "\n",
       "    .dataframe tbody tr th {\n",
       "        vertical-align: top;\n",
       "    }\n",
       "\n",
       "    .dataframe thead th {\n",
       "        text-align: right;\n",
       "    }\n",
       "</style>\n",
       "<table border=\"1\" class=\"dataframe\">\n",
       "  <thead>\n",
       "    <tr style=\"text-align: right;\">\n",
       "      <th></th>\n",
       "      <th>ID</th>\n",
       "      <th>unique_code</th>\n",
       "      <th>research_info_id</th>\n",
       "      <th>desc_text</th>\n",
       "      <th>food_type</th>\n",
       "      <th>original_logtime</th>\n",
       "      <th>original_logtime_notz</th>\n",
       "      <th>day</th>\n",
       "      <th>local_time</th>\n",
       "      <th>time</th>\n",
       "      <th>week_from_start</th>\n",
       "      <th>year</th>\n",
       "    </tr>\n",
       "  </thead>\n",
       "  <tbody>\n",
       "    <tr>\n",
       "      <th>281</th>\n",
       "      <td>282</td>\n",
       "      <td>alqt15090005</td>\n",
       "      <td>150</td>\n",
       "      <td>Water</td>\n",
       "      <td>w</td>\n",
       "      <td>09-09-2015 8:20PM JST</td>\n",
       "      <td>2015-09-09 20:20:00</td>\n",
       "      <td>2015-09-09</td>\n",
       "      <td>20.333333</td>\n",
       "      <td>20:20:00</td>\n",
       "      <td>1</td>\n",
       "      <td>2015</td>\n",
       "    </tr>\n",
       "    <tr>\n",
       "      <th>282</th>\n",
       "      <td>283</td>\n",
       "      <td>alqt15090005</td>\n",
       "      <td>150</td>\n",
       "      <td>Soup</td>\n",
       "      <td>f</td>\n",
       "      <td>09-09-2015 10:38PM JST</td>\n",
       "      <td>2015-09-09 22:38:00</td>\n",
       "      <td>2015-09-09</td>\n",
       "      <td>22.633333</td>\n",
       "      <td>22:38:00</td>\n",
       "      <td>1</td>\n",
       "      <td>2015</td>\n",
       "    </tr>\n",
       "  </tbody>\n",
       "</table>\n",
       "</div>"
      ],
      "text/plain": [
       "      ID   unique_code  research_info_id desc_text food_type  \\\n",
       "281  282  alqt15090005               150     Water         w   \n",
       "282  283  alqt15090005               150      Soup         f   \n",
       "\n",
       "           original_logtime original_logtime_notz         day  local_time  \\\n",
       "281   09-09-2015 8:20PM JST   2015-09-09 20:20:00  2015-09-09   20.333333   \n",
       "282  09-09-2015 10:38PM JST   2015-09-09 22:38:00  2015-09-09   22.633333   \n",
       "\n",
       "         time  week_from_start  year  \n",
       "281  20:20:00                1  2015  \n",
       "282  22:38:00                1  2015  "
      ]
     },
     "execution_count": 20,
     "metadata": {},
     "output_type": "execute_result"
    }
   ],
   "source": [
    "public_all_pickle_file = open(data_dir + 'raw/public_0924_basline_usable_expanded.pickle', 'rb')\n",
    "public_all = pickle.load(public_all_pickle_file)\n",
    "public_all.head(2)"
   ]
  },
  {
   "cell_type": "code",
   "execution_count": 21,
   "metadata": {},
   "outputs": [],
   "source": [
    "# public_all[['desc_text', 'food_type']].iloc[:10000].to_csv('~/Desktop/sample_data.csv', index = False)"
   ]
  },
  {
   "cell_type": "code",
   "execution_count": 22,
   "metadata": {},
   "outputs": [],
   "source": [
    "# pickle.load(open(data_dir + 'public_app_analysis/data/public_0924_basline_usable_expanded.pickle', 'rb')).shape"
   ]
  },
  {
   "cell_type": "code",
   "execution_count": 23,
   "metadata": {},
   "outputs": [
    {
     "data": {
      "text/plain": [
       "(1653926, 12)"
      ]
     },
     "execution_count": 23,
     "metadata": {},
     "output_type": "execute_result"
    }
   ],
   "source": [
    "public_all.shape # In baseline, there are 1,648,792 records"
   ]
  },
  {
   "cell_type": "code",
   "execution_count": 29,
   "metadata": {},
   "outputs": [],
   "source": [
    "sample_df = public_all.query('food_type in [\"f\", \"b\"]').sample(5000).reset_index(drop = True)"
   ]
  },
  {
   "cell_type": "code",
   "execution_count": 30,
   "metadata": {},
   "outputs": [],
   "source": [
    "# fp = FoodParser()\n",
    "# parsed = [fp.parse_food(i) for i in tqdm(public_all.desc_text.values)]"
   ]
  },
  {
   "cell_type": "markdown",
   "metadata": {},
   "source": [
    "## **Initialized foodparser**"
   ]
  },
  {
   "cell_type": "code",
   "execution_count": 31,
   "metadata": {},
   "outputs": [],
   "source": [
    "fp = FoodParser()\n",
    "fp.initialization()\n",
    "# fp.all_gram_set[0].add('yoghurt')"
   ]
  },
  {
   "cell_type": "code",
   "execution_count": 32,
   "metadata": {},
   "outputs": [
    {
     "data": {
      "text/plain": [
       "True"
      ]
     },
     "execution_count": 32,
     "metadata": {},
     "output_type": "execute_result"
    }
   ],
   "source": [
    "'yoghurt' in fp.all_gram_set[0]"
   ]
  },
  {
   "cell_type": "code",
   "execution_count": 33,
   "metadata": {},
   "outputs": [
    {
     "data": {
      "text/plain": [
       "True"
      ]
     },
     "execution_count": 33,
     "metadata": {},
     "output_type": "execute_result"
    }
   ],
   "source": [
    "'latte' in fp.all_gram_set[0]"
   ]
  },
  {
   "cell_type": "markdown",
   "metadata": {},
   "source": [
    "## **Parsing**"
   ]
  },
  {
   "cell_type": "code",
   "execution_count": 34,
   "metadata": {},
   "outputs": [
    {
     "name": "stderr",
     "output_type": "stream",
     "text": [
      "100%|██████████| 5000/5000 [03:06<00:00, 26.76it/s]\n"
     ]
    }
   ],
   "source": [
    "total_unknown = 0\n",
    "total_token = 0\n",
    "parsed = []\n",
    "total_unknown_tokens = []\n",
    "counter = 0\n",
    "for i in tqdm(range(sample_df.shape[0])):\n",
    "    entry = sample_df.iloc[i].desc_text\n",
    "    result, num_token, num_unknown, unknown_tokens = fp.parse_food(entry, return_sentence_tag = True)\n",
    "    result = [(f, fp.find_food_type(f)) for f in result]\n",
    "    parsed.append(result)\n",
    "    total_token += num_token\n",
    "    total_unknown += num_unknown\n",
    "    total_unknown_tokens += unknown_tokens\n",
    "    \n",
    "#     counter += 1\n",
    "#     if counter == 50:\n",
    "#         break"
   ]
  },
  {
   "cell_type": "code",
   "execution_count": null,
   "metadata": {},
   "outputs": [],
   "source": [
    "# total_unknown_tokens"
   ]
  },
  {
   "cell_type": "markdown",
   "metadata": {},
   "source": [
    "## Catched tokens"
   ]
  },
  {
   "cell_type": "code",
   "execution_count": null,
   "metadata": {},
   "outputs": [],
   "source": [
    "public_all_parsed = pd.DataFrame({\n",
    "    'food_type': sample_df.food_type.values,\n",
    "    'desc_text': sample_df.desc_text.values,\n",
    "    'cleaned': parsed\n",
    "})\n",
    "public_all_parsed.head(2)"
   ]
  },
  {
   "cell_type": "code",
   "execution_count": null,
   "metadata": {},
   "outputs": [],
   "source": [
    "public_all_parsed.to_csv(result_dir + 'public_all_parsed.csv', index = False)"
   ]
  },
  {
   "cell_type": "code",
   "execution_count": 40,
   "metadata": {},
   "outputs": [
    {
     "name": "stdout",
     "output_type": "stream",
     "text": [
      "Number of un-catched logging records: 42119 , out of total entries of 500000\n",
      "Proportion of un-catched logging records: 0.084238\n"
     ]
    }
   ],
   "source": [
    "print('Number of un-catched logging records:', len([lst for lst in parsed if len(lst) == 0])\\\n",
    "          , ', out of total entries of', len(parsed))\n",
    "print('Proportion of un-catched logging records:', len([lst for lst in parsed if len(lst) == 0]) / len(parsed))"
   ]
  },
  {
   "cell_type": "code",
   "execution_count": null,
   "metadata": {},
   "outputs": [],
   "source": []
  },
  {
   "cell_type": "markdown",
   "metadata": {},
   "source": [
    "## **Un-catched tokens**"
   ]
  },
  {
   "cell_type": "code",
   "execution_count": 19,
   "metadata": {},
   "outputs": [
    {
     "data": {
      "text/plain": [
       "0.2577997600323418"
      ]
     },
     "execution_count": 19,
     "metadata": {},
     "output_type": "execute_result"
    }
   ],
   "source": [
    "total_unknown / total_token"
   ]
  },
  {
   "cell_type": "code",
   "execution_count": 20,
   "metadata": {},
   "outputs": [
    {
     "data": {
      "text/plain": [
       "1541041"
      ]
     },
     "execution_count": 20,
     "metadata": {},
     "output_type": "execute_result"
    }
   ],
   "source": [
    "total_token"
   ]
  },
  {
   "cell_type": "code",
   "execution_count": 29,
   "metadata": {},
   "outputs": [],
   "source": [
    "total_unknown_tokens = [s.strip() for s in total_unknown_tokens]"
   ]
  },
  {
   "cell_type": "code",
   "execution_count": 30,
   "metadata": {},
   "outputs": [
    {
     "data": {
      "text/plain": [
       "['lunch',\n",
       " 'chef',\n",
       " 'uttar vermicelli',\n",
       " 'kara',\n",
       " 'fermented soya',\n",
       " 'x',\n",
       " 'live',\n",
       " 'liquorice',\n",
       " 'organic',\n",
       " 'bar',\n",
       " 'daim bar',\n",
       " 'white',\n",
       " 'no',\n",
       " 'snap',\n",
       " 'melt',\n",
       " 'extra light',\n",
       " 'almondina',\n",
       " 'granary',\n",
       " 'smoked herring',\n",
       " 'culotte rape']"
      ]
     },
     "execution_count": 30,
     "metadata": {},
     "output_type": "execute_result"
    }
   ],
   "source": [
    "total_unknown_tokens[:20]"
   ]
  },
  {
   "cell_type": "code",
   "execution_count": 31,
   "metadata": {},
   "outputs": [
    {
     "data": {
      "text/plain": [
       "315061"
      ]
     },
     "execution_count": 31,
     "metadata": {},
     "output_type": "execute_result"
    }
   ],
   "source": [
    "len(total_unknown_tokens)"
   ]
  },
  {
   "cell_type": "code",
   "execution_count": 32,
   "metadata": {},
   "outputs": [
    {
     "data": {
      "text/plain": [
       "177530"
      ]
     },
     "execution_count": 32,
     "metadata": {},
     "output_type": "execute_result"
    }
   ],
   "source": [
    "pd.Series(total_unknown_tokens).value_counts().head(500).sum()"
   ]
  },
  {
   "cell_type": "code",
   "execution_count": 33,
   "metadata": {},
   "outputs": [
    {
     "data": {
      "text/plain": [
       "<matplotlib.axes._subplots.AxesSubplot at 0x7f923a7eda00>"
      ]
     },
     "execution_count": 33,
     "metadata": {},
     "output_type": "execute_result"
    },
    {
     "data": {
      "image/png": "[encoded data removed]",
      "text/plain": [
       "<Figure size 432x288 with 1 Axes>"
      ]
     },
     "metadata": {
      "needs_background": "light"
     },
     "output_type": "display_data"
    }
   ],
   "source": [
    "sns.distplot(pd.Series(total_unknown_tokens).value_counts())"
   ]
  },
  {
   "cell_type": "code",
   "execution_count": 35,
   "metadata": {},
   "outputs": [
    {
     "data": {
      "text/html": [
       "<div>\n",
       "<style scoped>\n",
       "    .dataframe tbody tr th:only-of-type {\n",
       "        vertical-align: middle;\n",
       "    }\n",
       "\n",
       "    .dataframe tbody tr th {\n",
       "        vertical-align: top;\n",
       "    }\n",
       "\n",
       "    .dataframe thead th {\n",
       "        text-align: right;\n",
       "    }\n",
       "</style>\n",
       "<table border=\"1\" class=\"dataframe\">\n",
       "  <thead>\n",
       "    <tr style=\"text-align: right;\">\n",
       "      <th></th>\n",
       "      <th>counts</th>\n",
       "    </tr>\n",
       "  </thead>\n",
       "  <tbody>\n",
       "    <tr>\n",
       "      <th>breakfast</th>\n",
       "      <td>3578</td>\n",
       "    </tr>\n",
       "    <tr>\n",
       "      <th>dinner</th>\n",
       "      <td>2989</td>\n",
       "    </tr>\n",
       "    <tr>\n",
       "      <th>deaf</th>\n",
       "      <td>2817</td>\n",
       "    </tr>\n",
       "    <tr>\n",
       "      <th>lunch</th>\n",
       "      <td>2799</td>\n",
       "    </tr>\n",
       "    <tr>\n",
       "      <th>white</th>\n",
       "      <td>2627</td>\n",
       "    </tr>\n",
       "    <tr>\n",
       "      <th>sauce</th>\n",
       "      <td>2606</td>\n",
       "    </tr>\n",
       "    <tr>\n",
       "      <th>herbal</th>\n",
       "      <td>2509</td>\n",
       "    </tr>\n",
       "    <tr>\n",
       "      <th>g</th>\n",
       "      <td>2442</td>\n",
       "    </tr>\n",
       "    <tr>\n",
       "      <th>red</th>\n",
       "      <td>2248</td>\n",
       "    </tr>\n",
       "    <tr>\n",
       "      <th>vegan</th>\n",
       "      <td>1970</td>\n",
       "    </tr>\n",
       "    <tr>\n",
       "      <th>snack</th>\n",
       "      <td>1958</td>\n",
       "    </tr>\n",
       "    <tr>\n",
       "      <th>act</th>\n",
       "      <td>1814</td>\n",
       "    </tr>\n",
       "    <tr>\n",
       "      <th>soy</th>\n",
       "      <td>1795</td>\n",
       "    </tr>\n",
       "    <tr>\n",
       "      <th>bulletproof</th>\n",
       "      <td>1649</td>\n",
       "    </tr>\n",
       "    <tr>\n",
       "      <th>veg</th>\n",
       "      <td>1631</td>\n",
       "    </tr>\n",
       "    <tr>\n",
       "      <th>bar</th>\n",
       "      <td>1628</td>\n",
       "    </tr>\n",
       "    <tr>\n",
       "      <th>ml</th>\n",
       "      <td>1527</td>\n",
       "    </tr>\n",
       "    <tr>\n",
       "      <th>no</th>\n",
       "      <td>1524</td>\n",
       "    </tr>\n",
       "    <tr>\n",
       "      <th>whole</th>\n",
       "      <td>1505</td>\n",
       "    </tr>\n",
       "    <tr>\n",
       "      <th>sweet</th>\n",
       "      <td>1483</td>\n",
       "    </tr>\n",
       "  </tbody>\n",
       "</table>\n",
       "</div>"
      ],
      "text/plain": [
       "             counts\n",
       "breakfast      3578\n",
       "dinner         2989\n",
       "deaf           2817\n",
       "lunch          2799\n",
       "white          2627\n",
       "sauce          2606\n",
       "herbal         2509\n",
       "g              2442\n",
       "red            2248\n",
       "vegan          1970\n",
       "snack          1958\n",
       "act            1814\n",
       "soy            1795\n",
       "bulletproof    1649\n",
       "veg            1631\n",
       "bar            1628\n",
       "ml             1527\n",
       "no             1524\n",
       "whole          1505\n",
       "sweet          1483"
      ]
     },
     "execution_count": 35,
     "metadata": {},
     "output_type": "execute_result"
    }
   ],
   "source": [
    "uncatched_tokens = pd.DataFrame(pd.Series(total_unknown_tokens).value_counts(), columns = ['counts'])\\\n",
    "    .query('counts >= 50')\n",
    "uncatched_tokens.head(20)"
   ]
  },
  {
   "cell_type": "code",
   "execution_count": 54,
   "metadata": {},
   "outputs": [
    {
     "name": "stderr",
     "output_type": "stream",
     "text": [
      "100%|██████████| 315061/315061 [00:00<00:00, 705533.98it/s]\n"
     ]
    }
   ],
   "source": [
    "unigram = []\n",
    "bigram = []\n",
    "for phrase in tqdm(total_unknown_tokens):\n",
    "    if len(phrase) == 1:\n",
    "        unigram.append(phrase)\n",
    "    else:\n",
    "        for bi in nltk.bigrams(phrase.split()):\n",
    "            bigram.append(bi)"
   ]
  },
  {
   "cell_type": "code",
   "execution_count": 52,
   "metadata": {},
   "outputs": [
    {
     "data": {
      "text/plain": [
       "'uttar vermicelli'"
      ]
     },
     "execution_count": 52,
     "metadata": {},
     "output_type": "execute_result"
    }
   ],
   "source": [
    "total_unknown_tokens[2]"
   ]
  },
  {
   "cell_type": "code",
   "execution_count": 53,
   "metadata": {},
   "outputs": [
    {
     "data": {
      "text/plain": [
       "[('uttar', 'vermicelli')]"
      ]
     },
     "execution_count": 53,
     "metadata": {},
     "output_type": "execute_result"
    }
   ],
   "source": [
    "list(nltk.bigrams(total_unknown_tokens[2].split()))"
   ]
  },
  {
   "cell_type": "code",
   "execution_count": 56,
   "metadata": {},
   "outputs": [
    {
     "data": {
      "text/plain": [
       "[('uttar', 'vermicelli'), ('fermented', 'soya'), ('daim', 'bar')]"
      ]
     },
     "execution_count": 56,
     "metadata": {},
     "output_type": "execute_result"
    }
   ],
   "source": [
    "bigram[:3]"
   ]
  },
  {
   "cell_type": "code",
   "execution_count": 57,
   "metadata": {},
   "outputs": [],
   "source": [
    "cfreq_2gram = nltk.ConditionalFreqDist(bigram)"
   ]
  },
  {
   "cell_type": "code",
   "execution_count": null,
   "metadata": {},
   "outputs": [],
   "source": []
  },
  {
   "cell_type": "code",
   "execution_count": 59,
   "metadata": {},
   "outputs": [
    {
     "data": {
      "text/plain": [
       "{'uttar': FreqDist({'vermicelli': 2}),\n",
       " 'fermented': FreqDist({'chickpea': 10, 'meet': 9, 'soya': 8, 'red': 8, 'beetroot': 6, 'veg': 3, 'vegan': 3, 'soy': 3, 'japanese': 2, 'soybean': 2, ...}),\n",
       " 'daim': FreqDist({'bar': 3, 'sweet': 1}),\n",
       " 'extra': FreqDist({'virgin': 185, 'light': 28, 'sharp': 13, 'shot': 11, 'crunchy': 10, 'strength': 8, 'large': 8, 'v': 5, 'strong': 4, 'mature': 3, ...}),\n",
       " 'smoked': FreqDist({'mackerel': 36, 'gouda': 17, 'herring': 12, 'haddock': 12, 'paprika': 8, 'maureen': 2, 'brat': 2, 'gunda': 2, 'solomon': 2, 'kipper': 2, ...}),\n",
       " 'culotte': FreqDist({'rape': 2, 'palate': 1}),\n",
       " 'creme': FreqDist({'fraiche': 148, 'rule': 35, 'frail': 10, 'erythrit': 4, 'french': 3, 'glazed': 3, 'sauce': 2, 'pi': 2, \"don'ts\": 2, 'creche': 2, ...}),\n",
       " 'fromage': FreqDist({'there': 14, 'blanc': 14, 'vache': 12, 'frail': 11, 'vegetal': 2, 'brevis': 1, 'cottage': 1}),\n",
       " 'your': FreqDist({'nature': 4, 'grey': 1}),\n",
       " 'nature': FreqDist({'valley': 68, 'path': 20, 'bakery': 5, 'vache': 4, 'bounty': 3, 'sunshine': 3, 'wise': 2, 'own': 1, 'forest': 1, 'turmericbananasmoothie': 1, ...}),\n",
       " 'soupe': FreqDist({'dry': 4, 'legume': 2, 'joujou': 1, 'entitles': 1, 'course': 1}),\n",
       " 'java': FreqDist({'salted': 2, 'origin': 2}),\n",
       " 'venison': FreqDist({'bar': 7, 'stick': 3, 'pot': 2, 'liver': 2, 'radish': 1, 'epic': 1, 'leftover': 1, 'set': 1, 'ragu': 1, 'taking': 1, ...}),\n",
       " 'white': FreqDist({'sauce': 37, 'choc': 30, 'deaf': 28, 'no': 28, 'scramble': 26, 'delight': 21, 'castle': 20, 'instant': 18, 'claw': 18, 'kidney': 16, ...}),\n",
       " 'mixed': FreqDist({'veg': 98, 'raw': 43, 'leaf': 35, 'drink': 29, 'grain': 19, 'fresh': 19, 'unsalted': 18, 'vege': 15, 'steamed': 15, 'roasted': 11, ...}),\n",
       " 'liqueur': FreqDist({'shot': 3, 'ml': 1}),\n",
       " 'special': FreqDist({'k': 110, 'bugatti': 2, 'flake': 1, 'modern': 1, 'lo': 1, 'dip': 1, 'clear': 1}),\n",
       " 'sacred': FreqDist({'seven': 8, 'spring': 1}),\n",
       " 'sweet': FreqDist({'low': 112, 'sour': 103, 'pot': 36, 'salty': 32, 'spicy': 26, 'red': 17, 'italian': 8, 'drop': 8, 'pastry': 8, 'tart': 7, ...}),\n",
       " 'sars': FreqDist({'ka': 1}),\n",
       " 'ka': FreqDist({'halfa': 2, 'sang': 1, 'kai': 1, 'poa': 1, 'gas': 1, 'bertha': 1, 'simon': 1}),\n",
       " 'four': FreqDist({'stigmatic': 18, 'grain': 7, 'four': 4, 'season': 3, 'person': 2, 'somatic': 2, 'ww': 1, 'white': 1, 'ready': 1, 'famous': 1, ...}),\n",
       " 'stigmatic': FreqDist({'match': 3, 'chaka': 2, 'lion': 1, 'cordyceps': 1, 'adaptogen': 1, 'hot': 1, 'mu': 1, 'relish': 1}),\n",
       " 'flax': FreqDist({'hemp': 18, 'psyllium': 6, 'millet': 6, 'nib': 6, 'hempseed': 5, 'mix': 5, 'plus': 4, 'macao': 3, 'ezekiel': 2, 'mea': 2, ...}),\n",
       " 'blanc': FreqDist({'dry': 10, 'dine': 1}),\n",
       " 'hot': FreqDist({'sauce': 314, 'cross': 115, 'sour': 35, 'pocket': 30, 'pot': 28, 'choc': 28, 'macao': 23, 'fudge': 20, 'link': 20, 'saltwater': 13, ...}),\n",
       " 'blue': FreqDist({'moon': 25, 'stilton': 6, 'diamond': 5, 'brie': 5, 'ch': 4, 'black': 4, 'sic': 3, 'shropshire': 3, 'bunny': 3, 'vein': 3, ...}),\n",
       " 'packet': FreqDist({'crisp': 28, 'gap': 5, 'truvia': 5, 'stevie': 4, 'instant': 3, 'four': 2, 'ultrabiome': 2, 'plain': 2, 'chickpea': 1, 'hook': 1, ...}),\n",
       " 'gu': FreqDist({'gel': 2, 'millionaire': 2, 'electrolyte': 1, 'chew': 1, 'salted': 1, 'dessert': 1, 'hydration': 1}),\n",
       " 'energy': FreqDist({'bar': 131, 'ball': 74, 'bite': 25, 'exercise': 7, 'tablet': 7, 'mix': 6, 'gel': 6, 'frost': 5, 'shot': 4, 'chew': 4, ...}),\n",
       " 'risotto': FreqDist({'ball': 3, 'game': 2, 'whit': 1, 'veg': 1, 'mixed': 1, 'pe': 1, 'spr': 1, 'kitto': 1, 'c': 1, 'goodness': 1, ...}),\n",
       " 'whit': FreqDist({'beetroot': 1, 'mexican': 1}),\n",
       " 'night': FreqDist({'time': 5, 'sky': 3, 'night': 3, 'shade': 3, 'snack': 2, 'spell': 1, 'bolognese': 1, 'pm': 1, 'pig': 1, 'nurse': 1}),\n",
       " 'sky': FreqDist({'calm': 3, 'gm': 1, 'go': 1, 'fat': 1, 'g': 1, 'applesauce': 1, 'flax': 1, 'flake': 1}),\n",
       " 'mcdonald': FreqDist({\"'s\": 26, 'quarter': 1, 'big': 1, 'feast': 1, 'med': 1, 'parfois': 1, 'double': 1, 'fillet': 1}),\n",
       " 'breakfast': FreqDist({'bar': 85, 'drink': 13, 'nd': 11, 'snack': 9, 'brito': 8, 'ish': 8, 'overnight': 8, 'bake': 7, 'buffet': 7, 'patsy': 6, ...}),\n",
       " 'lot': FreqDist({'thing': 7, 'heavy': 2, 'veg': 2, 'g': 2, 'stuff': 2, 'tofutui': 1, 'liquorice': 1, 'celebration': 1, 'drank': 1, 'everything': 1, ...}),\n",
       " 'newman': FreqDist({'dairy': 1, 'ceaserdressing': 1, 'family': 1, 'uncurled': 1, 'white': 1}),\n",
       " 'dairy': FreqDist({'free': 142, 'queen': 20, 'cmr': 3, 'veg': 2, 'ail': 2, 'macao': 2, 'barn': 2, 'gluten': 2, 's': 1, 'bite': 1, ...}),\n",
       " 'miller': FreqDist({'lite': 58, 'light': 3, 'milkshake': 1, 'mutton': 1, 'sunday': 1}),\n",
       " 'lactose': FreqDist({'free': 199, 'feel': 1}),\n",
       " 'act': FreqDist({'powder': 195, 'c': 14, 'oo': 7, 'ml': 6, 'act': 5, 'shot': 4, 'evo': 3, 'tsp': 3, 'match': 2, 'em': 2, ...}),\n",
       " 'buttered': FreqDist({'crumpet': 2, 'scone': 2, 'brown': 2, 'steamed': 1, 'malt': 1, 'italian': 1, 'penne': 1, 'leek': 1, 'of': 1, 'hot': 1, ...}),\n",
       " 'one': FreqDist({'bar': 55, 'tsp': 53, 'third': 51, 'quarter': 37, 'square': 25, 'serving': 19, 'per': 18, 'one-half': 17, 'fourth': 15, 'whole': 15, ...}),\n",
       " 'lass': FreqDist({'insulin': 5, 'tsp': 1}),\n",
       " 'pickled': FreqDist({'herring': 23, 'okra': 10, 'red': 8, 'radish': 7, 'meet': 7, 'beetroot': 7, 'diakon': 4, 'gherkin': 4, 'turnip': 2, 'kohlrabi': 2, ...}),\n",
       " 'gluten': FreqDist({'free': 1064, 'dairy': 4, 'fr': 3, 'mill': 2, 'grain': 2, 'lunch': 1, 'freehomemade': 1, 'sable': 1, 'animal': 1, 'f': 1, ...}),\n",
       " 'acacia': FreqDist({'fibre': 17, 'powder': 13, 'senegal': 4, 'macca': 4, 'raw': 1}),\n",
       " 'spirulina': FreqDist({'powder': 13, 'chlorella': 5, 'corelli': 5, 'gm': 3, 'hemp': 2, 'algae': 2, 'energy': 1, 'red': 1, 'detox': 1, 'morning': 1, ...}),\n",
       " 'gobi': FreqDist({'powder': 4, 'manchurian': 2, 'tahiti': 2, 'bar': 1, 'dry': 1, 'suzi': 1, 'ki': 1, 'qatar': 1, 'berri': 1, 'grantham': 1, ...}),\n",
       " 'long': FreqDist({'black': 46, 'island': 13, 'grain': 12, 'john': 3, 'drink': 2, 'bao': 2, 'stem': 2, 'cone': 1, 'hot': 1, 'hots': 1, ...}),\n",
       " 'brat': FreqDist({'cann': 3, 'sour': 3, 'kraut': 2, 'party': 1, 'veto': 1, 'sm': 1, 'without': 1}),\n",
       " 'cage': FreqDist({'free': 13, 'au': 1}),\n",
       " 'free': FreqDist({'range': 41, 'weather': 26, 'diet': 26, 'greek': 20, 'florida': 17, 'soft': 12, 'possible': 10, 'rolled': 9, 'hot': 8, 'organic': 7, ...}),\n",
       " 'roasted': FreqDist({'red': 66, 'veg': 56, 'salted': 29, 'chickpea': 22, 'meet': 18, 'root': 18, 'fennel': 10, 'dandelion': 8, 'parsnip': 7, 'almondmilk': 7, ...}),\n",
       " 'whole': FreqDist({'grain': 246, 'what': 19, 'food': 18, 'fat': 17, 'organic': 15, 'clove': 12, 'multi': 11, 'rolled': 9, 'earth': 5, 'blend': 5, ...}),\n",
       " 'salted': FreqDist({'crisp': 15, 'carmel': 8, 'roasted': 6, 'curd': 4, 'g': 4, 'veg': 4, 'dry': 4, 'radish': 3, 'wild': 3, 'sardine': 2, ...}),\n",
       " 'quest': FreqDist({'bar': 175, 'fresco': 36, 'act': 14, 'dip': 7, 'area': 6, 'br': 4, 'white': 4, 'choc': 2, 'funding': 2, 'uva': 2, ...}),\n",
       " 'root': FreqDist({'powder': 14, 'veg': 14, 'extract': 4, 'yes': 3, 'capsule': 2, 'soy': 1, 'gratin': 1, 'red': 1, 'leek': 1, 'fritter': 1, ...}),\n",
       " 'chinese': FreqDist({'spice': 41, 'buffet': 35, 'leaf': 28, 'red': 15, 'herb': 14, 'steamed': 12, 'take-out': 9, 'preserved': 9, 'takeaway': 7, 'spicefennelcloves': 7, ...}),\n",
       " 'herb': FreqDist({'spice': 11, 'nothing': 6, 'trish': 4, 'ox': 4, 'lozenge': 4, 'seasoning': 2, 'grilled': 2, 'focaccia': 1, 'dried': 1, 'drink': 1, ...}),\n",
       " 'belly': FreqDist({'sheet': 2, 'elixir': 2, 'wonder': 2, 'korean': 1, 'g': 1, 'shot': 1, 'veg': 1, 'robotics': 1, 'buster': 1, 'reuben': 1, ...}),\n",
       " 'sheet': FreqDist({'pan': 5, 'roasted': 4, 'ribbed': 2, 'sub': 1, 'sour': 1}),\n",
       " 'pint': FreqDist({'cider': 27, 'low': 16, 'rosehip': 11, 'guinness': 10, 'lager': 10, 'keir': 5, 'skimmed': 5, 'stella': 3, 'peppermint': 3, 'san': 3, ...}),\n",
       " 'air': FreqDist({'popped': 24, 'fried': 21, 'fryer': 16, 'head': 2, 'frier': 1, 'dried': 1, 'fred': 1, 'spatburgunder': 1, 'pop': 1}),\n",
       " 'popped': FreqDist({'dill': 2, 'sorghum': 1, 'c': 1, 'grain': 1, 'no': 1}),\n",
       " 'gummy': FreqDist({'bear': 79, 'worm': 8, 'snack': 4, 'sweet': 4, 'fang': 1, 'packet': 1, 'dinosaur': 1, 'candle': 1, 'gel': 1}),\n",
       " 'vita': FreqDist({'coco': 2, 'cal': 1, 'k': 1, 'brit': 1, 'mulled': 1}),\n",
       " 'pinot': FreqDist({'noir': 108, 'origin': 39, 'gris': 8, 'nor': 1, 'grief': 1, 'gringo': 1}),\n",
       " 'soft': FreqDist({'drink': 51, 'serve': 16, 'shell': 14, 'boiled': 13, 'baked': 4, 'bake': 3, 'kerrygold': 2, 'boil': 2, 'nougat': 2, 'g': 1, ...}),\n",
       " 'grass': FreqDist({'fed': 581, 'organic': 10, 'feed': 6, 'superfund': 6, 'energy': 4, 'power': 4, 'veto': 4, 'shot': 3, 'powder': 3, 'bone': 2, ...}),\n",
       " 'hard': FreqDist({'cider': 146, 'cooked': 28, 'boil': 16, 'shell': 6, 'root': 4, 'boiled': 3, 'g': 3, 'flat': 2, 'booked': 1, 'chick': 1, ...}),\n",
       " 'sex': FreqDist({'beach': 2, 'dust': 2}),\n",
       " 'hershey': FreqDist({'kiss': 52, 'bar': 20, 'nugget': 6, 'dark': 4, 'miniature': 3, 'mini': 3, 'unsweetened': 2, 'creme': 2, 'gold': 2, 'snack': 2, ...}),\n",
       " 'teaspoon': FreqDist({'organic': 14, 'glutamine': 12, 'unsweetened': 8, 'psyllium': 8, 'sucker': 6, 'grass': 5, 'soy': 4, 'raw': 4, 'insulin': 4, 'full': 3, ...}),\n",
       " 'crown': FreqDist({'royal': 7, 'sprite': 4, 'prince': 2, 'royale': 1, 'chapati': 1, 'ho': 1}),\n",
       " 'eton': FreqDist({'ho': 7, 'mess': 5, 'spicy': 1}),\n",
       " 'bone': FreqDist({'broth': 928, 'marrow': 11, 'skin': 3, 'booth': 3, 'generic': 2, 'shiite': 2, 'oliver': 1, 'vege': 1, 'gelatin': 1, 'boot': 1, ...}),\n",
       " 'parsley': FreqDist({'sauce': 5, 'sleep': 4, 'coriander': 3, 'chive': 3, 'root': 3, 'u': 1, 'crepe': 1, 'dandelion': 1, 'g': 1, 'flatbed': 1, ...}),\n",
       " 'of': FreqDist({'crepe': 14, 'bar': 9, 'international': 8, 'choc': 7, 'penne': 5, 'df': 4, 'shortbread': 4, 'buckwheat': 3, 'hot': 3, 'blue': 3, ...}),\n",
       " 'tom': FreqDist({'yum': 16, 'ha': 12, 'sauce': 10, 'ka': 5, 'mozzerella': 4, 'pep': 3, 'cher': 2, 'luke': 2, 'brow': 1, 'flat': 1, ...}),\n",
       " 'great': FreqDist({'northern': 20, 'lake': 17, 'harvest': 7, 'grain': 6, 'value': 5, 'red': 1, 'penutbutter': 1}),\n",
       " 'lake': FreqDist({'gelatin': 7}),\n",
       " 'organic': FreqDist({'whole': 56, 'soy': 29, 'macao': 27, 'unsweetened': 26, 'instant': 25, 'eq': 24, 'raw': 17, 'dark': 14, 'red': 12, 'dandelion': 11, ...}),\n",
       " 'mesa': FreqDist({'sunrise': 12, 'flake': 7, 'brunch': 1}),\n",
       " 'steel': FreqDist({'cut': 96, 'ct': 2, 'rolled': 1}),\n",
       " 'cider': FreqDist({'vinegary': 7, 'vin': 6, 'ml': 6, 'ac': 5, 'vi': 4, 'manager': 4, 'drink': 3, 'pint': 2, 'vintage': 2, 'hard': 2, ...}),\n",
       " 'steamed': FreqDist({'veg': 27, 'frozen': 10, 'meet': 9, 'mixed': 7, 'celeriac': 7, 'buffalo': 6, 'bok': 6, 'nonstarchy': 6, 'beetroot': 5, 'red': 4, ...}),\n",
       " 'brie': FreqDist({'chunk': 4, 'vache': 4, 'g': 4, 'baguette': 3, 'readable': 2, 'french': 2, 'havant': 1, 'ciabatta': 1, 'piccadilly': 1, 'aubergine': 1, ...}),\n",
       " 'mediterranean': FreqDist({'polenta': 18, 'veg': 10, 'chopped': 4, 'steam': 4, 'crunch': 2, 'buffet': 2, 'mix': 2, 'combo': 2, 'farr': 1, 'platter': 1, ...}),\n",
       " 'american': FreqDist({'breakfast': 8, 'chop': 4, 'goulash': 3, 'black': 2, 'hot': 2, 'saffron': 1, 'beauty': 1, 'ch': 1, 'single': 1, 'bulk': 1, ...}),\n",
       " 'fibre': FreqDist({'one': 85, 'drink': 50, 'bar': 19, 'powder': 15, 'dish': 7, 'pom': 5, 'supp': 5, 'raw': 5, 'blend': 4, 'dummy': 4, ...}),\n",
       " 'eg': FreqDist({'g': 38, 'sun': 1}),\n",
       " 'bullet': FreqDist({'proof': 179, 'drink': 5, 'prof': 3, 'bar': 3, 'fee': 1, 'hot': 1, 'off': 1, 'bourbon': 1}),\n",
       " 'spoon': FreqDist({'ground': 56, 'greek': 19, 'ghee': 4, 'milled': 4, 'black': 3, 'ff': 3, 'full': 2, 'taxing': 2, 'coco': 2, 'deal': 2, ...}),\n",
       " 'table': FreqDist({'spoon': 26, 'marmalade': 1, 'red': 1, 'buffet': 1, 'side': 1, 'telmisartan': 1, 'falae': 1, 'whip': 1, 'sauce': 1}),\n",
       " 'dough': FreqDist({'ball': 8, 'cypress': 2, 'bite': 2, 'lauchewholemeal': 2, 'fat': 2, 'wafer': 1, 'dough': 1, 'wholewheat': 1, 'veg': 1, 'disco': 1, ...}),\n",
       " 'con': FreqDist({'carne': 76, 'lech': 14, 'quest': 12, 'poll': 6, 'marmellata': 5, 'verdure': 4, 'jason': 4, 'papa': 3, 'cara': 3, 'mermelada': 2, ...}),\n",
       " 'hill': FreqDist({'shire': 2, 'cocktail': 1, 'fudge': 1, 'hard': 1, 'squirrell': 1, 'bros': 1}),\n",
       " 'shire': FreqDist({'farm': 2}),\n",
       " 'nugget': FreqDist({'wtoffeealmonds': 2, 'pc': 2, 'sauce': 1, 'unidad': 1, 'buffalo': 1, 'gr': 1, 'airfield': 1, 'soy': 1, 'chick': 1, 'chiefly': 1, ...}),\n",
       " 'cadbury': FreqDist({'mini': 7, 'dairy': 4, 'finger': 3, 'choc': 3, 'crunchie': 2, 'carmel': 1, 'fruitful': 1, 'top': 1, 'wholenut': 1, 'rose': 1, ...}),\n",
       " 'big': FreqDist({'mac': 49, 'antioxidant': 14, 'low': 12, 'as': 12, 'mug': 7, 'red': 6, 'breakfast': 6, 'handful': 5, 'spoon': 4, 'balanced': 3, ...}),\n",
       " 'antioxidant': FreqDist({'mix': 18, 'drink': 14, 'confusion': 6, 'p': 1, 'infusion': 1}),\n",
       " 'dried': FreqDist({'apricot': 191, 'prune': 17, 'unsweetened': 9, 'ostrich': 8, 'sour': 8, 'phyllis': 7, 'oregano': 7, 'mulberry': 7, 'inca': 5, 'snap': 5, ...}),\n",
       " 'pak': FreqDist({'choi': 40, 'chop': 10, 'chou': 2}),\n",
       " 'cole': FreqDist({'law': 234, 'zero': 10, 'whey': 1, 'saw': 1, 'vege': 1}),\n",
       " 'crunch': FreqDist({'bar': 51, 'skim': 2, 'blast': 1, 'chickpea': 1, 'segment': 1, 'munch': 1, 'kid': 1, 'six': 1, 'wasp': 1, 'bunch': 1, ...}),\n",
       " 'think': FreqDist({'thin': 40, 'veto': 2, 'paste': 1, 'ful': 1}),\n",
       " 'danish': FreqDist({'pastry': 21, 'cremecheese': 1, 'dream': 1, 'smorgasbord': 1, 'pringle': 1}),\n",
       " 'inc': FreqDist({'sport': 3, 'wheybolic': 1}),\n",
       " 'sport': FreqDist({'drink': 29, 'mv': 7, 'dri': 3, 'bcaas': 3, 'bar': 2, 'hydration': 1, 'energize': 1, 'flavoured': 1, 'str': 1, 'electrolyte': 1, ...}),\n",
       " 'naked': FreqDist({'bar': 56, 'ju': 45, 'snack': 6, 'blue': 2, 'whey': 1, 'vegetarian': 1, 'red': 1, 'wholefood': 1, 'g': 1, 'dat': 1, ...}),\n",
       " 'eat': FreqDist({'natural': 13, 'out': 4, 'tuesday': 2, 'churrascaria': 1, 'falae': 1, 'everything': 1, 'pm': 1, 'smart': 1, 'abouhalf': 1, 'drink': 1, ...}),\n",
       " 'natural': FreqDist({'greek': 11, 'calm': 11, 'bar': 10, 'vegetables': 6, 'blackcurrants': 4, 'crunchy': 4, 'bliss': 3, 'flavor': 3, 'yoghourt': 3, 'organic': 2, ...}),\n",
       " 'thai': FreqDist({'red': 21, 'veg': 6, 'sauce': 6, 'prawn': 5, 'sweet': 4, 'dinner': 4, 'spicy': 3, 'pad': 3, 'lunch': 3, 'snack': 2, ...}),\n",
       " 'limit': FreqDist({'pom': 2, 'g': 2}),\n",
       " 'trek': FreqDist({'bar': 6, 'mix': 4, 'flapjack': 1, 'snack': 1}),\n",
       " 'milky': FreqDist({'way': 20, 'deaf': 2, 'bar': 2, 'cafe': 2, 'war': 1, 'gelatin': 1}),\n",
       " 'stone': FreqDist({'ground': 13, 'free': 3, 'fried': 1, 'peak': 1, 'imperial': 1}),\n",
       " 'ground': FreqDist({'flashed': 102, 'flax': 35, 'linseed': 23, 'macao': 9, 'flaxseed': 8, 'gr': 6, 'mac': 5, 'rolled': 5, 'clove': 4, 'chuck': 4, ...}),\n",
       " 'pollack': FreqDist({'patty': 2, 'blackened': 1}),\n",
       " 'sou': FreqDist({'side': 23, 'shot': 1, 'vida': 1}),\n",
       " 'chopped': FreqDist({'sirloin': 5, 'fennel': 3, 'sweet': 3, 'veg': 3, 'frozen': 2, 'raw': 1, 'tom': 1, 'southern': 1, 'liver': 1, 'tin': 1, ...}),\n",
       " 'sirloin': FreqDist({'cho': 2, 'blue': 2, 'roasted': 2, 'grilled': 1, 'ox': 1, 'strip': 1, 'whole': 1, 'stenhouse': 1, 'diane': 1, 'steamed': 1, ...}),\n",
       " 'foot': FreqDist({'long': 13, 'papaya': 5, 'broth': 1, 'tabuchi': 1, 'blood': 1}),\n",
       " 'virgin': FreqDist({'caesar': 6, 'canova': 3, 'monitor': 3, 'pina': 2, 'mary': 1, 'extra': 1, 'pin': 1, 'daiquiri': 1, 'guava': 1, 'gt': 1, ...}),\n",
       " 'oslo': FreqDist({'bucko': 7, 'buck': 5, 'book': 1}),\n",
       " 'snack': FreqDist({'bar': 79, 'mix': 46, 'size': 29, 'hot': 20, 'pack': 13, 'stick': 9, 'bag': 5, 'crisp': 4, 'herring': 4, 'bite': 3, ...}),\n",
       " 'frosted': FreqDist({'mini': 55, 'flake': 35, 'shredded': 5, 'drink': 1, 'pop': 1, 'diet': 1, 'miniwheats': 1, 'animal': 1, 'yellow': 1, 'short': 1, ...}),\n",
       " 'jan': FreqDist({'th': 1, 'nd': 1, 'liver': 1}),\n",
       " 'th': FreqDist({'tsp': 4, 'cost': 2, 'c': 2, 'crt': 2, 'dinner': 1, 'heaven': 1, 'serving': 1, 'ox': 1, 'annie': 1, 'sep': 1}),\n",
       " 'dinner': FreqDist({'out': 10, 'nd': 10, 'dessert': 6, 'buffet': 5, 'rd': 4, 'kcal': 4, 'pm': 4, 'sweet': 4, 'leftover': 4, 'vege': 3, ...}),\n",
       " 'veto': FreqDist({'bar': 34, 'fat': 19, 'bomb': 18, 'mug': 13, 'friendly': 12, 'key': 11, 'chow': 10, 'choc': 9, 'treat': 9, 'bite': 8, ...}),\n",
       " 'roast': FreqDist({'veg': 60, 'dinner': 35, 'parsnip': 20, 'gammon': 6, 'beetroot': 5, 'frankfurter': 5, 'cutlet': 5, 'root': 4, 'vege': 4, 'vegan': 3, ...}),\n",
       " 'blended': FreqDist({'haji': 1, 'papaya': 1}),\n",
       " 'detox': FreqDist({'blend': 3, 'island': 3, 'infusion': 3, 'drink': 2, 'body': 1, 'herbal': 1, 'beat': 1, 'bake': 1}),\n",
       " 's': FreqDist({'oi': 2, 'paste': 1, 'fried': 1}),\n",
       " 'fenugreek': FreqDist({'leaf': 51, 'sharia': 1, 'alms': 1, 'le': 1}),\n",
       " 'nutritional': FreqDist({'yeast': 410, 'bar': 2, 'yea': 1}),\n",
       " 'wood': FreqDist({'ear': 24, 'chuck': 3, 'portion': 3, 'pigeon': 1}),\n",
       " 'fried': FreqDist({'okra': 34, 'veg': 15, 'catfish': 12, 'squid': 9, 'dough': 6, 'ymca': 6, 'bologna': 5, 'salted': 4, 'ric': 4, 'hake': 4, ...}),\n",
       " 'size': FreqDist({'knickers': 17, 'twix': 4, 'reeses': 4, 'kit': 3, 'bag': 3, 'red': 2, 'butterfingers': 2, 'kit-kat': 2, 'candle': 2, 'lol': 2, ...}),\n",
       " 'handful': FreqDist({'brazil': 16, 'sultana': 12, 'salted': 9, 'raw': 7, 'mixed': 6, 'crisp': 5, 'dried': 4, 'swedish': 4, 'dry': 3, 'm': 3, ...}),\n",
       " 'brewer': FreqDist({'yeast': 15, 'ore': 1, 'nat': 1}),\n",
       " 'pop': FreqDist({'tart': 100, 'corner': 8, 'sea': 2, 'kettle': 2, 'choi': 2, 'of': 2, 'crisp': 2, 'secret': 1, 'cycle': 1, 'aged': 1, ...}),\n",
       " 'milo': FreqDist({'without': 2, 'sweet': 1, 'with': 1, 'light': 1, 'drink': 1}),\n",
       " 'jason': FreqDist({'iberian': 17, 'serrano': 8, 'quest': 2, 'deli': 2, 'nutty': 1, 'flatbed': 1, 'con': 1, 'pave': 1}),\n",
       " 'g': FreqDist({'whey': 25, 'reg': 22, 'deaf': 22, 'creatine': 18, 'kim': 16, 'percent': 12, 'wild': 11, 'fat': 11, 'mixed': 11, 'bit': 9, ...}),\n",
       " 'diet': FreqDist({'mountain': 93, 'root': 42, 'man': 24, 'pop': 21, 'sunrise': 21, 'no': 17, 'sprite': 15, 'bar': 11, 'wild': 10, 'doctor': 10, ...}),\n",
       " 'chicory': FreqDist({'drink': 17, 'root': 5, 'beverage': 2, 'cafe': 2, 'stevie': 2, 'shilazit': 2, 'base': 1, 'head': 1, 'soy': 1, 'mac': 1, ...}),\n",
       " 'mash': FreqDist({'veg': 10, 'pot': 5, 'mushy': 2, 'g': 2, 'ya': 1, 'brown': 1, 'serv': 1, 'pat': 1}),\n",
       " 'sutra': FreqDist({'grain': 2, 'breakfast': 2, 'snack': 1}),\n",
       " 'colby': FreqDist({'jack': 77, 'monterey': 3}),\n",
       " 'bk': FreqDist({'copper': 2, 'whopper': 2, 'double': 2, 'no': 1, 'hershey': 1, 'hashbrown': 1, 'p': 1, 'impossible': 1, 'original': 1, 'crispy': 1, ...}),\n",
       " 'apricot': FreqDist({'preserve': 7, 'dried': 6, 'kernel': 5, 'choc': 3, 'pastry': 3, 'scone': 2, 'handful': 2, 'chutney': 2, 'prune': 2, 'bar': 2, ...}),\n",
       " 'mackerel': FreqDist({'fillet': 15, 'pate': 8, 'g': 6, 'file': 3, 'veg': 2, 'hashemi': 2, 'spicy': 1, 'extra': 1, 'dinner': 1, 'sauce': 1, ...}),\n",
       " 'verba': FreqDist({'mate': 200, 'matte': 5, 'matta': 1}),\n",
       " 'mix': FreqDist({'g': 33, 'veg': 22, 'herb': 10, 'vit': 7, 'mac': 5, 'dried': 4, 'berri': 4, 'snack': 4, 'cooked': 4, 'max': 3, ...}),\n",
       " 'chub': FreqDist({'mackerel': 4, 'ga': 1}),\n",
       " 'smart': FreqDist({'balance': 17, 'sweet': 12, 'pop': 5, 'one': 3, 'puff': 2, 'pant': 2, 'bal': 2, 'white': 2, 'b': 1, 'start': 1, ...}),\n",
       " 'marshmallow': FreqDist({'treat': 2, 'kiss': 2, 'graham': 2, 'mate': 1, 'sage': 1, 'choc': 1, 'fire': 1, 'peep': 1, 'dessert': 1, 'bar': 1, ...}),\n",
       " 'wendy': FreqDist({'spicy': 7, 'double': 6, 'single': 5, 'large': 5, 'baconator': 3, 'jr': 3, 'del': 3, 'nugget': 2, 'sm': 2, 'daves': 2, ...}),\n",
       " 'lunch': FreqDist({'time': 10, 'kcal': 6, 'nd': 5, 'say': 5, 'buffet': 5, 'dinner': 5, 'box': 4, 'calorie': 4, 'pm': 4, 'special': 4, ...}),\n",
       " 'cleanse': FreqDist({'life': 6, 'dr': 6, 'drink': 5, 'herbal': 2, 'love': 1, 'plus': 1, 'fizz': 1, 'fibre': 1, 'start': 1}),\n",
       " 'life': FreqDist({'low': 10, 'saver': 9, 'raw': 5, 'drink': 3, 'bar': 2, 'whole': 2, 'multi': 2, 'lite': 2, 'skim': 2, 'fibre': 2, ...}),\n",
       " 'caveman': FreqDist({'bar': 10, 'nutrition': 1}),\n",
       " 'adam': FreqDist({'goreng': 4, 'octoberfest': 2, 'cold': 1, 'white': 1, 'boston': 1, 'radish': 1, 'oktoberfest': 1, 'summer': 1, 'winter': 1, 'halfa': 1}),\n",
       " 'nazi': FreqDist({'goreng': 8, 'leak': 6, 'goring': 2, 'campus': 2, 'dating': 1, 'gore': 1, 'rufus': 1, 'palang': 1, 'berazi': 1}),\n",
       " 'dating': FreqDist({'mera': 1}),\n",
       " 'shame': FreqDist({'kebab': 3, 'kath': 1}),\n",
       " 'loaf': FreqDist({'white': 2, 'provolone': 1, 'leafy': 1, 'portion': 1, 'mass': 1}),\n",
       " 'black': FreqDist({'deaf': 79, 'eyed': 62, 'filter': 49, 'currant': 47, 'forest': 27, 'unsweetened': 26, 'eye': 25, 'upgraded': 20, 'peppercorn': 13, 'white': 10, ...}),\n",
       " 'red': FreqDist({'bush': 88, 'ml': 62, 'sauce': 59, 'leaf': 56, 'kidney': 54, 'velvet': 32, 'hot': 29, 'caesium': 25, 'yellow': 24, 'radish': 23, ...}),\n",
       " 'nib': FreqDist({'ground': 7, 'apricot': 2, 'match': 2, 'tsp': 2, 'spelt': 1, 'unsweetened': 1, 'g': 1, 'shredded': 1, 'energy': 1}),\n",
       " 'sabra': FreqDist({'pine': 2, 'knacker': 1, 'classic': 1, 'red': 1, 'knickers': 1, 'roasted': 1}),\n",
       " 'morning': FreqDist({'powder': 45, 'star': 28, 'snack': 20, 'glory': 11, 'tsp': 8, 'cocktail': 7, 'drink': 6, 'mess': 5, 'thunder': 3, 'complete': 3, ...}),\n",
       " 'stella': FreqDist({'artois': 19, 'cider': 1, 'larger': 1, 'door': 1, 'dip': 1, 'pint': 1}),\n",
       " 'stevie': FreqDist({'hey': 47, 'drop': 23, 'g': 23, 'raw': 15, 'extract': 14, 'sweetened': 13, 'sweetener': 12, 'choc': 11, 'heavy': 10, 'nutpod': 9, ...}),\n",
       " 'pu': FreqDist({'er': 36, 'err': 2, 'her': 2}),\n",
       " 'jasmine': FreqDist({'flower': 12, 'deaf': 6, 'free': 1, 'rise': 1, 'white': 1, 'unsweetened': 1}),\n",
       " 'sang': FreqDist({'pander': 19, 'chop': 1, 'eggplantmasala': 1, 'markham': 1, 'choi': 1, 'rot': 1, 'curd': 1, 'chickpea': 1, 'china': 1, 'jakki': 1, ...}),\n",
       " 'chop': FreqDist({'sue': 16, 'sum': 14, 'veg': 3, 'bow': 2, 'snack': 2, 'shop': 2, 'papaya': 1, 'organic': 1, 'rain': 1, 'leaf': 1, ...}),\n",
       " 'heavy': FreqDist({'whipping': 22, 'whip': 8, 'metal': 8, 'whipped': 4, 'erm': 3, 'indian': 2, 'wiping': 2, 'cre': 2, 'binge': 1, 'dinner': 1, ...}),\n",
       " 'whipping': FreqDist({'cre': 11, 'erm': 5, 'cr': 3, 'c': 1}),\n",
       " 'nutrigrain': FreqDist({'bar': 18, 'breakfast': 1}),\n",
       " 'preside': FreqDist({'breakfast': 1}),\n",
       " 'flat': FreqDist({'white': 437, 'iron': 4, 'brea': 2, 'out': 2, 'fortune': 1, 'b': 1, 'round': 1, 'leaf': 1}),\n",
       " 'gc': FreqDist({'control': 3, 'cheesy': 1}),\n",
       " 'dlp': FreqDist({'no': 2}),\n",
       " 'bar': FreqDist({'g': 39, 'calorie': 20, 'root': 14, 'snack': 12, 'fast': 8, 'kcal': 6, 'chico': 5, 'b': 5, 'save': 4, 'white': 3, ...}),\n",
       " 'vegan': FreqDist({'margarine': 10, 'chickpea': 9, 'gluten': 9, 'no': 9, 'nugget': 8, 'choc': 8, 'robs': 8, 'breakfast': 8, 'lunch': 7, 'g': 7, ...}),\n",
       " 'crust': FreqDist({'le': 4, 'wth': 2, 'piz': 1, 'deluxe': 1, 'peri': 1, 'frozen': 1, 'hawaiian': 1, 'supreme': 1, 'crumble': 1, 'edge': 1, ...}),\n",
       " 'granny': FreqDist({'smith': 50, 'bar': 1}),\n",
       " 'crystal': FreqDist({'light': 165, 'lite': 44, 'demerara': 35, 'geyser': 5, 'big': 1, 'sauce': 1}),\n",
       " 'borage': FreqDist({'flower': 6}),\n",
       " 'viola': FreqDist({'flower': 6}),\n",
       " 'calendula': FreqDist({'petal': 6}),\n",
       " 'pale': FreqDist({'bar': 17, 'choc': 5, 'chef': 5, 'mix': 3, 'bite': 3, 'veto': 3, 'mixed': 3, 'muslim': 3, 'snack': 2, 'thin': 2, ...}),\n",
       " 'dr': FreqDist({'rhonda': 49, 'formulated': 48, 'zevia': 16, 'ranger': 8, 'r': 6, 'greer': 3, 'mercia': 3, 'brother': 2, 'cow': 2, 'b': 1, ...}),\n",
       " 'formulated': FreqDist({'mitotic': 48}),\n",
       " 'primal': FreqDist({'kitchen': 21, 'plant': 16, 'bar': 7, 'vegan': 3, 'fuel': 2, 'caesar': 2, 'lemncrunch': 1, 'omega': 1, 'may': 1, 'thin': 1}),\n",
       " 'scone': FreqDist({'clotted': 5, 'one': 1, 'hot': 1, 'meet': 1, 'white': 1, 'nit': 1, 'marmalade': 1, 'dough': 1, 'healthy': 1, 'sultana': 1, ...}),\n",
       " 'bok': FreqDist({'chop': 203, 'choi': 40, 'chou': 2, 'cho': 1, 'chris': 1}),\n",
       " 'sloppy': FreqDist({'joe': 66, 'joes': 27, 'feline': 1}),\n",
       " 'joe': FreqDist({'white': 2, 'cole': 1, 'bunker': 1, 'pander': 1, 'mix': 1, 'tuscan': 1, 'choc': 1, 'bar': 1, 'joes': 1, 'premium': 1, ...}),\n",
       " 'earl': FreqDist({'grey': 562, 'gray': 54, 'great': 2, 'kalacheese': 1}),\n",
       " 'p': FreqDist({'b': 19, 'act': 6, 'oo': 3, 'l': 2, 'abu': 2, 'c': 2, 'con': 2, 'int': 1, 'muscle': 1, 'spend': 1, ...}),\n",
       " 'b': FreqDist({'complex': 46, 'vit': 16, 'nadine': 10, 'b': 7, 'mcg': 5, 'ready': 5, 'q': 5, 'p': 4, 'k': 3, 'j': 2, ...}),\n",
       " 'grill': FreqDist({'stuffed': 3, 'halim': 2, 'thigh': 1, 'fresh': 1, 'rustic': 1, 'ch': 1, 'veg': 1, 'gurle': 1, 'kebab': 1}),\n",
       " 'pitta': FreqDist({'low': 2, 'veg': 1, 'br': 1, 'churn': 1, 'pb': 1, 'souvlaki': 1, 'brad': 1, 'aubergine': 1, 'g': 1, 'humour': 1}),\n",
       " 'ox': FreqDist({'tail': 11, 'liver': 4, 'semi': 3, 'bile': 3, 'tongue': 3, 'heart': 1, 'bone': 1}),\n",
       " 'no': FreqDist({'sweetener': 155, 'fat': 28, 'added': 20, 'bake': 19, 'carbs': 11, 'cow': 10, 'calorie': 10, 'addition': 10, 'skin': 9, 'alcohol': 9, ...}),\n",
       " 'sweetener': FreqDist({'no': 104, 'dash': 11, 'tsp': 6, 'whole': 5, 'snl': 1}),\n",
       " 'pico': FreqDist({'gallo': 103, 'gay': 5, 'guy': 2, 'gill': 2, 'gall': 2, 'pica': 1, 'gal': 1}),\n",
       " 'mini': FreqDist({'magnum': 25, \"don'ts\": 23, 'knickers': 22, 'moo': 20, 'twix': 9, 'choc': 9, 'bliss': 8, 'baby': 8, 'shredded': 7, 'hashbrowns': 7, ...}),\n",
       " 'bliss': FreqDist({'ball': 41}),\n",
       " 'choc': FreqDist({'bar': 20, 'square': 20, 'covered': 16, 'finger': 15, 'vol': 13, 'gm': 11, 'g': 9, 'zero': 9, 'mousse': 7, 'mix': 7, ...}),\n",
       " 'grand': FreqDist({'flashed': 2, 'marnier': 1, 'mariner': 1, 'sandbar': 1, 'slam': 1, 'flax': 1, 'mini': 1, 'fun': 1}),\n",
       " 'prune': FreqDist({'fibre': 5, 'soaked': 4, 'flax': 3, 'mixed': 2, 'whip': 1, 'apricot': 1, 'boiled': 1, 'tarte': 1, 'pitted': 1, 'stuffed': 1, ...}),\n",
       " 'ho': FreqDist({'serv': 6, 'cran': 3, 'teaspoon': 2, 'tsp': 2, 'servingsperbottle': 1, 'severe': 1, 'pinch': 1, 'act': 1, 'no': 1, 'fun': 1, ...}),\n",
       " 'sun': FreqDist({'flower': 10, 'dried': 7, 'warrior': 4, 'drop': 3, 'shining': 3, 'kiwi': 2, 'flr': 2, 'lolly': 2, 'cmr': 1, 'immunity': 1, ...}),\n",
       " 'foster': FreqDist({'lager': 2}),\n",
       " 'grain': FreqDist({'free': 83, 'bar': 15, 'veg': 12, 'lin': 9, 'le': 6, 'brd': 4, 'gluten': 4, 'hot': 4, 'thin': 4, 'spelt': 4, ...}),\n",
       " 'foam': FreqDist({'topping': 18, 'mascara': 1, 'screen': 1}),\n",
       " 'mcdonalds': FreqDist({'large': 5, 'double': 4, 'quarter': 4, 'breakfast': 3, 'hashbrown': 3, 'l': 3, 'jr': 3, 'big': 3, 'hot': 2, 'nugget': 2, ...}),\n",
       " 'baba': FreqDist({'ganesh': 37, 'ghannouj': 6, 'ghanouj': 6, 'powder': 3, 'ghanoush': 3, 'stevie': 2, 'gahnoojh': 1, 'gang': 1, 'janus': 1, 'ganoushj': 1, ...}),\n",
       " 'overnight': FreqDist({'soaked': 14, 'groat': 2, 'pat': 1, 'oates': 1, 'oath': 1, 'breakfast': 1}),\n",
       " 'meth': FreqDist({'samantha': 4, 'martha': 4, 'kapoor': 1, 'haji': 1, 'also': 1, 'malai': 1}),\n",
       " 'dfc': FreqDist({'lunch': 1}),\n",
       " 'san': FreqDist({'pellegrino': 27, 'miguel': 7, 'peregrine': 1, 'cocho': 1, 'pellegrini': 1, 'belgrano': 1, 'chow': 1, 'sebastian': 1, 'mig': 1, 'chop': 1, ...}),\n",
       " 'bl': FreqDist({'chs': 1}),\n",
       " 'ok': FreqDist({'pot': 8}),\n",
       " 'pot': FreqDist({'roast': 101, 'sticker': 44, 'filter': 8, 'luck': 6, 'blackcurrant': 4, 'veg': 4, 'peppermint': 2, 'earl': 2, 'sky': 2, 'herbal': 2, ...}),\n",
       " 'l': FreqDist({'bar': 52, 'glutamine': 23, 'drink': 16, 'carnitine': 7, 'argentine': 6, 'reuter': 6, 'theanine': 5, 'histidine': 5, 'mth': 4, 'citrulline': 3, ...}),\n",
       " 'fc': FreqDist({'finger': 5, 'leg': 2, 'wicked': 2, 'famous': 2, 'go': 2, 'thigh': 1, 'wiser': 1, 'drum': 1, 'pc': 1, 'original': 1, ...}),\n",
       " 'burnt': FreqDist({'end': 10}),\n",
       " 'such': FreqDist({'spr': 1, 'beterraba': 1, 'uva': 1, 'abacaxi': 1, 'sourdgh': 1}),\n",
       " 'pulsing': FreqDist({'bar': 2}),\n",
       " 'whey': FreqDist({'isolate': 49, 'powder': 38, 'g': 5, 'gold': 4, 'energy': 3, 'pro': 2, 'smooth': 2, 'bar': 2, 'dip': 2, 'chico': 1, ...}),\n",
       " 'isolate': FreqDist({'c': 13, 'mixed': 7, 'drink': 3, 'g': 2}),\n",
       " 'tesco': FreqDist({'soya': 7, 'fungus': 2, 'mini': 1, 'mediterranean': 1, 'finest': 1}),\n",
       " 'sample': FreqDist({'diet': 10, 'cost': 2, 'platter': 1, 'farmer': 1, 'bite': 1, 'kiwi': 1, 'hague': 1}),\n",
       " 'leaf': FreqDist({'g': 19, 'kiichi': 5, 'mix': 5, 'unsweetened': 4, 'sweet': 3, 'extract': 2, 'stuffed': 2, 'organic': 1, 'tuscan': 1, 'match': 1, ...}),\n",
       " 'dill': FreqDist({'parsley': 6, 'sauce': 6, 'raw': 4, 'dip': 4, 'spear': 4, 'caper': 1, 'gherkin': 1, 'pile': 1, 'seasoning': 1, 'lava': 1, ...}),\n",
       " 'te': FreqDist({'verde': 5, 'spoon': 2, 'jengibre': 1, 'manzanilla': 1, 'bike': 1, 'zuccherato': 1, 'mex': 1, 'curcuma': 1}),\n",
       " 'brewed': FreqDist({'black': 4, 'macao': 3, 'english': 1}),\n",
       " 'gratin': FreqDist({'dauphinois': 4, 'de': 3, 'palate': 1, 'aubergine': 1}),\n",
       " 'de': FreqDist({'pate': 3, 'amended': 1}),\n",
       " 'skinny': FreqDist({'pop': 64, 'cow': 18, 'white': 14, 'deaf': 6, 'taste': 6, 'cafe': 6, 'girl': 5, 'flat': 4, 'belgian': 3, 'dipped': 2, ...}),\n",
       " 'chef': FreqDist({'mix': 69, 'party': 4, 'c': 3, 'fairlife': 1, 'whole': 1, 'special': 1, 'bar': 1, 'snack': 1}),\n",
       " 'indian': FreqDist({'buffet': 21, 'dessert': 9, 'sweet': 8, 'takeaway': 8, 'flatbed': 5, 'samoa': 5, 'snack': 5, 'vege': 4, 'spice': 4, 'dinner': 3, ...}),\n",
       " 'healthy': FreqDist({'choice': 30, 'fat': 6, 'tv': 4, 'harvest': 3, 'dried': 2, 'breakfast': 1, 'life': 1, 'bar': 1, 'western': 1, 'skin': 1, ...}),\n",
       " 'choice': FreqDist({'tv': 13, 'fudge': 5, 'power': 2, 'dinner': 2, 'simply': 2, 'bar': 2, 'kung': 1, 'lunch': 1, 'steamer': 1, 'falae': 1}),\n",
       " 'fudge': FreqDist({'bar': 23, 'sunday': 19, 'pop': 4, 'variation': 2, 'sauce': 2, 'stripe': 2, 'covered': 2, 'round': 2, 'strip': 1, 'prawn': 1, ...}),\n",
       " 'landor': FreqDist({'truffle': 4, 'choc': 3, 'ball': 2, 'percent': 2, 'gm': 1, 'linda': 1, 'extra': 1}),\n",
       " 'coco': FreqDist({'powder': 17, 'pop': 5, 'nib': 5, 'ball': 4, 'loco': 4, 'puff': 4, 'whip': 3, 'bar': 3, 'mix': 2, 'fraiche': 2, ...}),\n",
       " 'quorn': FreqDist({'mince': 19, 'fillet': 7, 'vegan': 4, 'nugget': 4, 'cocktail': 4, 'cottage': 4, 'veg': 2, 'hot': 2, 'stroganov': 2, 'escape': 2, ...}),\n",
       " 'guava': FreqDist({'pastry': 2, 'paste': 2, 'nectar': 2, 'viennese': 1, 'chutney': 1, 'rock': 1, 'goddess': 1, 'daquiri': 1, 'drink': 1, 'milkshake': 1, ...}),\n",
       " 'viennese': FreqDist({'whirl': 2, 'energy': 1, 'swirl': 1}),\n",
       " 'scrambled': FreqDist({'eg': 4, 'whole': 3, 'grass': 2, 'ebb': 1, 'prayer': 1, 'jakes': 1, 'b': 1, 'organic': 1, 'egs': 1, 'eggscone': 1}),\n",
       " 'french': FreqDist({'roast': 33, 'dip': 24, 'press': 12, 'fried': 12, 'van': 5, 'baguette': 5, 'choc': 4, 'free': 3, 'ton': 3, 'country': 3, ...}),\n",
       " 'yellow': FreqDist({'summer': 8, 'sweet': 6, 'split': 6, 'lg': 6, 'dal': 5, 'eye': 4, 'pau': 3, 'tail': 3, 'bellpepper': 3, 'fin': 2, ...}),\n",
       " 'ram': FreqDist({'gr': 20, 'yun': 1}),\n",
       " 'powder': FreqDist({'g': 19, 'unsweetened': 15, 'tablespoon': 11, 'drink': 10, 'organic': 9, 'tsp': 8, 'cal': 5, 'heavy': 5, 'vit': 5, 'gm': 4, ...}),\n",
       " 'cooking': FreqDist({'no': 4, 'sauce': 2, 'light': 1, 'demo': 1, 'eat': 1}),\n",
       " 'skin': FreqDist({'nail': 10, 'gr': 3, 'lunch': 3, 'baked': 3, 'hand': 2, 'crisp': 2, 'roasted': 1, 'compote': 1, 'chutney': 1, 'gold': 1, ...}),\n",
       " 'katz': FreqDist({'vegan': 1}),\n",
       " 'large': FreqDist({'deaf': 10, 'white': 9, 'mug': 8, 'flat': 8, 'soy': 8, 'sweet': 7, 'soya': 7, 'diet': 6, 'handful': 5, 'dinner': 5, ...}),\n",
       " 'bag': FreqDist({'crisp': 17, 'soy': 6, 'skinny': 4, 'mixed': 4, 'chopped': 3, 'funyuns': 2, 'microwave': 2, 'frites': 2, 'lay': 2, 'plain': 2, ...}),\n",
       " 'gaba': FreqDist({'ruby': 1}),\n",
       " 'ruby': FreqDist({'red': 3, 'oblong': 1, 'tuesday': 1}),\n",
       " 'isagenix': FreqDist({'ionic': 13, 'cleanse': 3, 'clean': 2, 'natural': 2, 'dairy': 2, 'chico': 1, 'shah': 1, 'belly': 1, 'metamusil': 1, 'italian': 1}),\n",
       " 'shot': FreqDist({'plus': 15, 'pt': 13, 'flat': 11, 'no': 8, 'choc': 3, 'ningxiared': 2, 'king': 2, 'kahlo': 2, 'gave': 2, 'ferret': 2, ...}),\n",
       " 'seared': FreqDist({'ahi': 3, 'scallop': 3, 'pot': 1, 'thin': 1}),\n",
       " 'kite': FreqDist({'hill': 7, 'plain': 1}),\n",
       " 'high': FreqDist({'fibre': 60, 'fat': 27, 'ball': 3, 'the': 2, 'carbs': 1, 'potency': 1, 'hefeweizen': 1, 'five': 1, 'fact': 1, 'energy': 1, ...}),\n",
       " 'sleep': FreqDist({'time': 9, 'remedy': 4, 'easy': 2, 'stack': 1, 'aid': 1}),\n",
       " 'time': FreqDist({'organic': 7, 'hot': 4, 'big': 4, 'crisp': 3, 'release': 2, 'med': 2, 'breakfast': 1, 'oregano': 1, 'th': 1, 'bec': 1, ...}),\n",
       " 'vixen': FreqDist({'dream': 9}),\n",
       " 'active': FreqDist({'done': 15, 'diluted': 2, 'enzyme': 2, 'beetactive': 2, 'oliva': 1, 'fat': 1, 'electrolyte': 1, 'digestive': 1}),\n",
       " 'panda': FreqDist({'express': 36, 'cotta': 3, 'chow': 2, 'liquorice': 2, 'exp': 1, 'chinese': 1, 'black': 1, 'xpress': 1, 'tee': 1}),\n",
       " 'zero': FreqDist({'calorie': 37, 'cal': 29, 'fat': 11, 'ultra': 11, 'rock': 9, 'alcohol': 6, 'rise': 5, 'ml': 5, 'percent': 3, 'bar': 3, ...}),\n",
       " 'johnson': FreqDist({'bedder': 1}),\n",
       " 'unsweetened': FreqDist({'soy': 61, 'soya': 16, 'van': 12, 'deaf': 11, 'dried': 9, 'rooibos': 8, 'hot': 8, 'soil': 8, 'herbal': 7, 'roasted': 7, ...}),\n",
       " 'moroccan': FreqDist({'spice': 2, 'style': 1, 'sauce': 1, 'thine': 1, 'humus': 1, 'detox': 1, 'zealous': 1, 'chickpea': 1}),\n",
       " 'haferbrei': FreqDist({'mit': 2}),\n",
       " 'blubber': FreqDist({'ban': 1, 'cobbler': 1}),\n",
       " 'sauvignon': FreqDist({'blanc': 47, 'silver': 1, 'win': 1}),\n",
       " 'valley': FreqDist({'crunchy': 3, 'wafer': 3, 'oath': 3, 'lunchable': 2, 'sweet': 1, 'crunch': 1, 'vegetarian': 1, 'barpeanut': 1}),\n",
       " 'crunchy': FreqDist({'bar': 3, 'chickpea': 2, 'natural': 1, 'muslim': 1, 'spicy': 1, 'mc': 1, 'slow': 1}),\n",
       " 'vega': FreqDist({'one': 45, 'sport': 11, 'essential': 3, 'bar': 2, 'performance': 1, 'omega': 1, 'electrolyte': 1, 'asian': 1, 'sparkling': 1, 'sauce': 1, ...}),\n",
       " 'chick': FreqDist({'fil': 98, 'filum': 15, 'file': 6, 'pop': 5, 'broth': 4, 'veg': 3, 'thigh': 3, 'breast': 3, 'fillet': 3, 'vege': 2, ...}),\n",
       " 'fil': FreqDist({'nugget': 14, 'sauce': 11, 'large': 3, 'medium': 3, 'deluxe': 2, 'spicy': 2, 'chico': 2, 'market': 2, 'count': 1, 'et': 1, ...}),\n",
       " 'copper': FreqDist({'jr': 1, 'lager': 1}),\n",
       " 'caro': FreqDist({'ml': 6, 'almondmilk': 2, 'nib': 1}),\n",
       " 'pan': FreqDist({'fried': 52, 'dulcie': 32, 'quest': 4, 'seared': 4, 'sauce': 4, 'con': 3, 'roasted': 3, 'au': 3, 'sal': 3, 'cotta': 3, ...}),\n",
       " 'triple': FreqDist({'zero': 35, 'fibre': 9, 'iced': 7, 'vent': 3, 'sec': 3, 'baconator': 2, 'ooo': 2, 'brie': 1, 'stacker': 1, 'shot': 1, ...}),\n",
       " 'marko': FreqDist({'minty': 1}),\n",
       " 'minty': FreqDist({'thee': 1, 'goose': 1}),\n",
       " 'k': FreqDist({'microgram': 10, 'calorie': 9, 'mk': 6, 'whole': 5, 'redberry': 4, 'red': 2, 'aspirin': 2, 'vit': 2, 'cl': 2, 'skim': 2, ...}),\n",
       " 'fat': FreqDist({'free': 201, 'bomb': 187, 'g': 44, 'greek': 35, 'bar': 18, 'burner': 12, 'natural': 11, 'swiss': 6, 'raw': 5, 'head': 5, ...}),\n",
       " 'flavoured': FreqDist({'coconutwater': 11, 'mio': 3, 'rooibos': 2, 'maize': 2, 'soya': 1, 'drink': 1, 'cheek': 1, 'whipped': 1, 'sparklingwater': 1, 'bio': 1, ...}),\n",
       " 'foie': FreqDist({'gras': 9}),\n",
       " 'cabral': FreqDist({'nutrition': 6, 'detox': 6, 'nutritional': 1}),\n",
       " 'gordian': FreqDist({'megara': 1}),\n",
       " 'megara': FreqDist({'lechuga': 1}),\n",
       " 'lechuga': FreqDist({'fit': 1}),\n",
       " 'file': FreqDist({'mignon': 53, 'gm': 3, 'calorie': 3, 'g': 2, 'sole': 2, 'mignonette': 2, 'minor': 2, 'poll': 1, 'american': 1, 'plain': 1, ...}),\n",
       " 'barbara': FreqDist({'multigrain': 2, 'organic': 2, 'boal': 1}),\n",
       " 'low': FreqDist({'fat': 325, 'cal': 43, 'gi': 35, 'sodium': 25, 'calorie': 11, 'f': 6, 'alcohol': 6, 'formal': 4, 'dose': 3, 'card': 2, ...}),\n",
       " 'izzie': FreqDist({'drink': 5}),\n",
       " 'multi': FreqDist({'grain': 110, 'spirulina': 2, 'citrus': 2, 'gr': 1, 'c': 1, 'gon': 1, 'factor': 1, 'vit': 1}),\n",
       " 'jersey': FreqDist({'mike': 14, 'drop': 1, 'kiss': 1, 'sub': 1, 'mile': 1}),\n",
       " 'loncar': FreqDist({'need': 1, 'rubarbtorte': 1, 'mission': 1}),\n",
       " 'hibiscus': FreqDist({'rose': 12, 'flower': 11, 'keir': 7, 'pomegranate': 7, 'herbal': 6, 'citrus': 3, 'drink': 2, 'verba': 2, 'tisane': 2, 'powder': 2, ...}),\n",
       " 'rose': FreqDist({'hip': 27, 'petal': 5, 'bud': 3, 'cider': 2, 'vine': 2, 'ml': 2, 'alcoholic': 1, 'hibiscus': 1, 'large': 1, 'pink': 1, ...}),\n",
       " 'hip': FreqDist({'infusion': 12, 'city': 1, 'powder': 1}),\n",
       " 'crispy': FreqDist({'treat': 53, 'creme': 20, 'square': 16, 'squid': 4, 'fried': 2, 'barramundi': 2, 'bar': 2, 'area': 2, 'strip': 2, 'catfish': 1, ...}),\n",
       " 'drop': FreqDist({'liquid': 15, 'martini': 9, 'work': 7, 'essential': 6, 'sweetmeat': 5, 'trace': 5, 'stevie': 4, 'g': 3, 'better': 3, 'echinacea': 1, ...}),\n",
       " 'tsp': FreqDist({'ceylon': 15, 'act': 14, 'brown': 14, 'rosemary': 13, 'black': 12, 'insulin': 12, 'organic': 12, 'raw': 12, 'cane': 12, 'stevie': 12, ...}),\n",
       " 'nona': FreqDist({'greek': 9, 'late': 7, 'plain': 4, 'lite': 4, 'you': 1, 'america': 1, 'frozen': 1}),\n",
       " 'late': FreqDist({'lunch': 10, 'grande': 7, 'breakfast': 7, 'night': 4, 'dinner': 3, 'snack': 3, 'july': 3, 'fat': 1, 'cu': 1, 'teatime': 1, ...}),\n",
       " 'pomegranate': FreqDist({'molasses': 19, 'white': 5, 'jc': 4, 'powder': 2, 'rail': 2, 'martini': 2, 'fresh': 1, 'j': 1, 'sunflowerseeds': 1, 'red': 1, ...}),\n",
       " 'kebab': FreqDist({'platter': 3, 'box': 1, 'turkish': 1, 'mezzo': 1, 'flat': 1, 'gm': 1, 'tabouli': 1, 'meet': 1, 'allie': 1}),\n",
       " 'pad': FreqDist({'see': 18, 'tai': 8, 'kee': 4, 'se': 3, 'park': 2, 'krakow': 1, 'ka': 1, 'soon': 1, 'prick': 1, 'thi': 1, ...}),\n",
       " 'see': FreqDist({'ew': 16, 'weed': 3, 'eu': 2, 'mix': 1, 'ewe': 1, 'note': 1, 'yu': 1}),\n",
       " 'plant': FreqDist({'based': 99, 'fusion': 7, 'pro': 1, 'b': 1, 'parma': 1, 'margarine': 1, 'port': 1, 'organic': 1, 'mince': 1, 'jack': 1, ...}),\n",
       " 'dim': FreqDist({'sum': 49, 'sims': 4, 'sim': 3, 'sun': 1, 'sung': 1}),\n",
       " 'power': FreqDist({'crunch': 41, 'bar': 35, 'ball': 10, 'drink': 9, 'elite': 6, 'blend': 5, 'morning': 4, 'ade': 4, 'biro': 4, 'breakfast': 4, ...}),\n",
       " 'kao': FreqDist({'so': 1}),\n",
       " 'so': FreqDist({'as': 2, 'moo': 1, 'cone': 1, 'free': 1}),\n",
       " 'nettle': FreqDist({'peppermint': 8, 'infusion': 6, 'leaf': 5, 'creme': 3, 'birch': 1, 'tincture': 1}),\n",
       " 'jack': FreqDist({'box': 14, 'daniel': 14, 'link': 5, 'winter': 4, 'diet': 4, 'cider': 4, 'sliced': 2, 'crisp': 2, 'dijon': 1, 'fire': 1, ...}),\n",
       " 'miracle': FreqDist({'whip': 17, 'match': 3, 'good': 1}),\n",
       " 'fitful': FreqDist({'treacle': 2}),\n",
       " 'alvarado': FreqDist({'california': 12}),\n",
       " 'potstickers': FreqDist({'snack': 1, 'vegetables': 1}),\n",
       " 'nutrition': FreqDist({'bar': 37, 'drink': 4, 'whey': 4, 'yeast': 2, 'amino': 1, 'grain': 1}),\n",
       " 'tajan': FreqDist({'seasoning': 1}),\n",
       " 'plain': FreqDist({'whole': 27, 'greek': 11, 'keir': 11, 'crisp': 11, 'fat': 9, 'soy': 7, 'grit': 7, 'low-fat': 6, 'nona': 5, 'non': 4, ...}),\n",
       " 'char': FreqDist({'six': 4, 'ship': 3, 'sui': 2, 'key': 2, 'meet': 1, 'view': 1, 'nutritional': 1, 'kew': 1, 'steamed': 1}),\n",
       " 'cold': FreqDist({'cut': 53, 'pressed': 28, 'brewed': 19, 'cooked': 13, 'press': 7, 'whole': 6, 'remedy': 3, 'drip': 3, 'siro': 3, 'roast': 3, ...}),\n",
       " 'soy': FreqDist({'sauce': 213, 'flat': 31, 'gm': 13, 'curl': 9, 'drink': 9, 'hot': 7, 'patty': 6, 'paste': 5, 'dessert': 4, 'cap': 4, ...}),\n",
       " 'south': FreqDist({'indian': 10, 'dough': 4, 'beach': 3, 'west': 2, 'border': 1, 'western': 1, 'asian': 1}),\n",
       " 'macao': FreqDist({'nib': 219, 'powder': 195, 'ghee': 19, 'hot': 16, 'hemp': 12, 'mix': 9, 'bar': 6, 'flashed': 6, 'unsweetened': 6, 'bliss': 4, ...}),\n",
       " 'dash': FreqDist({'diet': 6, 'pomegranate': 4, 'full': 3, 'whole': 2, 'oath': 1, 'lea': 1, 'italian': 1, 'old': 1, 'bar': 1, 'sea': 1, ...}),\n",
       " 'carol': FreqDist({'nero': 14, 'turnip': 3}),\n",
       " 'learned': FreqDist({'cous': 1, 'spelt': 1}),\n",
       " 'cous': FreqDist({'cous': 114, 'gun': 1, 'roasted': 1, 'sal': 1, 'mixed': 1, 'roast': 1, 'falae': 1, 'co': 1}),\n",
       " 'wafer': FreqDist({'bar': 12, 'thin': 8, 'humour': 3, 'choc': 2, 'stick': 2, 'chickpea': 1, 'dispute': 1, 'cone': 1, 'handful': 1, 'vegan': 1, ...}),\n",
       " 'epic': FreqDist({'bar': 32, 'venison': 7, 'rhonda': 2, 'sriracha': 2, 'bone': 1, 'baked': 1, 'buffalo': 1, 'wild': 1, 'son': 1}),\n",
       " 'liver': FreqDist({'pate': 86, 'g': 14, 'mousse': 8, 'worst': 7, 'kidney': 5, 'bite': 3, 'paste': 3, 'powder': 3, 'heavy': 3, 'oi': 3, ...}),\n",
       " 'non': FreqDist({'dairy': 64, 'fat': 59, 'alcoholic': 50, 'caff': 9, 'all': 6, 'gluten': 5, 'alcohol': 4, 'go': 4, 'career': 3, 'also': 2, ...}),\n",
       " 'april': FreqDist({'sprite': 17, 'spritzer': 1, 'came': 1, 'prosecco': 1}),\n",
       " 'semi': FreqDist({'skimmed': 242, 'skim': 22, 'di': 5, 'sweet': 4, 'skinned': 2, 'fresh': 1, 'raw': 1, 'soft': 1, 'alesi': 1, 'g': 1, ...}),\n",
       " 'toffee': FreqDist({'mini': 4, 'sweet': 4, 'crunch': 2, 'crisp': 2, 'bar': 2, 'sauce': 2, 'truffle': 2, 'sea': 1, 'square': 1, 'pud': 1, ...}),\n",
       " 'raw': FreqDist({'macao': 50, 'vegan': 28, 'veg': 23, 'organic': 19, 'cow': 15, 'choc': 10, 'g': 10, 'unsalted': 10, 'brazil': 9, 'bar': 9, ...}),\n",
       " 'veg': FreqDist({'table': 14, 'stir-fry': 9, 'tamar': 8, 'lasagne': 8, 'stock': 7, 'broth': 7, 'sauce': 7, 'dairy': 6, 'album': 6, 'patty': 6, ...}),\n",
       " 'knickers': FreqDist({'bar': 34, 'mini': 7, 'bite': 5, 'fun': 4, 'share': 2, 'peanutbutter': 1, 'gr': 1, 'tree': 1}),\n",
       " 'share': FreqDist({'matt': 2, 'four': 2, 'pax': 1, 'antipasta': 1, 'sea': 1, 'bar': 1, 'hubbykids': 1}),\n",
       " 'finished': FreqDist({'last': 4, 'daily': 2, 'lunch': 1, 'morning': 1}),\n",
       " 'aubergine': FreqDist({'chickpea': 5, 'parmiggiani': 4, 'paste': 3, 'lasagne': 2, 'dahl': 1, 'napoli': 1, 'roasted': 1, 'tahiti': 1, 'moussaka': 1, 'parmegiana': 1, ...}),\n",
       " 'herbal': FreqDist({'infusion': 17, 'tee': 15, 'drink': 7, 'tsp': 7, 'deaf': 7, 'valeria': 3, 'blend': 3, 'detox': 3, 'liquorice': 3, 'thai': 3, ...}),\n",
       " 'spiked': FreqDist({'sparkling': 2, 'ball': 1, 'cider': 1}),\n",
       " 'balanced': FreqDist({'break': 21, 'dinner': 3, 'snack': 2, 'veto': 2, 'lunch': 1, 'bar': 1}),\n",
       " 'flashed': FreqDist({'grain': 26, 'gm': 16, 'powder': 11, 'g': 8, 'ground': 5, 'of': 4, 'flake': 3, 'flatbed': 3, 'crunch': 3, 'gooseberry': 2, ...}),\n",
       " 'ymca': FreqDist({'refresh': 1, 'baked': 1, 'root': 1, 'ai': 1, 'g': 1}),\n",
       " 'vermicelli': FreqDist({'dose': 1, 'grilled': 1, 'minced': 1, 'fungus': 1, 'veg': 1, 'sepia': 1}),\n",
       " 'hello': FreqDist({'fresh': 2, 'sport': 1, 'dolly': 1, 'pastry': 1, 'panda': 1}),\n",
       " 'sriacha': FreqDist({'hot': 3, 'sauce': 2, 'swordfish': 1, 'spice': 1}),\n",
       " 'sara': FreqDist({'lee': 3, 'diakon': 1}),\n",
       " 'open': FreqDist({'face': 9, 'faced': 5, 'faded': 2, 'sand': 1, 'managua': 1, 'riverside': 1, 'rb': 1}),\n",
       " 'old': FreqDist({'fashioned': 79, 'amsterdam': 10, 'england': 7, 'fashion': 6, 'bay': 4, 'crock': 2, 'gold': 2, 'crow': 1, 'moat': 1, 'timer': 1, ...}),\n",
       " 'sunwarrior': FreqDist({'veganprotein': 11, 'raw': 1}),\n",
       " 'veganprotein': FreqDist({'powder': 11}),\n",
       " 'j': FreqDist({'blue': 9, 'craig': 4, 'dk': 2, 'korean': 1, 'high': 1, 'j': 1, 'grain': 1, 'pot': 1, 'electrolyte': 1, 'vegetarian': 1, ...}),\n",
       " 'sparkling': FreqDist({'mineral': 16, 'beverage': 7, 'ho': 5, 'cider': 4, 'flavoured': 3, 'rose': 3, 'wat': 2, 'pinot': 2, 'arnold': 2, 'black': 2, ...}),\n",
       " 'malt': FreqDist({'loaf': 24, 'ball': 6, 'drink': 4, 'whisky': 3, 'beverage': 2, 'milkshake': 2, 'mix': 1, 'ovaltine': 1, 'scotch': 1, 'treaty': 1, ...}),\n",
       " 'drink': FreqDist({'mix': 21, 'enhancer': 17, 'ml': 12, 'g': 8, 'cal': 8, 'deaf': 7, 'oatmilk': 5, 'powder': 4, 'chicory': 3, 'decaffeinated': 3, ...}),\n",
       " 'breast': FreqDist({'lunch': 3, 'deli': 2, 'skin': 2, 'g': 1, 'you': 1, 'wi': 1, 'lunchmeat': 1, 'leg': 1, 'roasted': 1, 'thigh': 1, ...}),\n",
       " 'seeded': FreqDist({'crispbread': 8, 'white': 3, 'bakery': 2, 'oatcake': 2, 'loaf': 2, 'break': 1, 'sub': 1, 'grain': 1, 'spelt': 1, 'crisp': 1, ...}),\n",
       " 'kinder': FreqDist({'buenos': 10, 'country': 2, 'maxi': 1, 'easter': 1, 'bon': 1, 'beuno': 1, 'device': 1, 'penguin': 1, 'joy': 1}),\n",
       " 'cytr': FreqDist({'gained': 8}),\n",
       " 'gained': FreqDist({'lean': 8}),\n",
       " 'lean': FreqDist({'cuisine': 29, 'mass': 8, 'crunch': 4, 'thick': 3, 'body': 3, 'leg': 2, 'pocket': 2, 'quine': 1, 'ml': 1, 'canadian': 1, ...}),\n",
       " 'jamaica': FreqDist({'flower': 3}),\n",
       " 'caf': FreqDist({'ml': 73, 'black': 16, 'ti': 10, 'koi': 5, 'homo': 2, 'late': 2, 'tsp': 2, 'chico': 1, 'earl': 1, 'deaf': 1, ...}),\n",
       " 'ml': FreqDist({'deaf': 79, 'act': 48, 'heavy': 41, 'caf': 37, 'fresh': 21, 'no': 19, 'beetroot': 13, 'shot': 9, 'full': 9, 'point': 8, ...}),\n",
       " 'deaf': FreqDist({'ml': 43, 'bulletproof': 26, 'soya': 16, 'stevie': 11, 'flat': 10, 'black': 9, 'instant': 9, 'breakfast': 9, 'late': 9, 'soy': 9, ...}),\n",
       " 'regular': FreqDist({'flat': 5, 'sub': 2, 'campesino': 2, 'nasturtium': 1, 'sprite': 1, 'medication': 1, 'ml': 1}),\n",
       " 'full': FreqDist({'fat': 257, 'english': 11, 'grain': 10, 'persimmon': 3, 'rack': 3, 'blue': 3, 'strength': 3, 'control': 3, 'baby': 2, 'spectrum': 2, ...}),\n",
       " 'gut': FreqDist({'shot': 25, 'fix': 4, 'health': 2, 'paste': 1}),\n",
       " 'millet': FreqDist({'rot': 12, 'groat': 2, 'amaranth': 2, 'ball': 2, 'flat': 2, 'gruel': 2, 'flake': 2, 'puma': 2, 'dal': 2, 'toasted': 1, ...}),\n",
       " 'muller': FreqDist({'light': 2}),\n",
       " 'dal': FreqDist({'curd': 12, 'chapati': 10, 'rot': 9, 'one': 6, 'canal': 5, 'kitchari': 4, 'cheval': 3, 'madani': 3, 'jakki': 2, 'meera': 2, ...}),\n",
       " 'jakki': FreqDist({'ki': 2, 'rot': 1}),\n",
       " 'ki': FreqDist({'rot': 2, 'suzi': 2, 'cal': 1, 'nikki': 1, 'dal': 1, 'sri': 1, 'sabri': 1, 'si': 1}),\n",
       " 'rot': FreqDist({'deal': 7, 'canal': 6, 'sabri': 5, 'palau': 3, 'sang': 2, 'dal': 2, 'clarified': 2, 'pander': 2, 'cathal': 2, 'dii': 1, ...}),\n",
       " 'caviar': FreqDist({'g': 1, 'gr': 1, 'rom': 1, 'stuff': 1}),\n",
       " 'pecorino': FreqDist({'romano': 9, 'brigantes': 7, 'part': 4, 'pi': 1, 'flatbed': 1, 'parsley': 1}),\n",
       " 'sea': FreqDist({'bass': 57, 'bream': 21, 'weed': 12, 'scallop': 6, 'buckthorn': 3, 'da': 2, 'kelp': 1, 'mix': 1, 'food': 1, 'ba': 1, ...}),\n",
       " 'hike': FreqDist({'bar': 2, 'act': 1}),\n",
       " 'brain': FreqDist({'octane': 183, 'memory': 2, 'fuel': 1, 'octagon': 1, 'boost': 1}),\n",
       " 'bee': FreqDist({'pollen': 86, 'hoon': 10, 'pole': 3, 'po': 2, 'knee': 2, 'pouch': 1, 'colin': 1}),\n",
       " 'lemongrass': FreqDist({'pickled': 1, 'sauce': 1, 'ordo': 1, 'bone': 1, 'infusion': 1, 'soy': 1, 'earl': 1, 'herbal': 1}),\n",
       " 'fisherman': FreqDist({'friend': 9, 'basket': 1, 'chopping': 1}),\n",
       " 'rockstar': FreqDist({'pure': 4, 'zero': 3, 'no': 2, 'zerocarb': 1, 'punched': 1}),\n",
       " 'pure': FreqDist({'leaf': 17, 'irish': 6, 'zero': 4, 'c': 4, 'bar': 2, 'pomegranate': 2, 'pump': 2, 'verdure': 2, 'blonde': 2, 'premium': 1, ...}),\n",
       " 'spanning': FreqDist({'muff': 1}),\n",
       " 'diy': FreqDist({'salted': 1}),\n",
       " 'snow': FreqDist({'cone': 3, 'radish': 1, 'pi': 1, 'come': 1, 'white': 1}),\n",
       " 'pink': FreqDist({'lady': 47, 'himalayan': 41, 'sea': 4, 'drink': 4, 'somalian': 3, 'sun': 2, 'bubbly': 1, 'crisp': 1, 'wafer': 1, 'gem': 1, ...}),\n",
       " 'potassium': FreqDist({'citrate': 12, 'drink': 5, 'ml': 2, 'powder': 1, 'r': 1, 'bicarbonate': 1, 'chloride': 1}),\n",
       " 'treacle': FreqDist({'sponge': 2, 'scone': 1}),\n",
       " 'triphala': FreqDist({'tablet': 6, 'immune': 1, 'spring': 1}),\n",
       " 'jameson': FreqDist({'double': 1}),\n",
       " 'eaten': FreqDist({'noon': 1, 'day': 1, 'side': 1, 'lunch': 1, 'grill': 1, 'h': 1}),\n",
       " 'portuguese': FreqDist({'tart': 3, 'custard': 1, 'sweet': 1, 'dinner': 1, 'pastry': 1}),\n",
       " 'custard': FreqDist({'tart': 15, 'square': 5, 'no': 4, 'danish': 4, 'lc': 1, 'prawn': 1, \"don'ts\": 1, 'choice': 1, 'hello': 1, 'filled': 1, ...}),\n",
       " 'cuba': FreqDist({'libre': 2}),\n",
       " 'must': FreqDist({'grain': 2, 'pan': 2, 'sugar-free': 1, 'gon': 1}),\n",
       " 'vegetables': FreqDist({'patty': 4, 'mix': 3, 'straw': 2, 'ball': 2, 'platter': 1, 'pasty': 1, 'coma': 1, 'form': 1, 'file': 1, 'bibimbop': 1, ...}),\n",
       " 'splash': FreqDist({'nona': 14, 'soy': 7, 'fat': 4, 'skim': 3, 'crane': 3, 'heavy': 3, 'nutpods': 2, 'halfhalf': 1, 'co': 1, 'whole': 1, ...}),\n",
       " 'pc': FreqDist({'thin': 14, 'fat': 12, 'th': 4, 'percent': 3, 'grilled': 3, 'will': 2, 'superman': 2, 'hashemi': 2, 'the': 2, 'fc': 2, ...}),\n",
       " 'dark': FreqDist({'choc': 229, 'roast': 28, 'chico': 24, 'macao': 19, 'chocochino': 18, 'leafy': 6, 'raw': 5, 'icelandic': 4, 'stormy': 4, 'vegan': 3, ...}),\n",
       " 'lutenist': FreqDist({'sauce': 6}),\n",
       " 'sauce': FreqDist({'g': 10, 'light': 7, 'no': 5, 'unsweetened': 4, 'ml': 4, 'veg': 4, 'bolognese': 3, 'cl': 2, 'low': 2, 'gr': 2, ...}),\n",
       " 'marmalade': FreqDist({'g': 3, 'margarine': 1, 'stevie': 1}),\n",
       " 'ochazuke': FreqDist({'without': 1}),\n",
       " 'coop': FreqDist({'plant': 2}),\n",
       " 'based': FreqDist({'pastry': 4, 'l': 3, 'low': 3, 'crumb': 3, 'dinner': 2, 'match': 2, 'sauce': 2, 'brat': 2, 'bar': 2, 'quarter': 1, ...}),\n",
       " 'quarter': FreqDist({'pounder': 36, 'tsp': 30, 'c': 6, 'lb': 5, 'pound': 4, 'teaspoon': 4, 'vegan': 3, 'med': 3, 'haas': 2, 'red': 2, ...}),\n",
       " 'fresh': FreqDist({'cow': 22, 'squeezed': 20, 'ml': 18, 'herb': 14, 'pressed': 12, 'parsley': 10, 'ground': 8, 'raw': 8, 'breakfast': 8, 'brewed': 8, ...}),\n",
       " 'vital': FreqDist({'red': 51, 'farm': 2, 'c': 1, 'peptide': 1, 'rapid': 1, 'one': 1, 'leaf': 1, 'partly': 1}),\n",
       " 'c': FreqDist({'act': 12, 'pep': 12, 'b': 11, 'drink': 11, 'powder': 10, 'ml': 9, 'full': 9, 'frozen': 9, 'mixed': 8, 'acrylic': 6, ...}),\n",
       " 'since': FreqDist({'energy': 5}),\n",
       " 'keir': FreqDist({'grain': 18, 'ml': 17, 'drink': 13, 'xylitol': 9, 'mix': 7, 'heavy': 4, 'flax': 4, 'plain': 4, 'natural': 3, 'sweetened': 3, ...}),\n",
       " 'italian': FreqDist({'parsley': 20, 'wedding': 16, 'sweet': 16, 'but': 11, 'herb': 8, 'hague': 6, 'seasoning': 4, 'style': 3, 'deli': 3, 'creme': 3, ...}),\n",
       " 'farr': FreqDist({'miller': 1, 'brown': 1, 'tahiti': 1, 'gon': 1, 'chickpea': 1, 'abacha': 1, 'pomegranate': 1, 'set': 1, 'light': 1}),\n",
       " 'hemp': FreqDist({'heart': 222, 'powder': 14, 'flax': 12, 'drink': 10, 'flashed': 5, 'ny': 4, 'ball': 3, 'cuc': 3, 'hull': 3, 'usa': 3, ...}),\n",
       " 'swallow': FreqDist({'diet': 1, 'caff': 1}),\n",
       " 'forgot': FreqDist({'take': 7, 'log': 1, 'ceased': 1, 'little': 1, 'enter': 1}),\n",
       " 'take': FreqDist({'out': 12, 'pic': 5, 'picture': 4, 'away': 4, 'bar': 1, 'fun': 1, 'tak': 1}),\n",
       " 'doc': FreqDist({'parsley': 4}),\n",
       " 'baked': FreqDist({'lay': 27, 'miti': 16, 'veg': 9, 'crisp': 7, 'white': 5, 'sweet': 5, 'temper': 4, 'multigrain': 4, 'haddock': 4, 'snack': 4, ...}),\n",
       " 'la': FreqDist({'croix': 215, 'croat': 5, 'king': 4, 'crouch': 3, 'mode': 3, 'mexican': 3, 'columba': 2, 'cross': 2, 'placings': 1, 'mentle': 1, ...}),\n",
       " 'chickpea': FreqDist({'puff': 8, 'crisp': 4, 'veg': 4, 'routine': 4, 'snack': 4, 'crips': 3, 'rogan': 3, 'tahiti': 3, 'g': 3, 'past': 2, ...}),\n",
       " 'mild': FreqDist({'unsweetened': 4, 'italian': 2, 'korean': 2, 'sauce': 2, 'chick': 1, 'vital': 1, 'sweet': 1}),\n",
       " 'branch': FreqDist({'chain': 2, 'chained': 2}),\n",
       " 'chain': FreqDist({'amino': 15, 'triglyceride': 7, 'trig': 1, 'rot': 1}),\n",
       " 'amino': FreqDist({'acid': 36, 'energy': 36, 'drink': 6, 'bcaa': 3, 'xt': 2, 'lean': 1, 'supply': 1, 'vital': 1, 'paprika': 1, 'every': 1, ...}),\n",
       " 'golden': FreqDist({'linseed': 22, 'paste': 13, 'graham': 7, 'kiwi': 4, 'corral': 4, 'glow': 4, 'hot': 2, 'monkey': 2, 'meet': 2, 'beetroot': 2, ...}),\n",
       " 'carne': FreqDist({'asda': 106, 'vegan': 2, 'ensalada': 2, 'no': 1, 'as': 1, 'desfiada': 1, 'quesada': 1, 'ardovada': 1, 'guiana': 1, 're': 1, ...}),\n",
       " 'meet': FreqDist({'golden': 4, 'powder': 2, 'horseradish': 2, 'ric': 2, 'loaf': 2, 'ball': 2, 'sm': 2, 'race': 1, 'carrotstunahummus': 1, 'barycz': 1, ...}),\n",
       " 'bamboo': FreqDist({'shoot': 42, 'shot': 1}),\n",
       " 'multigrain': FreqDist({'multi': 16, 'crisp': 3, 'flatbed': 2, 'muff': 2, 'hot': 2, 'spelt': 2, 'snack': 1, 'child': 1, 'sand': 1, 'thin': 1, ...}),\n",
       " 'goose': FreqDist({'liver': 4, 'foie': 1, 'bone': 1, 'leg': 1, 'martini': 1, 'fat': 1}),\n",
       " 'jimmy': FreqDist({'dean': 54, 'john': 40, 'bar': 3}),\n",
       " 'john': FreqDist({'italian': 3, 'vito': 3, 'sub': 3, 'hunter': 3, 'number': 1, 'pep': 1, 'thinly': 1, 'wort': 1, 'dunwich': 1, 'smith': 1, ...}),\n",
       " 'sour': FreqDist({'dough': 129, 'patch': 28, 'sauce': 18, 'kraut': 14, 'erm': 4, 'crowd': 4, 'cr': 4, 'creme': 4, 'cocktail': 3, 'sop': 3, ...}),\n",
       " 'taquitos': FreqDist({'pc': 3}),\n",
       " 'dip': FreqDist({'tostitos': 3, 'crudity': 2, 'raw': 1, 'echo': 1, 'brahms': 1, 'tater': 1, 'bator': 1, 'later': 1, 'dia': 1, 'peep': 1, ...}),\n",
       " 'relish': FreqDist({'flat': 4, 'hot': 3, 'match': 3, 'sex': 2, 'chaka': 2, 'macao': 1, 'elixir': 1}),\n",
       " 'romaine': FreqDist({'heart': 5, 'wheatgrass': 4, 'grilled': 1, 'serving': 1, 'red': 1, 'g': 1, 'stir-fried': 1, 'sal': 1, 'beacon': 1, 'sala': 1}),\n",
       " 'chocolatecovered': FreqDist({'dried': 2}),\n",
       " 'tinned': FreqDist({'sardine': 10, 'mackerel': 7, 'apricot': 3, 'beetroot': 1, 'kipper': 1}),\n",
       " 'spicy': FreqDist({'italian': 14, 'sauce': 7, 'thai': 7, 'mix': 4, 'sour': 4, 'hot': 4, 'mostafa': 4, 'v': 4, 'brown': 3, 'southwest': 3, ...}),\n",
       " 'sardine': FreqDist({'soya': 3, 'heavy': 3, 'g': 2, 'evo': 2, 'anchovy': 2, 'spring': 2, 'tin': 2, 'harris': 2, 'wild': 1, 'matza': 1, ...}),\n",
       " 'carter': FreqDist({'sauce': 10}),\n",
       " 'tartar': FreqDist({'sauce': 30, 'algae': 1, 'pink': 1}),\n",
       " 'early': FreqDist({'grey': 12, 'dinner': 3, 'supper': 2, 'bird': 1}),\n",
       " 'zip': FreqDist({'fizz': 8, 'cross-cut': 1}),\n",
       " 'oven': FreqDist({'baked': 50, 'roasted': 22, 'roast': 2, 'bronzino': 1, 'cooked': 1, 'covered': 1, 'personal': 1, 'browned': 1, 'chi': 1, 'coquette': 1}),\n",
       " 'ban': FreqDist({'mi': 16, 'back': 1, 'ava': 1, 'straw': 1, 'kiwi': 1, 'in': 1}),\n",
       " 'bosh': FreqDist({'shepherd': 1}),\n",
       " 'gram': FreqDist({'grass': 12, 'vital': 10, 'dal': 7, 'soyabean': 6, 'tahiti': 6, 'whey': 6, 'bag': 4, 'raw': 4, 'skinny': 4, 'calor': 3, ...}),\n",
       " 'poll': FreqDist({'loco': 12, 'as': 3, 'asda': 3, 'funding': 2, 'arrow': 2, 'tornado': 2, 'e': 2, 'empanizado': 1, 'empanado': 1, 'regio': 1, ...}),\n",
       " 'roger': FreqDist({'chunk': 1, 'wood': 1, 'deluxe': 1, 'mixed': 1}),\n",
       " 'chunk': FreqDist({'light': 6, 'maronite': 1}),\n",
       " 'slim': FreqDist({'fast': 17, 'jim': 14, 'plus': 4, 'line': 3, 'twin': 2, 'rite': 2, 'pink': 2, 'trim': 2, 'no': 1, 'original': 1, ...}),\n",
       " 'humus': FreqDist({'tahiti': 2, 'crispbread': 1, 'veg': 1, 'roasted': 1, 'gr': 1, 'g': 1, 'triscuit': 1, 'pitta': 1, 'table': 1, 'vegetables': 1, ...}),\n",
       " 'crispbread': FreqDist({'dip': 2, 'pc': 1, 'vegemite': 1, 'vegan': 1, 'black': 1, 'glutenfree': 1}),\n",
       " 'serving': FreqDist({'sun-up': 4, 'modelled': 4, 'aged': 3, 'whey': 3, 'grass': 3, 'bulletproof': 3, 'flax': 3, 'can': 2, 'mexican': 2, 'chickpea': 2, ...}),\n",
       " 'tzaziki': FreqDist({'veg': 6, 'dip': 1}),\n",
       " 'thin': FreqDist({'crust': 58, 'bar': 20, 'sliced': 9, 'addictive': 8, 'high': 4, 'cut': 4, 'vegan': 4, 'processed': 4, 'smoked': 4, 'permed': 3, ...}),\n",
       " 'nutty': FreqDist({'buddy': 6, 'bar': 4, 'wholefood': 4, 'butty': 1, 'mixed': 1, 'breakfast': 1, 'muslim': 1, 'sweet': 1, 'chico': 1, 'nougat': 1}),\n",
       " 'macro': FreqDist({'bar': 16, 'macrobiotic': 1, 'dragon': 1}),\n",
       " 'courgette': FreqDist({'fritter': 6, 'g': 4, 'mince': 2, 'red': 2, 'flan': 2, 'ricotta': 1, 'para': 1, 'mixed': 1, 'roast': 1, 'prawn': 1, ...}),\n",
       " 'he/she': FreqDist({'giant': 4}),\n",
       " 'giant': FreqDist({'bar': 4, 'mega': 1, 'salted': 1, 'shell': 1, 'lemonheads': 1, 'cous': 1, 'white': 1, 'mac': 1, 'roasted': 1, 'long': 1}),\n",
       " 'sprouted': FreqDist({'grain': 63, 'bidden': 21, 'hung': 18, 'salted': 4, 'bar': 3, 'whole': 3, 'sorghum': 3, 'call': 2, 'ezekiel': 2, 'moon': 2, ...}),\n",
       " 'lipton': FreqDist({'diet': 2, 'brisk': 2, 'extra': 1}),\n",
       " 'adpro': FreqDist({'soya': 4, 'go': 3, 'desert': 3, 'pot': 2, 'dessert': 2, 'soy': 2, 'sofa': 1, 'warm': 1, 'cafe': 1}),\n",
       " 'sofa': FreqDist({'cafe': 3, 'sauce': 3, 'lecithin': 2, 'kokos': 1, 'sf': 1, 'brown': 1, 'broth': 1, 'yoghourt': 1, 'paper': 1}),\n",
       " 'haverrisotto': FreqDist({'boerenkool': 1}),\n",
       " 'boerenkool': FreqDist({'champ': 1}),\n",
       " 'match': FreqDist({'powder': 45, 'brainoct': 3, 'drink': 3, 'white': 3, 'mate': 3, 'act': 3, 'organic': 2, 'cl': 2, 'hot': 2, 'bite': 2, ...}),\n",
       " 'aloe': FreqDist({'vera': 64, 'drink': 11, 'gel': 3, 'hibiscus': 1}),\n",
       " 'vera': FreqDist({'gel': 17, 'drink': 6, 'gram': 1, 'plant': 1, 'pomegranate': 1, 'capsule': 1, 'iodine': 1}),\n",
       " 'insulin': FreqDist({'macao': 15, 'benefited': 11, 'powder': 9, 'fo': 4, 'morning': 1}),\n",
       " 'city': FreqDist({'smr': 2, 'veg': 1, 'set': 1, 'style': 1}),\n",
       " 'straw': FreqDist({'mark': 3, 'lavender': 2, 'blue': 2, 'smog': 1, 'snack': 1, 'ball': 1, 'spin': 1, 'bla': 1}),\n",
       " 'mark': FreqDist({'spencer': 3, 'old': 2}),\n",
       " 'mashed': FreqDist({'pot': 8, 'turnip': 2, 'po': 2, 'root': 2, 'breadfruit': 1, 'beat': 1, 'tater': 1, 'white': 1, 'parsnip': 1, 'celeriac': 1, ...}),\n",
       " 'sm': FreqDist({'roberto': 8, 'deaf': 7, 'handful': 3, 'spoon': 3, 'chocvanilla': 2, 'carmel': 2, 'silly': 2, 'evo': 2, 'ore': 2, 'bag': 2, ...}),\n",
       " 'earth': FreqDist({'balance': 52, 'sweet': 4, 'coq': 2, 'deaf': 1, 'b': 1, 'bal': 1, 'wake': 1, 'stevie': 1}),\n",
       " 'gave': FreqDist({'nectar': 19, 'sweetener': 1, 'husband': 1, 'one': 1, 'sweet': 1}),\n",
       " 'ragu': FreqDist({'sauce': 2, 'simply': 1, 'y': 1, 'polenta': 1, 'gnocchi': 1, 'righton': 1}),\n",
       " 'crushed': FreqDist({'red': 9, 'paprika': 2, 'linseed': 2, 'golden': 1, 'black': 1, 'flashed': 1, 'lin': 1, 're': 1, 'cardamom': 1}),\n",
       " 'sprinkle': FreqDist({'yeast': 3, 'gelatine': 3, 'grated': 2, 'crushed': 1, 'brown': 1}),\n",
       " 'club': FreqDist({'sofa': 2, 'sub': 2, 'snack': 2, 'dry': 2, 'sosa': 1, 'single': 1, 'dinner': 1, 'ff': 1, 'dunwich': 1, 'sammy': 1, ...}),\n",
       " 'sf': FreqDist({'salted': 7, 'sweet': 3, 'bay': 3, 'peppermint': 3, 'van': 3, 'veto': 2, 'grenadine': 1, 'italian': 1, 'pool': 1, 'choc': 1, ...}),\n",
       " 'grenadine': FreqDist({'diet': 1, 'cordial': 1}),\n",
       " 'in': FreqDist({'br': 5, 'tum': 3, 'swirl': 2, 'pom': 1, 'rai': 1, 'born': 1, 'tur': 1, 'square': 1}),\n",
       " 'polish': FreqDist({'dog': 7, 'crepe': 1, 'pate': 1, 'fudge': 1, 'biggs': 1}),\n",
       " 'lava': FreqDist({'dose': 6, 'g': 3, 'idle': 2, 'plant': 1, 'ladder': 1, 'fenari': 1, 'puma': 1, 'crave': 1}),\n",
       " 'tee': FreqDist({'wo': 2, 'leech': 1, 'herbal': 1}),\n",
       " 'tres': FreqDist({'leech': 13, 'lech': 1, 'le': 1}),\n",
       " 'prolong': FreqDist({'l': 29, 'minestrone': 9, 'spearman': 9, 'bar': 7, 'lunch': 3, 'nr': 2, 'breakfast': 2, 'hibiscus': 2, 'dinner': 1, 'white': 1, ...}),\n",
       " 'bufi': FreqDist({'bar': 50}),\n",
       " 'strip': FreqDist({'morningstar': 5, 'fried': 2, 'one': 1, 'snack': 1, 'black': 1, 'cappacio': 1, 'berth': 1, 'platter': 1, 'waste': 1, 'seasoned': 1, ...}),\n",
       " 'cavaco': FreqDist({'nero': 11}),\n",
       " 'mach': FreqDist({'choc': 1, 'chou': 1}),\n",
       " 'natura': FreqDist({'calm': 1}),\n",
       " 'calm': FreqDist({'elderberry': 3, 'tsp': 1, 'act': 1, 'drink': 1, 'g': 1}),\n",
       " 'boneless': FreqDist({'skinless': 8, 'buffalo': 3, 'chuck': 2, 'spare': 1, 'strip': 1, 'mild': 1, 'hot': 1, 'sparerib': 1, 'riley': 1, 'kali': 1}),\n",
       " 'captain': FreqDist({'crunch': 17, 'morgan': 7, 'd': 3, 'wafer': 2, 'roesmasago': 1, 'buffet': 1, 'diet': 1}),\n",
       " 'morgan': FreqDist({'spiced': 4}),\n",
       " 'nd': FreqDist({'serving': 30, 'top': 6, 'deaf': 2, 'sur': 2, 'breakfast': 2, 'late': 1, 'vegbaloney': 1, 'low': 1, 'helping': 1, 'leek': 1, ...}),\n",
       " 'wabi': FreqDist({'grill': 2}),\n",
       " 'cime': FreqDist({'di': 1}),\n",
       " 'di': FreqDist({'ucca': 5, 'ricotta': 2, 'poll': 2, 'mare': 2, 'rosi': 2, 'rape': 1, 'girasole': 1, 'pomodori': 1, 'cecil': 1, 'melanzane': 1, ...}),\n",
       " 'raising': FreqDist({'cane': 3, 'gain': 1}),\n",
       " 'parsnip': FreqDist({'mash': 3, 'puree': 3, 'saute': 1, 'turnip': 1, 'g': 1, 'roasted': 1, 'raw': 1, 'risotto': 1, 'leek': 1, 'celeriac': 1, ...}),\n",
       " 'rocky': FreqDist({'road': 29, 'bar': 5, 'stick': 2, 'rococo': 1, 'man': 1}),\n",
       " 'reeses': FreqDist({'mini': 14, 'fastbreak': 4, 'puff': 4, 'penutbutter': 3, 'blizzard': 2, 'miniature': 2, 'thin': 2, 'tree': 2, 'dipped': 1, 'thins': 1, ...}),\n",
       " 'restaurant': FreqDist({'dinner': 2, 'dessert': 2, 'lunch': 1, 'course': 1, 'wild': 1}),\n",
       " 'spring': FreqDist({'mix': 195, 'role': 5, 'ro': 3, 'ho': 1, 'risotto': 1, 'sale': 1, 'cold': 1, 'mixed': 1}),\n",
       " 'pro': FreqDist({'bar': 6, 'soya': 5, 'biotic': 2, 'wafer': 2, 'g': 2, 'val': 1, 'lon': 1, 'powder': 1, 'diet': 1, 'gm': 1}),\n",
       " 'soya': FreqDist({'sauce': 47, 'chunk': 11, 'light': 9, 'yoghourt': 5, 'mince': 4, 'been': 3, 'flat': 3, 'drink': 2, 'cheap': 2, 'org': 2, ...}),\n",
       " 'ever': FreqDist({'c': 6}),\n",
       " 'mac': FreqDist({'powder': 99, 't': 9, 'root': 4, 'ch': 4, 'combo': 2, 'act': 2, 'etc': 2, 'macao': 2, 'shortbread': 1, 'chs': 1, ...}),\n",
       " 'kiev': FreqDist({'ball': 1, 'roast': 1, 'toilet': 1, 'you': 1, 'jacket': 1}),\n",
       " 'uncle': FreqDist({'sam': 9, 'ben': 3, 'lee': 3, 'eddy': 1, 'sans': 1, 'toy': 1, 'dougie': 1}),\n",
       " 'bell': FreqDist({'red': 26, 'paper': 8, 'yellow': 5, 'paprika': 4, 'pint': 3, 'power': 3, 'pep': 3, 'per': 3, 'crunchy': 3, 'chiluba': 3, ...}),\n",
       " 'dry': FreqDist({'roasted': 87, 'gr': 10, 'roast': 8, 'apricot': 8, 'broad': 4, 'martini': 3, 'cuppa': 2, 'stout': 2, 'fried': 2, 'riesling': 2, ...}),\n",
       " 'weight': FreqDist({'gained': 15, 'watcher': 10, 'lisa': 1}),\n",
       " 'quick': FreqDist({'oatoatmeal': 9, 'cook': 2, 'beefchil': 1, 'chek': 1, 'ratatouille': 1, 'trip': 1}),\n",
       " 'oatoatmeal': FreqDist({'flashed': 9}),\n",
       " 'enjoy': FreqDist({'life': 2}),\n",
       " 'mussel': FreqDist({'millet': 2, 'fritter': 2, 'linguist': 1, 'ga': 1, 'morning': 1, 'stir': 1, 'veg': 1, 'braised': 1, 'prawn': 1}),\n",
       " 'go': FreqDist({'lean': 30, 'ahead': 11, 'rise': 6, 'packet': 5, 'natural': 4, 'macro': 4, 'bar': 3, 'g': 3, 'veto': 2, 'bucket': 2, ...}),\n",
       " 'dream': FreqDist({'bar': 3, 'cone': 1}),\n",
       " 'treat': FreqDist({'bar': 5, 'size': 1}),\n",
       " 'puff': FreqDist({'pastry': 35, 'snack': 1, 'white': 1, 'puff': 1, 'ball': 1, 'bakes': 1, 'hamilton': 1, 'hear': 1, 'organic': 1}),\n",
       " 'sriracha': FreqDist({'sauce': 21, 'hot': 3, 'desayuno': 2, 'broad': 1, 'spicy': 1}),\n",
       " 'chapati': FreqDist({'dal': 6, 'sabri': 6, 'deal': 6, 'pulse': 6, 'curd': 4, 'also': 4, 'ghee': 3, 'lass': 2, 'mix': 2, 'withchickpeas': 1, ...}),\n",
       " 'liquid': FreqDist({'stevie': 46, 'amino': 31, 'breakfast': 10, 'smoke': 5, 'erm': 3, 'concentrate': 3, 'chinese': 3, 'iv': 2, 'start': 1, 'electrolyte': 1, ...}),\n",
       " 'thousand': FreqDist({'island': 27}),\n",
       " 'pau': FreqDist({'arco': 9, 'marco': 5, 'haji': 1}),\n",
       " 'bragg': FreqDist({'liquid': 17, 'cider': 8, 'yeast': 8, 'amino': 3, 'act': 3, 'nutritional': 2, 'lineage': 1, 'soya': 1}),\n",
       " 'konrad': FreqDist({'white': 6, 'root': 2}),\n",
       " 'rhonda': FreqDist({'patrick': 70, 'micro': 2, 'smoothly': 1, 'micronutrient': 1}),\n",
       " 'electrolyte': FreqDist({'drink': 31, 'powder': 12, 'sport': 3, 'gel': 2, 'mix': 2, 'replenished': 2, 'act': 1, 'ml': 1, 'peppermint': 1, 'lavender': 1, ...}),\n",
       " 'silk': FreqDist({'organic': 13, 'g': 6, 'soy': 4, 'almondmilk': 2, 'folder': 1, 'oblong': 1, 'ghee': 1, 'original': 1}),\n",
       " 'nucella': FreqDist({'tsp': 5, 'crepe': 5, 'b': 5, 'snack': 2, 'tiramisu': 2, 'karelia': 2, 'packet': 1, 'marble': 1, 'halftbsp': 1, 'gretchen': 1, ...}),\n",
       " 'angry': FreqDist({'orchard': 14, 'ball': 1}),\n",
       " 'orchard': FreqDist({'hard': 5, 'cider': 2, 'rose': 1, 'valley': 1}),\n",
       " 'sauer': FreqDist({'kraut': 10, 'scarf': 2, 'anchovy': 1, 'mush': 1}),\n",
       " 'bcci': FreqDist({'cap': 5, 'ml': 1, 'drink': 1}),\n",
       " 'pimms': FreqDist({'cocktail': 2}),\n",
       " 'fall': FreqDist({'brand': 2, 'asleep': 1, 'pearsall': 1, 'harvest': 1}),\n",
       " 'med': FreqDist({'brazil': 6, 'size': 6, 'veg': 6, 'dark': 4, 'malek': 4, 'iced': 3, 'metformin': 2, 'junk': 2, 'sprite': 2, 'sweet': 2, ...}),\n",
       " 'metformin': FreqDist({'atorvast': 2, 'lorsartan': 1}),\n",
       " 'supreme': FreqDist({'suva': 2, 'thin': 2, 'rd': 1, 'domino': 1, 'cooked': 1, 'no': 1, 'pale': 1, 'volatile': 1}),\n",
       " 'kettle': FreqDist({'cooked': 16, 'crisp': 8, 'fire': 4, 'korn': 4, 'brand': 2, 'creek': 1, 'cook': 1, 'bite': 1}),\n",
       " 'sodium': FreqDist({'v': 6, 'soy': 2, 'mcg': 1, 'tamar': 1, 'sodium': 1, 'concentrate': 1, 'bicarbonate': 1, 'organic': 1, 'deli': 1}),\n",
       " 'rhubarb': FreqDist({'crumble': 18, 'crisp': 6, 'compote': 4, 'custard': 2, 'tart': 2, 'greek': 1, 'shortage': 1, 'marmalade': 1, 'drink': 1, 'pastry': 1, ...}),\n",
       " 'gnocchi': FreqDist({'bolognese': 2, 'al': 2, 'prosciutto': 2, 'gorgonzola': 2, 'red': 2, 'alla': 2, 'pyy': 1, 'napoletana': 1, 'granada': 1, 'carbonara': 1, ...}),\n",
       " 'lo': FreqDist({'mein': 38, 'dough': 2, 'mien': 2, 'mainland': 1, 'sodium': 1, 'lactose': 1, 'cab': 1, 'main': 1, 'gi': 1, 'cal': 1}),\n",
       " 'binge': FreqDist({'powder': 7, 'carbs': 1, 'ugh': 1}),\n",
       " 'lite': FreqDist({'snack': 4, 'soy': 3, 'style': 2, 'bar': 1, 'blue': 1, 'veg': 1, 'creamy': 1, 'sharp': 1, 'poppyseed': 1, 'wa': 1, ...}),\n",
       " 'tao': FreqDist({'awake': 3, 'iced': 2, 'passion': 2, 'hibiscus': 1, 'yellow': 1, 'peachy': 1}),\n",
       " 'atkins': FreqDist({'bar': 62, 'sweet': 12, 'drink': 7, 'treat': 7, 'choc': 3, 'snack': 2, 'low': 2, 'chewy': 2, 'farmhouse': 1, 'breakfast': 1, ...}),\n",
       " 'third': FreqDist({'c': 5, 'portion': 3, 'semi': 3, 'cop': 2, 'pot': 2, 'kiwifruit': 2, 'fc': 2, 'bag': 2, 'pound': 2, 'step': 2, ...}),\n",
       " 'bib': FreqDist({'bim': 1, 'into': 1}),\n",
       " 'bim': FreqDist({'bap': 2, 'bim': 1, 'pa': 1}),\n",
       " 'ore': FreqDist({'thins': 12, 'thin': 3, 'truffle': 3, 'milkshake': 3, 'mini': 3, 'ball': 2, 'stick': 2, 'blizzard': 2, 'mcclure': 1, 'calorie': 1, ...}),\n",
       " 'vent': FreqDist({'soy': 14, 'sb': 6, 'deaf': 6, 'brave': 6, 'black': 5, 'iced': 4, 'bond': 3, 'hot': 3, 'shot': 2, 'flat': 2, ...}),\n",
       " 'nc': FreqDist({'indian': 1, 'lemoncello': 1, 'falae': 1}),\n",
       " 'bulk': FreqDist({'stevie': 6, 'wild': 2, 'eye': 1, 'bin': 1, 'chick': 1, 'bus': 1, 'why': 1, 'pep': 1}),\n",
       " 'ff': FreqDist({'of': 4, 'plain': 2, 'fairlife': 2, 'ricotta': 1}),\n",
       " 'california': FreqDist({'blend': 11, 'club': 2, 'medjool': 1, 'personal': 1, 'role': 1, 'medley': 1}),\n",
       " 'savoury': FreqDist({'mince': 5, 'snack': 3, 'scone': 3, 'pastry': 2, 'yeast': 1, 'danish': 1, 'root': 1, 'puff': 1, 'scroll': 1}),\n",
       " 'beta': FreqDist({'alanine': 12, 'hydroxybutyrate': 3, 'poa': 1, 'red': 1}),\n",
       " 'numb': FreqDist({'organic': 6, 'dry': 1, 'pu': 1}),\n",
       " 'string': FreqDist({'hopper': 2, 'mean': 1, 'bit': 1, 'b': 1, 'hooper': 1}),\n",
       " 'cooked': FreqDist({'breakfast': 11, 'g': 9, 'red': 7, 'whole': 5, 'mix': 4, 'beetroot': 4, 'meet': 3, 'churt': 3, 'turnip': 2, 'one': 2, ...}),\n",
       " 'cane': FreqDist({'box': 2, 'med': 1, 'veg': 1}),\n",
       " 'box': FreqDist({'cal': 5, 'combo': 3, 'lunch': 2, 'cult': 1, 'raisinetes': 1, 'jumbo': 1, 'airplane': 1, 'reeses': 1, 'five': 1, 'bar': 1, ...}),\n",
       " 'mexican': FreqDist({'shredded': 12, 'blend': 10, 'sweetbread': 8, 'style': 8, 'sweet': 7, 'breakfast': 4, 'spice': 4, 'hot': 3, 'restaurant': 2, 'dip': 2, ...}),\n",
       " 'cheesy': FreqDist({'perdita': 4, 'grit': 3, 'ordo': 2, 'veg': 1, 'straw': 1, 'leek': 1, 'italian': 1, 'rarer': 1, 'hashbrowns': 1, 'mexican': 1, ...}),\n",
       " 'narbonne': FreqDist({'fizzy': 10, 'fizz': 4, 'energy': 1, 'herbal': 1}),\n",
       " 'fizzy': FreqDist({'stick': 10, 'drink': 4, 'pastille': 2, 'sweet': 2}),\n",
       " 'stick': FreqDist({'drink': 10, 'snack': 5, 'mind': 4, 'g': 3, 'humour': 2, 'dip': 2, 'baby': 2, 'zero': 1, 'marmalade': 1, 'nd': 1, ...}),\n",
       " 'elite': FreqDist({'fl': 6, 'agenda': 2, 'casein': 2, 'na': 1, 'whey': 1}),\n",
       " 'na': FreqDist({'k': 3, 'cl': 1}),\n",
       " 'alcohol': FreqDist({'free': 39, 'drink': 6, 'ml': 2, 'consumption': 1, 'lol': 1, 'beverage': 1, 'gluhwein': 1, 'cider': 1, 'spiked': 1}),\n",
       " 'way': FreqDist({'mini': 3, 'king': 2, 'bar': 2, 'rump': 1, 'low': 1, 'take': 1, 'fun': 1, 'sirloin': 1, 'no': 1}),\n",
       " 'king': FreqDist({'prawn': 12, 'size': 8, 'whopper': 7, 'hawaiian': 6, 'via': 2, 'double': 2, 'pao': 1, 'value': 1, 'whooper': 1, 'sweet': 1, ...}),\n",
       " 'unhealthy': FreqDist({'trail': 2, 'shit': 1, 'snack': 1}),\n",
       " 'daily': FreqDist({'harvest': 15, 'nutritional': 9, 'gram': 4, 'b': 3, 'mess': 3, 'blend': 2, 'lunch': 2, 'mv': 1, 'consumption': 1, 'feed': 1, ...}),\n",
       " 'psyllium': FreqDist({'husk': 136, 'fibre': 10, 'drink': 4, 'powder': 3, 'hull': 2, 'soon': 1, 'macao': 1, 'citrine': 1, 'flax': 1, 'sultana': 1}),\n",
       " 'bcaa': FreqDist({'drink': 16, 'powder': 7, 'glutamine': 4, 'creatine': 3, 'g': 2, 'ho': 2, 'workout': 2, 'salvation': 1, 'psyllium': 1, 'energy': 1, ...}),\n",
       " 'salvation': FreqDist({'tend': 6}),\n",
       " 'slow': FreqDist({'cooked': 16, 'mag': 3, 'cooker': 3, 'pressed': 3, 'roasted': 2, 'roast': 1, 'burn': 1, 'churned': 1, 'camera': 1}),\n",
       " 'bubbly': FreqDist({'cocktail': 1}),\n",
       " 'cocktail': FreqDist({'sauce': 29, 'crisp': 3, 'na': 2, 'cost': 2, 'kefirowy': 2, 'bitter': 1, 'food': 1, 'ml': 1, 'hot-dogs': 1, 'say': 1, ...}),\n",
       " 'coriander': FreqDist({'chutney': 5, 'fennel': 3, 'cumin': 3, 'powder': 2, 'pure': 1, 'cardia': 1, 'cayenne': 1, 'chapati': 1, 'nan': 1, 'pitta': 1, ...}),\n",
       " 'frapacino': FreqDist({'deaf': 2}),\n",
       " 'boiled': FreqDist({'lolly': 22, 'horsegram': 18, 'horse': 6, 'sweet': 6, 'red': 6, 'beetroot': 4, 'soyabean': 4, 'gram': 2, 'ymca': 2, 'yukon': 2, ...}),\n",
       " 'yeast': FreqDist({'flake': 17, 'extract': 7, 'gm': 7, 'spirulina': 6, 'powder': 4, 'sauce': 4, 'psyllium': 2, 'flaked': 2, 'herb': 1, 'defender': 1, ...}),\n",
       " 'tomatillo': FreqDist({'sauce': 3}),\n",
       " 'percent': FreqDist({'dark': 24, 'macao': 8, 'abu': 5, 'pint': 4, 'choc': 4, 'lactose': 3, 'mill': 3, 'grass': 2, 'alcohol': 2, 'square': 2, ...}),\n",
       " 'rd': FreqDist({'serving': 9, 'bar': 2, 'top': 2, 'bag': 1, 'hr': 1, 'share': 1, 'container': 1, 'st': 1, 'c': 1, 'mini': 1}),\n",
       " 'echinacea': FreqDist({'elderberry': 2, 'herbal': 2, 'eve': 1, 'herb': 1, 'hibiscus': 1}),\n",
       " 'config': FreqDist({'canard': 2, 'yukon': 1}),\n",
       " 'yukon': FreqDist({'gold': 14}),\n",
       " 'code': FreqDist({'hash': 1}),\n",
       " 'shallot': FreqDist({'flatbed': 1, 'pine': 1, 'tart': 1, 'fennel': 1}),\n",
       " 'sol': FreqDist({'fresh': 3, 'chelsea': 1}),\n",
       " 'buffalo': FreqDist({'sauce': 16, 'mil': 8, 'dip': 7, 'roast': 3, 'mince': 2, 'spiced': 2, 'brunette': 2, 'miti': 2, 'surprise': 1, 'paddy': 1, ...}),\n",
       " 'surprise': FreqDist({'appetiser': 1}),\n",
       " 'bulletproof': FreqDist({'hot': 31, 'brain': 15, 'match': 11, 'instamix': 8, 'normal': 7, 'deaf': 6, 'trio': 5, 'ghee': 4, 'yerbamate': 3, 'act': 3, ...}),\n",
       " 'carbonara': FreqDist({'gluten': 1, 'bulletproof': 1, 'shiite': 1, 'sauce': 1}),\n",
       " 'thyme': FreqDist({'black': 2, 'caper': 1, 'oregano': 1, 'infusion': 1, 'link': 1, 'tapioca': 1, 'snack': 1}),\n",
       " 'horse': FreqDist({'gram': 8, 'radish': 5, 'mackerel': 1}),\n",
       " 'ezekiel': FreqDist({'sprouted': 21, 'flax': 2, 'greengate': 1, 'flashed': 1, 'raised': 1, 'grain': 1, 'pepita': 1, 'test': 1, 'no': 1, 'ce': 1, ...}),\n",
       " 'macha': FreqDist({'powder': 3, 'tee': 1}),\n",
       " 'sleeve': FreqDist({'g': 1, 'club': 1, 'ritz': 1}),\n",
       " 'decaffeinated': FreqDist({'soya': 38, 'earl': 12, 'breakfast': 4, 'tetley': 2, 'gingerbread': 2, 'rooibos': 2, 'black': 1, 'drink': 1, 'herbal': 1}),\n",
       " 'patina': FreqDist({'con': 4}),\n",
       " 'ashi': FreqDist({'go': 25, 'bar': 25, 'grain': 4, 'dark': 3, 'pilar': 1, 'shredded': 1, 'seven': 1, 'fibre': 1, 'flax': 1, 'mayan': 1, ...}),\n",
       " 'sweetened': FreqDist({'soy': 10, 'soya': 7, 'stevie': 4, 'soft': 3, 'condensed': 3, 'deaf': 2, 'cr': 2, 'herbal': 2, 'white': 1, 'plain': 1, ...}),\n",
       " 'cool': FreqDist({'whip': 24, 'blue': 1, 'hey': 1, 'law': 1}),\n",
       " 'swiss': FreqDist({'miss': 7, 'sub': 4, 'chalet': 3, 'cheeseslices': 2, 'brown': 2, 'hard': 2, 'pat': 1, 'multigrain': 1, 'polenta': 1, 'cha': 1, ...}),\n",
       " 'kiichi': FreqDist({'g': 4, 'shot': 2, 'dai': 2, 'khaki': 1, 'veagnai': 1, 'tsp': 1, 'veg': 1, 'millet': 1, 'anchovy': 1, 'pumpkinseed': 1, ...}),\n",
       " 'area': FreqDist({'cafe': 6, 'quest': 3, 'havant': 2, 'flourplantanain': 1, 'natural': 1, 'bar': 1, 'sky': 1, 'chocolo': 1, 'empanada': 1, 'brie': 1, ...}),\n",
       " 'flourplantanain': FreqDist({'gr': 1}),\n",
       " 'artificial': FreqDist({'sweetener': 24, 'sweeter': 6, 'sweet': 3, 'sweeten': 2}),\n",
       " 'eq': FreqDist({'exchange': 24}),\n",
       " 'exchange': FreqDist({'dk': 24}),\n",
       " 'dk': FreqDist({'choc': 36, 'sg': 2}),\n",
       " 'friday': FreqDist({'glow': 27, 'breakfast': 1}),\n",
       " 'glow': FreqDist({'powder': 27, 'tincture': 1, 'worm': 1, 'clean': 1}),\n",
       " 'via': FreqDist({'red': 2, 'instant': 1, 'superflakes': 1}),\n",
       " 'cornish': FreqDist({'pasty': 10, 'hen': 5, 'pastry': 1, 'paste': 1, 'he': 1}),\n",
       " 'hopped': FreqDist({'keir': 1, 'cider': 1}),\n",
       " 'calorie': FreqDist({'free': 8, 'sweet': 3, 'electrolyte': 3, 'flavoured': 2, 'caffienated': 2, 'bar': 2, 'drink': 1, 'muscle': 1, 'bag': 1, 'vegan': 1, ...}),\n",
       " 'but': FreqDist({'sub': 2, 'netball': 1, 'baguette': 1, 'sans': 1, 'cinema': 1, 'tiny': 1, 'taste': 1, 'chopped': 1, 'sand': 1, 'whole': 1}),\n",
       " 'bass': FreqDist({'fillet': 3, 'tartar': 1, 'veg': 1, 'black': 1, 'g': 1, 'tamarind': 1, 'crust': 1, 'boulliabase': 1}),\n",
       " 'japanese': FreqDist({'match': 13, 'wafer': 4, 'sweet': 3, 'miso': 3, 'file': 2, 'dinner': 2, 'red': 2, 'pan': 2, 'kiichi': 2, 'style': 2, ...}),\n",
       " 'adapt': FreqDist({'ketobar': 2, 'bar': 1}),\n",
       " 'weak': FreqDist({'earl': 19, 'no': 4, 'long': 2, 'cordial': 1, 'milky': 1}),\n",
       " 'sunny': FreqDist({'side': 21, 'smooth': 1}),\n",
       " 'pod': FreqDist({'equal': 4, 'g': 2}),\n",
       " 'carmel': FreqDist({'france': 4, 'deaf': 2, 'swirl': 2, 'dip': 1, 'empanada': 1, 'mm': 1, 'covered': 1, 'sauce': 1, 'choc': 1, 'wedge': 1, ...}),\n",
       " 'lightly': FreqDist({'salted': 8, 'buttered': 4, 'sweetened': 1, 'sweetpea': 1, 'sweet': 1}),\n",
       " 'double': FreqDist({'shot': 29, 'long': 11, 'quarter': 8, 'thick': 6, 'express': 5, 'whopper': 5, 'brie': 5, 'decker': 5, 'black': 4, 'combo': 4, ...}),\n",
       " 'mike': FreqDist({'hard': 12, 'like': 6, 'regular': 2, 'mini': 2, 'no': 1, 'reg': 1, 'inch': 1, 'sub': 1, 'iles': 1, 'italian': 1, ...}),\n",
       " 'darkchocolatex': FreqDist({'square': 1}),\n",
       " 'mountain': FreqDist({'dew': 150, 'mike': 2, 'blast': 1, 'brea': 1, 'organic': 1, 'dewi': 1}),\n",
       " 'salty': FreqDist({'snack': 7, 'bar': 2, 'mixed': 1, 'kettle': 1, 'white': 1}),\n",
       " 'foot-long': FreqDist({'spice': 1, 'italian': 1, 'flatbed': 1, 'club': 1, 'vegan': 1, 'sub': 1}),\n",
       " 'spice': FreqDist({'mix': 28, 'powder': 14, 'herbal': 10, 'bar': 4, 'blend': 4, \"don'ts\": 4, 'etc': 3, 'flax': 3, 'stevie': 3, 'mi': 2, ...}),\n",
       " 'gorgonzola': FreqDist({'pc': 6, 'sauce': 2, 'collar': 1, 'romaine': 1, 'cecchini': 1}),\n",
       " 'tamar': FreqDist({'sauce': 7, 'roasted': 2, 'houlumi': 1, 'one': 1, 'of': 1, 'soy': 1, 'greek': 1, 'poll': 1}),\n",
       " 'trivia': FreqDist({'baking': 11}),\n",
       " 'baking': FreqDist({'powder': 12, 'blend': 11, 'unsweetened': 1}),\n",
       " 'taylor': FreqDist({'farm': 8, 'jasmine': 1, 'super': 1}),\n",
       " 'kirkland': FreqDist({'sparkling': 2, 'organic': 2, 'canned': 2, 'cabernet': 1, 'spice': 1, 'trailmix': 1, 'traditional': 1, 'ciabatta': 1, 'nutrition': 1, 'choc': 1, ...}),\n",
       " 'ball': FreqDist({'g': 5, 'cal': 3, 'park': 3, 'sauce': 2, 'white': 2, 'plain': 2, 'ladd': 1, 'ancient': 1, 'erm': 1, 'inch': 1, ...}),\n",
       " 'hearty': FreqDist({'breakfast': 2, 'minestrone': 2, 'winter': 2, 'miso': 1}),\n",
       " 'pursed': FreqDist({'mixed': 2, 'organic': 2, 'medjool': 1, 'steamed': 1}),\n",
       " 'van': FreqDist({'gluten': 7, 'choc': 4, 'sauce': 3, 'liquid': 3, 'soy': 2, 'wafer': 2, 'icing': 1, 'cc': 1, 'of': 1, 'multigrain': 1, ...}),\n",
       " 'tissue': FreqDist({'rejuvenation': 6}),\n",
       " 'medium': FreqDist({'chain': 8, 'skinny': 4, 'pale': 4, 'sweet': 4, 'basin': 3, 'pirate': 2, 'hot': 2, 'dark': 2, 'soy': 2, 'co': 2, ...}),\n",
       " 'plus': FreqDist({'soy': 10, 'dha': 7, 'dreamer': 6, 'mock': 4, 'complete': 4, 'trace': 3, 'drink': 3, 'creatine': 2, 'neutrophil': 2, 'ml': 1, ...}),\n",
       " 'maker': FreqDist({'mark': 2}),\n",
       " 'chicago': FreqDist({'style': 3, 'dog': 3, 'mix': 3}),\n",
       " 'panettone': FreqDist({'gloria': 1, 'sweet': 1}),\n",
       " 'cloud': FreqDist({'ear': 4}),\n",
       " 'impossible': FreqDist({'whopper': 7, 'burgerfries': 1, 'whooper': 1, 'cooper': 1}),\n",
       " 'cafe': FreqDist({'au': 53, 'con': 16, 'noir': 13, 'act': 11, 'rio': 5, 'nero': 5, 'creme': 4, 'et': 4, 'escape': 4, 'carmel': 4, ...}),\n",
       " 'skye': FreqDist({'mixed': 3}),\n",
       " 'ritz': FreqDist({'bit': 5, 'crisp': 2, 'toasted': 1, 'mini': 1, 'baked': 1, 'thin': 1, 'baleful': 1, 'p': 1}),\n",
       " 'maxi': FreqDist({'fri': 2, 'red': 1}),\n",
       " 'okra': FreqDist({'curd': 2, 'dal': 2, 'cornish': 2, 'roasted': 2, 'snack': 1, 'papaya': 1, 'her': 1, 'pasty': 1, 'bkdbeans': 1, 'tom': 1, ...}),\n",
       " 'liquorice': FreqDist({'root': 11, 'peppermint': 7, 'allsorts': 4, 'log': 4, 'bullet': 3, 'black': 2, 'herb': 2, 'twist': 2, 'sweet': 2, 'diet': 2, ...}),\n",
       " 'afternoon': FreqDist({'snack': 28, 'kombuca': 1}),\n",
       " 'heath': FreqDist({'bar': 13, 'boiled': 2, 'toffee': 1, 'blizzard': 1}),\n",
       " 'piggy': FreqDist({'pop': 3}),\n",
       " 'pom': FreqDist({'bear': 3, 'line': 2, 'bb': 1, 'pom': 1, 'ava': 1}),\n",
       " 'robinson': FreqDist({'blackcurrant': 9}),\n",
       " 'culpepper': FreqDist({'red': 1}),\n",
       " 'canned': FreqDist({'g': 7, 'mackerel': 6, 'sardine': 6, 'diced': 6, 'whipped': 2, 'meet': 2, 'herring': 2, 'pink': 2, 'red': 1, 'albacore': 1, ...}),\n",
       " 'fair': FreqDist({'life': 7, 'dairy': 2}),\n",
       " 'ultra': FreqDist({'no': 5, 'light': 2, 'filtered': 1, 'clear': 1, 'gold': 1, 'slim': 1, 'cleanse': 1, 'zero': 1, 'blue': 1}),\n",
       " 'jerkchicken': FreqDist({'ricebeans': 2}),\n",
       " 'r': FreqDist({'patrick': 6, 'bar': 4, 'alpha': 1, 'sld': 1, 'veg': 1, 'g': 1}),\n",
       " 'alpha': FreqDist({'bee': 12, 'lipid': 8, 'gpc': 7, 'maid': 4, 'amino': 3, 'brain': 3, 'li': 1, 'clean': 1, 'cider': 1, 'mar': 1, ...}),\n",
       " 'lipid': FreqDist({'acid': 8}),\n",
       " 'luxury': FreqDist({'tree': 1}),\n",
       " 'co': FreqDist({'cigarette': 15, 'got': 3, 'q': 3, 'no': 3, 'wal': 1, 'mil': 1, 'protocol': 1, 'halloumi': 1}),\n",
       " 'light': FreqDist({'fit': 33, 'killer': 8, 'punch': 6, 'go': 5, 'italian': 5, 'soy': 5, 'mediterranean': 4, 'american': 4, 'large': 3, 'baby': 2, ...}),\n",
       " 'falae': FreqDist({'humour': 5, 'ball': 4, 'patty': 2, 'halloumi': 2, 'crisp': 1, 'kebab': 1, 'human': 1, 'think': 1, 'platter': 1, 'tahiti': 1, ...}),\n",
       " 'mana': FreqDist({'portion': 3, 'spoon': 1}),\n",
       " 'grande': FreqDist({'soy': 17, 'iced': 8, 'flat': 6, 'nona': 6, 'skim': 3, 'deaf': 3, 'nitro': 3, 'skinny': 2, 'cuppacino': 2, 'hot': 1, ...}),\n",
       " 'edifact': FreqDist({'bar': 4}),\n",
       " 'rocket': FreqDist({'leaf': 6, 'fuel': 3, 'yeast': 2, 'mr': 1, 'tartar': 1, 'flower': 1, 'humus': 1, 'sour': 1}),\n",
       " 'buenos': FreqDist({'rancher': 24, 'con': 2, 'quest': 2, 'madrillenos': 1, 'pan': 1, 'bar': 1, 'ra': 1, 'sub': 1, 'recueltos': 1}),\n",
       " 'six': FreqDist({'inch': 6, 'tab': 3, 'cube': 1, 'pack': 1, 'ore': 1, 'white': 1, 'eel': 1, 'mai': 1, 'gummy': 1, 'veg': 1, ...}),\n",
       " 'artichokeheart': FreqDist({'kalamata': 1}),\n",
       " 'kalamata': FreqDist({'crown': 2, 'oli': 1, 'red': 1, 'brine': 1}),\n",
       " 'mar': FreqDist({'bar': 24, 'hm': 1, 'snack': 1}),\n",
       " 'cohobani': FreqDist({'greek': 5}),\n",
       " 'fruity': FreqDist({'pebble': 8, 'twist': 2, 'herbal': 1, 'slurry': 1, 'snack': 1, 'spiced': 1, 'breakfast': 1, 'sauce': 1, 'cider': 1, 'dessert': 1, ...}),\n",
       " 'egging': FreqDist({'bourbon': 2, 'liqueur': 2, 'panache': 1, 'pannone': 1}),\n",
       " 'emergen-c': FreqDist({'c': 38}),\n",
       " 'mona': FreqDist({'pot': 5, 'double': 1}),\n",
       " 'fancy': FreqDist({'viable': 1}),\n",
       " 'somme': FreqDist({'terre': 4}),\n",
       " 'finnish': FreqDist({'squeaky': 6, 'crispy': 2}),\n",
       " 'india': FreqDist({'bag': 3, 'spice': 2, 'red': 2, 'pale': 1, 'serv': 1, 'view': 1, 'mixed': 1}),\n",
       " 'taro': FreqDist({'root': 8, 'bubble': 2, 'loaf': 1, 'bob': 1, 'cooked': 1, 'grass': 1, 'snack': 1}),\n",
       " 'break': FreqDist({'fast': 12, 'snack': 3, 'cals': 1, 'bowel': 1, 'red': 1, 'crumb': 1, 'gouda': 1, 'hr': 1, 'portage': 1}),\n",
       " 'sachet': FreqDist({'quaker': 2, 'quick': 1, 'tore': 1, 'plus': 1}),\n",
       " 'crisp': FreqDist({'g': 15, 'bar': 4, 'cals': 3, 'dip': 2, 'hand': 2, 'large': 2, 'ready': 2, 'serving': 2, 'carob': 2, 'lot': 1, ...}),\n",
       " 'country': FreqDist({'fried': 6, 'style': 4, 'hot': 3, 'original': 3, 'db': 1, 'scrambler': 1, 'crock': 1, 'mild': 1, 'farm': 1, 'white': 1, ...}),\n",
       " 'sultana': FreqDist({'scone': 3, 'tablespoon': 1, 'scroll': 1}),\n",
       " 'nothing': FreqDist({'added': 21}),\n",
       " 'thi': FreqDist({'pc': 1}),\n",
       " 'hashemi': FreqDist({'pc': 2, 'dinner': 1, 'lunch': 1}),\n",
       " 'hal': FreqDist({'canada': 1, 'deaf': 1}),\n",
       " 'canada': FreqDist({'dry': 13}),\n",
       " 'catalina': FreqDist({'crunch': 1}),\n",
       " 'rosemary': FreqDist({'infusion': 3, 'foccacia': 2, 'thyme': 2, 'bradstock': 2, 'shortbread': 1, 'chick': 1, 'salted': 1, 'forcatta': 1, 'sage': 1, 'veto': 1}),\n",
       " 'citrus': FreqDist({'punch': 5, 'powered': 2, 'whitehead': 1, 'reduction': 1, 'herb': 1, 'peel': 1, 'grain': 1, 'law': 1, 'tart': 1, 'strip': 1, ...}),\n",
       " 'whitehead': FreqDist({'infusion': 1, 'hamsoup': 1}),\n",
       " 'martian': FreqDist({'blood': 3}),\n",
       " 'store': FreqDist({'bought': 8, 'sample': 2, 'g': 1}),\n",
       " 'ww': FreqDist({'inch': 3, 'crust': 3, 'serial': 2, 'dinner': 2, 'crisp': 2, 'triscuits': 1, 'ritz': 1, 'baguette': 1, 'eng': 1, 'lavish': 1, ...}),\n",
       " 'impure': FreqDist({'gram': 2, 'low': 1}),\n",
       " 'soaked': FreqDist({'old': 9, 'peeled': 7, 'prune': 5, 'fenugreek': 2, 'overnight': 1, 'dry': 1, 'flashed': 1}),\n",
       " 'oriole': FreqDist({'con': 1, 'molla': 1, 'mostafa': 1}),\n",
       " 'ultima': FreqDist({'replenished': 52, 'electrolyte': 6, 'rehydration': 3}),\n",
       " 'mr': FreqDist({'gibb': 3, 'hyde': 3, 'bird': 2, 'goodbye': 2, 'ju': 2, 'choice': 1, 'kipling': 1, 'budd': 1, 'raw': 1, 'show': 1, ...}),\n",
       " 'chow': FreqDist({'mein': 60, 'main': 8, 'fun': 6, 'mien': 6, 'chow': 2, 'mine': 1, 'mei': 1, 'boi': 1, 'goon': 1, 'mix': 1, ...}),\n",
       " 'phat': FreqDist({'fudge': 14, 'thai': 2}),\n",
       " 'dulcie': FreqDist({'lech': 15, 'flake': 2, 'gusto': 2}),\n",
       " 'possible': FreqDist({'duplicate': 1, 'leftover': 1}),\n",
       " 'little': FreqDist({'debbie': 15, 'smoke': 12, 'caesar': 10, 'gem': 4, 'bit': 3, 'cesar': 3, 'br': 3, 'spoon': 2, 'vegan': 2, 'bite': 2, ...}),\n",
       " 'caesar': FreqDist({'deep': 7, 'greek': 2, 'romaine': 2, 'side': 2, 'double': 1, 'breadstick': 1, 'sauce': 1, 'chic': 1, 'salaatti': 1, 'prosciutto': 1, ...}),\n",
       " 'cut': FreqDist({'herbal': 3, 'sub': 3, 'combo': 3, 'riley': 2, 'leaf': 2, 'steel': 2, 'oatmecoconut': 1, 'thinly': 1, 'organic': 1, 'oatsberries': 1, ...}),\n",
       " 'niki': FreqDist({'ig': 2, 'sa': 1, 'fat': 1, 'nasal': 1, 'drink': 1, 'upon': 1, 'baby': 1}),\n",
       " 'ballast': FreqDist({'point': 4}),\n",
       " 'point': FreqDist({'percent': 8, 'culkin': 2, 'even': 2}),\n",
       " 'personal': FreqDist({'size': 1}),\n",
       " 'sale': FreqDist({'leaf': 1, 'witpices': 1}),\n",
       " 'prawn': FreqDist({'cocktail': 10, 'g': 6, 'linguist': 5, 'jalfrezi': 5, 'tempera': 4, 'paella': 3, 'veg': 3, 'matsu': 3, 'chutney': 2, 'sauce': 2, ...}),\n",
       " 'xxxxgold': FreqDist({'mid': 2}),\n",
       " 'mid': FreqDist({'morning': 3, 'strength': 2, 'snack': 2, 'east': 1, 'afternoon': 1, 'run': 1, 'fat': 1}),\n",
       " 'husk': FreqDist({'powder': 25, 'keir': 2, 'chicory': 2, 'organic': 1, 'teaspoon': 1, 'g': 1, 'creatine': 1}),\n",
       " 'mate': FreqDist({'infusion': 13, 'lt': 10, 'unsweetened': 5, 'monkfruit': 3, 'shot': 3, 'drink': 2, 'creme': 2, 'four': 1, 'casa': 1, 'powdered': 1, ...}),\n",
       " 'skittle': FreqDist({'snack': 3, 'sweet': 1, 'fun': 1, 'mini': 1}),\n",
       " 'balance': FreqDist({'bar': 10, 'buttery': 6, 'break': 6, 'margarine': 5, 'pop': 1, 'vegan': 1, 'tsp': 1, 'br': 1, 'rig': 1, 'mix': 1}),\n",
       " 'mousse': FreqDist({'vegan': 2, 'ball': 1, 'veto': 1, 'choc': 1, 'desert': 1, 'dessert': 1, 'pate': 1, 'agar': 1}),\n",
       " 'uncrustable': FreqDist({'pb': 4}),\n",
       " 'sb': FreqDist({'carmel': 5, 'vent': 1, 'peppermint': 1, 'ch': 1, 'sf': 1, 'inn': 1}),\n",
       " 'acetyl': FreqDist({'l': 4, 'carnitine': 4, 'cysteine': 1}),\n",
       " 'kelp': FreqDist({'granule': 12, 'wake': 3, 'powder': 2, 'nor': 2, 'sprinkle': 2, 'iodine': 1, 'msmchromium': 1, 'japanese': 1, 'dash': 1, 'citrus': 1, ...}),\n",
       " 'zinc': FreqDist({'glycine': 1, 'copper': 1, 'citrate': 1, 'tablet': 1}),\n",
       " 'ayurvedic': FreqDist({'detox': 3, 'blend': 1, 'spice': 1, 'herb': 1}),\n",
       " 'english': FreqDist({'breakfast': 132, 'toffee': 4, 'muff': 4, 'style': 3, 'mum': 2, 'trifle': 1, 'mug': 1, 'gluten': 1, 'toasting': 1, 'mu': 1}),\n",
       " 'jolly': FreqDist({'rancher': 30, 'time': 4}),\n",
       " 'beni': FreqDist({'fried': 1}),\n",
       " 'bent': FreqDist({'box': 17, 'deaf': 4, 'six': 1}),\n",
       " 'iso': FreqDist({'g': 3, 'fudge': 1}),\n",
       " 'xtra': FreqDist({'lean': 3, 'sharp': 1, 'virgin': 1}),\n",
       " 'buckwheat': FreqDist({'groat': 23, 'flake': 8, 'energy': 8, 'crepe': 6, 'scone': 5, 'crispbread': 4, 'crisp': 3, 'lusaka': 2, 'gobi': 2, 'polenta': 1, ...}),\n",
       " 'milled': FreqDist({'linseed': 24, 'flashed': 12, 'flax': 8, 'flaxseed': 3, 'seam': 1}),\n",
       " 'gr': FreqDist({'bullhorn': 11, 'plain': 9, 'roasted': 5, 'soya': 4, 'fullgrain': 3, 'pep': 3, 'ch': 2, 'cooked': 2, 'bcaa': 2, 'carbs': 2, ...}),\n",
       " 'toblerone': FreqDist({'triangle': 3, 'snack': 2, 'white': 1, 'large': 1, 'g': 1, 'bar': 1}),\n",
       " 'arby': FreqDist({\"'s\": 62}),\n",
       " 'spelt': FreqDist({'flake': 7, 'coffey': 7, 'whole': 2, 'risotto': 2, 'crispbread': 2, 'ciabatta': 2, 'wafer': 2, 'crisp': 1, 'pop': 1, 'dough': 1, ...}),\n",
       " 'ruc': FreqDist({'veg': 1, 'brow': 1}),\n",
       " 'blackcurrant': FreqDist({'j': 2, 'coolie': 1, 'sorbet': 1, 'flavour': 1, 'cordial': 1}),\n",
       " 'chola': FreqDist({'vine': 1, 'canal': 1}),\n",
       " 'tray': FreqDist({'bake': 2}),\n",
       " 'diameter': FreqDist({'whole': 1}),\n",
       " 'pastel': FreqDist({'data': 5, 'carne': 3, 'del': 2, 'table': 1, 'ymca': 1, 'aztec': 1}),\n",
       " 'brown': FreqDist({'basmati': 21, 'wild': 13, 'sauce': 12, 'serve': 7, 'baguette': 6, 'sun': 5, 'seeded': 5, 'scone': 4, 'sgr': 3, 'rich': 3, ...}),\n",
       " 'chic': FreqDist({'fil': 24, 'filum': 8, 'nugget': 3, 'upon': 2, 'mac': 2, 'breast': 2, 'brick': 1, 'fly': 1, 'finger': 1, 'set': 1, ...}),\n",
       " 'pulp': FreqDist({'free': 18, 'flax': 1, 'frozen': 1}),\n",
       " 'chuck': FreqDist({'roast': 20, 'gumption': 2, 'eye': 1, 'cider': 1, 'pop': 1}),\n",
       " 'eye': FreqDist({'fillet': 4, 'grass': 2, 'round': 2, 'raw': 2, 'roast': 1, 'romaine': 1, 'fat': 1, 'frozen': 1, 'support': 1}),\n",
       " 'asian': FreqDist({'law': 7, 'chopped': 6, 'style': 5, 'fusion': 4, 'cuisine': 2, 'pastry': 2, 'carp': 1, 'dinner': 1, 'street': 1, 'box': 1, ...}),\n",
       " 'applecidervinegar': FreqDist({'warm': 5, 'drs': 1, 'citron': 1}),\n",
       " 'warm': FreqDist({'ho': 5, 'raw': 2, 'marinated': 1, 'no': 1, 'veg': 1, 'winter': 1}),\n",
       " 'brian': FreqDist({'octagon': 2, 'octane': 1}),\n",
       " 'suisse': FreqDist({'much': 4}),\n",
       " 'oxtail': FreqDist({'broth': 1, 'stir-fry': 1, 'okra': 1, 'mash': 1}),\n",
       " 'ch': FreqDist({'sand': 3, 'breast': 2, 'brow': 1, 'wedge': 1, 'ch': 1, 'greek': 1, 'chef': 1, 'sld': 1, 'blur': 1, 'pate': 1, ...}),\n",
       " 'mug': FreqDist({'white': 14, 'black': 3, 'herbal': 3, 'shot': 2, 'lady': 2, 'root': 2, 'drinking': 2, 'deaf': 2, 'bone': 1, 'rootbeer': 1, ...}),\n",
       " 'tulsa': FreqDist({'herbal': 4, 'cleanse': 3, 'holy': 3, 'brahms': 3, 'clarity': 2, 'morning': 1, 'lavender': 1}),\n",
       " 'clarity': FreqDist({'goldthread': 2}),\n",
       " 'she': FreqDist({'patty': 1, 'van': 1, 'puri': 1}),\n",
       " 'erato': FreqDist({'pinot': 2}),\n",
       " 'activity': FreqDist({'nona': 4, 'plain': 1, 'drinkable': 1}),\n",
       " 'baby': FreqDist({'bell': 30, 'bel': 28, 'back': 21, 'bok': 15, 'spring': 11, 'bella': 10, 'marrow': 8, 'sweetcorn': 8, 'ruth': 7, 'swiss': 4, ...}),\n",
       " 'guinness': FreqDist({'stout': 5, 'draught': 1, 'extra': 1, 'stella': 1, 'barbecue': 1, 'pint': 1, 'draft': 1, 'ml': 1, 'foreign': 1}),\n",
       " 'tigercat': FreqDist({'cluster': 1}),\n",
       " 't': FreqDist({'sucker': 7, 'mac': 4, 'macao': 4, 'organic': 3, 'baja': 1, 'flower': 1}),\n",
       " 'knaeckebrot': FreqDist({'philadelphia': 2}),\n",
       " 'recovery': FreqDist({'drink': 9, 'bar': 4, 'powder': 2, 'immune': 1}),\n",
       " 'capri': FreqDist({'sun': 13, 'cocktail': 1, 'chart': 1}),\n",
       " 'greek': FreqDist({'style': 48, 'you': 24, 'plain': 13, 'nona': 11, 'yo': 5, 'yoghourt': 5, 'souvlaki': 3, 'lava': 3, 'low': 3, 'lunch': 3, ...}),\n",
       " 'linda': FreqDist({'per': 11, 'truffle': 6, 'dark': 6, 'ball': 5, 'percent': 4, 'landor': 4, 'pct': 3, 'thins': 2, 'linder': 2, 'mccartney': 2, ...}),\n",
       " 'souvlaki': FreqDist({'dinner': 2, 'pitta': 2, 'skewer': 1, 'kebab': 1}),\n",
       " 'm': FreqDist({'&': 15, 'and': 12, 's': 12, 'pieced': 1, 'of': 1, 'antipasto': 1, 'bag': 1, 'spelt': 1, 'rainbow': 1, 'baby': 1, ...}),\n",
       " '&': FreqDist({'ms': 15}),\n",
       " 'essential': FreqDist({'aminoacids': 14, 'amino': 4, 'snack': 1}),\n",
       " 'pool': FreqDist({'aid': 17, 'party': 1}),\n",
       " 'spark': FreqDist({'drink': 12, 'energy': 1, 'rehydrate': 1}),\n",
       " 'korean': FreqDist({'spicy': 5, 'side': 5, 'kiichi': 4, 'radish': 3, 'sauce': 2, 'bulgogi': 2, 'short': 2, 'fermented': 2, 'dinner': 2, 'red': 1, ...}),\n",
       " 'chin': FreqDist({'mee': 14, 'chin': 4, 'sand': 2, 'hb': 2, 'strip': 1, 'dorado': 1, 'asian': 1}),\n",
       " 'dropperful': FreqDist({'stevie': 4}),\n",
       " 'dandelion': FreqDist({'root': 29, 'flower': 9, 'leaf': 5, 'blend': 3, 'murdock': 2, 'chicory': 2, 'hibiscus': 1, 'drink': 1, 'etc': 1}),\n",
       " 'jai': FreqDist({'toy': 1, 'sf': 1}),\n",
       " 'china': FreqDist({'dal': 5, 'deal': 3, 'hindi': 1, 'black': 1, 'ghana': 1, 'stir': 1, 'rot': 1, 'bengal': 1, 'rose': 1, 'alba': 1, ...}),\n",
       " 'hindi': FreqDist({'suzi': 2, 'leaf': 1, 'jaipur': 1, 'chapati': 1}),\n",
       " 'tannin': FreqDist({'active': 3}),\n",
       " 'dutch': FreqDist({'baby': 8, 'bros': 3, 'gouda': 2, 'betty': 1, 'choc': 1, 'crunch': 1, 'bar': 1, 'oven': 1}),\n",
       " 'aga': FreqDist({'fresco': 4, 'jamaica': 2, 'panel': 2, 'aromatic': 1, 'tamarind': 1, 'coco': 1, 'pipe': 1, 'dulcie': 1, 'narnia': 1}),\n",
       " 'gelatin': FreqDist({'powder': 5, 'serving': 4, 'wc': 2, 'tub': 1, 'cider': 1, 'plain': 1, 'stigmatic': 1, 'no': 1, 'dummy': 1, 'g': 1}),\n",
       " 'po': FreqDist({'boy': 5, 'training': 2, 'kit': 1}),\n",
       " 'kun': FreqDist({'pau': 1}),\n",
       " 'need': FreqDist({'pine': 6, 'raw': 1, 'leaf': 1, 'bridal': 1, 'chimichanga': 1}),\n",
       " 'pine': FreqDist({'bark': 4, 'pollen': 4, 'kernel': 2, 'needle': 1, 'taste': 1, 'cone': 1}),\n",
       " 'loan': FreqDist({'sweetener': 10, 'chick': 1}),\n",
       " 'radish': FreqDist({'spout': 2, 'kim': 2, 'rocket': 2, 'g': 2, 'sweet': 2, 'kiichi': 1, 'raw': 1, 'puffed': 1, 'saute': 1, 'spinacheggscallion': 1, ...}),\n",
       " 'powered': FreqDist({'zero': 40, 'ion': 1, 'blue': 1, 'plus': 1, 'brea': 1}),\n",
       " 'bali': FreqDist({'chaka': 1, 'bliss': 1}),\n",
       " 'filum': FreqDist({'nugget': 3, 'sauce': 2, 'spicy': 2, 'market': 1, 'deluxe': 1, 'cool': 1, 'dough': 1}),\n",
       " 'girl': FreqDist({'scout': 42, 'moonshine': 6, 'sri': 1, 'bright': 1, 'veto': 1, 'guide': 1}),\n",
       " 'scout': FreqDist({'shortbread': 2, 'samoa': 2, 'co': 2, 'tagalong': 1, 'smores': 1, 'thin': 1, 'gluten': 1}),\n",
       " 'tarrah': FreqDist({'hot': 5, 'ta': 1}),\n",
       " 'express': FreqDist({'lung': 9, 'string': 5, 'no': 3, 'shot': 2, 'strip': 2, 'tsp': 2, 'terriaki': 2, 'steamed': 1, 'bag': 1, 'turk': 1, ...}),\n",
       " 'lung': FreqDist({'black': 5, 'pure': 1}),\n",
       " 'napoli': FreqDist({'sauce': 4, 'plus': 1, 'bononcini': 1}),\n",
       " 'combo': FreqDist({'broken': 5, 'dennis': 2, 'denny': 2, 'dinner': 1, 'miso': 1, 'nosaltpeanuts': 1, 'jack': 1, 'sauce': 1, 'raising': 1}),\n",
       " 'bloody': FreqDist({'mary': 66, 'marry': 1, 'choc': 1}),\n",
       " 'raise': FreqDist({'portion': 2, 'dried': 1, 'soy': 1}),\n",
       " 'barefoot': FreqDist({'rose': 1}),\n",
       " 'fennel': FreqDist({'bulb': 5, 'team': 4, 'kiichi': 2, 'aniseed': 2, 'cooked': 2, 'cumin': 1, 'evo': 1, 'breadstick': 1, 'onions': 1, 'parsley': 1, ...}),\n",
       " 'cumin': FreqDist({'coriander': 4, 'spice': 2, 'clove': 1, 'black': 1, 'crusted': 1, 'cayenne': 1, 'fennel': 1, 'powder': 1}),\n",
       " 'alcoholic': FreqDist({'drink': 24, 'cider': 9, 'beverage': 5, 'root': 3, 'gluten': 2, 'spritzer': 2, 'mixed': 2, 'cocktail': 1, 'sangria': 1, 'shot': 1, ...}),\n",
       " 'chico': FreqDist({'bar': 16, 'crisp': 10, 'mineral': 6, 'hazel': 2, 'soy': 2, 'coffeemate': 2, 'coco': 2, 'truffle': 2, 'bite': 2, 'breakfast': 2, ...}),\n",
       " 'el': FreqDist({'poll': 10, 'pueblo': 4, 'sol': 3, 'handout': 2, 'polo': 1, 'five': 1, 'jeff': 1, 'paso': 1, 'india': 1, 'toro': 1}),\n",
       " 'coq': FreqDist({'k': 3, 'g': 2, 'au': 1}),\n",
       " 'trader': FreqDist({'joes': 73, 'joe': 22, 'j': 1, 'jo': 1}),\n",
       " 'joes': FreqDist({'dark': 3, 'cruciferous': 2, 'macao': 2, 'palau': 2, 'original': 2, 'dried': 2, 'mix': 2, 'stacked': 1, 'mini': 1, 'trek': 1, ...}),\n",
       " 'fusil': FreqDist({'wholewheat': 4, 'c': 1, 'bar': 1}),\n",
       " 'sp': FreqDist({'fishkill': 5, 'complete': 1, 'k': 1, 'c': 1, 'sweet': 1, 'av': 1, 'no': 1}),\n",
       " 'complete': FreqDist({'nutrition': 5, 'choc': 4, 'lin': 2, 'df': 1, 'superfund': 1, 'cook': 1, 'cap': 1, 'viable': 1, 'breakfast': 1, 'pic': 1}),\n",
       " 'santa': FreqDist({'fe': 19, 'zero': 5, 'lol': 1, 'cruz': 1, 'pop': 1}),\n",
       " 'mystery': FreqDist({'sauce': 1}),\n",
       " 'paper': FreqDist({'thai': 4, 'mediterranean': 3, 'baguette': 3, 'french': 3, 'breakfast': 2, 'springrolls': 2, 'vegan': 2, 'veg': 2, 'spicy': 2, 'chick': 1, ...}),\n",
       " 'becky': FreqDist({'v': 1}),\n",
       " 'builder': FreqDist({'bar': 19}),\n",
       " 'not': FreqDist({'sweet': 5, 'eaten': 4, 'non-alcoholic': 3, 'eat': 3, 'dehydrated': 3, 'fried': 2, 'healthy': 2, 'not': 2, 'pm': 2, 'salted': 1, ...}),\n",
       " 'complex': FreqDist({'pill': 4, 'dummy': 2, 'plus': 2, 'tablet': 2, 'drink': 1}),\n",
       " 'terriaki': FreqDist({'sub': 1, 'skewer': 1}),\n",
       " 'ricotta': FreqDist({'cannelloni': 4, 'tart': 3, 'canzoni': 2, 'gnocchi': 2, 'preserve': 1, 'pomegranate': 1, 'dessert': 1, 'barrow': 1, 'whole': 1, 'panto': 1, ...}),\n",
       " 'tablespoon': FreqDist({'act': 11, 'ground': 9, 'milled': 9, 'heavy': 8, 'ghee': 5, 'fibre': 5, 'grated': 4, 'hemp': 3, 'greek': 2, 'brown': 2, ...}),\n",
       " 'schwann': FreqDist({'fudge': 1}),\n",
       " 'prima': FreqDist({'vera': 1}),\n",
       " 'bengal': FreqDist({'spice': 23, 'herbal': 1, 'gram': 1, 'spiced': 1}),\n",
       " 'star': FreqDist({'anise': 23, 'farm': 4, 'bar': 3, 'crunch': 3, 'ani': 2, 'drink': 2, 'burst': 1, 'patty': 1, 'soy': 1, 'vegan': 1, ...}),\n",
       " 'filled': FreqDist({'italian': 1, 'dough': 1, 'paper': 1, 'savory': 1, 'regress': 1, 'chickpea': 1}),\n",
       " 'scallop': FreqDist({'conger': 2, 'wrapped': 1, 'sml': 1, 'carbonara': 1, 'nigeria': 1, 'dinner': 1, 'thermidor': 1, 'squid': 1, 'spend': 1, 'rockefeller': 1, ...}),\n",
       " 'lucky': FreqDist({'charm': 13, 'organic': 1, 'cafe': 1, 'percent': 1}),\n",
       " 'mil': FreqDist({'organic': 2, 'set': 1}),\n",
       " 'broth': FreqDist({'powder': 6, 'act': 5, 'ribose': 4, 'g': 4, 'miso': 4, 'ml': 3, 'based': 3, 'veg': 3, 'bone': 2, 'fr': 2, ...}),\n",
       " 'kellogg': FreqDist({'ancient': 4, 'red': 4, 'no': 4, 'k': 3, 'coco': 2, 'cer': 2, 'nutrigrain': 1, 'bad': 1, 'frosted': 1, 'breakfast': 1, ...}),\n",
       " 'nogales': FreqDist({'black': 1, 'raja': 1, 'garnish': 1}),\n",
       " 'foo': FreqDist({'young': 14, 'yung': 4, 'yong': 2}),\n",
       " 'fasting': FreqDist({'hour': 3, 'mimicking': 2, 'no': 1, 'whole': 1, 'blood': 1, 'day': 1, 'colonoscopy': 1, 'herbal': 1, 'bcaa': 1, 'drink': 1}),\n",
       " 'square': FreqDist({'percent': 18, 'plain': 9, 'stevie': 7, 'dark': 6, 'organic': 6, 'galerie': 5, 'linda': 4, 'dove': 4, 'per': 4, 'white': 3, ...}),\n",
       " 'leftover': FreqDist({'chinese': 5, 'night': 2, 'indian': 2, 'dinner': 2, 'hot': 1, 'plus': 1, 'fresh': 1, 'last': 1, 'stuffed': 1, 'french': 1, ...}),\n",
       " 'brad': FreqDist({'dal': 2, 'f': 1}),\n",
       " 'jamaican': FreqDist({'patty': 8, 'jerk': 5, 'pattie': 3, 'empanada': 1}),\n",
       " 'jerk': FreqDist({'hot': 3, 'chick': 2, 'sauce': 2, 'marinade': 1, 'spice': 1, 'chickpea': 1}),\n",
       " 'clean': FreqDist({'pale': 2, 'eats': 2, 'life': 2, 'whey': 1, 'gained': 1, 'brazil': 1, 'pint': 1, 'dessert': 1, 'snack': 1, 'energy': 1, ...}),\n",
       " 'reader': FreqDist({'california': 1}),\n",
       " 'himalayan': FreqDist({'pink': 42, 'sea': 14, 'rock': 8, 'distilled': 8, 'sal': 3, 'rose': 1, 'samoa': 1}),\n",
       " 'grilled': FreqDist({'veg': 13, 'flat': 11, 'yellow': 5, 'octopus': 5, 'halloumi': 5, 'chick': 4, 'aubergine': 4, 'ch': 4, 'nugget': 3, 'temper': 3, ...}),\n",
       " 'insulate': FreqDist({'pomodori': 3, 'mist': 2, 'gentile': 2}),\n",
       " 'mist': FreqDist({'wc': 3, 'zero': 2, 'verde': 1, 'twist': 1, 'whole': 1}),\n",
       " 'verde': FreqDist({'are': 2, 'sauce': 2, 'rossa': 1, 'derek': 1, 'crackpot': 1, 'con': 1, 'vegan': 1}),\n",
       " 'nasty': FreqDist({'hotel': 2}),\n",
       " 'nutpod': FreqDist({'cayenne': 9, 'stevie': 1}),\n",
       " 'cayenne': FreqDist({'hot': 11, 'c': 9, 'peop': 6, 'shot': 4, 'keir': 2, 'bragg': 2, 'numeric': 1, 'amino': 1, 'cleanse': 1}),\n",
       " 'pastiche': FreqDist({'au': 1}),\n",
       " 'hawthorn': FreqDist({'chamomile': 2, 'tee': 1, 'hibiscus': 1}),\n",
       " 'chilaquiles': FreqDist({'milkshake': 1, 'amd': 1, 'grain': 1, 'tamar': 1, 'oriole': 1}),\n",
       " 'good': FreqDist({'fat': 21, 'belly': 18, 'earth': 8, 'soy': 7, 'girl': 6, 'thins': 4, 'plenty': 3, 'dees': 2, 'season': 2, 'star': 1, ...}),\n",
       " 'shed': FreqDist({'chez': 1, 'whet': 1}),\n",
       " 'stuffed': FreqDist({'shell': 14, 'martha': 10, 'vine': 5, 'aubergine': 4, 'portobello': 4, 'crust': 3, 'poland': 3, 'courgette': 3, 'grapeleaves': 2, 'flounder': 2, ...}),\n",
       " 'cordon': FreqDist({'blue': 11, 'bleu': 9}),\n",
       " 'stir': FreqDist({'fried': 98, 'fly': 2, 'fr': 2, 'try': 2}),\n",
       " 'ozs': FreqDist({'fresh': 4, 'arnold': 1, 'herbal': 1, 'brian': 1, 'almondmilk': 1, 'blood': 1, 'sunrise': 1}),\n",
       " 'arnold': FreqDist({'palmer': 53, 'multigrain': 2}),\n",
       " 'ut': FreqDist({'plain': 1}),\n",
       " 'avalanche': FreqDist({'hot': 4}),\n",
       " 'hung': FreqDist({'dal': 13, 'dahl': 1, 'shoot': 1}),\n",
       " 'kitchari': FreqDist({'cal': 4}),\n",
       " 'sur': FreqDist({'chinese': 2, 'dough': 1}),\n",
       " 'famous': FreqDist({'amos': 6}),\n",
       " 'book': FreqDist({'plus': 9, 'chop': 9, 'chou': 3, 'choi': 3, 'chow': 2, 'club': 2, 'unfiltered': 1}),\n",
       " 'wheyisolate': FreqDist({'carbon': 12}),\n",
       " 'carbon': FreqDist({'drink': 12, 'gain': 3, 'mueslibar': 2}),\n",
       " 'peppermint': FreqDist({'spearman': 49, 'patty': 28, 'liquorice': 17, 'infusion': 5, 'bark': 5, 'herbal': 5, 'pattie': 3, 'essential': 2, 'bar': 1, 'hot': 1, ...}),\n",
       " 'ritter': FreqDist({'sport': 8}),\n",
       " 'wholegrain': FreqDist({'g': 4, 'basmati': 3, 'bar': 3, 'rolled': 2, 'spelt': 2, 'scone': 1, 're-read': 1, 'breadrole': 1, 'snack': 1}),\n",
       " 'ful': FreqDist({'madame': 2}),\n",
       " 'speculate': FreqDist({'spice': 11}),\n",
       " 'fed': FreqDist({'salted': 17, 'unsalted': 14, 'organic': 5, 'sharp': 4, 'whole': 3, 'riley': 3, 'whey': 3, 'cow': 2, 'roast': 2, 'ghee': 1, ...}),\n",
       " 'measure': FreqDist({'whisky': 4}),\n",
       " 'schnitzel': FreqDist({'brow': 2, 'g': 1, 'veg': 1, 'etc': 1, 'mash': 1, 'baguette': 1}),\n",
       " 'atom': FreqDist({'capsule': 1, 'powder': 1}),\n",
       " 'missus': FreqDist({'joint': 3}),\n",
       " 'joint': FreqDist({'health': 4, 'support': 2, 'thumb': 1, 'drink': 1, 'formula': 1, 'ligament': 1}),\n",
       " 'filipino': FreqDist({'mat': 1}),\n",
       " 'pate': FreqDist({'baguette': 2, 'au': 2, 'g': 2, 'wafer': 1, 'tang': 1, 'third': 1, 'chino': 1, 'melba': 1, 'veto': 1, 'truffle': 1, ...}),\n",
       " 'haldiram': FreqDist({'also': 2}),\n",
       " 'also': FreqDist({'gobi': 10, 'martha': 7, 'busia': 3, 'piranha': 3, 'free': 3, 'ohio': 2, 'sabri': 2, 'grantham': 2, 'pander': 2, 'matter': 1, ...}),\n",
       " 'iced': FreqDist({'deaf': 12, 'soy': 11, 'herbal': 9, 'hibiscus': 5, 'v/cm': 4, 'cap': 3, 'match': 3, 'te': 3, 'unsweetened': 2, 'grande': 2, ...}),\n",
       " 'picked': FreqDist({'meet': 2, 'herring': 2, 'radish': 1, 'tree': 1, 'oblong': 1, 'okra': 1}),\n",
       " 'bite': FreqDist({'sip': 14, 'size': 13, 'fried': 2, 'kiichi': 2, 'g': 2, 'pack': 2, 'killer': 2, 'snack': 2, 'flan': 1, 'last': 1, ...}),\n",
       " 'marrow': FreqDist({'broth': 4, 'dip': 2, 'halloumi': 1, 'baked': 1}),\n",
       " 'pack': FreqDist({'pure': 12, 'thin': 8, 'zing': 6, 'high': 2, 'model': 1, 'crisp': 1, 'saltire': 1, 'calorie': 1, 'stevie': 1, 'bud': 1, ...}),\n",
       " 'zone': FreqDist({'bar': 20}),\n",
       " 'zoodles': FreqDist({'chi': 1, 'sauce': 1}),\n",
       " 'collie': FreqDist({'flower': 2, 'steamed': 1}),\n",
       " 'flower': FreqDist({'tort': 2, 'parsley': 1, 'power': 1, 'chardonnay': 1, 'child': 1, 'falae': 1, 'breadstick': 1, 'meet': 1, 'apps': 1}),\n",
       " 'u': FreqDist({'u': 2, 'glutton': 2, 'caper': 1, 'sam': 1, 'room': 1, 'inn': 1}),\n",
       " 'caper': FreqDist({'breadcrumb': 1, 'ali': 1, 'pine': 1, 'pinhole': 1, 'say': 1, 'girl': 1, 'swiss': 1}),\n",
       " 'breadcrumb': FreqDist({'anchovy': 1, 'tablespoon': 1}),\n",
       " 'port': FreqDist({'fairy': 6, 'bar': 3, 'salut': 2, 'powder': 2, 'rind': 2, 'ml': 2, 'effilocher': 1, 'quarter': 1}),\n",
       " 'amy': FreqDist({\"'s\": 65, 'indian': 1}),\n",
       " 'rillettes': FreqDist({'baguette': 1, 'sauce': 1}),\n",
       " 'baguette': FreqDist({'pick': 1, 'marmalade': 1, 'poet': 1, 'serving': 1, 'pc': 1, 'roastbeef': 1}),\n",
       " 'payday': FreqDist({'bar': 4, 'king': 1}),\n",
       " 'carnitine': FreqDist({'injection': 2, 'cla': 1, 'coq': 1}),\n",
       " 'lg': FreqDist({'sweet': 5, 'fried': 3, 'white': 2, 'domino': 1, 'movie': 1, 'palmer': 1, 'mcdonald': 1, 'toasted': 1, 'del': 1, 'blizzard': 1, ...}),\n",
       " 'pastry': FreqDist({'crisp': 9, 'apricot': 3, 'dough': 3, 'puff': 3, 'state': 2, 'santini': 2, 'poppy': 2, 'appetiser': 1, 'cal': 1, 'poppyseed': 1, ...}),\n",
       " 'caesium': FreqDist({'pickled': 3, 'quarter': 2, 'chapati': 2, 'red': 2, 'aka': 2, 'dal': 1}),\n",
       " 'without': FreqDist({'coffin': 29, 'alcohol': 2, 'batter': 1, 'daily': 1, 'frosting': 1, 'crust': 1}),\n",
       " 'molten': FreqDist({'lava': 2}),\n",
       " 'seven': FreqDist({'sunday': 7, 'grain': 5, 'whole': 1, 'layer': 1, 'bourbon': 1}),\n",
       " 'casa': FreqDist({'hot': 2, 'dia': 2, 'large': 1}),\n",
       " 'bob': FreqDist({'ketone': 9, 'evans': 5, 'red': 4, 'etc': 3, 'vege': 2, 'bubble': 1, 'powder': 1, 'exogenous': 1, 'baked': 1, 'drink': 1, ...}),\n",
       " 'market': FreqDist({'st': 2, 'sala': 1, 'hash': 1, 'hummingbird': 1, 'sample': 1}),\n",
       " 'bud': FreqDist({'light': 45, 'non': 2, 'select': 2, 'lite': 1}),\n",
       " 'choi': FreqDist({'sum': 20, 'organic': 2, 'bow': 1, 'friedrich': 1, 'leaf': 1, 'gingturm': 1}),\n",
       " 'tortilini': FreqDist({'sauce': 1}),\n",
       " 'serious': FreqDist({'mag': 1}),\n",
       " 'mag': FreqDist({'focus': 4, 'citrate': 3, 'fizzy': 3, 'drink': 2, 'ca': 2, 'rotate': 1}),\n",
       " 'citrate': FreqDist({'nigel': 1}),\n",
       " 'moth': FreqDist({'dal': 2}),\n",
       " 'laurie': FreqDist({'suzi': 1}),\n",
       " 'matador': FreqDist({'grill': 3}),\n",
       " 'turtle': FreqDist({'snack': 1, 'bite': 1, 'sunday': 1}),\n",
       " 'cabernet': FreqDist({'sauvignon': 68, 'franc': 2, 'sauce': 1, 'ml': 1}),\n",
       " 'breath': FreqDist({'muswell': 6, 'saver': 1}),\n",
       " 'toasted': FreqDist({'buckwheat': 6, 'whole': 4, 'pine': 3, 'round': 3, 'rot': 2, 'turkish': 2, 'sour': 2, 'public': 2, 'multigrain': 2, 'san': 2, ...}),\n",
       " 'craig': FreqDist({'diet': 1, 'oregano': 1}),\n",
       " 'shooter': FreqDist({'mix': 6}),\n",
       " 'brow': FreqDist({'sport': 3, 'robe': 2, 'mush': 2, 'bl': 1, 'can': 1, 'gr': 1, 'angus': 1, 'crust': 1, 'drug': 1, 'redcar': 1, ...}),\n",
       " 'mashie': FreqDist({\"'s\": 2}),\n",
       " 'candied': FreqDist({'kumquat': 1, 'pickled': 1, 'minor': 1, 'chestnut': 1, 'pe': 1}),\n",
       " 'vegetarian': FreqDist({'lasagne': 13, 'breakfast': 9, 'sauce': 7, 'shepherd': 6, 'dinner': 5, 'lunch': 4, 'buffet': 3, 'warm': 3, 'crepe': 2, 'sue': 2, ...}),\n",
       " 'focus': FreqDist({'aid': 2, 'mandible': 2, 'brasil': 1, 'del': 1, 'recovery': 1}),\n",
       " 'poor': FreqDist({'indian': 1, 'man': 1, 'curd': 1, 'chickpea': 1, 'haji': 1}),\n",
       " 'lion': FreqDist({'mane': 64, 'bar': 5, 'clean': 1, 'nestle': 1}),\n",
       " 'suppress': FreqDist({'g': 1}),\n",
       " 'lavender': FreqDist({'stress': 19, 'chamomile': 4, 'greek': 3, 'preserve': 1, 'quick': 1, 'creme': 1, 'peppermint': 1, 'pint': 1, 'bliss': 1}),\n",
       " 'ole': FreqDist({'high': 2, 'extreme': 1, 'blue': 1, 'folk': 1}),\n",
       " ...}"
      ]
     },
     "execution_count": 59,
     "metadata": {},
     "output_type": "execute_result"
    }
   ],
   "source": [
    "dict(cfreq_2gram)"
   ]
  },
  {
   "cell_type": "code",
   "execution_count": null,
   "metadata": {},
   "outputs": [],
   "source": []
  },
  {
   "cell_type": "code",
   "execution_count": 27,
   "metadata": {},
   "outputs": [],
   "source": [
    "uncatched_tokens.to_csv(result_dir + 'uncatched_tokens.csv')"
   ]
  },
  {
   "cell_type": "code",
   "execution_count": null,
   "metadata": {},
   "outputs": [],
   "source": []
  },
  {
   "cell_type": "code",
   "execution_count": null,
   "metadata": {},
   "outputs": [],
   "source": []
  },
  {
   "cell_type": "code",
   "execution_count": null,
   "metadata": {},
   "outputs": [],
   "source": []
  },
  {
   "cell_type": "code",
   "execution_count": null,
   "metadata": {},
   "outputs": [],
   "source": []
  },
  {
   "cell_type": "markdown",
   "metadata": {},
   "source": [
    "# Analysis on parsing result and the uncatched tokens"
   ]
  },
  {
   "cell_type": "code",
   "execution_count": 201,
   "metadata": {},
   "outputs": [
    {
     "data": {
      "text/plain": [
       "(100000, 4)"
      ]
     },
     "execution_count": 201,
     "metadata": {},
     "output_type": "execute_result"
    }
   ],
   "source": [
    "public_all_parsed.shape"
   ]
  },
  {
   "cell_type": "code",
   "execution_count": 204,
   "metadata": {},
   "outputs": [
    {
     "name": "stderr",
     "output_type": "stream",
     "text": [
      "100%|██████████| 100000/100000 [00:00<00:00, 150478.24it/s]\n"
     ]
    }
   ],
   "source": [
    "f_count, f_lst = 0, []\n",
    "b_count, b_lst = 0, []\n",
    "o_count, o_lst = 0, []\n",
    "for i in tqdm(range(public_all_parsed.shape[0])):\n",
    "    food_lst = public_all_parsed.cleaned.values[i]\n",
    "    for f in food_lst:\n",
    "        if f[1] == 'f':\n",
    "            f_count += 1\n",
    "            f_lst.append(f[0])\n",
    "        elif f[1] == 'b':\n",
    "            b_count += 1\n",
    "            b_lst.append(f[0])\n",
    "        else:\n",
    "            o_count += 1\n",
    "            o_lst.append(f[0])"
   ]
  },
  {
   "cell_type": "code",
   "execution_count": 205,
   "metadata": {},
   "outputs": [
    {
     "data": {
      "text/plain": [
       "(126936, 43748, 7096)"
      ]
     },
     "execution_count": 205,
     "metadata": {},
     "output_type": "execute_result"
    }
   ],
   "source": [
    "f_count, b_count, o_count"
   ]
  },
  {
   "cell_type": "code",
   "execution_count": 208,
   "metadata": {},
   "outputs": [
    {
     "data": {
      "text/plain": [
       "(egg                     3900\n",
       " cheese                  3518\n",
       " chicken                 3096\n",
       " banana                  2814\n",
       " rice                    2514\n",
       "                         ... \n",
       " vegan oatmeal cookie       1\n",
       " turkey sandwich chip       1\n",
       " greek chicken salad        1\n",
       " baked veggie               1\n",
       " naan                       1\n",
       " Length: 579, dtype: int64,\n",
       " coffee                          9377\n",
       " tea                             4715\n",
       " salad                           3574\n",
       " milk                            3443\n",
       " black coffee                    1648\n",
       "                                 ... \n",
       " strawberry banana smoothie         1\n",
       " cold brew coffee almond milk       1\n",
       " irish tea                          1\n",
       " kombucha chia seed                 1\n",
       " sugar syrup                        1\n",
       " Length: 110, dtype: int64,\n",
       " chocolate            1927\n",
       " almond               1442\n",
       " water                1365\n",
       " orange                832\n",
       " yoghurt               671\n",
       " turmeric              302\n",
       " vitamin               275\n",
       " rose                   72\n",
       " fish oil               66\n",
       " multivitamin           50\n",
       " magnesium              46\n",
       " glucosamine            19\n",
       " calcium                10\n",
       " red rice                8\n",
       " omega fish oil          3\n",
       " lisinopril              3\n",
       " black seed oil          2\n",
       " calcium magnesium       2\n",
       " daily vitamin           1\n",
       " dtype: int64)"
      ]
     },
     "execution_count": 208,
     "metadata": {},
     "output_type": "execute_result"
    }
   ],
   "source": [
    "pd.Series(f_lst).value_counts(), pd.Series(b_lst).value_counts(), pd.Series(o_lst).value_counts()"
   ]
  },
  {
   "cell_type": "code",
   "execution_count": null,
   "metadata": {},
   "outputs": [],
   "source": []
  },
  {
   "cell_type": "markdown",
   "metadata": {},
   "source": [
    "# Parse Firefighters Data"
   ]
  },
  {
   "cell_type": "code",
   "execution_count": 10,
   "metadata": {},
   "outputs": [
    {
     "data": {
      "text/html": [
       "<div>\n",
       "<style scoped>\n",
       "    .dataframe tbody tr th:only-of-type {\n",
       "        vertical-align: middle;\n",
       "    }\n",
       "\n",
       "    .dataframe tbody tr th {\n",
       "        vertical-align: top;\n",
       "    }\n",
       "\n",
       "    .dataframe thead th {\n",
       "        text-align: right;\n",
       "    }\n",
       "</style>\n",
       "<table border=\"1\" class=\"dataframe\">\n",
       "  <thead>\n",
       "    <tr style=\"text-align: right;\">\n",
       "      <th></th>\n",
       "      <th>PID</th>\n",
       "      <th>caloric</th>\n",
       "      <th>day</th>\n",
       "      <th>desc_text</th>\n",
       "      <th>food_type</th>\n",
       "      <th>local_time</th>\n",
       "      <th>original_logtime</th>\n",
       "      <th>original_logtime_notz</th>\n",
       "      <th>participant</th>\n",
       "      <th>study</th>\n",
       "      <th>time</th>\n",
       "      <th>tz</th>\n",
       "    </tr>\n",
       "  </thead>\n",
       "  <tbody>\n",
       "    <tr>\n",
       "      <th>1</th>\n",
       "      <td>9bbi18050004</td>\n",
       "      <td>1</td>\n",
       "      <td>2018-07-18</td>\n",
       "      <td>kind bar &amp;&amp; coffee</td>\n",
       "      <td>f</td>\n",
       "      <td>9.583333</td>\n",
       "      <td>07-18-2018 09:35AM PDT</td>\n",
       "      <td>2018-07-18 09:35:00</td>\n",
       "      <td>Hero-001</td>\n",
       "      <td>TRE</td>\n",
       "      <td>09:35:00</td>\n",
       "      <td>PDT</td>\n",
       "    </tr>\n",
       "    <tr>\n",
       "      <th>2</th>\n",
       "      <td>9bbi18050004</td>\n",
       "      <td>1</td>\n",
       "      <td>2018-06-24</td>\n",
       "      <td>potatoe</td>\n",
       "      <td>f</td>\n",
       "      <td>19.116667</td>\n",
       "      <td>06-24-2018 07:07PM PDT</td>\n",
       "      <td>2018-06-24 19:07:00</td>\n",
       "      <td>Hero-001</td>\n",
       "      <td>TRE</td>\n",
       "      <td>19:07:00</td>\n",
       "      <td>PDT</td>\n",
       "    </tr>\n",
       "  </tbody>\n",
       "</table>\n",
       "</div>"
      ],
      "text/plain": [
       "            PID  caloric        day           desc_text food_type  local_time  \\\n",
       "1  9bbi18050004        1 2018-07-18  kind bar && coffee         f    9.583333   \n",
       "2  9bbi18050004        1 2018-06-24             potatoe         f   19.116667   \n",
       "\n",
       "         original_logtime original_logtime_notz participant study      time  \\\n",
       "1  07-18-2018 09:35AM PDT   2018-07-18 09:35:00    Hero-001   TRE  09:35:00   \n",
       "2  06-24-2018 07:07PM PDT   2018-06-24 19:07:00    Hero-001   TRE  19:07:00   \n",
       "\n",
       "    tz  \n",
       "1  PDT  \n",
       "2  PDT  "
      ]
     },
     "execution_count": 10,
     "metadata": {},
     "output_type": "execute_result"
    }
   ],
   "source": [
    "firefighter_data_pickle_file = open(data_dir + 'fire_fighter/FFFoodData_Unique_Time_All_Aug2020.pickle', 'rb')\n",
    "firefighter_data = pickle.load(firefighter_data_pickle_file)\n",
    "firefighter_data.head(2)"
   ]
  },
  {
   "cell_type": "code",
   "execution_count": 30,
   "metadata": {},
   "outputs": [
    {
     "data": {
      "text/plain": [
       "(1704, 13)"
      ]
     },
     "execution_count": 30,
     "metadata": {},
     "output_type": "execute_result"
    }
   ],
   "source": [
    "firefighter_data.query('food_type == \"m\"').shape"
   ]
  },
  {
   "cell_type": "code",
   "execution_count": null,
   "metadata": {},
   "outputs": [],
   "source": []
  },
  {
   "cell_type": "code",
   "execution_count": null,
   "metadata": {},
   "outputs": [],
   "source": []
  },
  {
   "cell_type": "code",
   "execution_count": null,
   "metadata": {},
   "outputs": [],
   "source": []
  },
  {
   "cell_type": "code",
   "execution_count": 11,
   "metadata": {},
   "outputs": [
    {
     "data": {
      "text/plain": [
       "(109712, 12)"
      ]
     },
     "execution_count": 11,
     "metadata": {},
     "output_type": "execute_result"
    }
   ],
   "source": [
    "firefighter_data.shape"
   ]
  },
  {
   "cell_type": "code",
   "execution_count": 13,
   "metadata": {},
   "outputs": [
    {
     "data": {
      "text/plain": [
       "True"
      ]
     },
     "execution_count": 13,
     "metadata": {},
     "output_type": "execute_result"
    }
   ],
   "source": [
    "fp = FoodParser()\n",
    "\n",
    "# fp.all_gram_set[0].add('yoghurt')\n",
    "\n",
    "'yoghurt' in fp.all_gram_set[0]"
   ]
  },
  {
   "cell_type": "code",
   "execution_count": 18,
   "metadata": {},
   "outputs": [],
   "source": []
  },
  {
   "cell_type": "code",
   "execution_count": 14,
   "metadata": {},
   "outputs": [
    {
     "name": "stderr",
     "output_type": "stream",
     "text": [
      "100%|██████████| 109712/109712 [11:04<00:00, 165.08it/s]\n"
     ]
    }
   ],
   "source": [
    "sample_df = firefighter_data\n",
    "if 'ID' not in sample_df:\n",
    "    sample_df['ID'] = range(sample_df.shape[0])\n",
    "\n",
    "total_unknown = 0\n",
    "total_token = 0\n",
    "parsed = []\n",
    "total_unknown_tokens = []\n",
    "for i in tqdm(range(sample_df.shape[0])):\n",
    "    entry = sample_df.iloc[i].desc_text\n",
    "    result, num_token, num_unknown, unknown_tokens = fp.parse_food(entry, return_sentence_tag = True)\n",
    "    result = [(f, fp.find_food_type(f)) for f in result]\n",
    "    parsed.append(result)\n",
    "    total_token += num_token\n",
    "    total_unknown += num_unknown\n",
    "    total_unknown_tokens += unknown_tokens"
   ]
  },
  {
   "cell_type": "code",
   "execution_count": 15,
   "metadata": {},
   "outputs": [
    {
     "data": {
      "text/plain": [
       "0.1891221362609441"
      ]
     },
     "execution_count": 15,
     "metadata": {},
     "output_type": "execute_result"
    }
   ],
   "source": [
    "total_unknown / total_token"
   ]
  },
  {
   "cell_type": "code",
   "execution_count": 19,
   "metadata": {},
   "outputs": [
    {
     "data": {
      "text/html": [
       "<div>\n",
       "<style scoped>\n",
       "    .dataframe tbody tr th:only-of-type {\n",
       "        vertical-align: middle;\n",
       "    }\n",
       "\n",
       "    .dataframe tbody tr th {\n",
       "        vertical-align: top;\n",
       "    }\n",
       "\n",
       "    .dataframe thead th {\n",
       "        text-align: right;\n",
       "    }\n",
       "</style>\n",
       "<table border=\"1\" class=\"dataframe\">\n",
       "  <thead>\n",
       "    <tr style=\"text-align: right;\">\n",
       "      <th></th>\n",
       "      <th>ID</th>\n",
       "      <th>food_type</th>\n",
       "      <th>desc_text</th>\n",
       "      <th>cleaned</th>\n",
       "    </tr>\n",
       "  </thead>\n",
       "  <tbody>\n",
       "    <tr>\n",
       "      <th>1</th>\n",
       "      <td>0</td>\n",
       "      <td>f</td>\n",
       "      <td>kind bar &amp;&amp; coffee</td>\n",
       "      <td>[(kind bar, f), (coffee, b)]</td>\n",
       "    </tr>\n",
       "    <tr>\n",
       "      <th>2</th>\n",
       "      <td>1</td>\n",
       "      <td>f</td>\n",
       "      <td>potatoe</td>\n",
       "      <td>[(potato, f)]</td>\n",
       "    </tr>\n",
       "  </tbody>\n",
       "</table>\n",
       "</div>"
      ],
      "text/plain": [
       "   ID food_type           desc_text                       cleaned\n",
       "1   0         f  kind bar && coffee  [(kind bar, f), (coffee, b)]\n",
       "2   1         f             potatoe                 [(potato, f)]"
      ]
     },
     "execution_count": 19,
     "metadata": {},
     "output_type": "execute_result"
    }
   ],
   "source": [
    "ff_all_parsed = pd.DataFrame({\n",
    "    'ID': sample_df.ID,\n",
    "    'food_type': sample_df.food_type.values,\n",
    "    'desc_text': sample_df.desc_text.values,\n",
    "    'cleaned': parsed\n",
    "})\n",
    "ff_all_parsed.head(2)"
   ]
  },
  {
   "cell_type": "code",
   "execution_count": 20,
   "metadata": {},
   "outputs": [
    {
     "data": {
      "text/html": [
       "<div>\n",
       "<style scoped>\n",
       "    .dataframe tbody tr th:only-of-type {\n",
       "        vertical-align: middle;\n",
       "    }\n",
       "\n",
       "    .dataframe tbody tr th {\n",
       "        vertical-align: top;\n",
       "    }\n",
       "\n",
       "    .dataframe thead th {\n",
       "        text-align: right;\n",
       "    }\n",
       "</style>\n",
       "<table border=\"1\" class=\"dataframe\">\n",
       "  <thead>\n",
       "    <tr style=\"text-align: right;\">\n",
       "      <th></th>\n",
       "      <th>counts</th>\n",
       "    </tr>\n",
       "  </thead>\n",
       "  <tbody>\n",
       "    <tr>\n",
       "      <th>reggie</th>\n",
       "      <td>1615</td>\n",
       "    </tr>\n",
       "    <tr>\n",
       "      <th>bar</th>\n",
       "      <td>1333</td>\n",
       "    </tr>\n",
       "    <tr>\n",
       "      <th>grandma</th>\n",
       "      <td>1157</td>\n",
       "    </tr>\n",
       "    <tr>\n",
       "      <th>quinta</th>\n",
       "      <td>929</td>\n",
       "    </tr>\n",
       "    <tr>\n",
       "      <th>sauce</th>\n",
       "      <td>814</td>\n",
       "    </tr>\n",
       "    <tr>\n",
       "      <th>...</th>\n",
       "      <td>...</td>\n",
       "    </tr>\n",
       "    <tr>\n",
       "      <th>fillet</th>\n",
       "      <td>50</td>\n",
       "    </tr>\n",
       "    <tr>\n",
       "      <th>pop</th>\n",
       "      <td>50</td>\n",
       "    </tr>\n",
       "    <tr>\n",
       "      <th>chopped</th>\n",
       "      <td>50</td>\n",
       "    </tr>\n",
       "    <tr>\n",
       "      <th>levothyroxine</th>\n",
       "      <td>50</td>\n",
       "    </tr>\n",
       "    <tr>\n",
       "      <th>dog</th>\n",
       "      <td>50</td>\n",
       "    </tr>\n",
       "  </tbody>\n",
       "</table>\n",
       "<p>252 rows × 1 columns</p>\n",
       "</div>"
      ],
      "text/plain": [
       "               counts\n",
       "reggie           1615\n",
       "bar              1333\n",
       "grandma          1157\n",
       "quinta            929\n",
       "sauce             814\n",
       "...               ...\n",
       "fillet             50\n",
       "pop                50\n",
       "chopped            50\n",
       "levothyroxine      50\n",
       "dog                50\n",
       "\n",
       "[252 rows x 1 columns]"
      ]
     },
     "execution_count": 20,
     "metadata": {},
     "output_type": "execute_result"
    }
   ],
   "source": [
    "uncatched_tokens = pd.DataFrame(pd.Series(total_unknown_tokens).value_counts(), columns = ['counts']).query('counts >= 50')\n",
    "uncatched_tokens"
   ]
  },
  {
   "cell_type": "code",
   "execution_count": 21,
   "metadata": {},
   "outputs": [
    {
     "name": "stderr",
     "output_type": "stream",
     "text": [
      "100%|██████████| 109712/109712 [00:00<00:00, 171793.79it/s]\n"
     ]
    }
   ],
   "source": [
    "f_count, f_lst = 0, []\n",
    "b_count, b_lst = 0, []\n",
    "o_count, o_lst = 0, []\n",
    "for i in tqdm(range(ff_all_parsed.shape[0])):\n",
    "    food_lst = ff_all_parsed.cleaned.values[i]\n",
    "    for f in food_lst:\n",
    "        if f[1] == 'f':\n",
    "            f_count += 1\n",
    "            f_lst.append(f[0])\n",
    "        elif f[1] == 'b':\n",
    "            b_count += 1\n",
    "            b_lst.append(f[0])\n",
    "        else:\n",
    "            o_count += 1\n",
    "            o_lst.append(f[0])"
   ]
  },
  {
   "cell_type": "code",
   "execution_count": 22,
   "metadata": {},
   "outputs": [
    {
     "data": {
      "text/plain": [
       "(151181, 39300, 3224)"
      ]
     },
     "execution_count": 22,
     "metadata": {},
     "output_type": "execute_result"
    }
   ],
   "source": [
    "f_count, b_count, o_count"
   ]
  },
  {
   "cell_type": "code",
   "execution_count": 24,
   "metadata": {},
   "outputs": [
    {
     "data": {
      "text/plain": [
       "egg                    6470\n",
       "chicken                5236\n",
       "avocado                3211\n",
       "rice                   3159\n",
       "banana                 3045\n",
       "                       ... \n",
       "veggie pizza              1\n",
       "veggie egg scramble       1\n",
       "macadamia nut             1\n",
       "machaca                   1\n",
       "carne asada               1\n",
       "Length: 649, dtype: int64"
      ]
     },
     "execution_count": 24,
     "metadata": {},
     "output_type": "execute_result"
    }
   ],
   "source": [
    "pd.Series(f_lst).value_counts()"
   ]
  },
  {
   "cell_type": "code",
   "execution_count": 27,
   "metadata": {},
   "outputs": [
    {
     "data": {
      "text/plain": [
       "coffee                                 7047\n",
       "salad                                  5119\n",
       "beer                                   2721\n",
       "black coffee                           2130\n",
       "smoothie                               1522\n",
       "                                       ... \n",
       "mocha coffee                              3\n",
       "iced coffee cream                         2\n",
       "coffee soy creamer                        1\n",
       "brew coffee                               1\n",
       "coconut water thorne protein powder       1\n",
       "Length: 130, dtype: int64"
      ]
     },
     "execution_count": 27,
     "metadata": {},
     "output_type": "execute_result"
    }
   ],
   "source": [
    "pd.Series(b_lst).value_counts()"
   ]
  },
  {
   "cell_type": "code",
   "execution_count": 26,
   "metadata": {},
   "outputs": [
    {
     "data": {
      "text/plain": [
       "water                    1089\n",
       "vitamin                   538\n",
       "fish oil                  184\n",
       "lisinopril                167\n",
       "glucosamine               138\n",
       "multivitamin              132\n",
       "gabapentin                131\n",
       "turmeric                  119\n",
       "red rice yeast pill       115\n",
       "atarax                    112\n",
       "calcium                    86\n",
       "multi vit sport            74\n",
       "prebiotic                  74\n",
       "daily vitamin              67\n",
       "calcium magnesium          55\n",
       "black seed oil             50\n",
       "adderall xr milligram      29\n",
       "omega fish oil             24\n",
       "magnesium                  12\n",
       "red rice yeast             12\n",
       "yoghurt                     9\n",
       "red rice                    7\n",
       "dtype: int64"
      ]
     },
     "execution_count": 26,
     "metadata": {},
     "output_type": "execute_result"
    }
   ],
   "source": [
    "pd.Series(o_lst).value_counts()"
   ]
  },
  {
   "cell_type": "code",
   "execution_count": null,
   "metadata": {},
   "outputs": [],
   "source": []
  },
  {
   "cell_type": "markdown",
   "metadata": {},
   "source": [
    "# Perplexity experiment"
   ]
  },
  {
   "cell_type": "code",
   "execution_count": 28,
   "metadata": {},
   "outputs": [
    {
     "data": {
      "text/html": [
       "<div>\n",
       "<style scoped>\n",
       "    .dataframe tbody tr th:only-of-type {\n",
       "        vertical-align: middle;\n",
       "    }\n",
       "\n",
       "    .dataframe tbody tr th {\n",
       "        vertical-align: top;\n",
       "    }\n",
       "\n",
       "    .dataframe thead th {\n",
       "        text-align: right;\n",
       "    }\n",
       "</style>\n",
       "<table border=\"1\" class=\"dataframe\">\n",
       "  <thead>\n",
       "    <tr style=\"text-align: right;\">\n",
       "      <th></th>\n",
       "      <th>ID</th>\n",
       "      <th>unique_code</th>\n",
       "      <th>research_info_id</th>\n",
       "      <th>desc_text</th>\n",
       "      <th>food_type</th>\n",
       "      <th>original_logtime</th>\n",
       "      <th>original_logtime_notz</th>\n",
       "      <th>day</th>\n",
       "      <th>local_time</th>\n",
       "      <th>time</th>\n",
       "      <th>week_from_start</th>\n",
       "      <th>year</th>\n",
       "    </tr>\n",
       "  </thead>\n",
       "  <tbody>\n",
       "    <tr>\n",
       "      <th>0</th>\n",
       "      <td>4854966</td>\n",
       "      <td>alqt181274638</td>\n",
       "      <td>150</td>\n",
       "      <td>Butter</td>\n",
       "      <td>b</td>\n",
       "      <td>01-01-2019 12:12PM PST</td>\n",
       "      <td>2019-01-01 12:12:00</td>\n",
       "      <td>2019-01-01</td>\n",
       "      <td>12.200000</td>\n",
       "      <td>12:12:00</td>\n",
       "      <td>2</td>\n",
       "      <td>2019</td>\n",
       "    </tr>\n",
       "    <tr>\n",
       "      <th>1</th>\n",
       "      <td>1007045</td>\n",
       "      <td>alqt170410520</td>\n",
       "      <td>150</td>\n",
       "      <td>Eggs</td>\n",
       "      <td>f</td>\n",
       "      <td>03-20-2018 07:19AM GMT+2</td>\n",
       "      <td>2018-03-20 07:19:00</td>\n",
       "      <td>2018-03-20</td>\n",
       "      <td>7.316667</td>\n",
       "      <td>07:19:00</td>\n",
       "      <td>51</td>\n",
       "      <td>2018</td>\n",
       "    </tr>\n",
       "  </tbody>\n",
       "</table>\n",
       "</div>"
      ],
      "text/plain": [
       "        ID    unique_code  research_info_id desc_text food_type  \\\n",
       "0  4854966  alqt181274638               150    Butter         b   \n",
       "1  1007045  alqt170410520               150      Eggs         f   \n",
       "\n",
       "           original_logtime original_logtime_notz         day  local_time  \\\n",
       "0    01-01-2019 12:12PM PST   2019-01-01 12:12:00  2019-01-01   12.200000   \n",
       "1  03-20-2018 07:19AM GMT+2   2018-03-20 07:19:00  2018-03-20    7.316667   \n",
       "\n",
       "       time  week_from_start  year  \n",
       "0  12:12:00                2  2019  \n",
       "1  07:19:00               51  2018  "
      ]
     },
     "execution_count": 28,
     "metadata": {},
     "output_type": "execute_result"
    }
   ],
   "source": [
    "sample_df.head(2)"
   ]
  },
  {
   "cell_type": "code",
   "execution_count": 26,
   "metadata": {},
   "outputs": [
    {
     "data": {
      "text/plain": [
       "{'acai',\n",
       " 'ale',\n",
       " 'alfredo',\n",
       " 'almond',\n",
       " 'americano',\n",
       " 'apple',\n",
       " 'artichoke',\n",
       " 'arugala',\n",
       " 'arugula',\n",
       " 'asparagus',\n",
       " 'atarax',\n",
       " 'avocado',\n",
       " 'bacon',\n",
       " 'bagel',\n",
       " 'bai',\n",
       " 'balsamic',\n",
       " 'banana',\n",
       " 'bang',\n",
       " 'barley',\n",
       " 'basil',\n",
       " 'bbq',\n",
       " 'bean',\n",
       " 'beef',\n",
       " 'beer',\n",
       " 'beet',\n",
       " 'berry',\n",
       " 'biscuit',\n",
       " 'bison',\n",
       " 'blackberry',\n",
       " 'blueberry',\n",
       " 'bran',\n",
       " 'bratwurst',\n",
       " 'bread',\n",
       " 'brisket',\n",
       " 'broccoli',\n",
       " 'brownie',\n",
       " 'brussel',\n",
       " 'brussels',\n",
       " 'bun',\n",
       " 'burger',\n",
       " 'burrito',\n",
       " 'butter',\n",
       " 'butterfat',\n",
       " 'cabbage',\n",
       " 'caffeine',\n",
       " 'cake',\n",
       " 'calamari',\n",
       " 'calcium',\n",
       " 'candy',\n",
       " 'cantaloupe',\n",
       " 'cappuccino',\n",
       " 'caprese',\n",
       " 'caramel',\n",
       " 'carb',\n",
       " 'carnitas',\n",
       " 'carrot',\n",
       " 'cashew',\n",
       " 'cassava',\n",
       " 'casserole',\n",
       " 'cauliflower',\n",
       " 'celery',\n",
       " 'cereal',\n",
       " 'ceviche',\n",
       " 'chai',\n",
       " 'chard',\n",
       " 'cheddar',\n",
       " 'cheerio',\n",
       " 'cheese',\n",
       " 'cheeseburger',\n",
       " 'cheesecake',\n",
       " 'cheetos',\n",
       " 'cherry',\n",
       " 'chia',\n",
       " 'chicken',\n",
       " 'chile',\n",
       " 'chili',\n",
       " 'chilli',\n",
       " 'chip',\n",
       " 'chipotle',\n",
       " 'chocolate',\n",
       " 'chorizo',\n",
       " 'chowder',\n",
       " 'cilantro',\n",
       " 'cinnamon',\n",
       " 'clam',\n",
       " 'claritin',\n",
       " 'clementine',\n",
       " 'coca',\n",
       " 'cocoa',\n",
       " 'coconut',\n",
       " 'cod',\n",
       " 'coffee',\n",
       " 'coke',\n",
       " 'cola',\n",
       " 'coleslaw',\n",
       " 'collagen',\n",
       " 'cookie',\n",
       " 'cooky',\n",
       " 'coors',\n",
       " 'corn',\n",
       " 'cornbread',\n",
       " 'couscous',\n",
       " 'crab',\n",
       " 'cracker',\n",
       " 'cranberry',\n",
       " 'cream',\n",
       " 'creamer',\n",
       " 'croissant',\n",
       " 'cucumber',\n",
       " 'cupcake',\n",
       " 'curry',\n",
       " 'date',\n",
       " 'donut',\n",
       " 'doritos',\n",
       " 'doughnut',\n",
       " 'dressing',\n",
       " 'drumstick',\n",
       " 'duck',\n",
       " 'dumpling',\n",
       " 'edamame',\n",
       " 'egg',\n",
       " 'eggplant',\n",
       " 'elk',\n",
       " 'enchilada',\n",
       " 'espresso',\n",
       " 'fajita',\n",
       " 'fajitas',\n",
       " 'feta',\n",
       " 'fettuccine',\n",
       " 'fig',\n",
       " 'fish',\n",
       " 'flonase',\n",
       " 'flour',\n",
       " 'frittata',\n",
       " 'fruit',\n",
       " 'fry',\n",
       " 'gabapentin',\n",
       " 'garbanzo',\n",
       " 'garlic',\n",
       " 'gatorade',\n",
       " 'gelato',\n",
       " 'gin',\n",
       " 'ginger',\n",
       " 'glucosamine',\n",
       " 'goat',\n",
       " 'granola',\n",
       " 'grape',\n",
       " 'grapefruit',\n",
       " 'gravy',\n",
       " 'green',\n",
       " 'guacamole',\n",
       " 'gum',\n",
       " 'gyro',\n",
       " 'halibut',\n",
       " 'ham',\n",
       " 'hamburger',\n",
       " 'hazelnut',\n",
       " 'honey',\n",
       " 'hotdog',\n",
       " 'hummus',\n",
       " 'ice',\n",
       " 'icecream',\n",
       " 'ipa',\n",
       " 'jalapeno',\n",
       " 'jam',\n",
       " 'jello',\n",
       " 'jelly',\n",
       " 'jerky',\n",
       " 'juice',\n",
       " 'kale',\n",
       " 'ketchup',\n",
       " 'kombucha',\n",
       " 'lamb',\n",
       " 'larabar',\n",
       " 'lasagna',\n",
       " 'latte',\n",
       " 'lemon',\n",
       " 'lemonade',\n",
       " 'lentil',\n",
       " 'lettuce',\n",
       " 'lexapro',\n",
       " 'lime',\n",
       " 'lisinopril',\n",
       " 'lobster',\n",
       " 'macadamia',\n",
       " 'macaroni',\n",
       " 'macchiato',\n",
       " 'machaca',\n",
       " 'magnesium',\n",
       " 'mahi',\n",
       " 'mandarin',\n",
       " 'mango',\n",
       " 'maple',\n",
       " 'margarita',\n",
       " 'marinara',\n",
       " 'masala',\n",
       " 'mayo',\n",
       " 'mayonnaise',\n",
       " 'meal',\n",
       " 'meat',\n",
       " 'meatball',\n",
       " 'meatloaf',\n",
       " 'melon',\n",
       " 'milk',\n",
       " 'mint',\n",
       " 'mocha',\n",
       " 'monster',\n",
       " 'mozzarella',\n",
       " 'muesli',\n",
       " 'muffin',\n",
       " 'multivitamin',\n",
       " 'mushroom',\n",
       " 'mustard',\n",
       " 'naan',\n",
       " 'nacho',\n",
       " 'nectarine',\n",
       " 'noodle',\n",
       " 'nut',\n",
       " 'oat',\n",
       " 'oatmeal',\n",
       " 'oil',\n",
       " 'oj',\n",
       " 'olive',\n",
       " 'omelet',\n",
       " 'omelette',\n",
       " 'onion',\n",
       " 'orange',\n",
       " 'oyster',\n",
       " 'pancake',\n",
       " 'panini',\n",
       " 'parmesan',\n",
       " 'pasta',\n",
       " 'pastrami',\n",
       " 'pea',\n",
       " 'peach',\n",
       " 'peanut',\n",
       " 'pear',\n",
       " 'pecan',\n",
       " 'pepcid',\n",
       " 'pepper',\n",
       " 'pepperoni',\n",
       " 'pepsi',\n",
       " 'pesto',\n",
       " 'pho',\n",
       " 'pickle',\n",
       " 'pie',\n",
       " 'pineapple',\n",
       " 'pinto',\n",
       " 'pistachio',\n",
       " 'pita',\n",
       " 'pizza',\n",
       " 'plantain',\n",
       " 'plum',\n",
       " 'poke',\n",
       " 'popcorn',\n",
       " 'pork',\n",
       " 'porridge',\n",
       " 'potato',\n",
       " 'potatoe',\n",
       " 'prebiotic',\n",
       " 'pretzel',\n",
       " 'preworkout',\n",
       " 'probiotic',\n",
       " 'protein',\n",
       " 'pudding',\n",
       " 'pumpkin',\n",
       " 'quark',\n",
       " 'quesadilla',\n",
       " 'quiche',\n",
       " 'quinoa',\n",
       " 'raisin',\n",
       " 'ramen',\n",
       " 'ranch',\n",
       " 'raspberry',\n",
       " 'ravioli',\n",
       " 'rib',\n",
       " 'rice',\n",
       " 'roll',\n",
       " 'rotisserie',\n",
       " 'rum',\n",
       " 'rye',\n",
       " 'salad',\n",
       " 'salami',\n",
       " 'salmon',\n",
       " 'salsa',\n",
       " 'salt',\n",
       " 'sandwich',\n",
       " 'sauerkraut',\n",
       " 'sausage',\n",
       " 'seafood',\n",
       " 'seaweed',\n",
       " 'seed',\n",
       " 'seltzer',\n",
       " 'sesame',\n",
       " 'shake',\n",
       " 'shrimp',\n",
       " 'slider',\n",
       " 'smoothie',\n",
       " 'soda',\n",
       " 'soup',\n",
       " 'sourdough',\n",
       " 'spaghetti',\n",
       " 'spinach',\n",
       " 'splenda',\n",
       " 'spread',\n",
       " 'sprout',\n",
       " 'squash',\n",
       " 'starbuck',\n",
       " 'steak',\n",
       " 'stew',\n",
       " 'strawberry',\n",
       " 'stuffing',\n",
       " 'subway',\n",
       " 'sugar',\n",
       " 'sunflower',\n",
       " 'supplement',\n",
       " 'sushi',\n",
       " 'syrup',\n",
       " 'taco',\n",
       " 'tamale',\n",
       " 'tangerine',\n",
       " 'tea',\n",
       " 'tequila',\n",
       " 'teriyaki',\n",
       " 'toast',\n",
       " 'tofu',\n",
       " 'tomato',\n",
       " 'tonic',\n",
       " 'tortellini',\n",
       " 'tortilla',\n",
       " 'tot',\n",
       " 'trout',\n",
       " 'tuna',\n",
       " 'turkey',\n",
       " 'turmeric',\n",
       " 'vanilla',\n",
       " 'vegetable',\n",
       " 'veggie',\n",
       " 'vinaigrette',\n",
       " 'vinegar',\n",
       " 'vitamin',\n",
       " 'vodka',\n",
       " 'waffle',\n",
       " 'walnut',\n",
       " 'water',\n",
       " 'watermelon',\n",
       " 'wheat',\n",
       " 'whiskey',\n",
       " 'wholemeal',\n",
       " 'wine',\n",
       " 'wing',\n",
       " 'wrap',\n",
       " 'yam',\n",
       " 'yoghurt',\n",
       " 'yogurt',\n",
       " 'yolk',\n",
       " 'zucchini'}"
      ]
     },
     "execution_count": 26,
     "metadata": {},
     "output_type": "execute_result"
    }
   ],
   "source": [
    "fp.all_gram_set[0]"
   ]
  },
  {
   "cell_type": "code",
   "execution_count": 29,
   "metadata": {},
   "outputs": [
    {
     "name": "stderr",
     "output_type": "stream",
     "text": [
      "100%|██████████| 500000/500000 [00:00<00:00, 784928.37it/s]\n"
     ]
    }
   ],
   "source": [
    "raw_corpus = sample_df.desc_text.values\n",
    "expaneded_corpus = []\n",
    "for txt in tqdm(raw_corpus):\n",
    "    unpacked = txt.split(',')\n",
    "    if len(unpacked) > 1:\n",
    "        expaneded_corpus += unpacked\n",
    "    else:\n",
    "        expaneded_corpus.append(txt)"
   ]
  },
  {
   "cell_type": "code",
   "execution_count": 30,
   "metadata": {},
   "outputs": [
    {
     "data": {
      "text/plain": [
       "['Butter', 'Eggs', 'Italian Sausage']"
      ]
     },
     "execution_count": 30,
     "metadata": {},
     "output_type": "execute_result"
    }
   ],
   "source": [
    "expaneded_corpus[:3]"
   ]
  },
  {
   "cell_type": "code",
   "execution_count": null,
   "metadata": {},
   "outputs": [],
   "source": [
    "all_multiword_text = [txt for txt in  and len(txt.split()) > 2]\n"
   ]
  },
  {
   "cell_type": "code",
   "execution_count": null,
   "metadata": {},
   "outputs": [],
   "source": [
    "def clean_transcript(transcript):\n",
    "    transcript = transcript.lower()\n",
    "    transcript = re.sub(r'[^a-zA-Z0-9\\s]', ' ', transcript)\n",
    "    transcript = re.sub(r'\\b\\d+?\\b', '', transcript)\n",
    "    transcript = re.sub(r'\\s+', ' ', transcript)\n",
    "    return ' '.join(transcript.split())\n",
    "\n",
    "corpus = ' '.join(train_df.abstract.values)\n",
    "s = clean_transcript(corpus)\n",
    "words = [token for token in tqdm(s.split()) \\\n",
    "         if token != \"\" and token not in string.punctuation and token not in stop_words]\n",
    "\n",
    "word2freq = pd.Series(words).value_counts()\n",
    "\n",
    "unknown_words = set(list(word2freq.loc[word2freq.apply(lambda s: s < 50)].index))\n",
    "\n",
    "cfreq_2gram = nltk.ConditionalFreqDist(nltk.bigrams([w for w in words if w not in unknown_words]))\n",
    "vocab_size = len(set(words) - unknown_words)"
   ]
  },
  {
   "cell_type": "code",
   "execution_count": null,
   "metadata": {},
   "outputs": [],
   "source": [
    "def sentence_perplexity(sentence, model, vocab_size, word2freq):\n",
    "    '''\n",
    "    Perplexity score of a sentence:\n",
    "        ps = ((1/p1) * (1/p2) * ... * (1/pn-1)) ^ (1/(N - 1))\n",
    "        - pi: probability of i-th bigram\n",
    "        - N: number of tokens in the sentence\n",
    "    '''\n",
    "    # sentence = clean_transcript(sentence)\n",
    "    sentence = sentence.split()\n",
    "    perplexity = 1\n",
    "    \n",
    "    # Check len(sentence)\n",
    "    if len(sentence) == 1:\n",
    "        return perplexity\n",
    "    for i in range(len(sentence) - 1):\n",
    "        try:\n",
    "            numerator = model[sentence[i]][sentence[i + 1]] + 1\n",
    "        except:\n",
    "            numerator = 1\n",
    "        try:\n",
    "            denominator = word2freq[sentence[i]] + vocab_size\n",
    "        except:\n",
    "            denominator = vocab_size\n",
    "        prob = numerator / denominator\n",
    "        perplexity = perplexity * (1 / prob)\n",
    "    perplexity = pow(perplexity, 1 / float(len(sentence) - 1)) \n",
    "    return perplexity"
   ]
  },
  {
   "cell_type": "code",
   "execution_count": null,
   "metadata": {},
   "outputs": [],
   "source": []
  }
 ],
 "metadata": {
  "kernelspec": {
   "display_name": "Python 3",
   "language": "python",
   "name": "python3"
  },
  "language_info": {
   "codemirror_mode": {
    "name": "ipython",
    "version": 3
   },
   "file_extension": ".py",
   "mimetype": "text/x-python",
   "name": "python",
   "nbconvert_exporter": "python",
   "pygments_lexer": "ipython3",
   "version": "3.8.3"
  },
  "toc": {
   "base_numbering": 1,
   "nav_menu": {},
   "number_sections": true,
   "sideBar": true,
   "skip_h1_title": false,
   "title_cell": "Table of Contents",
   "title_sidebar": "Contents",
   "toc_cell": false,
   "toc_position": {
    "height": "calc(100% - 180px)",
    "left": "10px",
    "top": "150px",
    "width": "239px"
   },
   "toc_section_display": true,
   "toc_window_display": true
  }
 },
 "nbformat": 4,
 "nbformat_minor": 4
}
